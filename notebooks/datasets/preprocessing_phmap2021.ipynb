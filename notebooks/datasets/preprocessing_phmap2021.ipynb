{
 "cells": [
  {
   "cell_type": "code",
   "execution_count": null,
   "metadata": {},
   "outputs": [],
   "source": [
    "import tensorflow as tf\n",
    "import tensorflow_datasets as tfds\n",
    "\n",
    "import librosa\n",
    "import librosa.display\n",
    "\n",
    "import numpy as np\n",
    "from matplotlib import pyplot as plt\n",
    "\n",
    "from pathlib import Path\n",
    "\n",
    "from IPython.display import Audio\n",
    "\n",
    "import os\n",
    "\n",
    "os.environ[\"CUDA_VISIBLE_DEVICES\"] = \"-1\"  # disable GPU devices\n",
    "os.environ[\"TFDS_DATA_DIR\"] = os.path.expanduser(\"~/tensorflow_datasets\")  # default location of tfds database\n",
    "\n",
    "import dpmhm\n",
    "from dpmhm.datasets import transformer, preprocessing, feature, utils"
   ]
  },
  {
   "cell_type": "code",
   "execution_count": null,
   "metadata": {},
   "outputs": [],
   "source": [
    "TFDS_DATA_DIR = os.path.expanduser('~/tensorflow_datasets/')"
   ]
  },
  {
   "cell_type": "code",
   "execution_count": null,
   "metadata": {
    "vscode": {
     "languageId": "shellscript"
    }
   },
   "outputs": [],
   "source": [
    "# !cd ~/Téléchargements\n",
    "# !pwd\n",
    "# !ls\n",
    "# !unzip /phmap.zip\n",
    "# !mv phmap ../tmp/"
   ]
  },
  {
   "cell_type": "code",
   "execution_count": null,
   "metadata": {},
   "outputs": [],
   "source": [
    "_ = dpmhm.datasets.install('PHMAP2021', \n",
    "                            data_dir=TFDS_DATA_DIR,                           \n",
    "                            manual_dir=os.path.expanduser('~/tmp/phmap/')\n",
    "                          )"
   ]
  },
  {
   "cell_type": "code",
   "execution_count": null,
   "metadata": {},
   "outputs": [],
   "source": [
    "dataset_name = 'phmap2021'\n",
    "\n",
    "ds_all, ds_info = tfds.load(\n",
    "    dataset_name, \n",
    "    data_dir=TFDS_DATA_DIR,\n",
    "    # split=['train[:75%]', 'train[75%:]'],   \n",
    "    # split=['all'],\n",
    "    with_info=True,\n",
    "    # batch_size=-1,  # load the whole dataset into a single batch\n",
    ")\n",
    "\n",
    "print(ds_all.keys())  # show the split of the raw dataset\n",
    "\n",
    "ds0 = ds_all['train']"
   ]
  },
  {
   "cell_type": "code",
   "execution_count": null,
   "metadata": {},
   "outputs": [],
   "source": [
    "ds0.cardinality().numpy()"
   ]
  },
  {
   "cell_type": "code",
   "execution_count": null,
   "metadata": {},
   "outputs": [],
   "source": [
    "eles = list(ds0.take(ds0.cardinality().numpy()).as_numpy_iterator())\n",
    "\n",
    "# for x, el in enumerate(eles):\n",
    "#     print(el['metadata']['LoadForce'],el['metadata']['FileName'])"
   ]
  },
  {
   "cell_type": "code",
   "execution_count": null,
   "metadata": {},
   "outputs": [],
   "source": [
    "fn = eles[1]['metadata']['FileName'].decode()\n",
    "sr = eles[1]['sampling_rate']\n",
    "x = eles[1]['signal']['sig1']\n",
    "label=eles[1]['metadata']['Label'].decode()\n",
    "\n",
    "plt.figure()\n",
    "plt.plot(np.arange(len(x))/sr, x)\n",
    "plt.xlabel('Time (s)')\n",
    "plt.title('Fichier : '+fn+' Label : '+label)\n",
    "\n",
    "Audio(x, rate=sr)"
   ]
  },
  {
   "cell_type": "code",
   "execution_count": null,
   "metadata": {},
   "outputs": [],
   "source": [
    "fn = eles[1]['metadata']['FileName'].decode()\n",
    "sr = eles[1]['sampling_rate']\n",
    "x = eles[1]['signal']['sig2']\n",
    "label=eles[1]['metadata']['Label'].decode()\n",
    "\n",
    "plt.figure()\n",
    "plt.plot(np.arange(len(x))/sr, x)\n",
    "plt.xlabel('Time (s)')\n",
    "plt.title('Fichier : '+fn+' Label : '+label)\n",
    "\n",
    "Audio(x, rate=sr)"
   ]
  },
  {
   "cell_type": "code",
   "execution_count": null,
   "metadata": {},
   "outputs": [],
   "source": [
    "# Filter on the channels\n",
    "channels = ['sig1','sig2']\n",
    "\n",
    "# Label ramification\n",
    "keys = [] \n",
    "\n",
    "# Selection of domain\n",
    "# filters = {'SensorType': [b'pin',b'po']}  # source domain\n",
    "filters = {}  # no selection\n",
    "\n",
    "# Resampling rate in Hz\n",
    "resampling_rate = 50000  # no resampling\n",
    "\n",
    "# Size of the sliding window (after resampling)\n",
    "elem=list(ds0.take(5).as_numpy_iterator())\n",
    "window_size = resampling_rate  # 1 second\n",
    "# window_size = len(elem[0]['signal']['sig1'])\n",
    "\n",
    "# Number of samples to skip between sucessive window\n",
    "hop_size = window_size//2\n",
    "\n",
    "from dpmhm.datasets import transformer\n",
    "\n",
    "compactor = transformer.DatasetCompactor(ds0, channels=channels, keys=keys, filters=filters,\n",
    "                                         resampling_rate=resampling_rate, \n",
    "                                         window_size=window_size, hop_size=hop_size)"
   ]
  },
  {
   "cell_type": "code",
   "execution_count": null,
   "metadata": {},
   "outputs": [],
   "source": [
    "ds1 = compactor.dataset\n",
    "\n",
    "print(\"Original:\", ds0.element_spec['signal'])\n",
    "print(\"Compacted:\", ds1.element_spec['signal'])"
   ]
  },
  {
   "cell_type": "code",
   "execution_count": null,
   "metadata": {},
   "outputs": [],
   "source": [
    "eles0 = list(ds0.take(2).as_numpy_iterator())\n",
    "eles1 = list(ds1.take(2).as_numpy_iterator())\n",
    "\n",
    "ds1.element_spec"
   ]
  },
  {
   "cell_type": "code",
   "execution_count": null,
   "metadata": {},
   "outputs": [],
   "source": [
    "from dpmhm.datasets import feature\n",
    "\n",
    "# Feature extractor\n",
    "\n",
    "_func = lambda x, sr: feature.spectral_features(x, sr, 'spectrogram', \n",
    "                                                time_window=window_size/resampling_rate, hop_step=window_size/(resampling_rate*2), normalize=False,\n",
    "                                                to_db=True)[0]\n",
    "# _func = lambda x, sr: feature.spectral_features(x, sr, 'spectrogram', \n",
    "                                                # time_window=window_size/resampling_rate, hop_step=window_size/(resampling_rate*2), normalize=False,\n",
    "                                                # to_db=True)[0]\n",
    "                                                \n",
    "# _func = lambda x, sr: feature.spectral_features(x, sr, 'melspectrogram', \n",
    "#                                                 time_window=0.025, hop_step=0.0125, normalize=False,\n",
    "#                                                 feature_kwargs={'n_mels':128})[0]\n",
    "\n",
    "extractor = transformer.FeatureExtractor(compactor.dataset, _func)"
   ]
  },
  {
   "cell_type": "code",
   "execution_count": null,
   "metadata": {},
   "outputs": [],
   "source": [
    "ds2 = extractor.dataset\n",
    "print(ds2.element_spec)\n",
    "\n",
    "eles2 = list(ds2.take(2).as_numpy_iterator())"
   ]
  },
  {
   "cell_type": "code",
   "execution_count": null,
   "metadata": {},
   "outputs": [],
   "source": [
    "print(eles2[0]['feature'].shape)\n",
    "\n",
    "X = eles2[0]\n",
    "plt.matshow(X['feature'][0], origin='lower')\n",
    "plt.xlabel('Time bin')\n",
    "plt.ylabel('Frequency bin')"
   ]
  }
 ],
 "metadata": {
  "kernelspec": {
   "display_name": ".venv",
   "language": "python",
   "name": "python3"
  },
  "language_info": {
   "codemirror_mode": {
    "name": "ipython",
    "version": 3
   },
   "file_extension": ".py",
   "mimetype": "text/x-python",
   "name": "python",
   "nbconvert_exporter": "python",
   "pygments_lexer": "ipython3",
   "version": "3.11.9"
  }
 },
 "nbformat": 4,
 "nbformat_minor": 2
}
