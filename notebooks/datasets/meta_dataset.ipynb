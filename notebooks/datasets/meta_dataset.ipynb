{
 "cells": [
  {
   "cell_type": "markdown",
   "id": "19108fd3",
   "metadata": {
    "tags": []
   },
   "source": [
    "# Build a Meta Dataset from Multiple Datasets\n",
    "\n",
    "We demonstrate how to concatenate multiple `dpmhm` datasets to build a new one. This is useful in particular for the Transfer Learning scenario."
   ]
  },
  {
   "cell_type": "code",
   "execution_count": 1,
   "id": "7dd30096",
   "metadata": {},
   "outputs": [
    {
     "name": "stderr",
     "output_type": "stream",
     "text": [
      "2024-06-14 10:51:46.703114: I external/local_tsl/tsl/cuda/cudart_stub.cc:32] Could not find cuda drivers on your machine, GPU will not be used.\n",
      "2024-06-14 10:51:46.706145: I external/local_tsl/tsl/cuda/cudart_stub.cc:32] Could not find cuda drivers on your machine, GPU will not be used.\n",
      "2024-06-14 10:51:46.750160: I tensorflow/core/platform/cpu_feature_guard.cc:210] This TensorFlow binary is optimized to use available CPU instructions in performance-critical operations.\n",
      "To enable the following instructions: AVX2 FMA, in other operations, rebuild TensorFlow with the appropriate compiler flags.\n",
      "2024-06-14 10:51:47.744986: W tensorflow/compiler/tf2tensorrt/utils/py_utils.cc:38] TF-TRT Warning: Could not find TensorRT\n"
     ]
    }
   ],
   "source": [
    "import tensorflow as tf\n",
    "import tensorflow_datasets as tfds\n",
    "\n",
    "import librosa\n",
    "import librosa.display\n",
    "\n",
    "import numpy as np\n",
    "from matplotlib import pyplot as plt\n",
    "\n",
    "from pathlib import Path\n",
    "\n",
    "# from IPython.display import Audio\n",
    "\n",
    "import os\n",
    "\n",
    "# os.environ[\"CUDA_VISIBLE_DEVICES\"] = \"-1\"  # disable GPU devices\n",
    "os.environ[\"TFDS_DATA_DIR\"] = os.path.expanduser(\"~/tensorflow_datasets\")  # default location of tfds database\n",
    "import dpmhm\n",
    "\n",
    "from dpmhm.datasets import transformer, preprocessing, feature, utils, query_parameters"
   ]
  },
  {
   "cell_type": "code",
   "execution_count": 23,
   "id": "ff939020",
   "metadata": {},
   "outputs": [],
   "source": [
    "outdir = Path('/home/han/tmp/meta_dataset')\n",
    "os.makedirs(outdir, exist_ok=True)"
   ]
  },
  {
   "cell_type": "code",
   "execution_count": 2,
   "id": "abf7094d",
   "metadata": {},
   "outputs": [],
   "source": [
    "def pipeline(ds_name:str, *, split:str='all', channels:list=[], keys:list=None):\n",
    "    \"\"\"Pipeline of preprocessing.\n",
    "\n",
    "    Parameters\n",
    "    ----------\n",
    "    ds_name\n",
    "        name of the dataset\n",
    "    split, optional\n",
    "        split to load, by default 'all'\n",
    "    channels, optional\n",
    "        channels to load, by default load all channels simultaneously\n",
    "    keys, optional\n",
    "        keys for the ramnification of labels\n",
    "\n",
    "    \"\"\"\n",
    "    ds0 = tfds.load(ds_name, split=split)\n",
    "    if keys is None:\n",
    "        keys = query_parameters(ds_name)['keys'].keys()\n",
    "\n",
    "    compactor = transformer.DatasetCompactor(\n",
    "        ds0,\n",
    "        channels=channels, # select all channels simultaneously\n",
    "        keys=keys,\n",
    "        # resampling_rate=12000,\n",
    "        # split_channel=True,  # split multidimensional signals into 1d signals, incompatible with the pretrained VGGish model\n",
    "    )\n",
    "\n",
    "    _func = lambda x, sr: feature.spectral_features(\n",
    "        x, sr, 'spectrogram',\n",
    "        # n_mfcc=256,\n",
    "        time_window=0.025, hop_step=0.0125,\n",
    "        # n_fft=512,\n",
    "        normalize=False, to_db=True)[0]\n",
    "\n",
    "    extractor = transformer.FeatureExtractor(compactor.dataset, _func)\n",
    "    window = transformer.WindowSlider(extractor.dataset, window_size=(64,64), hop_size=(32,32))\n",
    "\n",
    "    labels = list(compactor.full_label_dict.keys())  # need the whole list of labels\n",
    "\n",
    "    return window.dataset, labels"
   ]
  },
  {
   "cell_type": "markdown",
   "id": "9a6d9c30",
   "metadata": {},
   "source": [
    "Full list of supported datasets in `dpmhm`:"
   ]
  },
  {
   "cell_type": "code",
   "execution_count": 3,
   "id": "8a29b0b3",
   "metadata": {},
   "outputs": [
    {
     "data": {
      "text/plain": [
       "['CWRU',\n",
       " 'Dcase2020',\n",
       " 'DIRG',\n",
       " 'FEMTO',\n",
       " 'Fraunhofer151',\n",
       " 'Fraunhofer205',\n",
       " 'IMS',\n",
       " 'Mafaulda',\n",
       " 'Ottawa',\n",
       " 'Paderborn',\n",
       " 'Phmap2021',\n",
       " 'SEUC',\n",
       " 'XJTU']"
      ]
     },
     "execution_count": 3,
     "metadata": {},
     "output_type": "execute_result"
    }
   ],
   "source": [
    "dpmhm.datasets.get_dataset_list()"
   ]
  },
  {
   "cell_type": "markdown",
   "id": "adc50255",
   "metadata": {},
   "source": [
    "## Load datasets"
   ]
  },
  {
   "cell_type": "markdown",
   "id": "accd1a08",
   "metadata": {},
   "source": [
    "We can query the main parameters of a dataset: these will be used later to define a preprocessing pipeline."
   ]
  },
  {
   "cell_type": "code",
   "execution_count": 4,
   "id": "76ae90bf-15db-4ece-9c3a-300a49849ab2",
   "metadata": {},
   "outputs": [],
   "source": [
    "ds_list = ['CWRU', 'DIRG', 'Paderborn']\n",
    "\n",
    "# for d in ds_list:\n",
    "#     print(d, query_parameters(d))"
   ]
  },
  {
   "cell_type": "code",
   "execution_count": 5,
   "id": "e376d3a8",
   "metadata": {},
   "outputs": [
    {
     "data": {
      "text/plain": [
       "{'signal': {'DE': 1, 'FE': 1, 'BA': 1},\n",
       " 'sampling_rate': [12000, 48000],\n",
       " 'keys': {'FaultLocation': {'DriveEnd', 'FanEnd', 'None'},\n",
       "  'FaultComponent': {'Ball',\n",
       "   'InnerRace',\n",
       "   'None',\n",
       "   'OuterRace12',\n",
       "   'OuterRace3',\n",
       "   'OuterRace6'},\n",
       "  'FaultSize': {0, 0.007, 0.014, 0.021, 0.028}},\n",
       " 'filters': {'LoadForce': {0, 1, 2, 3}},\n",
       " 'type': 'initiated',\n",
       " 'split': ['train']}"
      ]
     },
     "execution_count": 5,
     "metadata": {},
     "output_type": "execute_result"
    }
   ],
   "source": [
    "query_parameters('CWRU')"
   ]
  },
  {
   "cell_type": "code",
   "execution_count": 6,
   "id": "203d7990",
   "metadata": {},
   "outputs": [
    {
     "data": {
      "text/plain": [
       "{'signal': {'A1': 3, 'A2': 3},\n",
       " 'sampling_rate': [51200, 102400],\n",
       " 'keys': {'FaultComponent': {'InnerRing', 'Roller'},\n",
       "  'FaultSize': {0, 150, 250, 450}},\n",
       " 'filters': {'RotatingSpeed': {100, 200, 300, 400, 500},\n",
       "  'NominalLoadForce': {0, 1000, 1400, 1800}},\n",
       " 'type': 'initiated+failure',\n",
       " 'split': ['vibration', 'endurance']}"
      ]
     },
     "execution_count": 6,
     "metadata": {},
     "output_type": "execute_result"
    }
   ],
   "source": [
    "query_parameters('DIRG')"
   ]
  },
  {
   "cell_type": "code",
   "execution_count": 7,
   "id": "e89a3485",
   "metadata": {},
   "outputs": [
    {
     "data": {
      "text/plain": [
       "{'signal': {'vibration': 1, 'current': 2, 'mechanic': 3, 'temperature': 1},\n",
       " 'sampling_rate': None,\n",
       " 'keys': {'FaultComponent': {'Inner Ring',\n",
       "   'Inner Ring+Outer Ring',\n",
       "   'None',\n",
       "   'Outer Ring'},\n",
       "  'FaultExtend': {0, 1, 2, 3},\n",
       "  'DamageMethod': {'Aritificial', 'Healthy', 'Lifetime'},\n",
       "  'FaultType': {'Drilling',\n",
       "   'Electric Engraver',\n",
       "   'Electrical Discharge Machining',\n",
       "   'Fatigue: Pitting',\n",
       "   'None'}},\n",
       " 'filters': {},\n",
       " 'type': 'initiated+failure',\n",
       " 'split': ['healthy', 'artificial', 'lifetime']}"
      ]
     },
     "execution_count": 7,
     "metadata": {},
     "output_type": "execute_result"
    }
   ],
   "source": [
    "query_parameters('Paderborn')"
   ]
  },
  {
   "cell_type": "markdown",
   "id": "f056ef9c",
   "metadata": {},
   "source": [
    "Now use the predefined method `pipeline()` to load these datasets. \n",
    "\n",
    "We selectively load channels so that all samples have the same first dimension. Moreover only the split of labelled data is loaded.\n",
    "\n",
    "For demonstration purpose, we load only a small portion of the very large `Paderborn` dataset."
   ]
  },
  {
   "cell_type": "code",
   "execution_count": 18,
   "id": "c5aa2926",
   "metadata": {},
   "outputs": [
    {
     "name": "stderr",
     "output_type": "stream",
     "text": [
      "2024-06-14 10:58:51.665883: W tensorflow/core/framework/local_rendezvous.cc:404] Local rendezvous is aborting with status: OUT_OF_RANGE: End of sequence\n",
      "2024-06-14 10:58:51.993260: W tensorflow/core/framework/local_rendezvous.cc:404] Local rendezvous is aborting with status: OUT_OF_RANGE: End of sequence\n",
      "2024-06-14 10:58:52.314217: W tensorflow/core/framework/local_rendezvous.cc:404] Local rendezvous is aborting with status: OUT_OF_RANGE: End of sequence\n",
      "2024-06-14 10:58:52.590236: W tensorflow/core/framework/local_rendezvous.cc:404] Local rendezvous is aborting with status: OUT_OF_RANGE: End of sequence\n",
      "2024-06-14 10:58:53.391997: W tensorflow/core/framework/local_rendezvous.cc:404] Local rendezvous is aborting with status: OUT_OF_RANGE: End of sequence\n",
      "2024-06-14 10:58:54.047364: W tensorflow/core/framework/local_rendezvous.cc:404] Local rendezvous is aborting with status: OUT_OF_RANGE: End of sequence\n",
      "2024-06-14 10:58:54.833373: W tensorflow/core/framework/local_rendezvous.cc:404] Local rendezvous is aborting with status: OUT_OF_RANGE: End of sequence\n",
      "2024-06-14 10:58:55.726402: W tensorflow/core/framework/local_rendezvous.cc:404] Local rendezvous is aborting with status: OUT_OF_RANGE: End of sequence\n",
      "2024-06-14 10:58:56.362432: W tensorflow/core/framework/local_rendezvous.cc:404] Local rendezvous is aborting with status: OUT_OF_RANGE: End of sequence\n",
      "2024-06-14 10:58:57.008778: W tensorflow/core/framework/local_rendezvous.cc:404] Local rendezvous is aborting with status: OUT_OF_RANGE: End of sequence\n",
      "2024-06-14 10:58:57.718962: W tensorflow/core/framework/local_rendezvous.cc:404] Local rendezvous is aborting with status: OUT_OF_RANGE: End of sequence\n",
      "2024-06-14 10:58:58.275889: W tensorflow/core/framework/local_rendezvous.cc:404] Local rendezvous is aborting with status: OUT_OF_RANGE: End of sequence\n"
     ]
    }
   ],
   "source": [
    "ds_all = {}\n",
    "\n",
    "ds_all['CWRU'] = pipeline('CWRU')\n",
    "ds_all['DIRG'] = pipeline('DIRG', split='variation', channels=['A1'])\n",
    "ds_all['Paderborn'] = pipeline('Paderborn', split='healthy[:25%]+artificial[:25%]', channels=['vibration', 'current'])"
   ]
  },
  {
   "cell_type": "code",
   "execution_count": 19,
   "id": "191b3fb7",
   "metadata": {},
   "outputs": [],
   "source": [
    "ds1, ds2, ds3 = ds_all['CWRU'][0], ds_all['DIRG'][0], ds_all['Paderborn'][0]\n",
    "lb1, lb2, lb3 = ds_all['CWRU'][1], ds_all['DIRG'][1], ds_all['Paderborn'][1]"
   ]
  },
  {
   "cell_type": "markdown",
   "id": "9e2da78d",
   "metadata": {},
   "source": [
    "It's unlikely to find duplicated labels in these datasets. Let's check:\n"
   ]
  },
  {
   "cell_type": "code",
   "execution_count": 39,
   "id": "a39722eb",
   "metadata": {},
   "outputs": [
    {
     "name": "stdout",
     "output_type": "stream",
     "text": [
      "45\n"
     ]
    }
   ],
   "source": [
    "labels = lb1+lb2+lb3\n",
    "print(len(labels))\n",
    "\n",
    "assert len(labels) == len(lb1)+len(lb2)+len(lb3)"
   ]
  },
  {
   "cell_type": "markdown",
   "id": "69421a77",
   "metadata": {},
   "source": [
    "Now we concatenate them to make a meta dataset"
   ]
  },
  {
   "cell_type": "code",
   "execution_count": 21,
   "id": "57778e43",
   "metadata": {},
   "outputs": [
    {
     "data": {
      "text/plain": [
       "{'feature': TensorSpec(shape=(3, None, None), dtype=tf.float32, name=None),\n",
       " 'label': TensorSpec(shape=(), dtype=tf.string, name=None)}"
      ]
     },
     "execution_count": 21,
     "metadata": {},
     "output_type": "execute_result"
    }
   ],
   "source": [
    "ds0 = ds1.concatenate(ds2).concatenate(ds3)\n",
    "\n",
    "ds0.element_spec"
   ]
  },
  {
   "cell_type": "markdown",
   "id": "405f3b39",
   "metadata": {},
   "source": [
    "Finally apply the preprocessing step to make it ready for supervised training:"
   ]
  },
  {
   "cell_type": "code",
   "execution_count": 22,
   "id": "6bffaac9",
   "metadata": {},
   "outputs": [
    {
     "name": "stderr",
     "output_type": "stream",
     "text": [
      "2024-06-14 10:59:21.645178: W tensorflow/core/framework/local_rendezvous.cc:404] Local rendezvous is aborting with status: OUT_OF_RANGE: End of sequence\n",
      "2024-06-14 10:59:31.540360: W tensorflow/core/framework/local_rendezvous.cc:404] Local rendezvous is aborting with status: OUT_OF_RANGE: End of sequence\n",
      "2024-06-14 11:00:26.745111: W tensorflow/core/framework/local_rendezvous.cc:404] Local rendezvous is aborting with status: OUT_OF_RANGE: End of sequence\n",
      "2024-06-14 11:01:22.767934: W tensorflow/core/framework/local_rendezvous.cc:404] Local rendezvous is aborting with status: OUT_OF_RANGE: End of sequence\n",
      "2024-06-14 11:01:22.775898: W tensorflow/core/framework/local_rendezvous.cc:404] Local rendezvous is aborting with status: OUT_OF_RANGE: End of sequence\n"
     ]
    }
   ],
   "source": [
    "preproc = preprocessing.get_mapping_supervised(labels)\n",
    "\n",
    "# with open(outdir/'labels.json', 'w') as fp:\n",
    "#     json.dump(compactor.full_label_dict,fp)\n",
    "\n",
    "ds0 = utils.restore_shape(\n",
    "    ds0.map(preproc, num_parallel_calls=tf.data.AUTOTUNE)\n",
    ")\n",
    "\n",
    "# ds0.save(str(outdir))"
   ]
  },
  {
   "cell_type": "markdown",
   "id": "77004bec",
   "metadata": {},
   "source": [
    "Built from a concatenation, the meta dataset's size should equal to the sum of that of the composing datasets. Let's check(time-consuming step!)."
   ]
  },
  {
   "cell_type": "code",
   "execution_count": null,
   "id": "dd01eedd",
   "metadata": {},
   "outputs": [],
   "source": [
    "ds_size = utils.get_dataset_size(ds0)\n",
    "print(ds_size)\n",
    "\n",
    "ds1_size = utils.get_dataset_size(ds1)\n",
    "ds2_size = utils.get_dataset_size(ds2)\n",
    "ds3_size = utils.get_dataset_size(ds3)\n",
    "\n",
    "assert ds1_size+ds2_size+ds3_size == ds_size"
   ]
  },
  {
   "cell_type": "markdown",
   "id": "a45cec67",
   "metadata": {},
   "source": [
    "The meta dataset is now in a channel-last format and ready to use:"
   ]
  },
  {
   "cell_type": "code",
   "execution_count": 36,
   "id": "b38359fa",
   "metadata": {},
   "outputs": [
    {
     "name": "stderr",
     "output_type": "stream",
     "text": [
      "2024-06-14 11:06:28.790217: W tensorflow/core/framework/local_rendezvous.cc:404] Local rendezvous is aborting with status: OUT_OF_RANGE: End of sequence\n"
     ]
    },
    {
     "data": {
      "text/plain": [
       "<matplotlib.image.AxesImage at 0x76b7057b4bd0>"
      ]
     },
     "execution_count": 36,
     "metadata": {},
     "output_type": "execute_result"
    },
    {
     "data": {
      "image/png": "[encoded data removed]",
      "text/plain": [
       "<Figure size 1000x500 with 2 Axes>"
      ]
     },
     "metadata": {},
     "output_type": "display_data"
    }
   ],
   "source": [
    "eles = list(ds0.take(10).as_numpy_iterator())\n",
    "\n",
    "fig, axes = plt.subplots(1,2,figsize=(10,5))\n",
    "\n",
    "axes[0].matshow(eles[0][0][:,:,0])\n",
    "axes[1].matshow(eles[9][0][:,:,0])"
   ]
  },
  {
   "cell_type": "code",
   "execution_count": null,
   "id": "165efff4",
   "metadata": {},
   "outputs": [],
   "source": []
  }
 ],
 "metadata": {
  "kernelspec": {
   "display_name": "dpmhm-yVS8YoI0-py3.11",
   "language": "python",
   "name": "python3"
  },
  "language_info": {
   "codemirror_mode": {
    "name": "ipython",
    "version": 3
   },
   "file_extension": ".py",
   "mimetype": "text/x-python",
   "name": "python",
   "nbconvert_exporter": "python",
   "pygments_lexer": "ipython3",
   "version": "3.11.9"
  }
 },
 "nbformat": 4,
 "nbformat_minor": 5
}
