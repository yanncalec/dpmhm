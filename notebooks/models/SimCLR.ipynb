{
 "cells": [
  {
   "cell_type": "markdown",
   "id": "19108fd3",
   "metadata": {
    "tags": []
   },
   "source": [
    "# SimCLR\n",
    "\n",
    "Multi-backends version."
   ]
  },
  {
   "cell_type": "code",
   "execution_count": 1,
   "id": "7e8135d7",
   "metadata": {},
   "outputs": [
    {
     "name": "stderr",
     "output_type": "stream",
     "text": [
      "2024-06-18 12:51:51.637414: W tensorflow/compiler/tf2tensorrt/utils/py_utils.cc:38] TF-TRT Warning: Could not find TensorRT\n"
     ]
    }
   ],
   "source": [
    "# %xmode minimal\n",
    "\n",
    "import os\n",
    "import json\n",
    "\n",
    "os.environ[\"CUDA_VISIBLE_DEVICES\"] = \"-1\"  # disable GPU devices\n",
    "os.environ[\"TFDS_DATA_DIR\"] = os.path.expanduser(\"~/tensorflow_datasets\")  # default location of tfds database\n",
    "\n",
    "import os\n",
    "os.environ[\"KERAS_BACKEND\"] = \"jax\"\n",
    "# os.environ[\"KERAS_BACKEND\"] = \"torch\"\n",
    "# os.environ[\"KERAS_BACKEND\"] = \"tensorflow\"\n",
    "\n",
    "import keras\n",
    "from keras import layers, models\n",
    "\n",
    "import tensorflow as tf\n",
    "import tensorflow_datasets as tfds\n",
    "\n",
    "import librosa\n",
    "import librosa.display\n",
    "\n",
    "import numpy as np\n",
    "from matplotlib import pyplot as plt\n",
    "\n",
    "from pathlib import Path\n",
    "\n",
    "from IPython.display import Audio\n",
    "\n",
    "# Turn off logging for TF\n",
    "import logging\n",
    "tf.get_logger().setLevel(logging.ERROR)\n",
    "\n",
    "# from tensorflow.python.client import device_lib\n",
    "# print(device_lib.list_local_devices())\n",
    "\n",
    "from keras import layers, models, ops, losses, metrics\n",
    "\n",
    "from keras.applications import resnet\n",
    "\n",
    "# from keras.applications import vgg16"
   ]
  },
  {
   "cell_type": "code",
   "execution_count": 2,
   "id": "98379592",
   "metadata": {},
   "outputs": [],
   "source": [
    "# tf.config.experimental_run_functions_eagerly(True)\n",
    "\n",
    "# from tensorflow.python.client import device_lib\n",
    "# print(device_lib.list_local_devices())\n"
   ]
  },
  {
   "cell_type": "code",
   "execution_count": 3,
   "id": "ad4e7cc1",
   "metadata": {},
   "outputs": [],
   "source": [
    "import dpmhm\n",
    "# dpmhm.datasets.get_dataset_list()\n",
    "from dpmhm.datasets import preprocessing, transformer, feature, utils\n",
    "# from dpmhm.models import byol, simclr\n",
    "\n",
    "workdir = Path(\"/home/han/tmp/SimCLR/\")\n",
    "os.makedirs(workdir, exist_ok=True)"
   ]
  },
  {
   "cell_type": "code",
   "execution_count": 4,
   "id": "6c57261c",
   "metadata": {},
   "outputs": [],
   "source": [
    "def NT_Xent_loss(zi, zj, tau:float=0.5, axis:int=1) -> float:\n",
    "    \"\"\"Normalized Temperature-scaled Cross Entropy Loss.\n",
    "\n",
    "    We modify the original definition by excluding also the term of index `j` from the denominator. This is closer to the initial aim of NT-Xent to pull together positive pairs (between `i` and `j`) while pushing apart negative pairs (not including `j`).\n",
    "\n",
    "    Parameters\n",
    "    ----------\n",
    "    zi\n",
    "        Anchor samples\n",
    "    zj\n",
    "        Augmented samples\n",
    "    tau, optional\n",
    "        Temperature, by default 0.5. A small temperature implies a sharper distribution in the feature space.\n",
    "    axis, optional\n",
    "        Axis of feature, by default 1\n",
    "    \"\"\"\n",
    "    zi = ops.normalize(zi, axis=axis)\n",
    "    zj = ops.normalize(zj, axis=axis)\n",
    "    # print('shape after=', zi.shape, zj.shape)\n",
    "\n",
    "    # Cosine similarity\n",
    "    # between anchor - anchor\n",
    "    Sii = ops.matmul(zi, ops.transpose(zi)) / tau\n",
    "    # between anchor - augmented\n",
    "    Sij = ops.matmul(zi, ops.transpose(zj)) / tau\n",
    "\n",
    "    P = ops.diag(Sij)\n",
    "    N = Sii - ops.diag(Sii) + Sij - ops.diag(Sij)\n",
    "\n",
    "    return ops.sum(ops.logsumexp(N, axis=axis) - P)\n",
    "\n",
    "\n",
    "def _loss(y_true, y_pred):\n",
    "    y1, y2 = y_pred[0], y_pred[1]\n",
    "    # y1 = ops.take(y_pred, 0, axis=0)\n",
    "    # y2 = ops.take(y_pred, 1, axis=0)\n",
    "    return NT_Xent_loss(y1, y2) + NT_Xent_loss(y2, y1)\n",
    "\n",
    "# _loss = lambda y_true, y_pred: NT_Xent_loss(y_pred[0], y_pred[1]) + NT_Xent_loss(y_pred[1], y_pred[0])"
   ]
  },
  {
   "cell_type": "code",
   "execution_count": 5,
   "id": "d9582b5f",
   "metadata": {},
   "outputs": [],
   "source": [
    "class SimCLR(keras.Model):\n",
    "    def __init__(self, input_shape, *args, **kwargs):\n",
    "        super().__init__(*args, **kwargs)\n",
    "\n",
    "        self._encoder = resnet.ResNet50(include_top=False, weights='imagenet', input_shape=input_shape, pooling='avg')\n",
    "        self._encoder.trainable = False\n",
    "\n",
    "        self. _projector = models.Sequential([\n",
    "            # A dense layer applies only on the last dimension while preserving all other dimensions as batch.\n",
    "            layers.Flatten(name='flatten'),\n",
    "            layers.Dense(256, activation='relu', name='fc1'),\n",
    "            layers.BatchNormalization(),\n",
    "            layers.Dense(128, activation='relu', name='fc2'),\n",
    "            layers.BatchNormalization(),\n",
    "            layers.Dense(64, activation=None, name='fc3'),\n",
    "        ], name='Projection_head')\n",
    "\n",
    "    def call(self, inputs, training=True):\n",
    "        x1, x2 = inputs  # ok if inputs is tuple, error in tensorflow's autograph mode: iterating on a tensor\n",
    "        # x1, x2 = inputs[0], inputs[1]  # not considered as iterating on a tensor\n",
    "        #\n",
    "        # if `inputs` is packed into a single tensor\n",
    "        # x1 = ops.take(inputs, 0, axis=1)\n",
    "        # x2 = ops.take(inputs, 1, axis=1)\n",
    "\n",
    "        y1 = self._projector(self._encoder(x1), training=training)\n",
    "        y2 = self._projector(self._encoder(x2), training=training)\n",
    "\n",
    "        # return y1, y2  # error: only y1 is passed to the loss function\n",
    "        return ops.stack([y1, y2])"
   ]
  },
  {
   "cell_type": "markdown",
   "id": "eb6c5e43-be47-4cc8-9020-93e8e3ee35a1",
   "metadata": {
    "tags": []
   },
   "source": [
    "## Load Data"
   ]
  },
  {
   "cell_type": "code",
   "execution_count": 6,
   "id": "98cb8d77",
   "metadata": {},
   "outputs": [
    {
     "data": {
      "text/plain": [
       "{'signal': {'DE': 1, 'FE': 1, 'BA': 1},\n",
       " 'sampling_rate': [12000, 48000],\n",
       " 'keys': {'FaultLocation': {'DriveEnd', 'FanEnd', 'None'},\n",
       "  'FaultComponent': {'Ball',\n",
       "   'InnerRace',\n",
       "   'None',\n",
       "   'OuterRace12',\n",
       "   'OuterRace3',\n",
       "   'OuterRace6'},\n",
       "  'FaultSize': {0, 0.007, 0.014, 0.021, 0.028}},\n",
       " 'filters': {'LoadForce': {0, 1, 2, 3}},\n",
       " 'type': 'initiated',\n",
       " 'split': ['train']}"
      ]
     },
     "execution_count": 6,
     "metadata": {},
     "output_type": "execute_result"
    }
   ],
   "source": [
    "ds_name = 'CWRU'\n",
    "\n",
    "dpmhm.datasets.query_parameters(ds_name)"
   ]
  },
  {
   "cell_type": "code",
   "execution_count": 7,
   "id": "0502e755-5dc1-4408-9fd1-9e550ebe322c",
   "metadata": {},
   "outputs": [
    {
     "name": "stderr",
     "output_type": "stream",
     "text": [
      "2024-06-18 12:51:52.548080: W tensorflow/core/framework/local_rendezvous.cc:404] Local rendezvous is aborting with status: OUT_OF_RANGE: End of sequence\n",
      "2024-06-18 12:51:53.733647: W tensorflow/core/framework/local_rendezvous.cc:404] Local rendezvous is aborting with status: OUT_OF_RANGE: End of sequence\n",
      "2024-06-18 12:51:53.970254: W tensorflow/core/framework/local_rendezvous.cc:404] Local rendezvous is aborting with status: OUT_OF_RANGE: End of sequence\n",
      "2024-06-18 12:51:54.199143: W tensorflow/core/framework/local_rendezvous.cc:404] Local rendezvous is aborting with status: OUT_OF_RANGE: End of sequence\n"
     ]
    }
   ],
   "source": [
    "ds0 = tfds.load(\n",
    "    ds_name,\n",
    "    # split='',\n",
    "    # split=['train[:75%]', 'train[75%:]'],\n",
    "    # split=[split1, split2],\n",
    "    split='all',\n",
    "    # download=True,  #\n",
    "    # with_info=True,\n",
    "    # batch_size=-1,  # load the whole dataset into a single batch\n",
    ")\n",
    "\n",
    "# ds0 = ds_all['train']\n",
    "ds_size = utils.get_dataset_size(ds0)\n",
    "\n",
    "channels = ['DE', 'FE', 'BA']  # will rule out the normal data\n",
    "\n",
    "keys = ['FaultComponent', 'FaultSize', 'FaultLocation']\n",
    "\n",
    "# Feature extractor\n",
    "_func = lambda x, sr: feature.spectral_features(\n",
    "    x, sr, 'spectrogram',\n",
    "    time_window=0.025,\n",
    "    hop_step=0.0125,\n",
    "    normalize=False,\n",
    "    to_db=True)[0]\n",
    "\n",
    "# _func = lambda x, sr: feature.spectral_features(\n",
    "#     x, sr, 'melspectrogram',\n",
    "#     time_window=0.025, hop_step=0.0125, normalize=False,\n",
    "#     feature_kwargs={'n_mels':128})[0]\n",
    "\n",
    "compactor = transformer.DatasetCompactor(ds0, keys=keys, channels=channels)\n",
    "labels = list(compactor.full_label_dict.keys())\n",
    "\n",
    "extractor = transformer.FeatureExtractor(compactor.dataset, _func)\n",
    "\n",
    "# product = transformer.Product(specaugment.dataset, keys=['FileName'], positive=True)\n",
    "\n",
    "# slider = transformer.WindowSlider(extractor.dataset, window_shape=64, downsample=64)\n",
    "# # fp = tempfile.mkdtemp()\n",
    "# # slider.serialize(str(workdir), compression='GZIP')\n",
    "# slider.dataset = tf.data.Dataset.load(str(workdir), compression='GZIP')\n",
    "\n",
    "# slider.dataset.cardinality()\n",
    "# preproc = preprocessing.get_mapping_supervised(labels)\n",
    "# ds1 = utils.restore_shape(\n",
    "#     specaugment.dataset.map(preproc, num_parallel_calls=tf.data.AUTOTUNE)\n",
    "# )"
   ]
  },
  {
   "cell_type": "markdown",
   "id": "b447784a",
   "metadata": {},
   "source": [
    "### SpecAugment and Paired dataset\n",
    "\n",
    "For any spectral sample `x`, we apply the spectrogram augmentation provided in `transformer` and build a paired dataset of form `(x1, x2)` for SSL.\n",
    "\n",
    "Notably, the paired dataset preserve the randomness: a paired sample `(x1, x2)` is two randomly transformed version of a common `x`. Let's check this:\n",
    "\n",
    "Alternatively, the spectrogram augmentation can be implemented also via keras preprocessing layers as follows \n",
    "\n",
    "```python\n",
    "layer_zoom = keras.layers.RandomZoom((-.5,.5), fill_mode='reflect')\n",
    "layer_flip = keras.layers.RandomFlip(mode='horizontal')\n",
    "layer_crop = keras.layers.RandomCrop(64, 64)\n",
    "\n",
    "layer_flip(layer_crop(layer_zoom(X)))\n",
    "```"
   ]
  },
  {
   "cell_type": "code",
   "execution_count": 8,
   "id": "32f6b063",
   "metadata": {},
   "outputs": [
    {
     "name": "stderr",
     "output_type": "stream",
     "text": [
      "2024-06-18 12:51:55.896356: W tensorflow/core/framework/local_rendezvous.cc:404] Local rendezvous is aborting with status: OUT_OF_RANGE: End of sequence\n"
     ]
    },
    {
     "data": {
      "image/png": "[encoded data removed]",
      "text/plain": [
       "<Figure size 640x480 with 2 Axes>"
      ]
     },
     "metadata": {},
     "output_type": "display_data"
    },
    {
     "data": {
      "image/png": "[encoded data removed]",
      "text/plain": [
       "<Figure size 640x480 with 2 Axes>"
      ]
     },
     "metadata": {},
     "output_type": "display_data"
    },
    {
     "data": {
      "image/png": "[encoded data removed]",
      "text/plain": [
       "<Figure size 640x480 with 2 Axes>"
      ]
     },
     "metadata": {},
     "output_type": "display_data"
    }
   ],
   "source": [
    "specaugment = transformer.SpecAugment(extractor.dataset)\n",
    "\n",
    "ds1 = specaugment.dataset\n",
    "# Paired dataset\n",
    "ds2 = tf.data.Dataset.zip(ds1, ds1)\n",
    "\n",
    "for e1, e2 in ds2.take(3):\n",
    "    assert(e1['metadata']==e2['metadata'])\n",
    "    X1 = e1['feature'][0]\n",
    "    X2 = e2['feature'][0]\n",
    "\n",
    "    fig, axes = plt.subplots(1,2,sharey=True)\n",
    "    axes[0].imshow(X1)\n",
    "    axes[1].imshow(X2)\n",
    "    fig.suptitle(e1['metadata']['FileName'].numpy())\n",
    "    fig.tight_layout()"
   ]
  },
  {
   "cell_type": "markdown",
   "id": "0f79cebc",
   "metadata": {},
   "source": [
    "### Dataset with fake labels\n",
    "\n",
    "The paired dataset of element type `(x1, x2)` passed to the SimCLR model will be transformed to `(y1, y2)`. Unfortunately the later incompatible with the loss function `loss(y_true, y_pred)` accepted by Keras. Actually, there is no `y_true` in our case and `y_pred` should be `(y1, y2)`. \n",
    "\n",
    "One solution (also put forward by the official documentation of Keras) is to customize the method `train_step()` which is backend dependent, like in\n",
    "\n",
    "https://keras.io/guides/custom_train_step_in_tensorflow/\n",
    "\n",
    " A simpler solution avoids the customization and only needs to adapt `call()` and the loss function, like follows\n",
    "\n",
    "1. From the original paired dataset build a dataset of type `((x1, x2), fake_label)` as input to the SimCLR model's `.call()`. Optionally the part `(x1, x2)` can be stacked in a single tensor (possibly of higher dimension) to avoid any implicite compile time error, using `.map()` on `tf.stack([x1, x2])`.\n",
    "2. In `.call(inputs)` separate `x1` and `x2` from `inputs` as `x1, x2 = inputs[0], inputs[1]`. This is safer than `x1, x2 = inputs` which may complain when use Tensorflow as backend. For stacked inputs, use instead `ops.take()`. On the other hand, the output of `.call()` must be a single tensor like `ops.stack([y1, y2])`.\n",
    "3. The loss function's signature is always `loss(y_true, y_pred)`, although it doesn't use the fake label `y_true` at all. `y1` and `y2` needed by the original loss are obtained again by splitting `y_pred` using `ops.take()`. \n",
    "\n",
    "Then one can call `model.fit()` on the dataset `((x1, x2), fake_label)` for training, independant of the backend.\n",
    "\n",
    "The logic behind this solution is that the `Model` class in Keras is actually designed for supervised learning, of type `y=f(x)`. A customized Keras model implements `f` in the method `.call(x)`, which should not be confused with `.fit(x,y)`. The argument `inputs` to `.call(inputs)` can be a tuple, but the output has to be a single tensor (if the output has several terms then only the first is passed to the loss function). The type of dataset passed to `model.fit()` has always to be `(x,y)`: no matter how many actual terms in `x` (and `y`), they need to be packed into a single tensor properly. The loss function takes `(y_true, y_pred)` with `y_true` from the dataset and `y_pred` from the output of `.call()`. Any deviation from this setting should be adapted, like the solution outlined above."
   ]
  },
  {
   "cell_type": "markdown",
   "id": "c3db438b",
   "metadata": {},
   "source": [
    "Let's remove all irrelevant information and keep only the field `'feature'`, and make a ready-to-use paired dataset with a fake label."
   ]
  },
  {
   "cell_type": "code",
   "execution_count": 9,
   "id": "c959d566",
   "metadata": {},
   "outputs": [
    {
     "name": "stderr",
     "output_type": "stream",
     "text": [
      "2024-06-18 12:51:56.804030: W tensorflow/core/framework/local_rendezvous.cc:404] Local rendezvous is aborting with status: OUT_OF_RANGE: End of sequence\n"
     ]
    },
    {
     "data": {
      "text/plain": [
       "(TensorSpec(shape=(64, 64, 3), dtype=tf.float32, name=None),\n",
       " TensorSpec(shape=(64, 64, 3), dtype=tf.float32, name=None))"
      ]
     },
     "execution_count": 9,
     "metadata": {},
     "output_type": "execute_result"
    }
   ],
   "source": [
    "specaugment = transformer.SpecAugment(extractor.dataset)\n",
    "\n",
    "# To channel last format\n",
    "ds1 = utils.restore_shape(\n",
    "    specaugment.dataset.map(lambda x: tf.transpose(x['feature'], [1,2,0]), num_parallel_calls=tf.data.AUTOTUNE),\n",
    ")\n",
    "input_shape = ds1.element_spec.shape\n",
    "\n",
    "# Paired dataset\n",
    "ds2 = tf.data.Dataset.zip(ds1, ds1)\n",
    "# ds2 = tf.data.Dataset.zip(ds1, ds1, ds1)  # or even more...\n",
    "# eles = list(ds2.take(10).as_numpy_iterator())\n",
    "\n",
    "ds2.element_spec\n",
    "# ds2_size = utils.get_dataset_size(ds2)\n",
    "# ds2 = ds2.apply(tf.data.experimental.assert_cardinality(ds2_size))"
   ]
  },
  {
   "cell_type": "code",
   "execution_count": 10,
   "id": "93833951",
   "metadata": {},
   "outputs": [],
   "source": [
    "# Construct a dataset with fake labels, following the logic of Keras\n",
    "def func(cst):\n",
    "    def _gen():\n",
    "        while True:\n",
    "            yield cst\n",
    "    return _gen\n",
    "\n",
    "dg = tf.data.Dataset.from_generator(func(None), output_types=tf.float32, output_shapes=())\n",
    "# dg = tf.data.Dataset.from_generator(func(1.), output_signature=tf.TensorSpec(shape=(None)))  # equivalent\n",
    "\n",
    "# list(dg.take(10))\n",
    "# or `list(dg.repeat().take(10))` if no `while` loop in the generator.\n",
    "\n",
    "ds = tf.data.Dataset.zip(ds2, dg)"
   ]
  },
  {
   "cell_type": "markdown",
   "id": "4cbe669f",
   "metadata": {},
   "source": [
    "Equivalently, just use the provided method `utils.twins_dataset_ssl()`."
   ]
  },
  {
   "cell_type": "code",
   "execution_count": 11,
   "id": "2c962777",
   "metadata": {},
   "outputs": [
    {
     "name": "stderr",
     "output_type": "stream",
     "text": [
      "2024-06-18 12:51:57.366973: W tensorflow/core/framework/local_rendezvous.cc:404] Local rendezvous is aborting with status: OUT_OF_RANGE: End of sequence\n"
     ]
    },
    {
     "data": {
      "text/plain": [
       "((TensorSpec(shape=(64, 64, 3), dtype=tf.float32, name=None),\n",
       "  TensorSpec(shape=(64, 64, 3), dtype=tf.float32, name=None)),\n",
       " TensorSpec(shape=(), dtype=tf.float32, name=None))"
      ]
     },
     "execution_count": 11,
     "metadata": {},
     "output_type": "execute_result"
    }
   ],
   "source": [
    "specaugment = transformer.SpecAugment(extractor.dataset)\n",
    "\n",
    "ds, input_shape = utils.twins_dataset_ssl(specaugment.dataset, fake_label=True)\n",
    "\n",
    "ds.element_spec"
   ]
  },
  {
   "cell_type": "code",
   "execution_count": 12,
   "id": "7b86479e",
   "metadata": {},
   "outputs": [
    {
     "name": "stderr",
     "output_type": "stream",
     "text": [
      "2024-06-18 12:52:01.305788: W tensorflow/core/framework/local_rendezvous.cc:404] Local rendezvous is aborting with status: OUT_OF_RANGE: End of sequence\n"
     ]
    },
    {
     "data": {
      "text/plain": [
       "97"
      ]
     },
     "execution_count": 12,
     "metadata": {},
     "output_type": "execute_result"
    }
   ],
   "source": [
    "ds = utils.restore_cardinality(ds)\n",
    "ds_size = int(ds.cardinality())  # utils.get_dataset_size(ds)\n",
    "\n",
    "ds_size"
   ]
  },
  {
   "cell_type": "markdown",
   "id": "e0dadce3",
   "metadata": {},
   "source": [
    "## SimCLR model"
   ]
  },
  {
   "cell_type": "code",
   "execution_count": 13,
   "id": "5214fcb7",
   "metadata": {},
   "outputs": [
    {
     "data": {
      "text/plain": [
       "((TensorSpec(shape=(10, 64, 64, 3), dtype=tf.float32, name=None),\n",
       "  TensorSpec(shape=(10, 64, 64, 3), dtype=tf.float32, name=None)),\n",
       " TensorSpec(shape=(10,), dtype=tf.float32, name=None))"
      ]
     },
     "execution_count": 13,
     "metadata": {},
     "output_type": "execute_result"
    }
   ],
   "source": [
    "splits = {'train':0.7, 'val':0.2, 'test':0.1}\n",
    "\n",
    "ds_split = utils.split_dataset(ds, splits, ds_size=ds_size)\n",
    "\n",
    "batch_size = 10\n",
    "\n",
    "ds_train = ds_split['train'].shuffle(ds_size, reshuffle_each_iteration=True).batch(batch_size, drop_remainder=True).prefetch(tf.data.AUTOTUNE)\n",
    "ds_val = ds_split['val'].batch(batch_size, drop_remainder=True)\n",
    "ds_test = ds_split['test'].batch(1, drop_remainder=True)\n",
    "\n",
    "ds_train.element_spec"
   ]
  },
  {
   "cell_type": "code",
   "execution_count": 14,
   "id": "82fa2817",
   "metadata": {},
   "outputs": [
    {
     "data": {
      "text/html": [
       "<pre style=\"white-space:pre;overflow-x:auto;line-height:normal;font-family:Menlo,'DejaVu Sans Mono',consolas,'Courier New',monospace\"><span style=\"font-weight: bold\">Model: \"sim_clr\"</span>\n",
       "</pre>\n"
      ],
      "text/plain": [
       "\u001b[1mModel: \"sim_clr\"\u001b[0m\n"
      ]
     },
     "metadata": {},
     "output_type": "display_data"
    },
    {
     "data": {
      "text/html": [
       "<pre style=\"white-space:pre;overflow-x:auto;line-height:normal;font-family:Menlo,'DejaVu Sans Mono',consolas,'Courier New',monospace\">┏━━━━━━━━━━━━━━━━━━━━━━━━━━━━━━━━━┳━━━━━━━━━━━━━━━━━━━━━━━━┳━━━━━━━━━━━━━━━┓\n",
       "┃<span style=\"font-weight: bold\"> Layer (type)                    </span>┃<span style=\"font-weight: bold\"> Output Shape           </span>┃<span style=\"font-weight: bold\">       Param # </span>┃\n",
       "┡━━━━━━━━━━━━━━━━━━━━━━━━━━━━━━━━━╇━━━━━━━━━━━━━━━━━━━━━━━━╇━━━━━━━━━━━━━━━┩\n",
       "│ resnet50 (<span style=\"color: #0087ff; text-decoration-color: #0087ff\">Functional</span>)           │ ?                      │    <span style=\"color: #00af00; text-decoration-color: #00af00\">23,587,712</span> │\n",
       "├─────────────────────────────────┼────────────────────────┼───────────────┤\n",
       "│ projector (<span style=\"color: #0087ff; text-decoration-color: #0087ff\">Sequential</span>)          │ ?                      │   <span style=\"color: #00af00; text-decoration-color: #00af00\">0</span> (unbuilt) │\n",
       "└─────────────────────────────────┴────────────────────────┴───────────────┘\n",
       "</pre>\n"
      ],
      "text/plain": [
       "┏━━━━━━━━━━━━━━━━━━━━━━━━━━━━━━━━━┳━━━━━━━━━━━━━━━━━━━━━━━━┳━━━━━━━━━━━━━━━┓\n",
       "┃\u001b[1m \u001b[0m\u001b[1mLayer (type)                   \u001b[0m\u001b[1m \u001b[0m┃\u001b[1m \u001b[0m\u001b[1mOutput Shape          \u001b[0m\u001b[1m \u001b[0m┃\u001b[1m \u001b[0m\u001b[1m      Param #\u001b[0m\u001b[1m \u001b[0m┃\n",
       "┡━━━━━━━━━━━━━━━━━━━━━━━━━━━━━━━━━╇━━━━━━━━━━━━━━━━━━━━━━━━╇━━━━━━━━━━━━━━━┩\n",
       "│ resnet50 (\u001b[38;5;33mFunctional\u001b[0m)           │ ?                      │    \u001b[38;5;34m23,587,712\u001b[0m │\n",
       "├─────────────────────────────────┼────────────────────────┼───────────────┤\n",
       "│ projector (\u001b[38;5;33mSequential\u001b[0m)          │ ?                      │   \u001b[38;5;34m0\u001b[0m (unbuilt) │\n",
       "└─────────────────────────────────┴────────────────────────┴───────────────┘\n"
      ]
     },
     "metadata": {},
     "output_type": "display_data"
    },
    {
     "data": {
      "text/html": [
       "<pre style=\"white-space:pre;overflow-x:auto;line-height:normal;font-family:Menlo,'DejaVu Sans Mono',consolas,'Courier New',monospace\"><span style=\"font-weight: bold\"> Total params: </span><span style=\"color: #00af00; text-decoration-color: #00af00\">23,587,712</span> (89.98 MB)\n",
       "</pre>\n"
      ],
      "text/plain": [
       "\u001b[1m Total params: \u001b[0m\u001b[38;5;34m23,587,712\u001b[0m (89.98 MB)\n"
      ]
     },
     "metadata": {},
     "output_type": "display_data"
    },
    {
     "data": {
      "text/html": [
       "<pre style=\"white-space:pre;overflow-x:auto;line-height:normal;font-family:Menlo,'DejaVu Sans Mono',consolas,'Courier New',monospace\"><span style=\"font-weight: bold\"> Trainable params: </span><span style=\"color: #00af00; text-decoration-color: #00af00\">0</span> (0.00 B)\n",
       "</pre>\n"
      ],
      "text/plain": [
       "\u001b[1m Trainable params: \u001b[0m\u001b[38;5;34m0\u001b[0m (0.00 B)\n"
      ]
     },
     "metadata": {},
     "output_type": "display_data"
    },
    {
     "data": {
      "text/html": [
       "<pre style=\"white-space:pre;overflow-x:auto;line-height:normal;font-family:Menlo,'DejaVu Sans Mono',consolas,'Courier New',monospace\"><span style=\"font-weight: bold\"> Non-trainable params: </span><span style=\"color: #00af00; text-decoration-color: #00af00\">23,587,712</span> (89.98 MB)\n",
       "</pre>\n"
      ],
      "text/plain": [
       "\u001b[1m Non-trainable params: \u001b[0m\u001b[38;5;34m23,587,712\u001b[0m (89.98 MB)\n"
      ]
     },
     "metadata": {},
     "output_type": "display_data"
    }
   ],
   "source": [
    "model = SimCLR(input_shape)\n",
    "\n",
    "# y1, y2 = model(*ds_train.take(1))\n",
    "\n",
    "# x1 = layers.Input(shape=input_shape)\n",
    "# x2 = layers.Input(shape=input_shape)\n",
    "# model = models.Model(inputs=(x1, x2), outputs=simclr_model([x1, x2]))\n",
    "\n",
    "# model(*ds_train.take(1))\n",
    "\n",
    "model.compile(\n",
    "    optimizer=keras.optimizers.Adam(),\n",
    "    loss=_loss\n",
    ")\n",
    "\n",
    "model.summary()"
   ]
  },
  {
   "cell_type": "code",
   "execution_count": 15,
   "id": "86f1003b",
   "metadata": {},
   "outputs": [
    {
     "name": "stdout",
     "output_type": "stream",
     "text": [
      "\u001b[1m6/6\u001b[0m \u001b[32m━━━━━━━━━━━━━━━━━━━━\u001b[0m\u001b[37m\u001b[0m \u001b[1m0s\u001b[0m 764ms/step - loss: 11.3896"
     ]
    },
    {
     "name": "stderr",
     "output_type": "stream",
     "text": [
      "2024-06-18 12:52:20.727342: W tensorflow/core/framework/local_rendezvous.cc:404] Local rendezvous is aborting with status: OUT_OF_RANGE: End of sequence\n",
      "2024-06-18 12:52:24.450913: W tensorflow/core/framework/local_rendezvous.cc:404] Local rendezvous is aborting with status: OUT_OF_RANGE: End of sequence\n"
     ]
    },
    {
     "name": "stdout",
     "output_type": "stream",
     "text": [
      "\u001b[1m6/6\u001b[0m \u001b[32m━━━━━━━━━━━━━━━━━━━━\u001b[0m\u001b[37m\u001b[0m \u001b[1m18s\u001b[0m 2s/step - loss: 11.0070 - val_loss: 5.4263\n"
     ]
    }
   ],
   "source": [
    "hh = model.fit(ds_train,\n",
    "               validation_data=ds_val,\n",
    "               epochs=1)"
   ]
  },
  {
   "cell_type": "code",
   "execution_count": 16,
   "id": "11a1e743",
   "metadata": {},
   "outputs": [
    {
     "data": {
      "text/plain": [
       "[<matplotlib.lines.Line2D at 0x717dc2b5f7d0>]"
      ]
     },
     "execution_count": 16,
     "metadata": {},
     "output_type": "execute_result"
    },
    {
     "data": {
      "image/png": "[encoded data removed]",
      "text/plain": [
       "<Figure size 640x480 with 1 Axes>"
      ]
     },
     "metadata": {},
     "output_type": "display_data"
    }
   ],
   "source": [
    "plt.plot(hh.history['loss'])"
   ]
  },
  {
   "cell_type": "markdown",
   "id": "a7538a35",
   "metadata": {},
   "source": [
    "### Supervised fine tuning\n",
    "\n",
    "From the trained SimCLR model, we extract the feature transformation part which includes the base encoder and the first two dense layers of the projection head. "
   ]
  },
  {
   "cell_type": "code",
   "execution_count": 17,
   "id": "f31cbb32",
   "metadata": {},
   "outputs": [
    {
     "data": {
      "text/html": [
       "<pre style=\"white-space:pre;overflow-x:auto;line-height:normal;font-family:Menlo,'DejaVu Sans Mono',consolas,'Courier New',monospace\"><span style=\"font-weight: bold\">Model: \"SimCLR_feature\"</span>\n",
       "</pre>\n"
      ],
      "text/plain": [
       "\u001b[1mModel: \"SimCLR_feature\"\u001b[0m\n"
      ]
     },
     "metadata": {},
     "output_type": "display_data"
    },
    {
     "data": {
      "text/html": [
       "<pre style=\"white-space:pre;overflow-x:auto;line-height:normal;font-family:Menlo,'DejaVu Sans Mono',consolas,'Courier New',monospace\">┏━━━━━━━━━━━━━━━━━━━━━━━━━━━━━━━━━┳━━━━━━━━━━━━━━━━━━━━━━━━┳━━━━━━━━━━━━━━━┓\n",
       "┃<span style=\"font-weight: bold\"> Layer (type)                    </span>┃<span style=\"font-weight: bold\"> Output Shape           </span>┃<span style=\"font-weight: bold\">       Param # </span>┃\n",
       "┡━━━━━━━━━━━━━━━━━━━━━━━━━━━━━━━━━╇━━━━━━━━━━━━━━━━━━━━━━━━╇━━━━━━━━━━━━━━━┩\n",
       "│ input_layer_2 (<span style=\"color: #0087ff; text-decoration-color: #0087ff\">InputLayer</span>)      │ (<span style=\"color: #00d7ff; text-decoration-color: #00d7ff\">None</span>, <span style=\"color: #00af00; text-decoration-color: #00af00\">64</span>, <span style=\"color: #00af00; text-decoration-color: #00af00\">64</span>, <span style=\"color: #00af00; text-decoration-color: #00af00\">3</span>)      │             <span style=\"color: #00af00; text-decoration-color: #00af00\">0</span> │\n",
       "├─────────────────────────────────┼────────────────────────┼───────────────┤\n",
       "│ resnet50 (<span style=\"color: #0087ff; text-decoration-color: #0087ff\">Functional</span>)           │ (<span style=\"color: #00d7ff; text-decoration-color: #00d7ff\">None</span>, <span style=\"color: #00af00; text-decoration-color: #00af00\">2048</span>)           │    <span style=\"color: #00af00; text-decoration-color: #00af00\">23,587,712</span> │\n",
       "├─────────────────────────────────┼────────────────────────┼───────────────┤\n",
       "│ functional_2 (<span style=\"color: #0087ff; text-decoration-color: #0087ff\">Functional</span>)       │ (<span style=\"color: #00d7ff; text-decoration-color: #00d7ff\">None</span>, <span style=\"color: #00af00; text-decoration-color: #00af00\">128</span>)            │       <span style=\"color: #00af00; text-decoration-color: #00af00\">558,464</span> │\n",
       "└─────────────────────────────────┴────────────────────────┴───────────────┘\n",
       "</pre>\n"
      ],
      "text/plain": [
       "┏━━━━━━━━━━━━━━━━━━━━━━━━━━━━━━━━━┳━━━━━━━━━━━━━━━━━━━━━━━━┳━━━━━━━━━━━━━━━┓\n",
       "┃\u001b[1m \u001b[0m\u001b[1mLayer (type)                   \u001b[0m\u001b[1m \u001b[0m┃\u001b[1m \u001b[0m\u001b[1mOutput Shape          \u001b[0m\u001b[1m \u001b[0m┃\u001b[1m \u001b[0m\u001b[1m      Param #\u001b[0m\u001b[1m \u001b[0m┃\n",
       "┡━━━━━━━━━━━━━━━━━━━━━━━━━━━━━━━━━╇━━━━━━━━━━━━━━━━━━━━━━━━╇━━━━━━━━━━━━━━━┩\n",
       "│ input_layer_2 (\u001b[38;5;33mInputLayer\u001b[0m)      │ (\u001b[38;5;45mNone\u001b[0m, \u001b[38;5;34m64\u001b[0m, \u001b[38;5;34m64\u001b[0m, \u001b[38;5;34m3\u001b[0m)      │             \u001b[38;5;34m0\u001b[0m │\n",
       "├─────────────────────────────────┼────────────────────────┼───────────────┤\n",
       "│ resnet50 (\u001b[38;5;33mFunctional\u001b[0m)           │ (\u001b[38;5;45mNone\u001b[0m, \u001b[38;5;34m2048\u001b[0m)           │    \u001b[38;5;34m23,587,712\u001b[0m │\n",
       "├─────────────────────────────────┼────────────────────────┼───────────────┤\n",
       "│ functional_2 (\u001b[38;5;33mFunctional\u001b[0m)       │ (\u001b[38;5;45mNone\u001b[0m, \u001b[38;5;34m128\u001b[0m)            │       \u001b[38;5;34m558,464\u001b[0m │\n",
       "└─────────────────────────────────┴────────────────────────┴───────────────┘\n"
      ]
     },
     "metadata": {},
     "output_type": "display_data"
    },
    {
     "data": {
      "text/html": [
       "<pre style=\"white-space:pre;overflow-x:auto;line-height:normal;font-family:Menlo,'DejaVu Sans Mono',consolas,'Courier New',monospace\"><span style=\"font-weight: bold\"> Total params: </span><span style=\"color: #00af00; text-decoration-color: #00af00\">24,146,176</span> (92.11 MB)\n",
       "</pre>\n"
      ],
      "text/plain": [
       "\u001b[1m Total params: \u001b[0m\u001b[38;5;34m24,146,176\u001b[0m (92.11 MB)\n"
      ]
     },
     "metadata": {},
     "output_type": "display_data"
    },
    {
     "data": {
      "text/html": [
       "<pre style=\"white-space:pre;overflow-x:auto;line-height:normal;font-family:Menlo,'DejaVu Sans Mono',consolas,'Courier New',monospace\"><span style=\"font-weight: bold\"> Trainable params: </span><span style=\"color: #00af00; text-decoration-color: #00af00\">557,952</span> (2.13 MB)\n",
       "</pre>\n"
      ],
      "text/plain": [
       "\u001b[1m Trainable params: \u001b[0m\u001b[38;5;34m557,952\u001b[0m (2.13 MB)\n"
      ]
     },
     "metadata": {},
     "output_type": "display_data"
    },
    {
     "data": {
      "text/html": [
       "<pre style=\"white-space:pre;overflow-x:auto;line-height:normal;font-family:Menlo,'DejaVu Sans Mono',consolas,'Courier New',monospace\"><span style=\"font-weight: bold\"> Non-trainable params: </span><span style=\"color: #00af00; text-decoration-color: #00af00\">23,588,224</span> (89.98 MB)\n",
       "</pre>\n"
      ],
      "text/plain": [
       "\u001b[1m Non-trainable params: \u001b[0m\u001b[38;5;34m23,588,224\u001b[0m (89.98 MB)\n"
      ]
     },
     "metadata": {},
     "output_type": "display_data"
    }
   ],
   "source": [
    "x = layers.Input(input_shape)\n",
    "\n",
    "# same same\n",
    "# _proj = models.Model(inputs=model._projector.inputs, outputs=model._projector.layers[3].output)\n",
    "_proj = models.Model(inputs=model._projector.layers[0].input, outputs=model._projector.layers[3].output)\n",
    "\n",
    "# _proj.summary()  # shows a concrete value for batch\n",
    "\n",
    "f = _proj(model._encoder(x))\n",
    "\n",
    "model_feature = models.Model(inputs=x, outputs=f, name='SimCLR_feature')\n",
    "\n",
    "model_feature.summary()  # shows `None` for batch"
   ]
  },
  {
   "cell_type": "markdown",
   "id": "523390dc",
   "metadata": {},
   "source": [
    "Test the feature transformation model to see how it acts across the batch."
   ]
  },
  {
   "cell_type": "code",
   "execution_count": 18,
   "id": "1546bef6",
   "metadata": {},
   "outputs": [
    {
     "name": "stderr",
     "output_type": "stream",
     "text": [
      "2024-06-18 12:52:30.855289: W tensorflow/core/framework/local_rendezvous.cc:404] Local rendezvous is aborting with status: OUT_OF_RANGE: End of sequence\n"
     ]
    },
    {
     "name": "stdout",
     "output_type": "stream",
     "text": [
      "\u001b[1m1/1\u001b[0m \u001b[32m━━━━━━━━━━━━━━━━━━━━\u001b[0m\u001b[37m\u001b[0m \u001b[1m2s\u001b[0m 2s/step\n",
      "\u001b[1m1/1\u001b[0m \u001b[32m━━━━━━━━━━━━━━━━━━━━\u001b[0m\u001b[37m\u001b[0m \u001b[1m2s\u001b[0m 2s/step\n"
     ]
    },
    {
     "data": {
      "text/plain": [
       "array([[ 0.0000000e+00,  0.0000000e+00,  0.0000000e+00,  0.0000000e+00,\n",
       "         0.0000000e+00,  0.0000000e+00,  1.7881393e-06,  0.0000000e+00,\n",
       "         0.0000000e+00,  0.0000000e+00, -1.1920929e-06, -1.0132790e-06,\n",
       "         0.0000000e+00, -2.3841858e-07,  4.1769817e-07,  0.0000000e+00,\n",
       "         0.0000000e+00,  2.3841858e-07, -8.9406967e-07, -1.1920929e-07,\n",
       "         5.3644180e-07,  0.0000000e+00,  0.0000000e+00,  0.0000000e+00,\n",
       "         0.0000000e+00,  0.0000000e+00,  4.7683716e-07,  0.0000000e+00,\n",
       "        -4.7683716e-07,  1.7881393e-07, -2.3841858e-07,  0.0000000e+00,\n",
       "         2.3841858e-07, -8.3446503e-07, -1.1920929e-07,  0.0000000e+00,\n",
       "         4.7683716e-07, -3.5762787e-07,  0.0000000e+00,  0.0000000e+00,\n",
       "         0.0000000e+00, -7.1525574e-07,  0.0000000e+00,  3.5762787e-07,\n",
       "         0.0000000e+00,  0.0000000e+00,  0.0000000e+00, -1.1920929e-06,\n",
       "        -1.1920929e-06,  3.5762787e-07,  1.2293458e-06,  0.0000000e+00,\n",
       "         0.0000000e+00,  0.0000000e+00,  0.0000000e+00, -1.2516975e-06,\n",
       "        -1.6689301e-06,  2.3841858e-07,  0.0000000e+00, -2.5033951e-06,\n",
       "         0.0000000e+00, -3.5762787e-07,  1.4305115e-06,  0.0000000e+00,\n",
       "         0.0000000e+00,  0.0000000e+00,  7.1525574e-07,  5.3644180e-07,\n",
       "        -1.3113022e-06,  0.0000000e+00,  0.0000000e+00,  5.9604645e-07,\n",
       "        -8.3446503e-07, -7.1525574e-07,  3.2410026e-07,  0.0000000e+00,\n",
       "         0.0000000e+00,  0.0000000e+00,  3.7439167e-07,  0.0000000e+00,\n",
       "        -5.9604645e-07,  2.4437904e-06,  0.0000000e+00,  0.0000000e+00,\n",
       "         0.0000000e+00,  0.0000000e+00, -1.0728836e-06,  0.0000000e+00,\n",
       "         0.0000000e+00, -1.6391277e-07, -1.0728836e-06,  5.0663948e-07,\n",
       "         0.0000000e+00,  0.0000000e+00,  0.0000000e+00, -1.6093254e-06,\n",
       "        -7.1525574e-07,  0.0000000e+00,  0.0000000e+00, -8.3446503e-07,\n",
       "         0.0000000e+00,  0.0000000e+00,  0.0000000e+00,  0.0000000e+00,\n",
       "         0.0000000e+00,  1.4305115e-06,  0.0000000e+00,  0.0000000e+00,\n",
       "        -1.7881393e-06,  0.0000000e+00, -7.1525574e-07,  7.1525574e-07,\n",
       "         0.0000000e+00, -3.5762787e-07,  7.1525574e-07,  0.0000000e+00,\n",
       "        -5.9604645e-07,  0.0000000e+00,  1.9073486e-06,  1.6093254e-06,\n",
       "         0.0000000e+00, -1.6689301e-06,  0.0000000e+00,  0.0000000e+00,\n",
       "         0.0000000e+00,  0.0000000e+00,  0.0000000e+00,  0.0000000e+00]],\n",
       "      dtype=float32)"
      ]
     },
     "execution_count": 18,
     "metadata": {},
     "output_type": "execute_result"
    }
   ],
   "source": [
    "# eles = list(ds_train.take(1))[0]\n",
    "eles = list(ds_train.take(1).as_numpy_iterator())[0]\n",
    "\n",
    "xx = ops.take(eles[0][0], [2], axis=0)\n",
    "yy = model_feature.predict(xx)  # apply on a single input\n",
    "zz = model_feature.predict(eles[0][0])[2]  # apply on a batch of inputs then take the corresponding output\n",
    "\n",
    "# yy = model._encoder.predict(xx)\n",
    "# zz = model._encoder.predict(eles[0][0])[2]\n",
    "\n",
    "# Comparison: NOT zero.\n",
    "yy-zz"
   ]
  },
  {
   "cell_type": "markdown",
   "id": "1a654d92",
   "metadata": {},
   "source": [
    "#### Classfication head and fine tuning\n",
    "\n",
    "We add a classification head to the feature transformation network and fine tune the model on some new data.\n",
    "\n",
    "Let's first prepare new data of few-shot learning style. This consists in splitting separately each category (i.e. a label) of data."
   ]
  },
  {
   "cell_type": "code",
   "execution_count": 26,
   "id": "e5431a18",
   "metadata": {},
   "outputs": [],
   "source": [
    "slider = transformer.WindowSlider(extractor.dataset, window_size=(64,64), hop_size=(64,64))\n",
    "# fp = tempfile.mkdtemp()\n",
    "# slider.serialize(str(workdir), compression='GZIP')\n",
    "# slider.dataset = tf.data.Dataset.load(str(workdir), compression='GZIP')\n",
    "\n",
    "preproc = preprocessing.get_mapping_supervised(labels)\n",
    "\n",
    "splits = {'train':0.7, 'val':0.2, 'test':0.1}\n",
    "batch_size = 64\n",
    "\n",
    "n_classes = len(labels) + 1"
   ]
  },
  {
   "cell_type": "markdown",
   "id": "88aad085",
   "metadata": {},
   "source": [
    "Two equivalent ways of doing this: split before preprocess or preprocess before split."
   ]
  },
  {
   "cell_type": "code",
   "execution_count": 45,
   "id": "a76b48fc",
   "metadata": {},
   "outputs": [
    {
     "name": "stderr",
     "output_type": "stream",
     "text": [
      "2024-06-18 13:49:16.274706: W tensorflow/core/framework/local_rendezvous.cc:404] Local rendezvous is aborting with status: OUT_OF_RANGE: End of sequence\n",
      "2024-06-18 13:49:16.277779: W tensorflow/core/framework/local_rendezvous.cc:404] Local rendezvous is aborting with status: OUT_OF_RANGE: End of sequence\n"
     ]
    }
   ],
   "source": [
    "# Way 1: split first\n",
    "\n",
    "dw = utils.restore_cardinality(\n",
    "    slider.dataset\n",
    ")\n",
    "\n",
    "dw_split = utils.split_dataset(dw, splits, ds_size=int(dw.cardinality()), labels=labels)\n",
    "\n",
    "dw_train = dw_split['train']\\\n",
    "    .map(preproc, num_parallel_calls=tf.data.AUTOTUNE)\\\n",
    "    .shuffle(ds_size, reshuffle_each_iteration=True)\\\n",
    "    .batch(batch_size, drop_remainder=True)\\\n",
    "    .prefetch(tf.data.AUTOTUNE)\n",
    "dw_val = dw_split['val']\\\n",
    "    .map(preproc, num_parallel_calls=tf.data.AUTOTUNE)\\\n",
    "    .batch(batch_size, drop_remainder=True)\n",
    "dw_test = dw_split['test']\\\n",
    "    .map(preproc, num_parallel_calls=tf.data.AUTOTUNE)\\\n",
    "    .batch(1, drop_remainder=True)"
   ]
  },
  {
   "cell_type": "code",
   "execution_count": 31,
   "id": "58b73bef",
   "metadata": {},
   "outputs": [
    {
     "name": "stderr",
     "output_type": "stream",
     "text": [
      "2024-06-18 13:07:28.605078: W tensorflow/core/framework/local_rendezvous.cc:404] Local rendezvous is aborting with status: OUT_OF_RANGE: End of sequence\n",
      "2024-06-18 13:07:28.609527: W tensorflow/core/framework/local_rendezvous.cc:404] Local rendezvous is aborting with status: OUT_OF_RANGE: End of sequence\n"
     ]
    }
   ],
   "source": [
    "# Way 2: preprocess first\n",
    "\n",
    "dw = utils.restore_cardinality(\n",
    "    slider.dataset.map(preproc, num_parallel_calls=tf.data.AUTOTUNE)\n",
    ")\n",
    "\n",
    "dw_split = utils.split_dataset(dw, splits, ds_size=int(dw.cardinality()), labels=np.arange(n_classes))\n",
    "\n",
    "dw_train = dw_split['train']\\\n",
    "    .shuffle(ds_size, reshuffle_each_iteration=True)\\\n",
    "    .batch(batch_size, drop_remainder=True)\\\n",
    "    .prefetch(tf.data.AUTOTUNE)\n",
    "dw_val = dw_split['val'].batch(batch_size, drop_remainder=True)\n",
    "dw_test = dw_split['test'].batch(1, drop_remainder=True)"
   ]
  },
  {
   "cell_type": "code",
   "execution_count": 40,
   "id": "91e4d711",
   "metadata": {},
   "outputs": [],
   "source": [
    "model_feature.trainable = False\n",
    "\n",
    "model_clas = models.Sequential([\n",
    "    layers.Dense(128, activation='relu'),\n",
    "    layers.BatchNormalization(),\n",
    "    layers.Dense(n_classes) # nb labels\n",
    "], name='Classification_head')\n",
    "\n",
    "x = layers.Input(input_shape)\n",
    "\n",
    "model_fine = models.Model(inputs=x, outputs=model_clas(model_feature(x)))\n",
    "\n",
    "model_fine.compile(\n",
    "    optimizer=keras.optimizers.Adam(),\n",
    "    loss=losses.SparseCategoricalCrossentropy(from_logits=True),\n",
    "    # metrics=[metrics.SparseCategoricalAccuracy()]\n",
    ")"
   ]
  },
  {
   "cell_type": "code",
   "execution_count": null,
   "id": "03fca33b",
   "metadata": {},
   "outputs": [],
   "source": [
    "hh = model_fine.fit(\n",
    "    dw_val,\n",
    "    validation_data=dw_test,\n",
    "    epochs=2\n",
    ")"
   ]
  }
 ],
 "metadata": {
  "kernelspec": {
   "display_name": "dpmhm-yVS8YoI0-py3.11",
   "language": "python",
   "name": "python3"
  },
  "language_info": {
   "codemirror_mode": {
    "name": "ipython",
    "version": 3
   },
   "file_extension": ".py",
   "mimetype": "text/x-python",
   "name": "python",
   "nbconvert_exporter": "python",
   "pygments_lexer": "ipython3",
   "version": "3.11.9"
  }
 },
 "nbformat": 4,
 "nbformat_minor": 5
}
