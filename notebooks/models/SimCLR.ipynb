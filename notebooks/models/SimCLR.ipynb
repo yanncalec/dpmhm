{
 "cells": [
  {
   "cell_type": "markdown",
   "id": "19108fd3",
   "metadata": {
    "tags": []
   },
   "source": [
    "# SimCLR"
   ]
  },
  {
   "cell_type": "code",
   "execution_count": 1,
   "id": "91a7df08",
   "metadata": {},
   "outputs": [],
   "source": [
    "from keras import layers, models, regularizers, callbacks, losses\n",
    "\n",
    "from keras.applications import resnet\n",
    "\n",
    "# from keras.applications import vgg16"
   ]
  },
  {
   "cell_type": "code",
   "execution_count": 3,
   "id": "ad4e7cc1",
   "metadata": {},
   "outputs": [],
   "source": [
    "import dpmhm\n",
    "# dpmhm.datasets.get_dataset_list()\n",
    "from dpmhm.datasets import preprocessing, transformer, feature, utils\n",
    "# from dpmhm.models import byol, simclr"
   ]
  },
  {
   "cell_type": "code",
   "execution_count": 3,
   "id": "1d0918f8-2cac-46c7-a060-c44c1c6680c7",
   "metadata": {
    "scrolled": true
   },
   "outputs": [
    {
     "name": "stdout",
     "output_type": "stream",
     "text": [
      "[name: \"/device:CPU:0\"\n",
      "device_type: \"CPU\"\n",
      "memory_limit: 268435456\n",
      "locality {\n",
      "}\n",
      "incarnation: 1166721584306666838\n",
      "xla_global_id: -1\n",
      "]\n"
     ]
    },
    {
     "name": "stderr",
     "output_type": "stream",
     "text": [
      "2022-11-18 18:01:15.555930: I tensorflow/core/platform/cpu_feature_guard.cc:193] This TensorFlow binary is optimized with oneAPI Deep Neural Network Library (oneDNN) to use the following CPU instructions in performance-critical operations:  AVX2 FMA\n",
      "To enable them in other operations, rebuild TensorFlow with the appropriate compiler flags.\n",
      "2022-11-18 18:01:15.616436: E tensorflow/stream_executor/cuda/cuda_driver.cc:265] failed call to cuInit: CUDA_ERROR_NO_DEVICE: no CUDA-capable device is detected\n",
      "2022-11-18 18:01:15.616461: I tensorflow/stream_executor/cuda/cuda_diagnostics.cc:169] retrieving CUDA diagnostic information for host: Pluto\n",
      "2022-11-18 18:01:15.616466: I tensorflow/stream_executor/cuda/cuda_diagnostics.cc:176] hostname: Pluto\n",
      "2022-11-18 18:01:15.616602: I tensorflow/stream_executor/cuda/cuda_diagnostics.cc:200] libcuda reported version is: 515.65.1\n",
      "2022-11-18 18:01:15.616622: I tensorflow/stream_executor/cuda/cuda_diagnostics.cc:204] kernel reported version is: 515.65.1\n",
      "2022-11-18 18:01:15.616627: I tensorflow/stream_executor/cuda/cuda_diagnostics.cc:310] kernel version seems to match DSO: 515.65.1\n"
     ]
    }
   ],
   "source": [
    "from tensorflow.python.client import device_lib\n",
    "print(device_lib.list_local_devices())\n"
   ]
  },
  {
   "cell_type": "markdown",
   "id": "eb6c5e43-be47-4cc8-9020-93e8e3ee35a1",
   "metadata": {
    "tags": []
   },
   "source": [
    "## Load Data"
   ]
  },
  {
   "cell_type": "code",
   "execution_count": 4,
   "id": "0502e755-5dc1-4408-9fd1-9e550ebe322c",
   "metadata": {},
   "outputs": [],
   "source": [
    "dataset_name = 'CWRU'\n",
    "\n",
    "# split0, split1, split2 = tfds.even_splits('train', n=3)\n",
    "\n",
    "ds_all, ds_info = tfds.load(\n",
    "    dataset_name, \n",
    "    # split='',\n",
    "    # split=['train[:75%]', 'train[75%:]'],    \n",
    "    # split=[split1, split2],    \n",
    "    # download=True,  #\n",
    "    with_info=True,\n",
    "    # batch_size=-1,  # load the whole dataset into a single batch\n",
    ")\n",
    "\n",
    "ds0 = ds_all['train']\n",
    "\n",
    "workdir = Path(\"/home/han/tmp/\") / dataset_name"
   ]
  },
  {
   "cell_type": "code",
   "execution_count": 5,
   "id": "09662e28",
   "metadata": {},
   "outputs": [],
   "source": [
    "channels = ['DE', 'FE', 'BA']  # will rule out the normal data\n",
    "# channels = ['DE']  # will rule out the normal data\n",
    "\n",
    "keys = ['FaultComponent', 'FaultSize']\n",
    "# keys = ['FaultSize']\n",
    "# keys = ['FaultComponent']\n",
    "# keys = []\n",
    "\n",
    "_extractor = lambda x, sr: feature.spectrogram(x, sr, time_window=0.025, hop_step=0.0125, \n",
    "                                              to_db=True, normalize=False)\n",
    "\n",
    "outdir = workdir / 'spectrogram'\n",
    "# extractor = lambda x, sr: feature.melspectrogram(x, sr, time_window=0.025, hop_step=0.0125, n_mels=128, normalize=True)\n",
    "# outdir = Path('/home/han/tmp/cwru/mel')\n",
    "\n",
    "window_shape = (64, 64)\n",
    "downsample = (64, 64)\n",
    "\n",
    "# window_shape = 64\n",
    "# downsample = 64"
   ]
  },
  {
   "cell_type": "code",
   "execution_count": 6,
   "id": "cb69f9a5",
   "metadata": {},
   "outputs": [],
   "source": [
    "compactor = transformer.DatasetCompactor(ds0, keys=keys, channels=channels)\n",
    "labels = list(compactor.full_label_dict.keys())\n",
    "N = utils.get_dataset_size(ds0)\n",
    "\n",
    "extractor = transformer.FeatureExtractor(compactor.dataset, _extractor)\n",
    "\n",
    "specaugment = transformer.SpecAugment(extractor.dataset)\n",
    " \n",
    "product = transformer.Product(specaugment.dataset, keys=['FileName'], positive=True)\n",
    "\n",
    "# slider = transformer.WindowSlider(extractor.dataset, window_shape=window_shape, downsample=downsample)\n",
    "# # fp = tempfile.mkdtemp()\n",
    "# # slider.serialize(str(workdir), compression='GZIP')\n",
    "# slider.dataset = tf.data.Dataset.load(str(workdir), compression='GZIP')\n",
    "\n",
    "# slider.dataset.cardinality()"
   ]
  },
  {
   "cell_type": "markdown",
   "id": "e0dadce3",
   "metadata": {},
   "source": [
    "## SimCLR"
   ]
  },
  {
   "cell_type": "code",
   "execution_count": 7,
   "id": "0f6ad1b9",
   "metadata": {},
   "outputs": [],
   "source": [
    "ds = product.dataset.map(lambda x,y,v:\n",
    "                            (tf.transpose(x['feature'],[1,2,0]), tf.transpose(y['feature'],[1,2,0]))\n",
    "                       )  # to channel-last\n",
    "\n",
    "batch_size = 16  # from 128 to 4096\n",
    "ds_size = 100\n",
    "\n",
    "ds_train = ds.shuffle(ds_size, reshuffle_each_iteration=True).cache().batch(batch_size).prefetch(tf.data.AUTOTUNE)\n",
    "\n",
    "ele = list(ds.take(1))[0]\n",
    "input_shape = ele[0].shape\n",
    "\n",
    "# print(ds_train.element_spec)\n",
    "\n",
    "# ele = list(ds_train.take(1))[0]\n",
    "# X = tf.reshape(ele[0], [16,-1])\n",
    "# Y = tf.reshape(ele[1], [16,-1])"
   ]
  },
  {
   "cell_type": "code",
   "execution_count": 61,
   "id": "3f5531e1",
   "metadata": {},
   "outputs": [],
   "source": [
    "optimizer = tfm.optimization.lars_optimizer.LARS(\n",
    "    learning_rate=0.2*batch_size/256,\n",
    "    weight_decay_rate=1.5e-6\n",
    ")\n",
    "\n",
    "model = simclr.SimCLR(input_shape, train_encoder=True)\n",
    "\n",
    "model.compile(optimizer=optimizer, run_eagerly=True)\n",
    "\n",
    "# callbacks = [byol.BYOL_Callback()]"
   ]
  },
  {
   "cell_type": "code",
   "execution_count": 62,
   "id": "ca5660a6",
   "metadata": {},
   "outputs": [
    {
     "name": "stdout",
     "output_type": "stream",
     "text": [
      "Epoch 1/10\n",
      "Eager execution mode: True\n",
      "      1/Unknown - 5s 5s/step - loss: -0.7405Eager execution mode: True\n",
      "      2/Unknown - 6s 886ms/step - loss: -0.8940Eager execution mode: True\n",
      "      3/Unknown - 7s 883ms/step - loss: -0.9306Eager execution mode: True\n",
      "      4/Unknown - 8s 892ms/step - loss: -0.7947Eager execution mode: True\n",
      "      5/Unknown - 9s 942ms/step - loss: -0.8098Eager execution mode: True\n",
      "      6/Unknown - 10s 964ms/step - loss: -0.8052Eager execution mode: True\n",
      "7/7 [==============================] - 14s 1s/step - loss: -3.3179\n",
      "Epoch 2/10\n",
      "Eager execution mode: True\n",
      "1/7 [===>..........................] - ETA: 5s - loss: -1.3267Eager execution mode: True\n",
      "2/7 [=======>......................] - ETA: 4s - loss: -1.3647Eager execution mode: True\n",
      "3/7 [===========>..................] - ETA: 4s - loss: -1.3253Eager execution mode: True\n",
      "4/7 [================>.............] - ETA: 3s - loss: -1.1206Eager execution mode: True\n",
      "5/7 [====================>.........] - ETA: 2s - loss: -1.1113Eager execution mode: True\n",
      "6/7 [========================>.....] - ETA: 0s - loss: -1.0924Eager execution mode: True\n",
      "7/7 [==============================] - 6s 919ms/step - loss: -3.6695\n",
      "Epoch 3/10\n",
      "Eager execution mode: True\n",
      "1/7 [===>..........................] - ETA: 6s - loss: -1.5145Eager execution mode: True\n",
      "2/7 [=======>......................] - ETA: 5s - loss: -1.5891Eager execution mode: True\n",
      "3/7 [===========>..................] - ETA: 4s - loss: -1.5736Eager execution mode: True\n",
      "4/7 [================>.............] - ETA: 3s - loss: -1.4050Eager execution mode: True\n",
      "5/7 [====================>.........] - ETA: 2s - loss: -1.4111Eager execution mode: True\n",
      "6/7 [========================>.....] - ETA: 1s - loss: -1.3976Eager execution mode: True\n",
      "7/7 [==============================] - 7s 943ms/step - loss: -3.9634\n",
      "Epoch 4/10\n",
      "Eager execution mode: True\n",
      "1/7 [===>..........................] - ETA: 5s - loss: -2.0549Eager execution mode: True\n",
      "2/7 [=======>......................] - ETA: 5s - loss: -2.0514Eager execution mode: True\n",
      "3/7 [===========>..................] - ETA: 3s - loss: -2.0484Eager execution mode: True\n",
      "4/7 [================>.............] - ETA: 2s - loss: -1.8998Eager execution mode: True\n"
     ]
    },
    {
     "ename": "KeyboardInterrupt",
     "evalue": "",
     "output_type": "error",
     "traceback": [
      "\u001b[0;31m---------------------------------------------------------------------------\u001b[0m",
      "\u001b[0;31mKeyboardInterrupt\u001b[0m                         Traceback (most recent call last)",
      "Cell \u001b[0;32mIn [62], line 1\u001b[0m\n\u001b[0;32m----> 1\u001b[0m \u001b[43mmodel\u001b[49m\u001b[38;5;241;43m.\u001b[39;49m\u001b[43mfit\u001b[49m\u001b[43m(\u001b[49m\u001b[43mds_train\u001b[49m\u001b[43m,\u001b[49m\u001b[43m \u001b[49m\u001b[43mepochs\u001b[49m\u001b[38;5;241;43m=\u001b[39;49m\u001b[38;5;241;43m10\u001b[39;49m\u001b[43m)\u001b[49m\n",
      "File \u001b[0;32m~/.conda/envs/hiasci/lib/python3.8/site-packages/keras/utils/traceback_utils.py:65\u001b[0m, in \u001b[0;36mfilter_traceback.<locals>.error_handler\u001b[0;34m(*args, **kwargs)\u001b[0m\n\u001b[1;32m     63\u001b[0m filtered_tb \u001b[38;5;241m=\u001b[39m \u001b[38;5;28;01mNone\u001b[39;00m\n\u001b[1;32m     64\u001b[0m \u001b[38;5;28;01mtry\u001b[39;00m:\n\u001b[0;32m---> 65\u001b[0m     \u001b[38;5;28;01mreturn\u001b[39;00m \u001b[43mfn\u001b[49m\u001b[43m(\u001b[49m\u001b[38;5;241;43m*\u001b[39;49m\u001b[43margs\u001b[49m\u001b[43m,\u001b[49m\u001b[43m \u001b[49m\u001b[38;5;241;43m*\u001b[39;49m\u001b[38;5;241;43m*\u001b[39;49m\u001b[43mkwargs\u001b[49m\u001b[43m)\u001b[49m\n\u001b[1;32m     66\u001b[0m \u001b[38;5;28;01mexcept\u001b[39;00m \u001b[38;5;167;01mException\u001b[39;00m \u001b[38;5;28;01mas\u001b[39;00m e:\n\u001b[1;32m     67\u001b[0m     filtered_tb \u001b[38;5;241m=\u001b[39m _process_traceback_frames(e\u001b[38;5;241m.\u001b[39m__traceback__)\n",
      "File \u001b[0;32m~/.conda/envs/hiasci/lib/python3.8/site-packages/keras/engine/training.py:1564\u001b[0m, in \u001b[0;36mModel.fit\u001b[0;34m(self, x, y, batch_size, epochs, verbose, callbacks, validation_split, validation_data, shuffle, class_weight, sample_weight, initial_epoch, steps_per_epoch, validation_steps, validation_batch_size, validation_freq, max_queue_size, workers, use_multiprocessing)\u001b[0m\n\u001b[1;32m   1556\u001b[0m \u001b[38;5;28;01mwith\u001b[39;00m tf\u001b[38;5;241m.\u001b[39mprofiler\u001b[38;5;241m.\u001b[39mexperimental\u001b[38;5;241m.\u001b[39mTrace(\n\u001b[1;32m   1557\u001b[0m     \u001b[38;5;124m\"\u001b[39m\u001b[38;5;124mtrain\u001b[39m\u001b[38;5;124m\"\u001b[39m,\n\u001b[1;32m   1558\u001b[0m     epoch_num\u001b[38;5;241m=\u001b[39mepoch,\n\u001b[0;32m   (...)\u001b[0m\n\u001b[1;32m   1561\u001b[0m     _r\u001b[38;5;241m=\u001b[39m\u001b[38;5;241m1\u001b[39m,\n\u001b[1;32m   1562\u001b[0m ):\n\u001b[1;32m   1563\u001b[0m     callbacks\u001b[38;5;241m.\u001b[39mon_train_batch_begin(step)\n\u001b[0;32m-> 1564\u001b[0m     tmp_logs \u001b[38;5;241m=\u001b[39m \u001b[38;5;28;43mself\u001b[39;49m\u001b[38;5;241;43m.\u001b[39;49m\u001b[43mtrain_function\u001b[49m\u001b[43m(\u001b[49m\u001b[43miterator\u001b[49m\u001b[43m)\u001b[49m\n\u001b[1;32m   1565\u001b[0m     \u001b[38;5;28;01mif\u001b[39;00m data_handler\u001b[38;5;241m.\u001b[39mshould_sync:\n\u001b[1;32m   1566\u001b[0m         context\u001b[38;5;241m.\u001b[39masync_wait()\n",
      "File \u001b[0;32m~/.conda/envs/hiasci/lib/python3.8/site-packages/keras/engine/training.py:1160\u001b[0m, in \u001b[0;36mModel.make_train_function.<locals>.train_function\u001b[0;34m(iterator)\u001b[0m\n\u001b[1;32m   1158\u001b[0m \u001b[38;5;28;01mdef\u001b[39;00m \u001b[38;5;21mtrain_function\u001b[39m(iterator):\n\u001b[1;32m   1159\u001b[0m     \u001b[38;5;124;03m\"\"\"Runs a training execution with a single step.\"\"\"\u001b[39;00m\n\u001b[0;32m-> 1160\u001b[0m     \u001b[38;5;28;01mreturn\u001b[39;00m \u001b[43mstep_function\u001b[49m\u001b[43m(\u001b[49m\u001b[38;5;28;43mself\u001b[39;49m\u001b[43m,\u001b[49m\u001b[43m \u001b[49m\u001b[43miterator\u001b[49m\u001b[43m)\u001b[49m\n",
      "File \u001b[0;32m~/.conda/envs/hiasci/lib/python3.8/site-packages/keras/engine/training.py:1146\u001b[0m, in \u001b[0;36mModel.make_train_function.<locals>.step_function\u001b[0;34m(model, iterator)\u001b[0m\n\u001b[1;32m   1142\u001b[0m     run_step \u001b[38;5;241m=\u001b[39m tf\u001b[38;5;241m.\u001b[39mfunction(\n\u001b[1;32m   1143\u001b[0m         run_step, jit_compile\u001b[38;5;241m=\u001b[39m\u001b[38;5;28;01mTrue\u001b[39;00m, reduce_retracing\u001b[38;5;241m=\u001b[39m\u001b[38;5;28;01mTrue\u001b[39;00m\n\u001b[1;32m   1144\u001b[0m     )\n\u001b[1;32m   1145\u001b[0m data \u001b[38;5;241m=\u001b[39m \u001b[38;5;28mnext\u001b[39m(iterator)\n\u001b[0;32m-> 1146\u001b[0m outputs \u001b[38;5;241m=\u001b[39m \u001b[43mmodel\u001b[49m\u001b[38;5;241;43m.\u001b[39;49m\u001b[43mdistribute_strategy\u001b[49m\u001b[38;5;241;43m.\u001b[39;49m\u001b[43mrun\u001b[49m\u001b[43m(\u001b[49m\u001b[43mrun_step\u001b[49m\u001b[43m,\u001b[49m\u001b[43m \u001b[49m\u001b[43margs\u001b[49m\u001b[38;5;241;43m=\u001b[39;49m\u001b[43m(\u001b[49m\u001b[43mdata\u001b[49m\u001b[43m,\u001b[49m\u001b[43m)\u001b[49m\u001b[43m)\u001b[49m\n\u001b[1;32m   1147\u001b[0m outputs \u001b[38;5;241m=\u001b[39m reduce_per_replica(\n\u001b[1;32m   1148\u001b[0m     outputs, \u001b[38;5;28mself\u001b[39m\u001b[38;5;241m.\u001b[39mdistribute_strategy, reduction\u001b[38;5;241m=\u001b[39m\u001b[38;5;124m\"\u001b[39m\u001b[38;5;124mfirst\u001b[39m\u001b[38;5;124m\"\u001b[39m\n\u001b[1;32m   1149\u001b[0m )\n\u001b[1;32m   1150\u001b[0m \u001b[38;5;28;01mreturn\u001b[39;00m outputs\n",
      "File \u001b[0;32m~/.conda/envs/hiasci/lib/python3.8/site-packages/tensorflow/python/distribute/distribute_lib.py:1315\u001b[0m, in \u001b[0;36mStrategyBase.run\u001b[0;34m(***failed resolving arguments***)\u001b[0m\n\u001b[1;32m   1310\u001b[0m \u001b[38;5;28;01mwith\u001b[39;00m \u001b[38;5;28mself\u001b[39m\u001b[38;5;241m.\u001b[39mscope():\n\u001b[1;32m   1311\u001b[0m   \u001b[38;5;66;03m# tf.distribute supports Eager functions, so AutoGraph should not be\u001b[39;00m\n\u001b[1;32m   1312\u001b[0m   \u001b[38;5;66;03m# applied when the caller is also in Eager mode.\u001b[39;00m\n\u001b[1;32m   1313\u001b[0m   fn \u001b[38;5;241m=\u001b[39m autograph\u001b[38;5;241m.\u001b[39mtf_convert(\n\u001b[1;32m   1314\u001b[0m       fn, autograph_ctx\u001b[38;5;241m.\u001b[39mcontrol_status_ctx(), convert_by_default\u001b[38;5;241m=\u001b[39m\u001b[38;5;28;01mFalse\u001b[39;00m)\n\u001b[0;32m-> 1315\u001b[0m   \u001b[38;5;28;01mreturn\u001b[39;00m \u001b[38;5;28;43mself\u001b[39;49m\u001b[38;5;241;43m.\u001b[39;49m\u001b[43m_extended\u001b[49m\u001b[38;5;241;43m.\u001b[39;49m\u001b[43mcall_for_each_replica\u001b[49m\u001b[43m(\u001b[49m\u001b[43mfn\u001b[49m\u001b[43m,\u001b[49m\u001b[43m \u001b[49m\u001b[43margs\u001b[49m\u001b[38;5;241;43m=\u001b[39;49m\u001b[43margs\u001b[49m\u001b[43m,\u001b[49m\u001b[43m \u001b[49m\u001b[43mkwargs\u001b[49m\u001b[38;5;241;43m=\u001b[39;49m\u001b[43mkwargs\u001b[49m\u001b[43m)\u001b[49m\n",
      "File \u001b[0;32m~/.conda/envs/hiasci/lib/python3.8/site-packages/tensorflow/python/distribute/distribute_lib.py:2891\u001b[0m, in \u001b[0;36mStrategyExtendedV1.call_for_each_replica\u001b[0;34m(self, fn, args, kwargs)\u001b[0m\n\u001b[1;32m   2889\u001b[0m   kwargs \u001b[38;5;241m=\u001b[39m {}\n\u001b[1;32m   2890\u001b[0m \u001b[38;5;28;01mwith\u001b[39;00m \u001b[38;5;28mself\u001b[39m\u001b[38;5;241m.\u001b[39m_container_strategy()\u001b[38;5;241m.\u001b[39mscope():\n\u001b[0;32m-> 2891\u001b[0m   \u001b[38;5;28;01mreturn\u001b[39;00m \u001b[38;5;28;43mself\u001b[39;49m\u001b[38;5;241;43m.\u001b[39;49m\u001b[43m_call_for_each_replica\u001b[49m\u001b[43m(\u001b[49m\u001b[43mfn\u001b[49m\u001b[43m,\u001b[49m\u001b[43m \u001b[49m\u001b[43margs\u001b[49m\u001b[43m,\u001b[49m\u001b[43m \u001b[49m\u001b[43mkwargs\u001b[49m\u001b[43m)\u001b[49m\n",
      "File \u001b[0;32m~/.conda/envs/hiasci/lib/python3.8/site-packages/tensorflow/python/distribute/distribute_lib.py:3692\u001b[0m, in \u001b[0;36m_DefaultDistributionExtended._call_for_each_replica\u001b[0;34m(self, fn, args, kwargs)\u001b[0m\n\u001b[1;32m   3690\u001b[0m \u001b[38;5;28;01mdef\u001b[39;00m \u001b[38;5;21m_call_for_each_replica\u001b[39m(\u001b[38;5;28mself\u001b[39m, fn, args, kwargs):\n\u001b[1;32m   3691\u001b[0m   \u001b[38;5;28;01mwith\u001b[39;00m ReplicaContext(\u001b[38;5;28mself\u001b[39m\u001b[38;5;241m.\u001b[39m_container_strategy(), replica_id_in_sync_group\u001b[38;5;241m=\u001b[39m\u001b[38;5;241m0\u001b[39m):\n\u001b[0;32m-> 3692\u001b[0m     \u001b[38;5;28;01mreturn\u001b[39;00m \u001b[43mfn\u001b[49m\u001b[43m(\u001b[49m\u001b[38;5;241;43m*\u001b[39;49m\u001b[43margs\u001b[49m\u001b[43m,\u001b[49m\u001b[43m \u001b[49m\u001b[38;5;241;43m*\u001b[39;49m\u001b[38;5;241;43m*\u001b[39;49m\u001b[43mkwargs\u001b[49m\u001b[43m)\u001b[49m\n",
      "File \u001b[0;32m~/.conda/envs/hiasci/lib/python3.8/site-packages/tensorflow/python/autograph/impl/api.py:595\u001b[0m, in \u001b[0;36mcall_with_unspecified_conversion_status.<locals>.wrapper\u001b[0;34m(*args, **kwargs)\u001b[0m\n\u001b[1;32m    593\u001b[0m \u001b[38;5;28;01mdef\u001b[39;00m \u001b[38;5;21mwrapper\u001b[39m(\u001b[38;5;241m*\u001b[39margs, \u001b[38;5;241m*\u001b[39m\u001b[38;5;241m*\u001b[39mkwargs):\n\u001b[1;32m    594\u001b[0m   \u001b[38;5;28;01mwith\u001b[39;00m ag_ctx\u001b[38;5;241m.\u001b[39mControlStatusCtx(status\u001b[38;5;241m=\u001b[39mag_ctx\u001b[38;5;241m.\u001b[39mStatus\u001b[38;5;241m.\u001b[39mUNSPECIFIED):\n\u001b[0;32m--> 595\u001b[0m     \u001b[38;5;28;01mreturn\u001b[39;00m \u001b[43mfunc\u001b[49m\u001b[43m(\u001b[49m\u001b[38;5;241;43m*\u001b[39;49m\u001b[43margs\u001b[49m\u001b[43m,\u001b[49m\u001b[43m \u001b[49m\u001b[38;5;241;43m*\u001b[39;49m\u001b[38;5;241;43m*\u001b[39;49m\u001b[43mkwargs\u001b[49m\u001b[43m)\u001b[49m\n",
      "File \u001b[0;32m~/.conda/envs/hiasci/lib/python3.8/site-packages/keras/engine/training.py:1135\u001b[0m, in \u001b[0;36mModel.make_train_function.<locals>.step_function.<locals>.run_step\u001b[0;34m(data)\u001b[0m\n\u001b[1;32m   1134\u001b[0m \u001b[38;5;28;01mdef\u001b[39;00m \u001b[38;5;21mrun_step\u001b[39m(data):\n\u001b[0;32m-> 1135\u001b[0m     outputs \u001b[38;5;241m=\u001b[39m \u001b[43mmodel\u001b[49m\u001b[38;5;241;43m.\u001b[39;49m\u001b[43mtrain_step\u001b[49m\u001b[43m(\u001b[49m\u001b[43mdata\u001b[49m\u001b[43m)\u001b[49m\n\u001b[1;32m   1136\u001b[0m     \u001b[38;5;66;03m# Ensure counter is updated only if `train_step` succeeds.\u001b[39;00m\n\u001b[1;32m   1137\u001b[0m     \u001b[38;5;28;01mwith\u001b[39;00m tf\u001b[38;5;241m.\u001b[39mcontrol_dependencies(_minimum_control_deps(outputs)):\n",
      "File \u001b[0;32m~/Projects/HIASCI/Codes/Developments/dpmhm/dpmhm/models/simclr.py:121\u001b[0m, in \u001b[0;36mSimCLR.train_step\u001b[0;34m(self, inputs)\u001b[0m\n\u001b[1;32m    119\u001b[0m gradients \u001b[38;5;241m=\u001b[39m tape\u001b[38;5;241m.\u001b[39mgradient(loss, \u001b[38;5;28mself\u001b[39m\u001b[38;5;241m.\u001b[39mtrainable_variables)\n\u001b[1;32m    120\u001b[0m \u001b[38;5;66;03m# Update weights\u001b[39;00m\n\u001b[0;32m--> 121\u001b[0m \u001b[38;5;28;43mself\u001b[39;49m\u001b[38;5;241;43m.\u001b[39;49m\u001b[43moptimizer\u001b[49m\u001b[38;5;241;43m.\u001b[39;49m\u001b[43mapply_gradients\u001b[49m\u001b[43m(\u001b[49m\u001b[38;5;28;43mzip\u001b[39;49m\u001b[43m(\u001b[49m\u001b[43mgradients\u001b[49m\u001b[43m,\u001b[49m\u001b[43m \u001b[49m\u001b[38;5;28;43mself\u001b[39;49m\u001b[38;5;241;43m.\u001b[39;49m\u001b[43mtrainable_variables\u001b[49m\u001b[43m)\u001b[49m\u001b[43m)\u001b[49m\n\u001b[1;32m    123\u001b[0m \u001b[38;5;66;03m# # Update metrics (includes the metric that tracks the loss)\u001b[39;00m\n\u001b[1;32m    124\u001b[0m \u001b[38;5;66;03m# self.compiled_metrics.update_state(y, y_pred)\u001b[39;00m\n\u001b[1;32m    125\u001b[0m \u001b[38;5;66;03m# # Return a dict mapping metric names to current value\u001b[39;00m\n\u001b[1;32m    126\u001b[0m \u001b[38;5;66;03m# return {m.name: m.result() for m in self.metrics}\u001b[39;00m\n\u001b[1;32m    127\u001b[0m \n\u001b[1;32m    128\u001b[0m \u001b[38;5;66;03m# Compute our own metrics\u001b[39;00m\n\u001b[1;32m    129\u001b[0m \u001b[38;5;28mself\u001b[39m\u001b[38;5;241m.\u001b[39mloss_tracker\u001b[38;5;241m.\u001b[39mupdate_state(loss)\n",
      "File \u001b[0;32m~/.conda/envs/hiasci/lib/python3.8/site-packages/keras/optimizers/optimizer_v2/optimizer_v2.py:738\u001b[0m, in \u001b[0;36mOptimizerV2.apply_gradients\u001b[0;34m(self, grads_and_vars, name, experimental_aggregate_gradients)\u001b[0m\n\u001b[1;32m    735\u001b[0m     grads_and_vars \u001b[38;5;241m=\u001b[39m \u001b[38;5;28mself\u001b[39m\u001b[38;5;241m.\u001b[39m_aggregate_gradients(grads_and_vars)\n\u001b[1;32m    736\u001b[0m grads_and_vars \u001b[38;5;241m=\u001b[39m \u001b[38;5;28mself\u001b[39m\u001b[38;5;241m.\u001b[39m_transform_gradients(grads_and_vars)\n\u001b[0;32m--> 738\u001b[0m \u001b[38;5;28;01mreturn\u001b[39;00m \u001b[43mtf\u001b[49m\u001b[38;5;241;43m.\u001b[39;49m\u001b[43m__internal__\u001b[49m\u001b[38;5;241;43m.\u001b[39;49m\u001b[43mdistribute\u001b[49m\u001b[38;5;241;43m.\u001b[39;49m\u001b[43minterim\u001b[49m\u001b[38;5;241;43m.\u001b[39;49m\u001b[43mmaybe_merge_call\u001b[49m\u001b[43m(\u001b[49m\n\u001b[1;32m    739\u001b[0m \u001b[43m    \u001b[49m\u001b[43mfunctools\u001b[49m\u001b[38;5;241;43m.\u001b[39;49m\u001b[43mpartial\u001b[49m\u001b[43m(\u001b[49m\n\u001b[1;32m    740\u001b[0m \u001b[43m        \u001b[49m\u001b[38;5;28;43mself\u001b[39;49m\u001b[38;5;241;43m.\u001b[39;49m\u001b[43m_distributed_apply\u001b[49m\u001b[43m,\u001b[49m\u001b[43m \u001b[49m\u001b[43mapply_state\u001b[49m\u001b[38;5;241;43m=\u001b[39;49m\u001b[43mapply_state\u001b[49m\n\u001b[1;32m    741\u001b[0m \u001b[43m    \u001b[49m\u001b[43m)\u001b[49m\u001b[43m,\u001b[49m\n\u001b[1;32m    742\u001b[0m \u001b[43m    \u001b[49m\u001b[43mstrategy\u001b[49m\u001b[43m,\u001b[49m\n\u001b[1;32m    743\u001b[0m \u001b[43m    \u001b[49m\u001b[43mgrads_and_vars\u001b[49m\u001b[43m,\u001b[49m\n\u001b[1;32m    744\u001b[0m \u001b[43m    \u001b[49m\u001b[43mname\u001b[49m\u001b[38;5;241;43m=\u001b[39;49m\u001b[43mname\u001b[49m\u001b[43m,\u001b[49m\n\u001b[1;32m    745\u001b[0m \u001b[43m\u001b[49m\u001b[43m)\u001b[49m\n",
      "File \u001b[0;32m~/.conda/envs/hiasci/lib/python3.8/site-packages/tensorflow/python/distribute/merge_call_interim.py:51\u001b[0m, in \u001b[0;36mmaybe_merge_call\u001b[0;34m(fn, strategy, *args, **kwargs)\u001b[0m\n\u001b[1;32m     31\u001b[0m \u001b[38;5;124;03m\"\"\"Maybe invoke `fn` via `merge_call` which may or may not be fulfilled.\u001b[39;00m\n\u001b[1;32m     32\u001b[0m \n\u001b[1;32m     33\u001b[0m \u001b[38;5;124;03mThe caller of this utility function requests to invoke `fn` via `merge_call`\u001b[39;00m\n\u001b[0;32m   (...)\u001b[0m\n\u001b[1;32m     48\u001b[0m \u001b[38;5;124;03m  The return value of the `fn` call.\u001b[39;00m\n\u001b[1;32m     49\u001b[0m \u001b[38;5;124;03m\"\"\"\u001b[39;00m\n\u001b[1;32m     50\u001b[0m \u001b[38;5;28;01mif\u001b[39;00m strategy_supports_no_merge_call():\n\u001b[0;32m---> 51\u001b[0m   \u001b[38;5;28;01mreturn\u001b[39;00m \u001b[43mfn\u001b[49m\u001b[43m(\u001b[49m\u001b[43mstrategy\u001b[49m\u001b[43m,\u001b[49m\u001b[43m \u001b[49m\u001b[38;5;241;43m*\u001b[39;49m\u001b[43margs\u001b[49m\u001b[43m,\u001b[49m\u001b[43m \u001b[49m\u001b[38;5;241;43m*\u001b[39;49m\u001b[38;5;241;43m*\u001b[39;49m\u001b[43mkwargs\u001b[49m\u001b[43m)\u001b[49m\n\u001b[1;32m     52\u001b[0m \u001b[38;5;28;01melse\u001b[39;00m:\n\u001b[1;32m     53\u001b[0m   \u001b[38;5;28;01mreturn\u001b[39;00m distribution_strategy_context\u001b[38;5;241m.\u001b[39mget_replica_context()\u001b[38;5;241m.\u001b[39mmerge_call(\n\u001b[1;32m     54\u001b[0m       fn, args\u001b[38;5;241m=\u001b[39margs, kwargs\u001b[38;5;241m=\u001b[39mkwargs)\n",
      "File \u001b[0;32m~/.conda/envs/hiasci/lib/python3.8/site-packages/keras/optimizers/optimizer_v2/optimizer_v2.py:797\u001b[0m, in \u001b[0;36mOptimizerV2._distributed_apply\u001b[0;34m(self, distribution, grads_and_vars, apply_state, name)\u001b[0m\n\u001b[1;32m    791\u001b[0m \u001b[38;5;28;01mwith\u001b[39;00m distribution\u001b[38;5;241m.\u001b[39mextended\u001b[38;5;241m.\u001b[39mcolocate_vars_with(var):\n\u001b[1;32m    792\u001b[0m     \u001b[38;5;28;01mwith\u001b[39;00m name_scope_only_in_function_or_graph(\n\u001b[1;32m    793\u001b[0m         \u001b[38;5;124m\"\u001b[39m\u001b[38;5;124mupdate\u001b[39m\u001b[38;5;124m\"\u001b[39m\n\u001b[1;32m    794\u001b[0m         \u001b[38;5;28;01mif\u001b[39;00m eagerly_outside_functions\n\u001b[1;32m    795\u001b[0m         \u001b[38;5;28;01melse\u001b[39;00m \u001b[38;5;124m\"\u001b[39m\u001b[38;5;124mupdate_\u001b[39m\u001b[38;5;124m\"\u001b[39m \u001b[38;5;241m+\u001b[39m var\u001b[38;5;241m.\u001b[39mop\u001b[38;5;241m.\u001b[39mname\n\u001b[1;32m    796\u001b[0m     ):\n\u001b[0;32m--> 797\u001b[0m         update_op \u001b[38;5;241m=\u001b[39m \u001b[43mdistribution\u001b[49m\u001b[38;5;241;43m.\u001b[39;49m\u001b[43mextended\u001b[49m\u001b[38;5;241;43m.\u001b[39;49m\u001b[43mupdate\u001b[49m\u001b[43m(\u001b[49m\n\u001b[1;32m    798\u001b[0m \u001b[43m            \u001b[49m\u001b[43mvar\u001b[49m\u001b[43m,\u001b[49m\n\u001b[1;32m    799\u001b[0m \u001b[43m            \u001b[49m\u001b[43mapply_grad_to_update_var\u001b[49m\u001b[43m,\u001b[49m\n\u001b[1;32m    800\u001b[0m \u001b[43m            \u001b[49m\u001b[43margs\u001b[49m\u001b[38;5;241;43m=\u001b[39;49m\u001b[43m(\u001b[49m\u001b[43mgrad\u001b[49m\u001b[43m,\u001b[49m\u001b[43m)\u001b[49m\u001b[43m,\u001b[49m\n\u001b[1;32m    801\u001b[0m \u001b[43m            \u001b[49m\u001b[43mgroup\u001b[49m\u001b[38;5;241;43m=\u001b[39;49m\u001b[38;5;28;43;01mFalse\u001b[39;49;00m\u001b[43m,\u001b[49m\n\u001b[1;32m    802\u001b[0m \u001b[43m        \u001b[49m\u001b[43m)\u001b[49m\n\u001b[1;32m    803\u001b[0m         \u001b[38;5;28;01mif\u001b[39;00m tf\u001b[38;5;241m.\u001b[39mdistribute\u001b[38;5;241m.\u001b[39min_cross_replica_context():\n\u001b[1;32m    804\u001b[0m             \u001b[38;5;66;03m# In cross-replica context, extended.update returns\u001b[39;00m\n\u001b[1;32m    805\u001b[0m             \u001b[38;5;66;03m# a list of update ops from all replicas\u001b[39;00m\n\u001b[1;32m    806\u001b[0m             \u001b[38;5;66;03m# (group=False).\u001b[39;00m\n\u001b[1;32m    807\u001b[0m             update_ops\u001b[38;5;241m.\u001b[39mextend(update_op)\n",
      "File \u001b[0;32m~/.conda/envs/hiasci/lib/python3.8/site-packages/tensorflow/python/distribute/distribute_lib.py:2635\u001b[0m, in \u001b[0;36mStrategyExtendedV2.update\u001b[0;34m(self, var, fn, args, kwargs, group)\u001b[0m\n\u001b[1;32m   2633\u001b[0m     \u001b[38;5;28;01mreturn\u001b[39;00m \u001b[38;5;28mself\u001b[39m\u001b[38;5;241m.\u001b[39m_update(var, fn, args, kwargs, group)\n\u001b[1;32m   2634\u001b[0m \u001b[38;5;28;01melse\u001b[39;00m:\n\u001b[0;32m-> 2635\u001b[0m   \u001b[38;5;28;01mreturn\u001b[39;00m \u001b[38;5;28;43mself\u001b[39;49m\u001b[38;5;241;43m.\u001b[39;49m\u001b[43m_replica_ctx_update\u001b[49m\u001b[43m(\u001b[49m\n\u001b[1;32m   2636\u001b[0m \u001b[43m      \u001b[49m\u001b[43mvar\u001b[49m\u001b[43m,\u001b[49m\u001b[43m \u001b[49m\u001b[43mfn\u001b[49m\u001b[43m,\u001b[49m\u001b[43m \u001b[49m\u001b[43margs\u001b[49m\u001b[38;5;241;43m=\u001b[39;49m\u001b[43margs\u001b[49m\u001b[43m,\u001b[49m\u001b[43m \u001b[49m\u001b[43mkwargs\u001b[49m\u001b[38;5;241;43m=\u001b[39;49m\u001b[43mkwargs\u001b[49m\u001b[43m,\u001b[49m\u001b[43m \u001b[49m\u001b[43mgroup\u001b[49m\u001b[38;5;241;43m=\u001b[39;49m\u001b[43mgroup\u001b[49m\u001b[43m)\u001b[49m\n",
      "File \u001b[0;32m~/.conda/envs/hiasci/lib/python3.8/site-packages/tensorflow/python/distribute/distribute_lib.py:2514\u001b[0m, in \u001b[0;36mStrategyExtendedV2._replica_ctx_update\u001b[0;34m(self, var, fn, args, kwargs, group)\u001b[0m\n\u001b[1;32m   2511\u001b[0m \u001b[38;5;28;01mdef\u001b[39;00m \u001b[38;5;21mmerge_fn\u001b[39m(_, \u001b[38;5;241m*\u001b[39mmerged_args, \u001b[38;5;241m*\u001b[39m\u001b[38;5;241m*\u001b[39mmerged_kwargs):\n\u001b[1;32m   2512\u001b[0m   \u001b[38;5;28;01mreturn\u001b[39;00m \u001b[38;5;28mself\u001b[39m\u001b[38;5;241m.\u001b[39mupdate(var, fn, merged_args, merged_kwargs, group\u001b[38;5;241m=\u001b[39mgroup)\n\u001b[0;32m-> 2514\u001b[0m \u001b[38;5;28;01mreturn\u001b[39;00m \u001b[43mreplica_context\u001b[49m\u001b[38;5;241;43m.\u001b[39;49m\u001b[43mmerge_call\u001b[49m\u001b[43m(\u001b[49m\u001b[43mmerge_fn\u001b[49m\u001b[43m,\u001b[49m\u001b[43m \u001b[49m\u001b[43margs\u001b[49m\u001b[38;5;241;43m=\u001b[39;49m\u001b[43margs\u001b[49m\u001b[43m,\u001b[49m\u001b[43m \u001b[49m\u001b[43mkwargs\u001b[49m\u001b[38;5;241;43m=\u001b[39;49m\u001b[43mkwargs\u001b[49m\u001b[43m)\u001b[49m\n",
      "File \u001b[0;32m~/.conda/envs/hiasci/lib/python3.8/site-packages/tensorflow/python/distribute/distribute_lib.py:3106\u001b[0m, in \u001b[0;36mReplicaContextBase.merge_call\u001b[0;34m(self, merge_fn, args, kwargs)\u001b[0m\n\u001b[1;32m   3102\u001b[0m   kwargs \u001b[38;5;241m=\u001b[39m {}\n\u001b[1;32m   3104\u001b[0m merge_fn \u001b[38;5;241m=\u001b[39m autograph\u001b[38;5;241m.\u001b[39mtf_convert(\n\u001b[1;32m   3105\u001b[0m     merge_fn, autograph_ctx\u001b[38;5;241m.\u001b[39mcontrol_status_ctx(), convert_by_default\u001b[38;5;241m=\u001b[39m\u001b[38;5;28;01mFalse\u001b[39;00m)\n\u001b[0;32m-> 3106\u001b[0m \u001b[38;5;28;01mreturn\u001b[39;00m \u001b[38;5;28;43mself\u001b[39;49m\u001b[38;5;241;43m.\u001b[39;49m\u001b[43m_merge_call\u001b[49m\u001b[43m(\u001b[49m\u001b[43mmerge_fn\u001b[49m\u001b[43m,\u001b[49m\u001b[43m \u001b[49m\u001b[43margs\u001b[49m\u001b[43m,\u001b[49m\u001b[43m \u001b[49m\u001b[43mkwargs\u001b[49m\u001b[43m)\u001b[49m\n",
      "File \u001b[0;32m~/.conda/envs/hiasci/lib/python3.8/site-packages/tensorflow/python/distribute/distribute_lib.py:3113\u001b[0m, in \u001b[0;36mReplicaContextBase._merge_call\u001b[0;34m(self, merge_fn, args, kwargs)\u001b[0m\n\u001b[1;32m   3110\u001b[0m _push_per_thread_mode(  \u001b[38;5;66;03m# thread-local, so not needed with multiple threads\u001b[39;00m\n\u001b[1;32m   3111\u001b[0m     distribution_strategy_context\u001b[38;5;241m.\u001b[39m_CrossReplicaThreadMode(\u001b[38;5;28mself\u001b[39m\u001b[38;5;241m.\u001b[39m_strategy))  \u001b[38;5;66;03m# pylint: disable=protected-access\u001b[39;00m\n\u001b[1;32m   3112\u001b[0m \u001b[38;5;28;01mtry\u001b[39;00m:\n\u001b[0;32m-> 3113\u001b[0m   \u001b[38;5;28;01mreturn\u001b[39;00m \u001b[43mmerge_fn\u001b[49m\u001b[43m(\u001b[49m\u001b[38;5;28;43mself\u001b[39;49m\u001b[38;5;241;43m.\u001b[39;49m\u001b[43m_strategy\u001b[49m\u001b[43m,\u001b[49m\u001b[43m \u001b[49m\u001b[38;5;241;43m*\u001b[39;49m\u001b[43margs\u001b[49m\u001b[43m,\u001b[49m\u001b[43m \u001b[49m\u001b[38;5;241;43m*\u001b[39;49m\u001b[38;5;241;43m*\u001b[39;49m\u001b[43mkwargs\u001b[49m\u001b[43m)\u001b[49m\n\u001b[1;32m   3114\u001b[0m \u001b[38;5;28;01mfinally\u001b[39;00m:\n\u001b[1;32m   3115\u001b[0m   _pop_per_thread_mode()\n",
      "File \u001b[0;32m~/.conda/envs/hiasci/lib/python3.8/site-packages/tensorflow/python/autograph/impl/api.py:595\u001b[0m, in \u001b[0;36mcall_with_unspecified_conversion_status.<locals>.wrapper\u001b[0;34m(*args, **kwargs)\u001b[0m\n\u001b[1;32m    593\u001b[0m \u001b[38;5;28;01mdef\u001b[39;00m \u001b[38;5;21mwrapper\u001b[39m(\u001b[38;5;241m*\u001b[39margs, \u001b[38;5;241m*\u001b[39m\u001b[38;5;241m*\u001b[39mkwargs):\n\u001b[1;32m    594\u001b[0m   \u001b[38;5;28;01mwith\u001b[39;00m ag_ctx\u001b[38;5;241m.\u001b[39mControlStatusCtx(status\u001b[38;5;241m=\u001b[39mag_ctx\u001b[38;5;241m.\u001b[39mStatus\u001b[38;5;241m.\u001b[39mUNSPECIFIED):\n\u001b[0;32m--> 595\u001b[0m     \u001b[38;5;28;01mreturn\u001b[39;00m \u001b[43mfunc\u001b[49m\u001b[43m(\u001b[49m\u001b[38;5;241;43m*\u001b[39;49m\u001b[43margs\u001b[49m\u001b[43m,\u001b[49m\u001b[43m \u001b[49m\u001b[38;5;241;43m*\u001b[39;49m\u001b[38;5;241;43m*\u001b[39;49m\u001b[43mkwargs\u001b[49m\u001b[43m)\u001b[49m\n",
      "File \u001b[0;32m~/.conda/envs/hiasci/lib/python3.8/site-packages/tensorflow/python/distribute/distribute_lib.py:2512\u001b[0m, in \u001b[0;36mStrategyExtendedV2._replica_ctx_update.<locals>.merge_fn\u001b[0;34m(_, *merged_args, **merged_kwargs)\u001b[0m\n\u001b[1;32m   2511\u001b[0m \u001b[38;5;28;01mdef\u001b[39;00m \u001b[38;5;21mmerge_fn\u001b[39m(_, \u001b[38;5;241m*\u001b[39mmerged_args, \u001b[38;5;241m*\u001b[39m\u001b[38;5;241m*\u001b[39mmerged_kwargs):\n\u001b[0;32m-> 2512\u001b[0m   \u001b[38;5;28;01mreturn\u001b[39;00m \u001b[38;5;28;43mself\u001b[39;49m\u001b[38;5;241;43m.\u001b[39;49m\u001b[43mupdate\u001b[49m\u001b[43m(\u001b[49m\u001b[43mvar\u001b[49m\u001b[43m,\u001b[49m\u001b[43m \u001b[49m\u001b[43mfn\u001b[49m\u001b[43m,\u001b[49m\u001b[43m \u001b[49m\u001b[43mmerged_args\u001b[49m\u001b[43m,\u001b[49m\u001b[43m \u001b[49m\u001b[43mmerged_kwargs\u001b[49m\u001b[43m,\u001b[49m\u001b[43m \u001b[49m\u001b[43mgroup\u001b[49m\u001b[38;5;241;43m=\u001b[39;49m\u001b[43mgroup\u001b[49m\u001b[43m)\u001b[49m\n",
      "File \u001b[0;32m~/.conda/envs/hiasci/lib/python3.8/site-packages/tensorflow/python/distribute/distribute_lib.py:2633\u001b[0m, in \u001b[0;36mStrategyExtendedV2.update\u001b[0;34m(self, var, fn, args, kwargs, group)\u001b[0m\n\u001b[1;32m   2630\u001b[0m   fn \u001b[38;5;241m=\u001b[39m autograph\u001b[38;5;241m.\u001b[39mtf_convert(\n\u001b[1;32m   2631\u001b[0m       fn, autograph_ctx\u001b[38;5;241m.\u001b[39mcontrol_status_ctx(), convert_by_default\u001b[38;5;241m=\u001b[39m\u001b[38;5;28;01mFalse\u001b[39;00m)\n\u001b[1;32m   2632\u001b[0m   \u001b[38;5;28;01mwith\u001b[39;00m \u001b[38;5;28mself\u001b[39m\u001b[38;5;241m.\u001b[39m_container_strategy()\u001b[38;5;241m.\u001b[39mscope():\n\u001b[0;32m-> 2633\u001b[0m     \u001b[38;5;28;01mreturn\u001b[39;00m \u001b[38;5;28;43mself\u001b[39;49m\u001b[38;5;241;43m.\u001b[39;49m\u001b[43m_update\u001b[49m\u001b[43m(\u001b[49m\u001b[43mvar\u001b[49m\u001b[43m,\u001b[49m\u001b[43m \u001b[49m\u001b[43mfn\u001b[49m\u001b[43m,\u001b[49m\u001b[43m \u001b[49m\u001b[43margs\u001b[49m\u001b[43m,\u001b[49m\u001b[43m \u001b[49m\u001b[43mkwargs\u001b[49m\u001b[43m,\u001b[49m\u001b[43m \u001b[49m\u001b[43mgroup\u001b[49m\u001b[43m)\u001b[49m\n\u001b[1;32m   2634\u001b[0m \u001b[38;5;28;01melse\u001b[39;00m:\n\u001b[1;32m   2635\u001b[0m   \u001b[38;5;28;01mreturn\u001b[39;00m \u001b[38;5;28mself\u001b[39m\u001b[38;5;241m.\u001b[39m_replica_ctx_update(\n\u001b[1;32m   2636\u001b[0m       var, fn, args\u001b[38;5;241m=\u001b[39margs, kwargs\u001b[38;5;241m=\u001b[39mkwargs, group\u001b[38;5;241m=\u001b[39mgroup)\n",
      "File \u001b[0;32m~/.conda/envs/hiasci/lib/python3.8/site-packages/tensorflow/python/distribute/distribute_lib.py:3706\u001b[0m, in \u001b[0;36m_DefaultDistributionExtended._update\u001b[0;34m(self, var, fn, args, kwargs, group)\u001b[0m\n\u001b[1;32m   3703\u001b[0m \u001b[38;5;28;01mdef\u001b[39;00m \u001b[38;5;21m_update\u001b[39m(\u001b[38;5;28mself\u001b[39m, var, fn, args, kwargs, group):\n\u001b[1;32m   3704\u001b[0m   \u001b[38;5;66;03m# The implementations of _update() and _update_non_slot() are identical\u001b[39;00m\n\u001b[1;32m   3705\u001b[0m   \u001b[38;5;66;03m# except _update() passes `var` as the first argument to `fn()`.\u001b[39;00m\n\u001b[0;32m-> 3706\u001b[0m   \u001b[38;5;28;01mreturn\u001b[39;00m \u001b[38;5;28;43mself\u001b[39;49m\u001b[38;5;241;43m.\u001b[39;49m\u001b[43m_update_non_slot\u001b[49m\u001b[43m(\u001b[49m\u001b[43mvar\u001b[49m\u001b[43m,\u001b[49m\u001b[43m \u001b[49m\u001b[43mfn\u001b[49m\u001b[43m,\u001b[49m\u001b[43m \u001b[49m\u001b[43m(\u001b[49m\u001b[43mvar\u001b[49m\u001b[43m,\u001b[49m\u001b[43m)\u001b[49m\u001b[43m \u001b[49m\u001b[38;5;241;43m+\u001b[39;49m\u001b[43m \u001b[49m\u001b[38;5;28;43mtuple\u001b[39;49m\u001b[43m(\u001b[49m\u001b[43margs\u001b[49m\u001b[43m)\u001b[49m\u001b[43m,\u001b[49m\u001b[43m \u001b[49m\u001b[43mkwargs\u001b[49m\u001b[43m,\u001b[49m\u001b[43m \u001b[49m\u001b[43mgroup\u001b[49m\u001b[43m)\u001b[49m\n",
      "File \u001b[0;32m~/.conda/envs/hiasci/lib/python3.8/site-packages/tensorflow/python/distribute/distribute_lib.py:3712\u001b[0m, in \u001b[0;36m_DefaultDistributionExtended._update_non_slot\u001b[0;34m(self, colocate_with, fn, args, kwargs, should_group)\u001b[0m\n\u001b[1;32m   3708\u001b[0m \u001b[38;5;28;01mdef\u001b[39;00m \u001b[38;5;21m_update_non_slot\u001b[39m(\u001b[38;5;28mself\u001b[39m, colocate_with, fn, args, kwargs, should_group):\n\u001b[1;32m   3709\u001b[0m   \u001b[38;5;66;03m# TODO(josh11b): Figure out what we should be passing to UpdateContext()\u001b[39;00m\n\u001b[1;32m   3710\u001b[0m   \u001b[38;5;66;03m# once that value is used for something.\u001b[39;00m\n\u001b[1;32m   3711\u001b[0m   \u001b[38;5;28;01mwith\u001b[39;00m UpdateContext(colocate_with):\n\u001b[0;32m-> 3712\u001b[0m     result \u001b[38;5;241m=\u001b[39m \u001b[43mfn\u001b[49m\u001b[43m(\u001b[49m\u001b[38;5;241;43m*\u001b[39;49m\u001b[43margs\u001b[49m\u001b[43m,\u001b[49m\u001b[43m \u001b[49m\u001b[38;5;241;43m*\u001b[39;49m\u001b[38;5;241;43m*\u001b[39;49m\u001b[43mkwargs\u001b[49m\u001b[43m)\u001b[49m\n\u001b[1;32m   3713\u001b[0m     \u001b[38;5;28;01mif\u001b[39;00m should_group:\n\u001b[1;32m   3714\u001b[0m       \u001b[38;5;28;01mreturn\u001b[39;00m result\n",
      "File \u001b[0;32m~/.conda/envs/hiasci/lib/python3.8/site-packages/tensorflow/python/autograph/impl/api.py:595\u001b[0m, in \u001b[0;36mcall_with_unspecified_conversion_status.<locals>.wrapper\u001b[0;34m(*args, **kwargs)\u001b[0m\n\u001b[1;32m    593\u001b[0m \u001b[38;5;28;01mdef\u001b[39;00m \u001b[38;5;21mwrapper\u001b[39m(\u001b[38;5;241m*\u001b[39margs, \u001b[38;5;241m*\u001b[39m\u001b[38;5;241m*\u001b[39mkwargs):\n\u001b[1;32m    594\u001b[0m   \u001b[38;5;28;01mwith\u001b[39;00m ag_ctx\u001b[38;5;241m.\u001b[39mControlStatusCtx(status\u001b[38;5;241m=\u001b[39mag_ctx\u001b[38;5;241m.\u001b[39mStatus\u001b[38;5;241m.\u001b[39mUNSPECIFIED):\n\u001b[0;32m--> 595\u001b[0m     \u001b[38;5;28;01mreturn\u001b[39;00m \u001b[43mfunc\u001b[49m\u001b[43m(\u001b[49m\u001b[38;5;241;43m*\u001b[39;49m\u001b[43margs\u001b[49m\u001b[43m,\u001b[49m\u001b[43m \u001b[49m\u001b[38;5;241;43m*\u001b[39;49m\u001b[38;5;241;43m*\u001b[39;49m\u001b[43mkwargs\u001b[49m\u001b[43m)\u001b[49m\n",
      "File \u001b[0;32m~/.conda/envs/hiasci/lib/python3.8/site-packages/keras/optimizers/optimizer_v2/optimizer_v2.py:776\u001b[0m, in \u001b[0;36mOptimizerV2._distributed_apply.<locals>.apply_grad_to_update_var\u001b[0;34m(var, grad)\u001b[0m\n\u001b[1;32m    774\u001b[0m \u001b[38;5;28;01mif\u001b[39;00m \u001b[38;5;124m\"\u001b[39m\u001b[38;5;124mapply_state\u001b[39m\u001b[38;5;124m\"\u001b[39m \u001b[38;5;129;01min\u001b[39;00m \u001b[38;5;28mself\u001b[39m\u001b[38;5;241m.\u001b[39m_dense_apply_args:\n\u001b[1;32m    775\u001b[0m     apply_kwargs[\u001b[38;5;124m\"\u001b[39m\u001b[38;5;124mapply_state\u001b[39m\u001b[38;5;124m\"\u001b[39m] \u001b[38;5;241m=\u001b[39m apply_state\n\u001b[0;32m--> 776\u001b[0m update_op \u001b[38;5;241m=\u001b[39m \u001b[38;5;28;43mself\u001b[39;49m\u001b[38;5;241;43m.\u001b[39;49m\u001b[43m_resource_apply_dense\u001b[49m\u001b[43m(\u001b[49m\u001b[43mgrad\u001b[49m\u001b[43m,\u001b[49m\u001b[43m \u001b[49m\u001b[43mvar\u001b[49m\u001b[43m,\u001b[49m\u001b[43m \u001b[49m\u001b[38;5;241;43m*\u001b[39;49m\u001b[38;5;241;43m*\u001b[39;49m\u001b[43mapply_kwargs\u001b[49m\u001b[43m)\u001b[49m\n\u001b[1;32m    777\u001b[0m \u001b[38;5;28;01mif\u001b[39;00m var\u001b[38;5;241m.\u001b[39mconstraint \u001b[38;5;129;01mis\u001b[39;00m \u001b[38;5;129;01mnot\u001b[39;00m \u001b[38;5;28;01mNone\u001b[39;00m:\n\u001b[1;32m    778\u001b[0m     \u001b[38;5;28;01mwith\u001b[39;00m tf\u001b[38;5;241m.\u001b[39mcontrol_dependencies([update_op]):\n",
      "File \u001b[0;32m~/.conda/envs/hiasci/lib/python3.8/site-packages/official/modeling/optimization/lars_optimizer.py:113\u001b[0m, in \u001b[0;36mLARS._resource_apply_dense\u001b[0;34m(self, grad, param, apply_state)\u001b[0m\n\u001b[1;32m    111\u001b[0m trust_ratio \u001b[38;5;241m=\u001b[39m \u001b[38;5;241m1.0\u001b[39m\n\u001b[1;32m    112\u001b[0m \u001b[38;5;28;01mif\u001b[39;00m \u001b[38;5;28mself\u001b[39m\u001b[38;5;241m.\u001b[39m_do_layer_adaptation(param_name):\n\u001b[0;32m--> 113\u001b[0m   w_norm \u001b[38;5;241m=\u001b[39m \u001b[43mtf\u001b[49m\u001b[38;5;241;43m.\u001b[39;49m\u001b[43mnorm\u001b[49m\u001b[43m(\u001b[49m\u001b[43mparam\u001b[49m\u001b[43m,\u001b[49m\u001b[43m \u001b[49m\u001b[38;5;28;43mord\u001b[39;49m\u001b[38;5;241;43m=\u001b[39;49m\u001b[38;5;241;43m2\u001b[39;49m\u001b[43m)\u001b[49m\n\u001b[1;32m    114\u001b[0m   g_norm \u001b[38;5;241m=\u001b[39m tf\u001b[38;5;241m.\u001b[39mnorm(grad, \u001b[38;5;28mord\u001b[39m\u001b[38;5;241m=\u001b[39m\u001b[38;5;241m2\u001b[39m)\n\u001b[1;32m    115\u001b[0m   trust_ratio \u001b[38;5;241m=\u001b[39m tf\u001b[38;5;241m.\u001b[39mwhere(\n\u001b[1;32m    116\u001b[0m       tf\u001b[38;5;241m.\u001b[39mgreater(w_norm, \u001b[38;5;241m0\u001b[39m),\n\u001b[1;32m    117\u001b[0m       tf\u001b[38;5;241m.\u001b[39mwhere(tf\u001b[38;5;241m.\u001b[39mgreater(g_norm, \u001b[38;5;241m0\u001b[39m), (\u001b[38;5;28mself\u001b[39m\u001b[38;5;241m.\u001b[39meeta \u001b[38;5;241m*\u001b[39m w_norm \u001b[38;5;241m/\u001b[39m g_norm), \u001b[38;5;241m1.0\u001b[39m),\n\u001b[1;32m    118\u001b[0m       \u001b[38;5;241m1.0\u001b[39m)\n",
      "File \u001b[0;32m~/.conda/envs/hiasci/lib/python3.8/site-packages/tensorflow/python/util/traceback_utils.py:150\u001b[0m, in \u001b[0;36mfilter_traceback.<locals>.error_handler\u001b[0;34m(*args, **kwargs)\u001b[0m\n\u001b[1;32m    148\u001b[0m filtered_tb \u001b[38;5;241m=\u001b[39m \u001b[38;5;28;01mNone\u001b[39;00m\n\u001b[1;32m    149\u001b[0m \u001b[38;5;28;01mtry\u001b[39;00m:\n\u001b[0;32m--> 150\u001b[0m   \u001b[38;5;28;01mreturn\u001b[39;00m \u001b[43mfn\u001b[49m\u001b[43m(\u001b[49m\u001b[38;5;241;43m*\u001b[39;49m\u001b[43margs\u001b[49m\u001b[43m,\u001b[49m\u001b[43m \u001b[49m\u001b[38;5;241;43m*\u001b[39;49m\u001b[38;5;241;43m*\u001b[39;49m\u001b[43mkwargs\u001b[49m\u001b[43m)\u001b[49m\n\u001b[1;32m    151\u001b[0m \u001b[38;5;28;01mexcept\u001b[39;00m \u001b[38;5;167;01mException\u001b[39;00m \u001b[38;5;28;01mas\u001b[39;00m e:\n\u001b[1;32m    152\u001b[0m   filtered_tb \u001b[38;5;241m=\u001b[39m _process_traceback_frames(e\u001b[38;5;241m.\u001b[39m__traceback__)\n",
      "File \u001b[0;32m~/.conda/envs/hiasci/lib/python3.8/site-packages/tensorflow/python/util/dispatch.py:1176\u001b[0m, in \u001b[0;36madd_dispatch_support.<locals>.decorator.<locals>.op_dispatch_handler\u001b[0;34m(*args, **kwargs)\u001b[0m\n\u001b[1;32m   1174\u001b[0m \u001b[38;5;66;03m# Fallback dispatch system (dispatch v1):\u001b[39;00m\n\u001b[1;32m   1175\u001b[0m \u001b[38;5;28;01mtry\u001b[39;00m:\n\u001b[0;32m-> 1176\u001b[0m   \u001b[38;5;28;01mreturn\u001b[39;00m \u001b[43mdispatch_target\u001b[49m\u001b[43m(\u001b[49m\u001b[38;5;241;43m*\u001b[39;49m\u001b[43margs\u001b[49m\u001b[43m,\u001b[49m\u001b[43m \u001b[49m\u001b[38;5;241;43m*\u001b[39;49m\u001b[38;5;241;43m*\u001b[39;49m\u001b[43mkwargs\u001b[49m\u001b[43m)\u001b[49m\n\u001b[1;32m   1177\u001b[0m \u001b[38;5;28;01mexcept\u001b[39;00m (\u001b[38;5;167;01mTypeError\u001b[39;00m, \u001b[38;5;167;01mValueError\u001b[39;00m):\n\u001b[1;32m   1178\u001b[0m   \u001b[38;5;66;03m# Note: convert_to_eager_tensor currently raises a ValueError, not a\u001b[39;00m\n\u001b[1;32m   1179\u001b[0m   \u001b[38;5;66;03m# TypeError, when given unexpected types.  So we need to catch both.\u001b[39;00m\n\u001b[1;32m   1180\u001b[0m   result \u001b[38;5;241m=\u001b[39m dispatch(op_dispatch_handler, args, kwargs)\n",
      "File \u001b[0;32m~/.conda/envs/hiasci/lib/python3.8/site-packages/tensorflow/python/ops/linalg_ops.py:621\u001b[0m, in \u001b[0;36mnorm_v2\u001b[0;34m(tensor, ord, axis, keepdims, name)\u001b[0m\n\u001b[1;32m    557\u001b[0m \u001b[38;5;129m@tf_export\u001b[39m(\u001b[38;5;124m'\u001b[39m\u001b[38;5;124mnorm\u001b[39m\u001b[38;5;124m'\u001b[39m, \u001b[38;5;124m'\u001b[39m\u001b[38;5;124mlinalg.norm\u001b[39m\u001b[38;5;124m'\u001b[39m, v1\u001b[38;5;241m=\u001b[39m[])\n\u001b[1;32m    558\u001b[0m \u001b[38;5;129m@dispatch\u001b[39m\u001b[38;5;241m.\u001b[39madd_dispatch_support\n\u001b[1;32m    559\u001b[0m \u001b[38;5;28;01mdef\u001b[39;00m \u001b[38;5;21mnorm_v2\u001b[39m(tensor,\n\u001b[0;32m   (...)\u001b[0m\n\u001b[1;32m    562\u001b[0m             keepdims\u001b[38;5;241m=\u001b[39m\u001b[38;5;28;01mNone\u001b[39;00m,\n\u001b[1;32m    563\u001b[0m             name\u001b[38;5;241m=\u001b[39m\u001b[38;5;28;01mNone\u001b[39;00m):\n\u001b[1;32m    564\u001b[0m   \u001b[38;5;124mr\u001b[39m\u001b[38;5;124;03m\"\"\"Computes the norm of vectors, matrices, and tensors.\u001b[39;00m\n\u001b[1;32m    565\u001b[0m \n\u001b[1;32m    566\u001b[0m \u001b[38;5;124;03m  This function can compute several different vector norms (the 1-norm, the\u001b[39;00m\n\u001b[0;32m   (...)\u001b[0m\n\u001b[1;32m    619\u001b[0m \u001b[38;5;124;03m  @end_compatibility\u001b[39;00m\n\u001b[1;32m    620\u001b[0m \u001b[38;5;124;03m  \"\"\"\u001b[39;00m\n\u001b[0;32m--> 621\u001b[0m   \u001b[38;5;28;01mreturn\u001b[39;00m \u001b[43mnorm\u001b[49m\u001b[43m(\u001b[49m\u001b[43mtensor\u001b[49m\u001b[38;5;241;43m=\u001b[39;49m\u001b[43mtensor\u001b[49m\u001b[43m,\u001b[49m\n\u001b[1;32m    622\u001b[0m \u001b[43m              \u001b[49m\u001b[38;5;28;43mord\u001b[39;49m\u001b[38;5;241;43m=\u001b[39;49m\u001b[38;5;28;43mord\u001b[39;49m\u001b[43m,\u001b[49m\n\u001b[1;32m    623\u001b[0m \u001b[43m              \u001b[49m\u001b[43maxis\u001b[49m\u001b[38;5;241;43m=\u001b[39;49m\u001b[43maxis\u001b[49m\u001b[43m,\u001b[49m\n\u001b[1;32m    624\u001b[0m \u001b[43m              \u001b[49m\u001b[43mkeepdims\u001b[49m\u001b[38;5;241;43m=\u001b[39;49m\u001b[43mkeepdims\u001b[49m\u001b[43m,\u001b[49m\n\u001b[1;32m    625\u001b[0m \u001b[43m              \u001b[49m\u001b[43mname\u001b[49m\u001b[38;5;241;43m=\u001b[39;49m\u001b[43mname\u001b[49m\u001b[43m)\u001b[49m\n",
      "File \u001b[0;32m~/.conda/envs/hiasci/lib/python3.8/site-packages/tensorflow/python/util/traceback_utils.py:150\u001b[0m, in \u001b[0;36mfilter_traceback.<locals>.error_handler\u001b[0;34m(*args, **kwargs)\u001b[0m\n\u001b[1;32m    148\u001b[0m filtered_tb \u001b[38;5;241m=\u001b[39m \u001b[38;5;28;01mNone\u001b[39;00m\n\u001b[1;32m    149\u001b[0m \u001b[38;5;28;01mtry\u001b[39;00m:\n\u001b[0;32m--> 150\u001b[0m   \u001b[38;5;28;01mreturn\u001b[39;00m \u001b[43mfn\u001b[49m\u001b[43m(\u001b[49m\u001b[38;5;241;43m*\u001b[39;49m\u001b[43margs\u001b[49m\u001b[43m,\u001b[49m\u001b[43m \u001b[49m\u001b[38;5;241;43m*\u001b[39;49m\u001b[38;5;241;43m*\u001b[39;49m\u001b[43mkwargs\u001b[49m\u001b[43m)\u001b[49m\n\u001b[1;32m    151\u001b[0m \u001b[38;5;28;01mexcept\u001b[39;00m \u001b[38;5;167;01mException\u001b[39;00m \u001b[38;5;28;01mas\u001b[39;00m e:\n\u001b[1;32m    152\u001b[0m   filtered_tb \u001b[38;5;241m=\u001b[39m _process_traceback_frames(e\u001b[38;5;241m.\u001b[39m__traceback__)\n",
      "File \u001b[0;32m~/.conda/envs/hiasci/lib/python3.8/site-packages/tensorflow/python/util/dispatch.py:1176\u001b[0m, in \u001b[0;36madd_dispatch_support.<locals>.decorator.<locals>.op_dispatch_handler\u001b[0;34m(*args, **kwargs)\u001b[0m\n\u001b[1;32m   1174\u001b[0m \u001b[38;5;66;03m# Fallback dispatch system (dispatch v1):\u001b[39;00m\n\u001b[1;32m   1175\u001b[0m \u001b[38;5;28;01mtry\u001b[39;00m:\n\u001b[0;32m-> 1176\u001b[0m   \u001b[38;5;28;01mreturn\u001b[39;00m \u001b[43mdispatch_target\u001b[49m\u001b[43m(\u001b[49m\u001b[38;5;241;43m*\u001b[39;49m\u001b[43margs\u001b[49m\u001b[43m,\u001b[49m\u001b[43m \u001b[49m\u001b[38;5;241;43m*\u001b[39;49m\u001b[38;5;241;43m*\u001b[39;49m\u001b[43mkwargs\u001b[49m\u001b[43m)\u001b[49m\n\u001b[1;32m   1177\u001b[0m \u001b[38;5;28;01mexcept\u001b[39;00m (\u001b[38;5;167;01mTypeError\u001b[39;00m, \u001b[38;5;167;01mValueError\u001b[39;00m):\n\u001b[1;32m   1178\u001b[0m   \u001b[38;5;66;03m# Note: convert_to_eager_tensor currently raises a ValueError, not a\u001b[39;00m\n\u001b[1;32m   1179\u001b[0m   \u001b[38;5;66;03m# TypeError, when given unexpected types.  So we need to catch both.\u001b[39;00m\n\u001b[1;32m   1180\u001b[0m   result \u001b[38;5;241m=\u001b[39m dispatch(op_dispatch_handler, args, kwargs)\n",
      "File \u001b[0;32m~/.conda/envs/hiasci/lib/python3.8/site-packages/tensorflow/python/util/deprecation.py:561\u001b[0m, in \u001b[0;36mdeprecated_args.<locals>.deprecated_wrapper.<locals>.new_func\u001b[0;34m(*args, **kwargs)\u001b[0m\n\u001b[1;32m    553\u001b[0m         _PRINTED_WARNING[(func, arg_name)] \u001b[38;5;241m=\u001b[39m \u001b[38;5;28;01mTrue\u001b[39;00m\n\u001b[1;32m    554\u001b[0m       logging\u001b[38;5;241m.\u001b[39mwarning(\n\u001b[1;32m    555\u001b[0m           \u001b[38;5;124m'\u001b[39m\u001b[38;5;124mFrom \u001b[39m\u001b[38;5;132;01m%s\u001b[39;00m\u001b[38;5;124m: calling \u001b[39m\u001b[38;5;132;01m%s\u001b[39;00m\u001b[38;5;124m (from \u001b[39m\u001b[38;5;132;01m%s\u001b[39;00m\u001b[38;5;124m) with \u001b[39m\u001b[38;5;132;01m%s\u001b[39;00m\u001b[38;5;124m is deprecated and will \u001b[39m\u001b[38;5;124m'\u001b[39m\n\u001b[1;32m    556\u001b[0m           \u001b[38;5;124m'\u001b[39m\u001b[38;5;124mbe removed \u001b[39m\u001b[38;5;132;01m%s\u001b[39;00m\u001b[38;5;124m.\u001b[39m\u001b[38;5;130;01m\\n\u001b[39;00m\u001b[38;5;124mInstructions for updating:\u001b[39m\u001b[38;5;130;01m\\n\u001b[39;00m\u001b[38;5;132;01m%s\u001b[39;00m\u001b[38;5;124m'\u001b[39m,\n\u001b[0;32m   (...)\u001b[0m\n\u001b[1;32m    559\u001b[0m           \u001b[38;5;124m'\u001b[39m\u001b[38;5;124min a future version\u001b[39m\u001b[38;5;124m'\u001b[39m \u001b[38;5;28;01mif\u001b[39;00m date \u001b[38;5;129;01mis\u001b[39;00m \u001b[38;5;28;01mNone\u001b[39;00m \u001b[38;5;28;01melse\u001b[39;00m (\u001b[38;5;124m'\u001b[39m\u001b[38;5;124mafter \u001b[39m\u001b[38;5;132;01m%s\u001b[39;00m\u001b[38;5;124m'\u001b[39m \u001b[38;5;241m%\u001b[39m date),\n\u001b[1;32m    560\u001b[0m           instructions)\n\u001b[0;32m--> 561\u001b[0m \u001b[38;5;28;01mreturn\u001b[39;00m \u001b[43mfunc\u001b[49m\u001b[43m(\u001b[49m\u001b[38;5;241;43m*\u001b[39;49m\u001b[43margs\u001b[49m\u001b[43m,\u001b[49m\u001b[43m \u001b[49m\u001b[38;5;241;43m*\u001b[39;49m\u001b[38;5;241;43m*\u001b[39;49m\u001b[43mkwargs\u001b[49m\u001b[43m)\u001b[49m\n",
      "File \u001b[0;32m~/.conda/envs/hiasci/lib/python3.8/site-packages/tensorflow/python/ops/linalg_ops.py:758\u001b[0m, in \u001b[0;36mnorm\u001b[0;34m(tensor, ord, axis, keepdims, name, keep_dims)\u001b[0m\n\u001b[1;32m    754\u001b[0m     result \u001b[38;5;241m=\u001b[39m array_ops\u001b[38;5;241m.\u001b[39mtranspose(matrix_2_norm, perm\u001b[38;5;241m=\u001b[39mperm_after)\n\u001b[1;32m    755\u001b[0m   \u001b[38;5;28;01melse\u001b[39;00m:\n\u001b[1;32m    756\u001b[0m     result \u001b[38;5;241m=\u001b[39m math_ops\u001b[38;5;241m.\u001b[39msqrt(\n\u001b[1;32m    757\u001b[0m         math_ops\u001b[38;5;241m.\u001b[39mreduce_sum(\n\u001b[0;32m--> 758\u001b[0m             \u001b[43mtensor\u001b[49m\u001b[43m \u001b[49m\u001b[38;5;241;43m*\u001b[39;49m\u001b[43m \u001b[49m\u001b[43mmath_ops\u001b[49m\u001b[38;5;241;43m.\u001b[39;49m\u001b[43mconj\u001b[49m\u001b[43m(\u001b[49m\u001b[43mtensor\u001b[49m\u001b[43m)\u001b[49m, axis, keepdims\u001b[38;5;241m=\u001b[39m\u001b[38;5;28;01mTrue\u001b[39;00m))\n\u001b[1;32m    759\u001b[0m     \u001b[38;5;66;03m# TODO(rmlarsen): Replace with the following, once gradients are defined\u001b[39;00m\n\u001b[1;32m    760\u001b[0m     \u001b[38;5;66;03m# result = math_ops.reduce_euclidean_norm(tensor, axis, keepdims=True)\u001b[39;00m\n\u001b[1;32m    761\u001b[0m \u001b[38;5;28;01melse\u001b[39;00m:\n\u001b[1;32m    762\u001b[0m   result \u001b[38;5;241m=\u001b[39m math_ops\u001b[38;5;241m.\u001b[39mabs(tensor)\n",
      "File \u001b[0;32m~/.conda/envs/hiasci/lib/python3.8/site-packages/tensorflow/python/util/traceback_utils.py:150\u001b[0m, in \u001b[0;36mfilter_traceback.<locals>.error_handler\u001b[0;34m(*args, **kwargs)\u001b[0m\n\u001b[1;32m    148\u001b[0m filtered_tb \u001b[38;5;241m=\u001b[39m \u001b[38;5;28;01mNone\u001b[39;00m\n\u001b[1;32m    149\u001b[0m \u001b[38;5;28;01mtry\u001b[39;00m:\n\u001b[0;32m--> 150\u001b[0m   \u001b[38;5;28;01mreturn\u001b[39;00m \u001b[43mfn\u001b[49m\u001b[43m(\u001b[49m\u001b[38;5;241;43m*\u001b[39;49m\u001b[43margs\u001b[49m\u001b[43m,\u001b[49m\u001b[43m \u001b[49m\u001b[38;5;241;43m*\u001b[39;49m\u001b[38;5;241;43m*\u001b[39;49m\u001b[43mkwargs\u001b[49m\u001b[43m)\u001b[49m\n\u001b[1;32m    151\u001b[0m \u001b[38;5;28;01mexcept\u001b[39;00m \u001b[38;5;167;01mException\u001b[39;00m \u001b[38;5;28;01mas\u001b[39;00m e:\n\u001b[1;32m    152\u001b[0m   filtered_tb \u001b[38;5;241m=\u001b[39m _process_traceback_frames(e\u001b[38;5;241m.\u001b[39m__traceback__)\n",
      "File \u001b[0;32m~/.conda/envs/hiasci/lib/python3.8/site-packages/tensorflow/python/ops/math_ops.py:1407\u001b[0m, in \u001b[0;36m_OverrideBinaryOperatorHelper.<locals>.binary_op_wrapper\u001b[0;34m(x, y)\u001b[0m\n\u001b[1;32m   1402\u001b[0m \u001b[38;5;28;01mtry\u001b[39;00m:\n\u001b[1;32m   1403\u001b[0m   \u001b[38;5;66;03m# force_same_dtype=False to preserve existing TF behavior\u001b[39;00m\n\u001b[1;32m   1404\u001b[0m   \u001b[38;5;66;03m# TODO(b/178860388): Figure out why binary_op_wrapper and\u001b[39;00m\n\u001b[1;32m   1405\u001b[0m   \u001b[38;5;66;03m#   r_binary_op_wrapper use different force_same_dtype values.\u001b[39;00m\n\u001b[1;32m   1406\u001b[0m   x, y \u001b[38;5;241m=\u001b[39m maybe_promote_tensors(x, y)\n\u001b[0;32m-> 1407\u001b[0m   \u001b[38;5;28;01mreturn\u001b[39;00m \u001b[43mfunc\u001b[49m\u001b[43m(\u001b[49m\u001b[43mx\u001b[49m\u001b[43m,\u001b[49m\u001b[43m \u001b[49m\u001b[43my\u001b[49m\u001b[43m,\u001b[49m\u001b[43m \u001b[49m\u001b[43mname\u001b[49m\u001b[38;5;241;43m=\u001b[39;49m\u001b[43mname\u001b[49m\u001b[43m)\u001b[49m\n\u001b[1;32m   1408\u001b[0m \u001b[38;5;28;01mexcept\u001b[39;00m (\u001b[38;5;167;01mTypeError\u001b[39;00m, \u001b[38;5;167;01mValueError\u001b[39;00m) \u001b[38;5;28;01mas\u001b[39;00m e:\n\u001b[1;32m   1409\u001b[0m   \u001b[38;5;66;03m# Even if dispatching the op failed, the RHS may be a tensor aware\u001b[39;00m\n\u001b[1;32m   1410\u001b[0m   \u001b[38;5;66;03m# object that can implement the operator with knowledge of itself\u001b[39;00m\n\u001b[0;32m   (...)\u001b[0m\n\u001b[1;32m   1413\u001b[0m   \u001b[38;5;66;03m# original error from the LHS, because it may be more\u001b[39;00m\n\u001b[1;32m   1414\u001b[0m   \u001b[38;5;66;03m# informative.\u001b[39;00m\n\u001b[1;32m   1415\u001b[0m   \u001b[38;5;28;01mif\u001b[39;00m \u001b[38;5;28mhasattr\u001b[39m(\u001b[38;5;28mtype\u001b[39m(y), \u001b[38;5;124m\"\u001b[39m\u001b[38;5;124m__r\u001b[39m\u001b[38;5;132;01m%s\u001b[39;00m\u001b[38;5;124m__\u001b[39m\u001b[38;5;124m\"\u001b[39m \u001b[38;5;241m%\u001b[39m op_name):\n",
      "File \u001b[0;32m~/.conda/envs/hiasci/lib/python3.8/site-packages/tensorflow/python/ops/math_ops.py:1767\u001b[0m, in \u001b[0;36m_mul_dispatch\u001b[0;34m(x, y, name)\u001b[0m\n\u001b[1;32m   1765\u001b[0m   \u001b[38;5;28;01mreturn\u001b[39;00m sparse_tensor\u001b[38;5;241m.\u001b[39mSparseTensor(y\u001b[38;5;241m.\u001b[39mindices, new_vals, y\u001b[38;5;241m.\u001b[39mdense_shape)\n\u001b[1;32m   1766\u001b[0m \u001b[38;5;28;01melse\u001b[39;00m:\n\u001b[0;32m-> 1767\u001b[0m   \u001b[38;5;28;01mreturn\u001b[39;00m \u001b[43mmultiply\u001b[49m\u001b[43m(\u001b[49m\u001b[43mx\u001b[49m\u001b[43m,\u001b[49m\u001b[43m \u001b[49m\u001b[43my\u001b[49m\u001b[43m,\u001b[49m\u001b[43m \u001b[49m\u001b[43mname\u001b[49m\u001b[38;5;241;43m=\u001b[39;49m\u001b[43mname\u001b[49m\u001b[43m)\u001b[49m\n",
      "File \u001b[0;32m~/.conda/envs/hiasci/lib/python3.8/site-packages/tensorflow/python/util/traceback_utils.py:150\u001b[0m, in \u001b[0;36mfilter_traceback.<locals>.error_handler\u001b[0;34m(*args, **kwargs)\u001b[0m\n\u001b[1;32m    148\u001b[0m filtered_tb \u001b[38;5;241m=\u001b[39m \u001b[38;5;28;01mNone\u001b[39;00m\n\u001b[1;32m    149\u001b[0m \u001b[38;5;28;01mtry\u001b[39;00m:\n\u001b[0;32m--> 150\u001b[0m   \u001b[38;5;28;01mreturn\u001b[39;00m \u001b[43mfn\u001b[49m\u001b[43m(\u001b[49m\u001b[38;5;241;43m*\u001b[39;49m\u001b[43margs\u001b[49m\u001b[43m,\u001b[49m\u001b[43m \u001b[49m\u001b[38;5;241;43m*\u001b[39;49m\u001b[38;5;241;43m*\u001b[39;49m\u001b[43mkwargs\u001b[49m\u001b[43m)\u001b[49m\n\u001b[1;32m    151\u001b[0m \u001b[38;5;28;01mexcept\u001b[39;00m \u001b[38;5;167;01mException\u001b[39;00m \u001b[38;5;28;01mas\u001b[39;00m e:\n\u001b[1;32m    152\u001b[0m   filtered_tb \u001b[38;5;241m=\u001b[39m _process_traceback_frames(e\u001b[38;5;241m.\u001b[39m__traceback__)\n",
      "File \u001b[0;32m~/.conda/envs/hiasci/lib/python3.8/site-packages/tensorflow/python/util/dispatch.py:1176\u001b[0m, in \u001b[0;36madd_dispatch_support.<locals>.decorator.<locals>.op_dispatch_handler\u001b[0;34m(*args, **kwargs)\u001b[0m\n\u001b[1;32m   1174\u001b[0m \u001b[38;5;66;03m# Fallback dispatch system (dispatch v1):\u001b[39;00m\n\u001b[1;32m   1175\u001b[0m \u001b[38;5;28;01mtry\u001b[39;00m:\n\u001b[0;32m-> 1176\u001b[0m   \u001b[38;5;28;01mreturn\u001b[39;00m \u001b[43mdispatch_target\u001b[49m\u001b[43m(\u001b[49m\u001b[38;5;241;43m*\u001b[39;49m\u001b[43margs\u001b[49m\u001b[43m,\u001b[49m\u001b[43m \u001b[49m\u001b[38;5;241;43m*\u001b[39;49m\u001b[38;5;241;43m*\u001b[39;49m\u001b[43mkwargs\u001b[49m\u001b[43m)\u001b[49m\n\u001b[1;32m   1177\u001b[0m \u001b[38;5;28;01mexcept\u001b[39;00m (\u001b[38;5;167;01mTypeError\u001b[39;00m, \u001b[38;5;167;01mValueError\u001b[39;00m):\n\u001b[1;32m   1178\u001b[0m   \u001b[38;5;66;03m# Note: convert_to_eager_tensor currently raises a ValueError, not a\u001b[39;00m\n\u001b[1;32m   1179\u001b[0m   \u001b[38;5;66;03m# TypeError, when given unexpected types.  So we need to catch both.\u001b[39;00m\n\u001b[1;32m   1180\u001b[0m   result \u001b[38;5;241m=\u001b[39m dispatch(op_dispatch_handler, args, kwargs)\n",
      "File \u001b[0;32m~/.conda/envs/hiasci/lib/python3.8/site-packages/tensorflow/python/ops/math_ops.py:529\u001b[0m, in \u001b[0;36mmultiply\u001b[0;34m(x, y, name)\u001b[0m\n\u001b[1;32m    480\u001b[0m \u001b[38;5;129m@tf_export\u001b[39m(\u001b[38;5;124m\"\u001b[39m\u001b[38;5;124mmath.multiply\u001b[39m\u001b[38;5;124m\"\u001b[39m, \u001b[38;5;124m\"\u001b[39m\u001b[38;5;124mmultiply\u001b[39m\u001b[38;5;124m\"\u001b[39m)\n\u001b[1;32m    481\u001b[0m \u001b[38;5;129m@dispatch\u001b[39m\u001b[38;5;241m.\u001b[39mregister_binary_elementwise_api\n\u001b[1;32m    482\u001b[0m \u001b[38;5;129m@dispatch\u001b[39m\u001b[38;5;241m.\u001b[39madd_dispatch_support\n\u001b[1;32m    483\u001b[0m \u001b[38;5;28;01mdef\u001b[39;00m \u001b[38;5;21mmultiply\u001b[39m(x, y, name\u001b[38;5;241m=\u001b[39m\u001b[38;5;28;01mNone\u001b[39;00m):\n\u001b[1;32m    484\u001b[0m   \u001b[38;5;124;03m\"\"\"Returns an element-wise x * y.\u001b[39;00m\n\u001b[1;32m    485\u001b[0m \n\u001b[1;32m    486\u001b[0m \u001b[38;5;124;03m  For example:\u001b[39;00m\n\u001b[0;32m   (...)\u001b[0m\n\u001b[1;32m    526\u001b[0m \u001b[38;5;124;03m   * InvalidArgumentError: When `x` and `y` have incompatible shapes or types.\u001b[39;00m\n\u001b[1;32m    527\u001b[0m \u001b[38;5;124;03m  \"\"\"\u001b[39;00m\n\u001b[0;32m--> 529\u001b[0m   \u001b[38;5;28;01mreturn\u001b[39;00m \u001b[43mgen_math_ops\u001b[49m\u001b[38;5;241;43m.\u001b[39;49m\u001b[43mmul\u001b[49m\u001b[43m(\u001b[49m\u001b[43mx\u001b[49m\u001b[43m,\u001b[49m\u001b[43m \u001b[49m\u001b[43my\u001b[49m\u001b[43m,\u001b[49m\u001b[43m \u001b[49m\u001b[43mname\u001b[49m\u001b[43m)\u001b[49m\n",
      "File \u001b[0;32m~/.conda/envs/hiasci/lib/python3.8/site-packages/tensorflow/python/ops/gen_math_ops.py:6576\u001b[0m, in \u001b[0;36mmul\u001b[0;34m(x, y, name)\u001b[0m\n\u001b[1;32m   6574\u001b[0m \u001b[38;5;28;01mif\u001b[39;00m tld\u001b[38;5;241m.\u001b[39mis_eager:\n\u001b[1;32m   6575\u001b[0m   \u001b[38;5;28;01mtry\u001b[39;00m:\n\u001b[0;32m-> 6576\u001b[0m     _result \u001b[38;5;241m=\u001b[39m \u001b[43mpywrap_tfe\u001b[49m\u001b[38;5;241;43m.\u001b[39;49m\u001b[43mTFE_Py_FastPathExecute\u001b[49m\u001b[43m(\u001b[49m\n\u001b[1;32m   6577\u001b[0m \u001b[43m      \u001b[49m\u001b[43m_ctx\u001b[49m\u001b[43m,\u001b[49m\u001b[43m \u001b[49m\u001b[38;5;124;43m\"\u001b[39;49m\u001b[38;5;124;43mMul\u001b[39;49m\u001b[38;5;124;43m\"\u001b[39;49m\u001b[43m,\u001b[49m\u001b[43m \u001b[49m\u001b[43mname\u001b[49m\u001b[43m,\u001b[49m\u001b[43m \u001b[49m\u001b[43mx\u001b[49m\u001b[43m,\u001b[49m\u001b[43m \u001b[49m\u001b[43my\u001b[49m\u001b[43m)\u001b[49m\n\u001b[1;32m   6578\u001b[0m     \u001b[38;5;28;01mreturn\u001b[39;00m _result\n\u001b[1;32m   6579\u001b[0m   \u001b[38;5;28;01mexcept\u001b[39;00m _core\u001b[38;5;241m.\u001b[39m_NotOkStatusException \u001b[38;5;28;01mas\u001b[39;00m e:\n",
      "\u001b[0;31mKeyboardInterrupt\u001b[0m: "
     ]
    }
   ],
   "source": [
    "model.fit(ds_train, epochs=10)"
   ]
  },
  {
   "cell_type": "code",
   "execution_count": 93,
   "id": "620f888b",
   "metadata": {},
   "outputs": [
    {
     "ename": "ValueError",
     "evalue": "Attempt to convert a value (<TakeDataset element_spec=(TensorSpec(shape=(None, None, None), dtype=tf.float32, name=None), TensorSpec(shape=(None, None, None), dtype=tf.float32, name=None))>) with an unsupported type (<class 'tensorflow.python.data.ops.dataset_ops.TakeDataset'>) to a Tensor.",
     "output_type": "error",
     "traceback": [
      "\u001b[0;31m---------------------------------------------------------------------------\u001b[0m",
      "\u001b[0;31mValueError\u001b[0m                                Traceback (most recent call last)",
      "Cell \u001b[0;32mIn [93], line 1\u001b[0m\n\u001b[0;32m----> 1\u001b[0m \u001b[43mtf\u001b[49m\u001b[38;5;241;43m.\u001b[39;49m\u001b[43mgather\u001b[49m\u001b[43m(\u001b[49m\u001b[43mds\u001b[49m\u001b[38;5;241;43m.\u001b[39;49m\u001b[43mtake\u001b[49m\u001b[43m(\u001b[49m\u001b[38;5;241;43m1\u001b[39;49m\u001b[43m)\u001b[49m\u001b[43m,\u001b[49m\u001b[38;5;241;43m0\u001b[39;49m\u001b[43m)\u001b[49m\n",
      "File \u001b[0;32m~/.conda/envs/hiasci/lib/python3.8/site-packages/tensorflow/python/util/traceback_utils.py:153\u001b[0m, in \u001b[0;36mfilter_traceback.<locals>.error_handler\u001b[0;34m(*args, **kwargs)\u001b[0m\n\u001b[1;32m    151\u001b[0m \u001b[38;5;28;01mexcept\u001b[39;00m \u001b[38;5;167;01mException\u001b[39;00m \u001b[38;5;28;01mas\u001b[39;00m e:\n\u001b[1;32m    152\u001b[0m   filtered_tb \u001b[38;5;241m=\u001b[39m _process_traceback_frames(e\u001b[38;5;241m.\u001b[39m__traceback__)\n\u001b[0;32m--> 153\u001b[0m   \u001b[38;5;28;01mraise\u001b[39;00m e\u001b[38;5;241m.\u001b[39mwith_traceback(filtered_tb) \u001b[38;5;28;01mfrom\u001b[39;00m \u001b[38;5;28mNone\u001b[39m\n\u001b[1;32m    154\u001b[0m \u001b[38;5;28;01mfinally\u001b[39;00m:\n\u001b[1;32m    155\u001b[0m   \u001b[38;5;28;01mdel\u001b[39;00m filtered_tb\n",
      "File \u001b[0;32m~/.conda/envs/hiasci/lib/python3.8/site-packages/tensorflow/python/framework/constant_op.py:102\u001b[0m, in \u001b[0;36mconvert_to_eager_tensor\u001b[0;34m(value, ctx, dtype)\u001b[0m\n\u001b[1;32m    100\u001b[0m     dtype \u001b[38;5;241m=\u001b[39m dtypes\u001b[38;5;241m.\u001b[39mas_dtype(dtype)\u001b[38;5;241m.\u001b[39mas_datatype_enum\n\u001b[1;32m    101\u001b[0m ctx\u001b[38;5;241m.\u001b[39mensure_initialized()\n\u001b[0;32m--> 102\u001b[0m \u001b[38;5;28;01mreturn\u001b[39;00m \u001b[43mops\u001b[49m\u001b[38;5;241;43m.\u001b[39;49m\u001b[43mEagerTensor\u001b[49m\u001b[43m(\u001b[49m\u001b[43mvalue\u001b[49m\u001b[43m,\u001b[49m\u001b[43m \u001b[49m\u001b[43mctx\u001b[49m\u001b[38;5;241;43m.\u001b[39;49m\u001b[43mdevice_name\u001b[49m\u001b[43m,\u001b[49m\u001b[43m \u001b[49m\u001b[43mdtype\u001b[49m\u001b[43m)\u001b[49m\n",
      "\u001b[0;31mValueError\u001b[0m: Attempt to convert a value (<TakeDataset element_spec=(TensorSpec(shape=(None, None, None), dtype=tf.float32, name=None), TensorSpec(shape=(None, None, None), dtype=tf.float32, name=None))>) with an unsupported type (<class 'tensorflow.python.data.ops.dataset_ops.TakeDataset'>) to a Tensor."
     ]
    }
   ],
   "source": [
    "tf.gather(ds.take(1),0)"
   ]
  },
  {
   "cell_type": "code",
   "execution_count": 99,
   "id": "6ff9e6ee",
   "metadata": {},
   "outputs": [
    {
     "data": {
      "text/plain": [
       "<MapDataset element_spec=(TensorSpec(shape=(None, None, None), dtype=tf.float32, name=None), TensorSpec(shape=(None, None, None), dtype=tf.float32, name=None))>"
      ]
     },
     "execution_count": 99,
     "metadata": {},
     "output_type": "execute_result"
    }
   ],
   "source": [
    "ds"
   ]
  },
  {
   "cell_type": "code",
   "execution_count": 90,
   "id": "18a777f8",
   "metadata": {},
   "outputs": [
    {
     "data": {
      "text/plain": [
       "<TakeDataset element_spec=(TensorSpec(shape=(None, None, None), dtype=tf.float32, name=None), TensorSpec(shape=(None, None, None), dtype=tf.float32, name=None))>"
      ]
     },
     "execution_count": 90,
     "metadata": {},
     "output_type": "execute_result"
    }
   ],
   "source": [
    "tf.tuple(ds.take(1))"
   ]
  },
  {
   "cell_type": "code",
   "execution_count": 85,
   "id": "c5eb108e",
   "metadata": {},
   "outputs": [
    {
     "data": {
      "text/plain": [
       "[(<tf.Tensor: shape=(64, 64, 3), dtype=float32, numpy=\n",
       "  array([[[ -8.906312  ,   0.80845696, -15.292098  ],\n",
       "          [-12.434188  ,   0.89803064, -13.727326  ],\n",
       "          [-11.545893  ,   2.237683  , -15.903002  ],\n",
       "          ...,\n",
       "          [-11.014091  ,  -1.7884495 , -17.79422   ],\n",
       "          [-10.6556425 ,  -1.6783234 , -13.30192   ],\n",
       "          [ -9.288587  ,  -3.3674285 , -14.705151  ]],\n",
       "  \n",
       "         [[-18.718443  ,  -7.3679657 , -18.771648  ],\n",
       "          [-11.653357  ,  -4.8432736 , -17.643713  ],\n",
       "          [-13.004693  ,  -7.2812505 , -17.318964  ],\n",
       "          ...,\n",
       "          [-13.39886   ,  -7.835295  , -22.006712  ],\n",
       "          [-16.733265  ,  -8.238567  , -20.379309  ],\n",
       "          [-11.282479  ,  -4.2136517 , -11.25413   ]],\n",
       "  \n",
       "         [[-15.679877  ,  -6.043933  , -18.913162  ],\n",
       "          [-12.309805  ,  -3.0179968 , -18.574183  ],\n",
       "          [-13.082104  ,  -8.673551  , -24.633266  ],\n",
       "          ...,\n",
       "          [-12.913424  ,  -3.9442835 , -15.432544  ],\n",
       "          [-12.759123  ,  -7.5828824 , -19.691492  ],\n",
       "          [-14.133054  ,  -6.573762  , -16.350689  ]],\n",
       "  \n",
       "         ...,\n",
       "  \n",
       "         [[-20.471561  , -26.189089  , -30.15259   ],\n",
       "          [-20.288334  , -20.77902   , -30.589003  ],\n",
       "          [-18.351076  , -26.150684  , -26.566557  ],\n",
       "          ...,\n",
       "          [-19.023993  , -24.325504  , -30.326815  ],\n",
       "          [-19.949364  , -23.554802  , -30.363358  ],\n",
       "          [-20.069023  , -22.347742  , -28.055082  ]],\n",
       "  \n",
       "         [[-24.66365   , -18.989262  , -28.8612    ],\n",
       "          [-19.243258  , -19.964106  , -25.816568  ],\n",
       "          [-19.996258  , -24.145235  , -19.688534  ],\n",
       "          ...,\n",
       "          [-23.493368  , -21.923042  , -31.207447  ],\n",
       "          [-22.791504  , -25.642494  , -24.92406   ],\n",
       "          [-20.403694  , -23.22737   , -21.931889  ]],\n",
       "  \n",
       "         [[-24.263807  , -14.628935  , -23.251373  ],\n",
       "          [-19.702662  , -12.260948  , -23.553595  ],\n",
       "          [-24.873964  , -16.929344  , -22.362194  ],\n",
       "          ...,\n",
       "          [-22.448204  , -15.972491  , -21.802322  ],\n",
       "          [-28.172308  , -19.487425  , -22.887766  ],\n",
       "          [-24.153791  , -16.137737  , -23.606815  ]]], dtype=float32)>,\n",
       "  <tf.Tensor: shape=(64, 64, 3), dtype=float32, numpy=\n",
       "  array([[[-10.543276  , -12.857535  ,  -9.303964  ],\n",
       "          [ -3.7612183 ,  -7.5407443 , -12.6763525 ],\n",
       "          [ -7.414084  ,  -4.1803546 , -14.216441  ],\n",
       "          ...,\n",
       "          [ -5.9451795 , -10.275073  , -11.199581  ],\n",
       "          [ -6.4895782 ,  -9.515871  , -10.609279  ],\n",
       "          [ -2.6653357 , -11.540106  , -19.515331  ]],\n",
       "  \n",
       "         [[ -7.5014653 ,  -5.9053493 ,  -9.205295  ],\n",
       "          [ -5.427956  ,  -2.0185409 , -13.971015  ],\n",
       "          [ -6.003568  ,   3.0203633 , -11.450794  ],\n",
       "          ...,\n",
       "          [ -5.9859324 ,  -2.1114216 , -11.319638  ],\n",
       "          [ -2.308221  ,  -0.42117137, -12.318282  ],\n",
       "          [ -3.1433527 ,  -5.3040004 , -19.157946  ]],\n",
       "  \n",
       "         [[ -4.6715074 ,  -1.3005306 , -13.000558  ],\n",
       "          [ -5.215402  ,   3.6370156 , -15.693394  ],\n",
       "          [ -3.3448935 ,   8.450844  , -12.238239  ],\n",
       "          ...,\n",
       "          [-11.116033  ,   2.508014  , -13.188339  ],\n",
       "          [ -1.82129   ,   3.3896494 , -14.802139  ],\n",
       "          [ -5.7185097 ,   3.7941685 , -16.514374  ]],\n",
       "  \n",
       "         ...,\n",
       "  \n",
       "         [[ -2.706204  ,   3.096255  ,   3.4629116 ],\n",
       "          [ -2.1558425 ,   4.233157  ,   5.064927  ],\n",
       "          [ -1.9512441 ,   3.2503283 ,   3.1822166 ],\n",
       "          ...,\n",
       "          [ -2.2212005 ,  -3.1813915 ,   3.4626667 ],\n",
       "          [ -1.9539338 ,   3.402403  ,   3.9061987 ],\n",
       "          [ -4.371991  ,   3.0239058 ,   3.5758848 ]],\n",
       "  \n",
       "         [[ -3.3106296 ,   3.0041406 ,   2.9153402 ],\n",
       "          [ -2.5311031 ,   3.2720852 ,   4.1057158 ],\n",
       "          [ -1.279089  ,   3.614354  ,   3.7493553 ],\n",
       "          ...,\n",
       "          [ -2.104516  ,   1.6553682 ,   3.643984  ],\n",
       "          [ -2.7282968 ,   0.91645056,   3.2199996 ],\n",
       "          [ -3.6818862 ,   2.9699223 ,   2.8106234 ]],\n",
       "  \n",
       "         [[-10.497372  ,  -0.68981874,  -5.55729   ],\n",
       "          [ -9.392675  ,  -3.9355795 ,  -3.3872104 ],\n",
       "          [ -5.38612   ,  -1.3836658 ,  -1.651375  ],\n",
       "          ...,\n",
       "          [ -6.825906  ,  -4.2115927 ,  -2.2717865 ],\n",
       "          [-10.035154  , -10.910945  ,  -3.8149176 ],\n",
       "          [ -8.710238  ,  -2.1890383 ,  -2.7973843 ]]], dtype=float32)>)]"
      ]
     },
     "execution_count": 85,
     "metadata": {},
     "output_type": "execute_result"
    }
   ],
   "source": [
    "list(ds.take(1))"
   ]
  },
  {
   "cell_type": "markdown",
   "id": "1bdf042a",
   "metadata": {},
   "source": [
    "# EOF"
   ]
  },
  {
   "cell_type": "code",
   "execution_count": 8,
   "id": "fba482b9-2568-4f35-96bf-fa07ab2be3d6",
   "metadata": {},
   "outputs": [],
   "source": [
    "batch_size = 16\n",
    "\n",
    "ds_size = 5000\n",
    "ds_train = ds_split['train'].shuffle(ds_size, reshuffle_each_iteration=True).cache().batch(batch_size).prefetch(tf.data.AUTOTUNE)\n",
    "ds_val = ds_split['val'].shuffle(ds_size, reshuffle_each_iteration=True).cache().batch(batch_size).prefetch(tf.data.AUTOTUNE)\n",
    "ds_test = ds_split['test'].shuffle(ds_size, reshuffle_each_iteration=True).cache().batch(batch_size).prefetch(tf.data.AUTOTUNE)\n",
    "\n",
    "# ds_train = ds_split['train'].cache().batch(batch_size).prefetch(tf.data.AUTOTUNE)\n",
    "# ds_val = ds_split['val'].cache().batch(batch_size).prefetch(tf.data.AUTOTUNE)\n",
    "# # ds_val = ds_split['val'].cache().prefetch(tf.data.AUTOTUNE)\n",
    "# ds_test = ds_split['test'].cache().batch(batch_size).prefetch(tf.data.AUTOTUNE)\n",
    "\n",
    "# print(len(ds_split['train']))\n",
    "# print(len(ds_train))"
   ]
  },
  {
   "cell_type": "code",
   "execution_count": 9,
   "id": "e0cab5f5-a256-4985-a245-e9ff98c7201f",
   "metadata": {},
   "outputs": [
    {
     "name": "stdout",
     "output_type": "stream",
     "text": [
      "30 (64, 64, 3)\n"
     ]
    }
   ],
   "source": [
    "ele = takesample(ds_split['train'])\n",
    "input_shape = ele[0].shape\n",
    "n_classes = len(labels)+1  # must add one for the outlier class, Keras uses zero-based class labels.\n",
    "\n",
    "print(n_classes, input_shape)"
   ]
  },
  {
   "cell_type": "markdown",
   "id": "60e8f971-1b85-4afc-8559-85c240b8aae9",
   "metadata": {},
   "source": [
    "## Auto Encoder"
   ]
  },
  {
   "cell_type": "code",
   "execution_count": 129,
   "id": "a30ed963-e278-464b-976d-850f74eb7e2c",
   "metadata": {},
   "outputs": [
    {
     "name": "stdout",
     "output_type": "stream",
     "text": [
      "Params(n_channels=3, n_bands=64, n_frames=64, n_embedding=128, kernel_size=(7, 7), activation='relu', padding='same', pool_size=(2, 2), strides=(2, 2))\n"
     ]
    }
   ],
   "source": [
    "from dpmhm.models import autoencoder\n",
    "\n",
    "n_bands, n_frames, n_channels = input_shape\n",
    "\n",
    "params = autoencoder.Params(n_bands=n_bands, n_frames=n_frames, n_channels=n_channels, \n",
    "                            n_embedding=128, \n",
    "                            padding='same',\n",
    "                            kernel_size=(7,7),\n",
    "                            activation='relu',                            \n",
    "                            )\n",
    "print(params)\n",
    "\n",
    "# model.summary()\n",
    "\n",
    "# l=model.get_layer('classifier')"
   ]
  },
  {
   "cell_type": "code",
   "execution_count": 130,
   "id": "880ea4d3-b44f-4b32-83b7-ba9301f94eaa",
   "metadata": {},
   "outputs": [
    {
     "name": "stdout",
     "output_type": "stream",
     "text": [
      "Model: \"encoder\"\n",
      "_________________________________________________________________\n",
      " Layer (type)                Output Shape              Param #   \n",
      "=================================================================\n",
      " conv1_enc (Conv2D)          (None, 64, 64, 32)        4736      \n",
      "                                                                 \n",
      " pool1_enc (MaxPooling2D)    (None, 32, 32, 32)        0         \n",
      "                                                                 \n",
      " conv2_enc (Conv2D)          (None, 32, 32, 64)        100416    \n",
      "                                                                 \n",
      " pool2_enc (MaxPooling2D)    (None, 16, 16, 64)        0         \n",
      "                                                                 \n",
      " flatten (Flatten)           (None, 16384)             0         \n",
      "                                                                 \n",
      " fc1_enc (Dense)             (None, 128)               2097280   \n",
      "                                                                 \n",
      "=================================================================\n",
      "Total params: 2,202,432\n",
      "Trainable params: 2,202,432\n",
      "Non-trainable params: 0\n",
      "_________________________________________________________________\n",
      "Model: \"decoder\"\n",
      "_________________________________________________________________\n",
      " Layer (type)                Output Shape              Param #   \n",
      "=================================================================\n",
      " fc1_dec (Dense)             (None, 16384)             2113536   \n",
      "                                                                 \n",
      " reshape (Reshape)           (None, 16, 16, 64)        0         \n",
      "                                                                 \n",
      " ups2_dec (UpSampling2D)     (None, 32, 32, 64)        0         \n",
      "                                                                 \n",
      " tconv2_dec (Conv2DTranspose  (None, 32, 32, 32)       100384    \n",
      " )                                                               \n",
      "                                                                 \n",
      " ups1_dec (UpSampling2D)     (None, 64, 64, 32)        0         \n",
      "                                                                 \n",
      " tconv1_dec (Conv2DTranspose  (None, 64, 64, 3)        4707      \n",
      " )                                                               \n",
      "                                                                 \n",
      "=================================================================\n",
      "Total params: 2,218,627\n",
      "Trainable params: 2,218,627\n",
      "Non-trainable params: 0\n",
      "_________________________________________________________________\n"
     ]
    }
   ],
   "source": [
    "model = autoencoder.CAES(params)\n",
    "\n",
    "# model.summary()\n",
    "model.encoder.summary()\n",
    "model.decoder.summary()"
   ]
  },
  {
   "cell_type": "code",
   "execution_count": 131,
   "id": "7c122363-9cf0-4fda-8bbf-e5c5797317c6",
   "metadata": {},
   "outputs": [],
   "source": [
    "model.compile(\n",
    "    optimizer=tf.keras.optimizers.Adam(),\n",
    "    loss=tf.keras.losses.MeanSquaredError(),\n",
    "    # metrics=['accuracy'],\n",
    ")"
   ]
  },
  {
   "cell_type": "code",
   "execution_count": 132,
   "id": "87013b0a-b517-4e94-b0ca-6ceee3cec7b5",
   "metadata": {
    "tags": []
   },
   "outputs": [
    {
     "name": "stdout",
     "output_type": "stream",
     "text": [
      "Epoch 1/100\n",
      "204/204 [==============================] - 4s 19ms/step - loss: 84.4303 - val_loss: 47.5491\n",
      "Epoch 2/100\n",
      "204/204 [==============================] - 3s 17ms/step - loss: 42.1183 - val_loss: 38.6434\n",
      "Epoch 3/100\n",
      "204/204 [==============================] - 4s 17ms/step - loss: 41.2846 - val_loss: 37.0645\n",
      "Epoch 4/100\n",
      "204/204 [==============================] - 4s 17ms/step - loss: 35.7973 - val_loss: 34.5082\n",
      "Epoch 5/100\n",
      "204/204 [==============================] - 3s 17ms/step - loss: 34.5438 - val_loss: 33.8188\n",
      "Epoch 6/100\n",
      "204/204 [==============================] - 3s 17ms/step - loss: 33.9629 - val_loss: 33.6864\n",
      "Epoch 7/100\n",
      "204/204 [==============================] - 3s 17ms/step - loss: 33.5555 - val_loss: 33.1814\n",
      "Epoch 8/100\n",
      "204/204 [==============================] - 3s 17ms/step - loss: 33.4977 - val_loss: 33.2551\n",
      "Epoch 9/100\n",
      "204/204 [==============================] - 3s 17ms/step - loss: 33.5557 - val_loss: 32.8815\n",
      "Epoch 10/100\n",
      "204/204 [==============================] - 3s 17ms/step - loss: 33.1914 - val_loss: 32.3921\n",
      "Epoch 11/100\n",
      "204/204 [==============================] - 3s 17ms/step - loss: 32.6130 - val_loss: 32.4669\n",
      "Epoch 12/100\n",
      "204/204 [==============================] - 4s 17ms/step - loss: 32.6838 - val_loss: 32.8527\n",
      "Epoch 13/100\n",
      "204/204 [==============================] - 4s 17ms/step - loss: 33.0826 - val_loss: 32.1400\n",
      "Epoch 14/100\n",
      "204/204 [==============================] - 4s 17ms/step - loss: 33.1196 - val_loss: 31.7433\n",
      "Epoch 15/100\n",
      "204/204 [==============================] - 3s 17ms/step - loss: 32.4317 - val_loss: 32.2452\n",
      "Epoch 16/100\n",
      "204/204 [==============================] - 3s 17ms/step - loss: 34.9166 - val_loss: 32.9724\n",
      "Epoch 17/100\n",
      "204/204 [==============================] - 3s 17ms/step - loss: 32.1229 - val_loss: 31.3848\n",
      "Epoch 18/100\n",
      "204/204 [==============================] - 3s 17ms/step - loss: 31.6665 - val_loss: 31.1594\n",
      "Epoch 19/100\n",
      "204/204 [==============================] - 3s 17ms/step - loss: 31.9527 - val_loss: 31.4791\n",
      "Epoch 20/100\n",
      "204/204 [==============================] - 3s 17ms/step - loss: 31.7048 - val_loss: 31.3990\n",
      "Epoch 21/100\n",
      "204/204 [==============================] - 3s 17ms/step - loss: 31.7575 - val_loss: 31.4994\n",
      "Epoch 21: early stopping\n"
     ]
    }
   ],
   "source": [
    "history = model.fit(\n",
    "    ds_train.map(lambda x,l:(x,x)),\n",
    "    validation_data=ds_val.map(lambda x,l:(x,x)),\n",
    "    epochs=100,\n",
    "    callbacks=tf.keras.callbacks.EarlyStopping(verbose=1, patience=3),\n",
    ")\n"
   ]
  },
  {
   "cell_type": "code",
   "execution_count": null,
   "id": "c5a5c43e-01cf-401c-b71a-3f8bffc9e64b",
   "metadata": {},
   "outputs": [],
   "source": []
  },
  {
   "cell_type": "code",
   "execution_count": null,
   "id": "916c61d9-7de3-4c29-94bc-3f35a88fbf0a",
   "metadata": {},
   "outputs": [],
   "source": []
  },
  {
   "cell_type": "code",
   "execution_count": 135,
   "id": "7e7a6b98-9e07-4234-ab7a-fe61581d211e",
   "metadata": {},
   "outputs": [],
   "source": [
    "x, _ = takesample(ds_val)\n",
    "y = model(x)"
   ]
  },
  {
   "cell_type": "code",
   "execution_count": 136,
   "id": "6b01c514-ad4f-4f25-becb-154df341e6ff",
   "metadata": {},
   "outputs": [],
   "source": [
    "ch = 2\n",
    "n = 2\n",
    "a = x[n][:,:,ch]\n",
    "b = y[n][:,:,ch]"
   ]
  },
  {
   "cell_type": "code",
   "execution_count": 137,
   "id": "168543d5-ee9b-4f18-94a5-5c8ad1f53806",
   "metadata": {},
   "outputs": [
    {
     "data": {
      "text/plain": [
       "<matplotlib.image.AxesImage at 0x7fe83543fcd0>"
      ]
     },
     "execution_count": 137,
     "metadata": {},
     "output_type": "execute_result"
    },
    {
     "data": {
      "image/png": "[encoded data removed]",
      "text/plain": [
       "<Figure size 432x288 with 1 Axes>"
      ]
     },
     "metadata": {
      "needs_background": "light"
     },
     "output_type": "display_data"
    }
   ],
   "source": [
    "plt.imshow(a)"
   ]
  },
  {
   "cell_type": "code",
   "execution_count": 138,
   "id": "023281fa-d212-411e-9b02-9018beac85aa",
   "metadata": {},
   "outputs": [
    {
     "data": {
      "text/plain": [
       "<matplotlib.image.AxesImage at 0x7fe83549fe80>"
      ]
     },
     "execution_count": 138,
     "metadata": {},
     "output_type": "execute_result"
    },
    {
     "data": {
      "image/png": "[encoded data removed]",
      "text/plain": [
       "<Figure size 432x288 with 1 Axes>"
      ]
     },
     "metadata": {
      "needs_background": "light"
     },
     "output_type": "display_data"
    }
   ],
   "source": [
    "plt.imshow(b)"
   ]
  },
  {
   "cell_type": "code",
   "execution_count": 126,
   "id": "fe6cfdd3-6509-4d13-895b-3b94477bdade",
   "metadata": {},
   "outputs": [
    {
     "data": {
      "text/plain": [
       "<matplotlib.image.AxesImage at 0x7fe8359dc910>"
      ]
     },
     "execution_count": 126,
     "metadata": {},
     "output_type": "execute_result"
    },
    {
     "data": {
      "image/png": "[encoded data removed]",
      "text/plain": [
       "<Figure size 432x288 with 1 Axes>"
      ]
     },
     "metadata": {
      "needs_background": "light"
     },
     "output_type": "display_data"
    }
   ],
   "source": [
    "plt.imshow(b)"
   ]
  },
  {
   "cell_type": "code",
   "execution_count": 116,
   "id": "08ff931e-cc8f-47f5-8c1a-3cf2daf75fe3",
   "metadata": {},
   "outputs": [
    {
     "data": {
      "text/plain": [
       "<matplotlib.image.AxesImage at 0x7fe835695df0>"
      ]
     },
     "execution_count": 116,
     "metadata": {},
     "output_type": "execute_result"
    },
    {
     "data": {
      "image/png": "[encoded data removed]",
      "text/plain": [
       "<Figure size 432x288 with 1 Axes>"
      ]
     },
     "metadata": {
      "needs_background": "light"
     },
     "output_type": "display_data"
    }
   ],
   "source": [
    "plt.imshow(b)"
   ]
  },
  {
   "cell_type": "code",
   "execution_count": 139,
   "id": "3e3a18c8-0ec3-4bae-a943-7c4a6d4bf414",
   "metadata": {},
   "outputs": [
    {
     "data": {
      "text/plain": [
       "<matplotlib.image.AxesImage at 0x7fe835119f40>"
      ]
     },
     "execution_count": 139,
     "metadata": {},
     "output_type": "execute_result"
    },
    {
     "data": {
      "image/png": "[encoded data removed]",
      "text/plain": [
       "<Figure size 432x288 with 1 Axes>"
      ]
     },
     "metadata": {
      "needs_background": "light"
     },
     "output_type": "display_data"
    }
   ],
   "source": [
    "plt.imshow(a-b)"
   ]
  },
  {
   "cell_type": "code",
   "execution_count": 127,
   "id": "7ded36c3-c706-4eff-ab4a-c61f6c66507b",
   "metadata": {},
   "outputs": [
    {
     "data": {
      "text/plain": [
       "<matplotlib.image.AxesImage at 0x7fe835e43700>"
      ]
     },
     "execution_count": 127,
     "metadata": {},
     "output_type": "execute_result"
    },
    {
     "data": {
      "image/png": "[encoded data removed]",
      "text/plain": [
       "<Figure size 432x288 with 1 Axes>"
      ]
     },
     "metadata": {
      "needs_background": "light"
     },
     "output_type": "display_data"
    }
   ],
   "source": [
    "plt.imshow(a-b)"
   ]
  },
  {
   "cell_type": "code",
   "execution_count": null,
   "id": "e9a0ab1f-0768-481b-a1c2-a212581f9b98",
   "metadata": {},
   "outputs": [],
   "source": []
  },
  {
   "cell_type": "code",
   "execution_count": null,
   "id": "da7fb4b4-a05c-405e-9a14-17b2f7d07d03",
   "metadata": {},
   "outputs": [],
   "source": []
  },
  {
   "cell_type": "code",
   "execution_count": null,
   "id": "b8db7edf-bbd9-4fd1-9152-7aa853bfaa19",
   "metadata": {},
   "outputs": [],
   "source": []
  },
  {
   "cell_type": "code",
   "execution_count": null,
   "id": "1152072c-d8a3-4c08-956e-5d63e8231dcb",
   "metadata": {},
   "outputs": [],
   "source": []
  },
  {
   "cell_type": "code",
   "execution_count": 36,
   "id": "387c6cef-212f-49e5-b975-7bc1b82ae9b4",
   "metadata": {},
   "outputs": [
    {
     "name": "stdout",
     "output_type": "stream",
     "text": [
      "Automatic pdb calling has been turned OFF\n"
     ]
    }
   ],
   "source": [
    "pdb"
   ]
  },
  {
   "cell_type": "code",
   "execution_count": null,
   "id": "a38c42bd-596e-41bd-9ab2-de92a7a202c0",
   "metadata": {},
   "outputs": [],
   "source": []
  },
  {
   "cell_type": "code",
   "execution_count": null,
   "id": "51aaebc6-2baf-46be-9cf6-286e697c3bcf",
   "metadata": {},
   "outputs": [],
   "source": []
  },
  {
   "cell_type": "code",
   "execution_count": 29,
   "id": "5211274f-383f-40f2-be96-e020027fa5b3",
   "metadata": {},
   "outputs": [
    {
     "name": "stderr",
     "output_type": "stream",
     "text": [
      "WARNING:absl:Found untraced functions such as _jit_compiled_convolution_op, _jit_compiled_convolution_op, _jit_compiled_convolution_op, _jit_compiled_convolution_op, _jit_compiled_convolution_op while saving (showing 5 of 8). These functions will not be directly callable after loading.\n"
     ]
    },
    {
     "name": "stdout",
     "output_type": "stream",
     "text": [
      "INFO:tensorflow:Assets written to: /home/han/tmp/cwru/mel/full_domain/{'train': 0.7, 'val': 0.2, 'test': 0.1}/vggish/assets\n"
     ]
    },
    {
     "name": "stderr",
     "output_type": "stream",
     "text": [
      "INFO:tensorflow:Assets written to: /home/han/tmp/cwru/mel/full_domain/{'train': 0.7, 'val': 0.2, 'test': 0.1}/vggish/assets\n"
     ]
    }
   ],
   "source": [
    "model.save(\"/home/han/tmp/cwru/mel/full_domain/{'train': 0.7, 'val': 0.2, 'test': 0.1}/vggish\")\n",
    "# model = keras.models.load_model('/home/han/tmp/cwru/vggish')"
   ]
  },
  {
   "cell_type": "code",
   "execution_count": 16,
   "id": "8e444f8f-71a4-4020-a589-270e9a9e5df7",
   "metadata": {},
   "outputs": [
    {
     "name": "stdout",
     "output_type": "stream",
     "text": [
      "72/72 [==============================] - 1s 13ms/step - loss: 19.4831 - accuracy: 0.0373\n"
     ]
    },
    {
     "data": {
      "text/plain": [
       "[19.483142852783203, 0.0373263880610466]"
      ]
     },
     "execution_count": 16,
     "metadata": {},
     "output_type": "execute_result"
    }
   ],
   "source": [
    "model.evaluate(ds_test)"
   ]
  },
  {
   "cell_type": "markdown",
   "id": "8490478c-e881-4fc9-a683-e75d59c6d7f5",
   "metadata": {},
   "source": [
    "### Keras implementation with transfer learning"
   ]
  },
  {
   "cell_type": "code",
   "execution_count": 25,
   "id": "80c5e6e9-5d8e-49ea-b943-86a6d62dbafb",
   "metadata": {},
   "outputs": [],
   "source": [
    "base_model = VGG16(include_top=False, weights='imagenet', input_shape=input_shape, classes=n_classes)\n",
    "\n",
    "base_model.trainable = False\n",
    "\n",
    "inputs = base_model.layers[0].input\n",
    "# layer = keras.layers.BatchNormalization()\n",
    "# layer.build((None, 4))  # Create the weights\n",
    "\n",
    "x = base_model(inputs, training=False)\n",
    "x = keras.layers.Flatten(name=\"flatten\")(x)\n",
    "x = keras.layers.Dense(4096, activation=\"relu\", name=\"fc1\")(x)\n",
    "x = keras.layers.Dense(4096, activation=\"relu\", name=\"fc2\")(x)\n",
    "outputs = keras.layers.Dense(n_classes, activation=None, name=\"predictions\")(x)\n",
    "\n",
    "model = keras.Model(inputs, outputs)\n",
    "\n",
    "from_logits = 'softmax' not in str(model.get_layer('predictions').activation)\n",
    "\n",
    "model.compile(\n",
    "    optimizer=tf.keras.optimizers.Adam(),\n",
    "    loss=tf.keras.losses.SparseCategoricalCrossentropy(from_logits=from_logits),\n",
    "    metrics=['accuracy'],\n",
    ")"
   ]
  },
  {
   "cell_type": "code",
   "execution_count": 26,
   "id": "2f8354ee-7bf5-49c6-90bc-b5ee6ba6b604",
   "metadata": {},
   "outputs": [
    {
     "name": "stdout",
     "output_type": "stream",
     "text": [
      "Epoch 1/100\n",
      "175/175 [==============================] - 10s 54ms/step - loss: 17.4417 - accuracy: 0.2467 - val_loss: 3.3726 - val_accuracy: 0.0325\n",
      "Epoch 2/100\n",
      "175/175 [==============================] - 5s 31ms/step - loss: 3.1713 - accuracy: 0.2799 - val_loss: 3.4204 - val_accuracy: 0.0410\n",
      "Epoch 3/100\n",
      "175/175 [==============================] - 5s 31ms/step - loss: 3.7078 - accuracy: 0.1040 - val_loss: 3.3824 - val_accuracy: 0.0410\n",
      "Epoch 4/100\n",
      "175/175 [==============================] - 6s 31ms/step - loss: 3.4660 - accuracy: 0.0189 - val_loss: 3.3006 - val_accuracy: 0.0410\n",
      "Epoch 5/100\n",
      "175/175 [==============================] - 6s 32ms/step - loss: 3.3705 - accuracy: 0.0036 - val_loss: 3.2551 - val_accuracy: 0.0509\n",
      "Epoch 6/100\n",
      " 95/175 [===============>..............] - ETA: 2s - loss: 3.3426 - accuracy: 0.0092"
     ]
    },
    {
     "ename": "KeyboardInterrupt",
     "evalue": "",
     "output_type": "error",
     "traceback": [
      "\u001b[0;31m---------------------------------------------------------------------------\u001b[0m",
      "\u001b[0;31mKeyboardInterrupt\u001b[0m                         Traceback (most recent call last)",
      "Input \u001b[0;32mIn [26]\u001b[0m, in \u001b[0;36m<cell line: 1>\u001b[0;34m()\u001b[0m\n\u001b[0;32m----> 1\u001b[0m history \u001b[38;5;241m=\u001b[39m \u001b[43mmodel\u001b[49m\u001b[38;5;241;43m.\u001b[39;49m\u001b[43mfit\u001b[49m\u001b[43m(\u001b[49m\n\u001b[1;32m      2\u001b[0m \u001b[43m    \u001b[49m\u001b[43mds_train\u001b[49m\u001b[43m,\u001b[49m\n\u001b[1;32m      3\u001b[0m \u001b[43m    \u001b[49m\u001b[43mvalidation_data\u001b[49m\u001b[38;5;241;43m=\u001b[39;49m\u001b[43mds_val\u001b[49m\u001b[43m,\u001b[49m\n\u001b[1;32m      4\u001b[0m \u001b[43m    \u001b[49m\u001b[43mepochs\u001b[49m\u001b[38;5;241;43m=\u001b[39;49m\u001b[38;5;241;43m100\u001b[39;49m\u001b[43m,\u001b[49m\n\u001b[1;32m      5\u001b[0m \u001b[43m    \u001b[49m\u001b[43mcallbacks\u001b[49m\u001b[38;5;241;43m=\u001b[39;49m\u001b[43mtf\u001b[49m\u001b[38;5;241;43m.\u001b[39;49m\u001b[43mkeras\u001b[49m\u001b[38;5;241;43m.\u001b[39;49m\u001b[43mcallbacks\u001b[49m\u001b[38;5;241;43m.\u001b[39;49m\u001b[43mEarlyStopping\u001b[49m\u001b[43m(\u001b[49m\u001b[43mverbose\u001b[49m\u001b[38;5;241;43m=\u001b[39;49m\u001b[38;5;241;43m1\u001b[39;49m\u001b[43m,\u001b[49m\u001b[43m \u001b[49m\u001b[43mpatience\u001b[49m\u001b[38;5;241;43m=\u001b[39;49m\u001b[38;5;241;43m3\u001b[39;49m\u001b[43m)\u001b[49m\u001b[43m,\u001b[49m\n\u001b[1;32m      6\u001b[0m \u001b[43m)\u001b[49m\n",
      "File \u001b[0;32m~/.conda/envs/dev38/lib/python3.8/site-packages/keras/utils/traceback_utils.py:65\u001b[0m, in \u001b[0;36mfilter_traceback.<locals>.error_handler\u001b[0;34m(*args, **kwargs)\u001b[0m\n\u001b[1;32m     63\u001b[0m filtered_tb \u001b[38;5;241m=\u001b[39m \u001b[38;5;28;01mNone\u001b[39;00m\n\u001b[1;32m     64\u001b[0m \u001b[38;5;28;01mtry\u001b[39;00m:\n\u001b[0;32m---> 65\u001b[0m     \u001b[38;5;28;01mreturn\u001b[39;00m \u001b[43mfn\u001b[49m\u001b[43m(\u001b[49m\u001b[38;5;241;43m*\u001b[39;49m\u001b[43margs\u001b[49m\u001b[43m,\u001b[49m\u001b[43m \u001b[49m\u001b[38;5;241;43m*\u001b[39;49m\u001b[38;5;241;43m*\u001b[39;49m\u001b[43mkwargs\u001b[49m\u001b[43m)\u001b[49m\n\u001b[1;32m     66\u001b[0m \u001b[38;5;28;01mexcept\u001b[39;00m \u001b[38;5;167;01mException\u001b[39;00m \u001b[38;5;28;01mas\u001b[39;00m e:\n\u001b[1;32m     67\u001b[0m     filtered_tb \u001b[38;5;241m=\u001b[39m _process_traceback_frames(e\u001b[38;5;241m.\u001b[39m__traceback__)\n",
      "File \u001b[0;32m~/.conda/envs/dev38/lib/python3.8/site-packages/keras/engine/training.py:1564\u001b[0m, in \u001b[0;36mModel.fit\u001b[0;34m(self, x, y, batch_size, epochs, verbose, callbacks, validation_split, validation_data, shuffle, class_weight, sample_weight, initial_epoch, steps_per_epoch, validation_steps, validation_batch_size, validation_freq, max_queue_size, workers, use_multiprocessing)\u001b[0m\n\u001b[1;32m   1556\u001b[0m \u001b[38;5;28;01mwith\u001b[39;00m tf\u001b[38;5;241m.\u001b[39mprofiler\u001b[38;5;241m.\u001b[39mexperimental\u001b[38;5;241m.\u001b[39mTrace(\n\u001b[1;32m   1557\u001b[0m     \u001b[38;5;124m\"\u001b[39m\u001b[38;5;124mtrain\u001b[39m\u001b[38;5;124m\"\u001b[39m,\n\u001b[1;32m   1558\u001b[0m     epoch_num\u001b[38;5;241m=\u001b[39mepoch,\n\u001b[0;32m   (...)\u001b[0m\n\u001b[1;32m   1561\u001b[0m     _r\u001b[38;5;241m=\u001b[39m\u001b[38;5;241m1\u001b[39m,\n\u001b[1;32m   1562\u001b[0m ):\n\u001b[1;32m   1563\u001b[0m     callbacks\u001b[38;5;241m.\u001b[39mon_train_batch_begin(step)\n\u001b[0;32m-> 1564\u001b[0m     tmp_logs \u001b[38;5;241m=\u001b[39m \u001b[38;5;28;43mself\u001b[39;49m\u001b[38;5;241;43m.\u001b[39;49m\u001b[43mtrain_function\u001b[49m\u001b[43m(\u001b[49m\u001b[43miterator\u001b[49m\u001b[43m)\u001b[49m\n\u001b[1;32m   1565\u001b[0m     \u001b[38;5;28;01mif\u001b[39;00m data_handler\u001b[38;5;241m.\u001b[39mshould_sync:\n\u001b[1;32m   1566\u001b[0m         context\u001b[38;5;241m.\u001b[39masync_wait()\n",
      "File \u001b[0;32m~/.conda/envs/dev38/lib/python3.8/site-packages/tensorflow/python/util/traceback_utils.py:150\u001b[0m, in \u001b[0;36mfilter_traceback.<locals>.error_handler\u001b[0;34m(*args, **kwargs)\u001b[0m\n\u001b[1;32m    148\u001b[0m filtered_tb \u001b[38;5;241m=\u001b[39m \u001b[38;5;28;01mNone\u001b[39;00m\n\u001b[1;32m    149\u001b[0m \u001b[38;5;28;01mtry\u001b[39;00m:\n\u001b[0;32m--> 150\u001b[0m   \u001b[38;5;28;01mreturn\u001b[39;00m \u001b[43mfn\u001b[49m\u001b[43m(\u001b[49m\u001b[38;5;241;43m*\u001b[39;49m\u001b[43margs\u001b[49m\u001b[43m,\u001b[49m\u001b[43m \u001b[49m\u001b[38;5;241;43m*\u001b[39;49m\u001b[38;5;241;43m*\u001b[39;49m\u001b[43mkwargs\u001b[49m\u001b[43m)\u001b[49m\n\u001b[1;32m    151\u001b[0m \u001b[38;5;28;01mexcept\u001b[39;00m \u001b[38;5;167;01mException\u001b[39;00m \u001b[38;5;28;01mas\u001b[39;00m e:\n\u001b[1;32m    152\u001b[0m   filtered_tb \u001b[38;5;241m=\u001b[39m _process_traceback_frames(e\u001b[38;5;241m.\u001b[39m__traceback__)\n",
      "File \u001b[0;32m~/.conda/envs/dev38/lib/python3.8/site-packages/tensorflow/python/eager/def_function.py:915\u001b[0m, in \u001b[0;36mFunction.__call__\u001b[0;34m(self, *args, **kwds)\u001b[0m\n\u001b[1;32m    912\u001b[0m compiler \u001b[38;5;241m=\u001b[39m \u001b[38;5;124m\"\u001b[39m\u001b[38;5;124mxla\u001b[39m\u001b[38;5;124m\"\u001b[39m \u001b[38;5;28;01mif\u001b[39;00m \u001b[38;5;28mself\u001b[39m\u001b[38;5;241m.\u001b[39m_jit_compile \u001b[38;5;28;01melse\u001b[39;00m \u001b[38;5;124m\"\u001b[39m\u001b[38;5;124mnonXla\u001b[39m\u001b[38;5;124m\"\u001b[39m\n\u001b[1;32m    914\u001b[0m \u001b[38;5;28;01mwith\u001b[39;00m OptionalXlaContext(\u001b[38;5;28mself\u001b[39m\u001b[38;5;241m.\u001b[39m_jit_compile):\n\u001b[0;32m--> 915\u001b[0m   result \u001b[38;5;241m=\u001b[39m \u001b[38;5;28;43mself\u001b[39;49m\u001b[38;5;241;43m.\u001b[39;49m\u001b[43m_call\u001b[49m\u001b[43m(\u001b[49m\u001b[38;5;241;43m*\u001b[39;49m\u001b[43margs\u001b[49m\u001b[43m,\u001b[49m\u001b[43m \u001b[49m\u001b[38;5;241;43m*\u001b[39;49m\u001b[38;5;241;43m*\u001b[39;49m\u001b[43mkwds\u001b[49m\u001b[43m)\u001b[49m\n\u001b[1;32m    917\u001b[0m new_tracing_count \u001b[38;5;241m=\u001b[39m \u001b[38;5;28mself\u001b[39m\u001b[38;5;241m.\u001b[39mexperimental_get_tracing_count()\n\u001b[1;32m    918\u001b[0m without_tracing \u001b[38;5;241m=\u001b[39m (tracing_count \u001b[38;5;241m==\u001b[39m new_tracing_count)\n",
      "File \u001b[0;32m~/.conda/envs/dev38/lib/python3.8/site-packages/tensorflow/python/eager/def_function.py:947\u001b[0m, in \u001b[0;36mFunction._call\u001b[0;34m(self, *args, **kwds)\u001b[0m\n\u001b[1;32m    944\u001b[0m   \u001b[38;5;28mself\u001b[39m\u001b[38;5;241m.\u001b[39m_lock\u001b[38;5;241m.\u001b[39mrelease()\n\u001b[1;32m    945\u001b[0m   \u001b[38;5;66;03m# In this case we have created variables on the first call, so we run the\u001b[39;00m\n\u001b[1;32m    946\u001b[0m   \u001b[38;5;66;03m# defunned version which is guaranteed to never create variables.\u001b[39;00m\n\u001b[0;32m--> 947\u001b[0m   \u001b[38;5;28;01mreturn\u001b[39;00m \u001b[38;5;28;43mself\u001b[39;49m\u001b[38;5;241;43m.\u001b[39;49m\u001b[43m_stateless_fn\u001b[49m\u001b[43m(\u001b[49m\u001b[38;5;241;43m*\u001b[39;49m\u001b[43margs\u001b[49m\u001b[43m,\u001b[49m\u001b[43m \u001b[49m\u001b[38;5;241;43m*\u001b[39;49m\u001b[38;5;241;43m*\u001b[39;49m\u001b[43mkwds\u001b[49m\u001b[43m)\u001b[49m  \u001b[38;5;66;03m# pylint: disable=not-callable\u001b[39;00m\n\u001b[1;32m    948\u001b[0m \u001b[38;5;28;01melif\u001b[39;00m \u001b[38;5;28mself\u001b[39m\u001b[38;5;241m.\u001b[39m_stateful_fn \u001b[38;5;129;01mis\u001b[39;00m \u001b[38;5;129;01mnot\u001b[39;00m \u001b[38;5;28;01mNone\u001b[39;00m:\n\u001b[1;32m    949\u001b[0m   \u001b[38;5;66;03m# Release the lock early so that multiple threads can perform the call\u001b[39;00m\n\u001b[1;32m    950\u001b[0m   \u001b[38;5;66;03m# in parallel.\u001b[39;00m\n\u001b[1;32m    951\u001b[0m   \u001b[38;5;28mself\u001b[39m\u001b[38;5;241m.\u001b[39m_lock\u001b[38;5;241m.\u001b[39mrelease()\n",
      "File \u001b[0;32m~/.conda/envs/dev38/lib/python3.8/site-packages/tensorflow/python/eager/function.py:2496\u001b[0m, in \u001b[0;36mFunction.__call__\u001b[0;34m(self, *args, **kwargs)\u001b[0m\n\u001b[1;32m   2493\u001b[0m \u001b[38;5;28;01mwith\u001b[39;00m \u001b[38;5;28mself\u001b[39m\u001b[38;5;241m.\u001b[39m_lock:\n\u001b[1;32m   2494\u001b[0m   (graph_function,\n\u001b[1;32m   2495\u001b[0m    filtered_flat_args) \u001b[38;5;241m=\u001b[39m \u001b[38;5;28mself\u001b[39m\u001b[38;5;241m.\u001b[39m_maybe_define_function(args, kwargs)\n\u001b[0;32m-> 2496\u001b[0m \u001b[38;5;28;01mreturn\u001b[39;00m \u001b[43mgraph_function\u001b[49m\u001b[38;5;241;43m.\u001b[39;49m\u001b[43m_call_flat\u001b[49m\u001b[43m(\u001b[49m\n\u001b[1;32m   2497\u001b[0m \u001b[43m    \u001b[49m\u001b[43mfiltered_flat_args\u001b[49m\u001b[43m,\u001b[49m\u001b[43m \u001b[49m\u001b[43mcaptured_inputs\u001b[49m\u001b[38;5;241;43m=\u001b[39;49m\u001b[43mgraph_function\u001b[49m\u001b[38;5;241;43m.\u001b[39;49m\u001b[43mcaptured_inputs\u001b[49m\u001b[43m)\u001b[49m\n",
      "File \u001b[0;32m~/.conda/envs/dev38/lib/python3.8/site-packages/tensorflow/python/eager/function.py:1862\u001b[0m, in \u001b[0;36mConcreteFunction._call_flat\u001b[0;34m(self, args, captured_inputs, cancellation_manager)\u001b[0m\n\u001b[1;32m   1858\u001b[0m possible_gradient_type \u001b[38;5;241m=\u001b[39m gradients_util\u001b[38;5;241m.\u001b[39mPossibleTapeGradientTypes(args)\n\u001b[1;32m   1859\u001b[0m \u001b[38;5;28;01mif\u001b[39;00m (possible_gradient_type \u001b[38;5;241m==\u001b[39m gradients_util\u001b[38;5;241m.\u001b[39mPOSSIBLE_GRADIENT_TYPES_NONE\n\u001b[1;32m   1860\u001b[0m     \u001b[38;5;129;01mand\u001b[39;00m executing_eagerly):\n\u001b[1;32m   1861\u001b[0m   \u001b[38;5;66;03m# No tape is watching; skip to running the function.\u001b[39;00m\n\u001b[0;32m-> 1862\u001b[0m   \u001b[38;5;28;01mreturn\u001b[39;00m \u001b[38;5;28mself\u001b[39m\u001b[38;5;241m.\u001b[39m_build_call_outputs(\u001b[38;5;28;43mself\u001b[39;49m\u001b[38;5;241;43m.\u001b[39;49m\u001b[43m_inference_function\u001b[49m\u001b[38;5;241;43m.\u001b[39;49m\u001b[43mcall\u001b[49m\u001b[43m(\u001b[49m\n\u001b[1;32m   1863\u001b[0m \u001b[43m      \u001b[49m\u001b[43mctx\u001b[49m\u001b[43m,\u001b[49m\u001b[43m \u001b[49m\u001b[43margs\u001b[49m\u001b[43m,\u001b[49m\u001b[43m \u001b[49m\u001b[43mcancellation_manager\u001b[49m\u001b[38;5;241;43m=\u001b[39;49m\u001b[43mcancellation_manager\u001b[49m\u001b[43m)\u001b[49m)\n\u001b[1;32m   1864\u001b[0m forward_backward \u001b[38;5;241m=\u001b[39m \u001b[38;5;28mself\u001b[39m\u001b[38;5;241m.\u001b[39m_select_forward_and_backward_functions(\n\u001b[1;32m   1865\u001b[0m     args,\n\u001b[1;32m   1866\u001b[0m     possible_gradient_type,\n\u001b[1;32m   1867\u001b[0m     executing_eagerly)\n\u001b[1;32m   1868\u001b[0m forward_function, args_with_tangents \u001b[38;5;241m=\u001b[39m forward_backward\u001b[38;5;241m.\u001b[39mforward()\n",
      "File \u001b[0;32m~/.conda/envs/dev38/lib/python3.8/site-packages/tensorflow/python/eager/function.py:499\u001b[0m, in \u001b[0;36m_EagerDefinedFunction.call\u001b[0;34m(self, ctx, args, cancellation_manager)\u001b[0m\n\u001b[1;32m    497\u001b[0m \u001b[38;5;28;01mwith\u001b[39;00m _InterpolateFunctionError(\u001b[38;5;28mself\u001b[39m):\n\u001b[1;32m    498\u001b[0m   \u001b[38;5;28;01mif\u001b[39;00m cancellation_manager \u001b[38;5;129;01mis\u001b[39;00m \u001b[38;5;28;01mNone\u001b[39;00m:\n\u001b[0;32m--> 499\u001b[0m     outputs \u001b[38;5;241m=\u001b[39m \u001b[43mexecute\u001b[49m\u001b[38;5;241;43m.\u001b[39;49m\u001b[43mexecute\u001b[49m\u001b[43m(\u001b[49m\n\u001b[1;32m    500\u001b[0m \u001b[43m        \u001b[49m\u001b[38;5;28;43mstr\u001b[39;49m\u001b[43m(\u001b[49m\u001b[38;5;28;43mself\u001b[39;49m\u001b[38;5;241;43m.\u001b[39;49m\u001b[43msignature\u001b[49m\u001b[38;5;241;43m.\u001b[39;49m\u001b[43mname\u001b[49m\u001b[43m)\u001b[49m\u001b[43m,\u001b[49m\n\u001b[1;32m    501\u001b[0m \u001b[43m        \u001b[49m\u001b[43mnum_outputs\u001b[49m\u001b[38;5;241;43m=\u001b[39;49m\u001b[38;5;28;43mself\u001b[39;49m\u001b[38;5;241;43m.\u001b[39;49m\u001b[43m_num_outputs\u001b[49m\u001b[43m,\u001b[49m\n\u001b[1;32m    502\u001b[0m \u001b[43m        \u001b[49m\u001b[43minputs\u001b[49m\u001b[38;5;241;43m=\u001b[39;49m\u001b[43margs\u001b[49m\u001b[43m,\u001b[49m\n\u001b[1;32m    503\u001b[0m \u001b[43m        \u001b[49m\u001b[43mattrs\u001b[49m\u001b[38;5;241;43m=\u001b[39;49m\u001b[43mattrs\u001b[49m\u001b[43m,\u001b[49m\n\u001b[1;32m    504\u001b[0m \u001b[43m        \u001b[49m\u001b[43mctx\u001b[49m\u001b[38;5;241;43m=\u001b[39;49m\u001b[43mctx\u001b[49m\u001b[43m)\u001b[49m\n\u001b[1;32m    505\u001b[0m   \u001b[38;5;28;01melse\u001b[39;00m:\n\u001b[1;32m    506\u001b[0m     outputs \u001b[38;5;241m=\u001b[39m execute\u001b[38;5;241m.\u001b[39mexecute_with_cancellation(\n\u001b[1;32m    507\u001b[0m         \u001b[38;5;28mstr\u001b[39m(\u001b[38;5;28mself\u001b[39m\u001b[38;5;241m.\u001b[39msignature\u001b[38;5;241m.\u001b[39mname),\n\u001b[1;32m    508\u001b[0m         num_outputs\u001b[38;5;241m=\u001b[39m\u001b[38;5;28mself\u001b[39m\u001b[38;5;241m.\u001b[39m_num_outputs,\n\u001b[0;32m   (...)\u001b[0m\n\u001b[1;32m    511\u001b[0m         ctx\u001b[38;5;241m=\u001b[39mctx,\n\u001b[1;32m    512\u001b[0m         cancellation_manager\u001b[38;5;241m=\u001b[39mcancellation_manager)\n",
      "File \u001b[0;32m~/.conda/envs/dev38/lib/python3.8/site-packages/tensorflow/python/eager/execute.py:54\u001b[0m, in \u001b[0;36mquick_execute\u001b[0;34m(op_name, num_outputs, inputs, attrs, ctx, name)\u001b[0m\n\u001b[1;32m     52\u001b[0m \u001b[38;5;28;01mtry\u001b[39;00m:\n\u001b[1;32m     53\u001b[0m   ctx\u001b[38;5;241m.\u001b[39mensure_initialized()\n\u001b[0;32m---> 54\u001b[0m   tensors \u001b[38;5;241m=\u001b[39m \u001b[43mpywrap_tfe\u001b[49m\u001b[38;5;241;43m.\u001b[39;49m\u001b[43mTFE_Py_Execute\u001b[49m\u001b[43m(\u001b[49m\u001b[43mctx\u001b[49m\u001b[38;5;241;43m.\u001b[39;49m\u001b[43m_handle\u001b[49m\u001b[43m,\u001b[49m\u001b[43m \u001b[49m\u001b[43mdevice_name\u001b[49m\u001b[43m,\u001b[49m\u001b[43m \u001b[49m\u001b[43mop_name\u001b[49m\u001b[43m,\u001b[49m\n\u001b[1;32m     55\u001b[0m \u001b[43m                                      \u001b[49m\u001b[43minputs\u001b[49m\u001b[43m,\u001b[49m\u001b[43m \u001b[49m\u001b[43mattrs\u001b[49m\u001b[43m,\u001b[49m\u001b[43m \u001b[49m\u001b[43mnum_outputs\u001b[49m\u001b[43m)\u001b[49m\n\u001b[1;32m     56\u001b[0m \u001b[38;5;28;01mexcept\u001b[39;00m core\u001b[38;5;241m.\u001b[39m_NotOkStatusException \u001b[38;5;28;01mas\u001b[39;00m e:\n\u001b[1;32m     57\u001b[0m   \u001b[38;5;28;01mif\u001b[39;00m name \u001b[38;5;129;01mis\u001b[39;00m \u001b[38;5;129;01mnot\u001b[39;00m \u001b[38;5;28;01mNone\u001b[39;00m:\n",
      "\u001b[0;31mKeyboardInterrupt\u001b[0m: "
     ]
    }
   ],
   "source": [
    "history = model.fit(\n",
    "    ds_train,\n",
    "    validation_data=ds_val,\n",
    "    epochs=100,\n",
    "    callbacks=tf.keras.callbacks.EarlyStopping(verbose=1, patience=3),\n",
    ")"
   ]
  },
  {
   "cell_type": "code",
   "execution_count": null,
   "id": "06f79296-3a90-47e5-ba61-815507251d89",
   "metadata": {},
   "outputs": [],
   "source": [
    "model.evaluate(ds_test)"
   ]
  },
  {
   "cell_type": "markdown",
   "id": "8b316752-79c6-4095-b963-3de3ad35862a",
   "metadata": {},
   "source": [
    "#### Fine tuning?"
   ]
  },
  {
   "cell_type": "code",
   "execution_count": 37,
   "id": "10b97f80-0af9-4ee6-a943-1ae9658be30e",
   "metadata": {},
   "outputs": [],
   "source": [
    "base_model.trainable = True\n",
    "\n",
    "model.compile(\n",
    "    optimizer=tf.keras.optimizers.Adam(1e-5),\n",
    "    loss=tf.keras.losses.SparseCategoricalCrossentropy(from_logits=from_logits),\n",
    "    metrics=['accuracy'],\n",
    ")"
   ]
  },
  {
   "cell_type": "code",
   "execution_count": 38,
   "id": "4fc06497-9ce1-4ca9-aa9d-9f68500eea2a",
   "metadata": {},
   "outputs": [
    {
     "name": "stdout",
     "output_type": "stream",
     "text": [
      "Epoch 1/10\n"
     ]
    },
    {
     "name": "stderr",
     "output_type": "stream",
     "text": [
      "2022-10-10 12:32:09.541075: W tensorflow/core/common_runtime/bfc_allocator.cc:290] Allocator (GPU_0_bfc) ran out of memory trying to allocate 1.14GiB with freed_by_count=0. The caller indicates that this is not a failure, but this may mean that there could be performance gains if more memory were available.\n",
      "2022-10-10 12:32:09.541103: W tensorflow/core/common_runtime/bfc_allocator.cc:290] Allocator (GPU_0_bfc) ran out of memory trying to allocate 1.14GiB with freed_by_count=0. The caller indicates that this is not a failure, but this may mean that there could be performance gains if more memory were available.\n",
      "2022-10-10 12:32:09.684057: W tensorflow/core/common_runtime/bfc_allocator.cc:290] Allocator (GPU_0_bfc) ran out of memory trying to allocate 1.14GiB with freed_by_count=0. The caller indicates that this is not a failure, but this may mean that there could be performance gains if more memory were available.\n",
      "2022-10-10 12:32:09.684083: W tensorflow/core/common_runtime/bfc_allocator.cc:290] Allocator (GPU_0_bfc) ran out of memory trying to allocate 1.14GiB with freed_by_count=0. The caller indicates that this is not a failure, but this may mean that there could be performance gains if more memory were available.\n"
     ]
    },
    {
     "name": "stdout",
     "output_type": "stream",
     "text": [
      "59/59 [==============================] - 10s 147ms/step - loss: 0.1297 - accuracy: 0.9560 - val_loss: 0.4328 - val_accuracy: 0.8883\n",
      "Epoch 2/10\n",
      "59/59 [==============================] - 8s 132ms/step - loss: 0.0419 - accuracy: 0.9903 - val_loss: 0.4784 - val_accuracy: 0.8837\n",
      "Epoch 3/10\n",
      "59/59 [==============================] - 8s 132ms/step - loss: 0.0068 - accuracy: 1.0000 - val_loss: 0.2635 - val_accuracy: 0.9368\n",
      "Epoch 4/10\n",
      "59/59 [==============================] - 8s 132ms/step - loss: 8.2527e-04 - accuracy: 1.0000 - val_loss: 0.2657 - val_accuracy: 0.9374\n",
      "Epoch 5/10\n",
      "59/59 [==============================] - 8s 133ms/step - loss: 4.5299e-04 - accuracy: 1.0000 - val_loss: 0.2463 - val_accuracy: 0.9408\n",
      "Epoch 6/10\n",
      "59/59 [==============================] - 8s 132ms/step - loss: 2.4925e-04 - accuracy: 1.0000 - val_loss: 0.2452 - val_accuracy: 0.9426\n",
      "Epoch 7/10\n",
      "59/59 [==============================] - 8s 131ms/step - loss: 2.0701e-04 - accuracy: 1.0000 - val_loss: 0.2445 - val_accuracy: 0.9429\n",
      "Epoch 8/10\n",
      "59/59 [==============================] - 8s 131ms/step - loss: 1.7912e-04 - accuracy: 1.0000 - val_loss: 0.2440 - val_accuracy: 0.9438\n",
      "Epoch 9/10\n",
      "59/59 [==============================] - 8s 132ms/step - loss: 1.5758e-04 - accuracy: 1.0000 - val_loss: 0.2436 - val_accuracy: 0.9448\n",
      "Epoch 10/10\n",
      "59/59 [==============================] - 8s 132ms/step - loss: 1.4015e-04 - accuracy: 1.0000 - val_loss: 0.2435 - val_accuracy: 0.9448\n"
     ]
    }
   ],
   "source": [
    "history = model.fit(\n",
    "    ds_train,\n",
    "    validation_data=ds_val,\n",
    "    epochs=10,\n",
    "    callbacks=tf.keras.callbacks.EarlyStopping(verbose=1, patience=5),\n",
    ")"
   ]
  },
  {
   "cell_type": "code",
   "execution_count": 39,
   "id": "567c287d-53f7-4894-9466-430f4c94bcea",
   "metadata": {},
   "outputs": [
    {
     "name": "stdout",
     "output_type": "stream",
     "text": [
      "30/30 [==============================] - 1s 18ms/step - loss: 0.2598 - accuracy: 0.9399\n"
     ]
    },
    {
     "data": {
      "text/plain": [
       "[0.25981733202934265, 0.9399141669273376]"
      ]
     },
     "execution_count": 39,
     "metadata": {},
     "output_type": "execute_result"
    }
   ],
   "source": [
    "model.evaluate(ds_test)"
   ]
  },
  {
   "cell_type": "code",
   "execution_count": 58,
   "id": "dc985665-8cee-4a26-b039-6c6c2278e272",
   "metadata": {},
   "outputs": [
    {
     "data": {
      "text/plain": [
       "{1730}"
      ]
     },
     "execution_count": 58,
     "metadata": {},
     "output_type": "execute_result"
    }
   ],
   "source": [
    "a = []\n",
    "\n",
    "for x in dw_split['test']:\n",
    "    # b = preprocessor.label_dict[x['label'].numpy().decode()]\n",
    "    a.append(x['metadata']['RPM_Nominal'].numpy())\n",
    "\n",
    "set(a)"
   ]
  },
  {
   "cell_type": "markdown",
   "id": "293afd3a-988f-4e94-a854-dcc6740dc222",
   "metadata": {},
   "source": [
    "# EOF"
   ]
  },
  {
   "cell_type": "code",
   "execution_count": 71,
   "id": "d502ccbe-eff5-4a2c-8ef7-620c319a4067",
   "metadata": {},
   "outputs": [],
   "source": [
    "config = {\n",
    "    'channels': ['DE', 'FE', 'BA'],  # will rule out the normal data\n",
    "    'keys': ['FaultComponent', 'FaultSize'],\n",
    "\n",
    "    'feature': {\n",
    "        'extractor': 'spectrogram',\n",
    "        'parameters': {\n",
    "            'time_window': 0.025,\n",
    "            'hop_step': 0.0125,\n",
    "        }\n",
    "    },\n",
    "    \n",
    "    'window': {\n",
    "        'window_shape': (64,64),\n",
    "        'downsample': (64,64)               \n",
    "    },\n",
    "    \n",
    "    'splits': {'train':0.2, 'val':0.7, 'test':0.1},\n",
    "\n",
    "    'sp_kwargs': {\n",
    "        'shuffle_size': None,\n",
    "        'reshuffle_each_iteration': False,\n",
    "    }\n",
    "}\n",
    "\n",
    "import json\n",
    "\n",
    "with open('/home/han/tmp/cwru.json', 'w') as fp:\n",
    "    json.dump(config, fp)\n",
    "\n",
    "with open('/home/han/tmp/cwru.yaml', 'w') as fp:\n",
    "    yaml.dump(config, fp)"
   ]
  },
  {
   "cell_type": "markdown",
   "id": "b8a139a4-8d55-4b8b-954b-b4d801fa8162",
   "metadata": {},
   "source": [
    "#### Statistics on the training data"
   ]
  },
  {
   "cell_type": "code",
   "execution_count": 23,
   "id": "b69fd6b0-0697-48e1-805d-8ccf98980c4a",
   "metadata": {
    "collapsed": true,
    "jupyter": {
     "outputs_hidden": true
    },
    "tags": []
   },
   "outputs": [],
   "source": [
    "counter = {}\n",
    "\n",
    "for x in dw_split['val']:\n",
    "    d = x['metadata']['RPM_Nominal'].numpy()\n",
    "    l = x['label'].numpy()\n",
    "    try:\n",
    "        counter[(d,l)] += 1\n",
    "    except:\n",
    "        counter[(d,l)] = 1\n",
    "\n",
    "ks = list(counter.keys())\n",
    "ks.sort()\n",
    "# {k:counter[k] for k in ks}\n",
    "\n",
    "# counter\n",
    "\n",
    "# All categories are present\n",
    "\n",
    "assert len(set([k[1].decode() for k in ks])) == len(label_dict)\n",
    "\n",
    "# All categories are present\n",
    "\n",
    "aa = {}\n",
    "for k in ks:\n",
    "    try:\n",
    "        aa[k[1].decode()].append(k[0])\n",
    "    except:\n",
    "        aa[k[1].decode()] = [k[0]]\n",
    "\n",
    "# [len([k[1] for k in ks if k[0]==lf]) for lf in [1797, 1772, 1750, 1730]]\n",
    "\n",
    "dm = {}\n",
    "\n",
    "for k in ks:\n",
    "    try:\n",
    "        dm[k[1]][k[0]] += counter[(k[0],k[1])]\n",
    "    except:\n",
    "        try:\n",
    "            dm[k[1]][k[0]] = counter[(k[0],k[1])]\n",
    "        except:\n",
    "            dm[k[1]] = {k[0]: counter[(k[0],k[1])]}\n",
    "\n",
    "{k: np.sum(list(v.values())) for k,v in dm.items()}"
   ]
  },
  {
   "cell_type": "code",
   "execution_count": null,
   "id": "5a386588-3e2a-453b-a084-9760c1fda40c",
   "metadata": {},
   "outputs": [],
   "source": []
  },
  {
   "cell_type": "code",
   "execution_count": null,
   "id": "5f0061c9-f239-423e-b96c-f8b6df0a62ac",
   "metadata": {},
   "outputs": [],
   "source": []
  },
  {
   "cell_type": "code",
   "execution_count": 5,
   "id": "046fc477-f53c-47ee-94e0-af3c56837d00",
   "metadata": {},
   "outputs": [],
   "source": [
    "# # step 1: compact & split\n",
    "# compactor = cwru.DatasetCompactor(ds0,\n",
    "#                                   # filters={'LoadForce': [0,1,2,3]}, \n",
    "#                                   n_trunk=n_trunk,\n",
    "#                                   keys=keys, channels=channels, \n",
    "#                                   # resampling_rate=12000,\n",
    "#                                  )\n",
    "\n",
    "# labels = compactor.label_dict.keys()\n",
    "# splits = {'train':0.7, 'val':0.2, 'test':0.1}\n",
    "# # splits = {'train':1.}\n",
    "\n",
    "# %time ds_split = utils.split_dataset(compactor.dataset, splits, labels=labels, reshuffle_each_iteration=False)\n",
    "\n",
    "# # print(utils.get_dataset_size(compactor.dataset))\n",
    "\n",
    "# # for k, ds in ds_split.items():\n",
    "# #     print(k, utils.get_dataset_size(ds))    \n",
    "\n",
    "# # step 2: feature transform\n",
    "# # df_split = {}\n",
    "# dw_split = {}\n",
    "\n",
    "# for k, ds in ds_split.items():\n",
    "#     transformer = cwru.FeatureTransformer(ds, extractor,                                     \n",
    "#                                         window_shape=window_shape, downsample=downsample)                                    \n",
    "#     # df_split[k] = transformer.dataset_feature\n",
    "#     dw_split[k] = transformer.dataset_windows\n",
    "\n",
    "# # for k, ds in df_split.items():\n",
    "# #     print(k, utils.get_dataset_size(ds))    \n",
    "\n",
    "# # # shoud give the same ratio as defined in `splits`\n",
    "# # for k, ds in dw_split.items():\n",
    "# #     print(k, utils.get_dataset_size(ds))    \n",
    "\n",
    "# # export the feature-transformed dataset for reuse.\n",
    "# for k,v in dw_split.items():\n",
    "#     v.save(str(outdir/'full_domain'/str(splits)/k))"
   ]
  },
  {
   "cell_type": "code",
   "execution_count": null,
   "id": "80697865-1ca8-475c-904c-7af7d19571e8",
   "metadata": {},
   "outputs": [],
   "source": []
  },
  {
   "cell_type": "code",
   "execution_count": null,
   "id": "e2a08bcc-8ba5-4d24-bd73-cfda6ac5cc18",
   "metadata": {},
   "outputs": [],
   "source": []
  },
  {
   "cell_type": "code",
   "execution_count": 13,
   "id": "39abe415-f00e-4663-9f6d-b966b913c7b2",
   "metadata": {
    "collapsed": true,
    "jupyter": {
     "outputs_hidden": true
    },
    "tags": []
   },
   "outputs": [
    {
     "name": "stderr",
     "output_type": "stream",
     "text": [
      "2022-10-09 10:08:44.252376: W tensorflow/core/framework/op_kernel.cc:1768] INVALID_ARGUMENT: ValueError: window shape cannot be larger than input array shape\n",
      "Traceback (most recent call last):\n",
      "\n",
      "  File \"/home/han/.conda/envs/dev38/lib/python3.8/site-packages/tensorflow/python/ops/script_ops.py\", line 269, in __call__\n",
      "    return func(device, token, args)\n",
      "\n",
      "  File \"/home/han/.conda/envs/dev38/lib/python3.8/site-packages/tensorflow/python/ops/script_ops.py\", line 147, in __call__\n",
      "    outputs = self._call(device, args)\n",
      "\n",
      "  File \"/home/han/.conda/envs/dev38/lib/python3.8/site-packages/tensorflow/python/ops/script_ops.py\", line 154, in _call\n",
      "    ret = self._func(*args)\n",
      "\n",
      "  File \"/home/han/.conda/envs/dev38/lib/python3.8/site-packages/tensorflow/python/autograph/impl/api.py\", line 642, in wrapper\n",
      "    return func(*args, **kwargs)\n",
      "\n",
      "  File \"/tmp/__autograph_generated_filei8qexo52.py\", line 8, in <lambda>\n",
      "    tf__lam = (lambda X: ag__.with_function_scope((lambda lscope: (X['label'], X['metadata'], ag__.converted_call(tf.py_function, (), dict(func=ag__.autograph_artifact((lambda S: ag__.converted_call(_slider, (ag__.converted_call(S.numpy, (), None, lscope), window_shape, downsample), None, lscope))), inp=[X['feature']], Tout=tf.float64), lscope))), 'lscope', ag__.STD))\n",
      "\n",
      "  File \"/home/han/.conda/envs/dev38/lib/python3.8/site-packages/tensorflow/python/autograph/impl/api.py\", line 335, in converted_call\n",
      "    return _call_unconverted(f, args, kwargs, options, False)\n",
      "\n",
      "  File \"/home/han/.conda/envs/dev38/lib/python3.8/site-packages/tensorflow/python/autograph/impl/api.py\", line 459, in _call_unconverted\n",
      "    return f(*args)\n",
      "\n",
      "  File \"/home/han/Projects/HIASCI/Codes/dpmhm/dpmhm/datasets/preprocessing.py\", line 301, in _slider\n",
      "    return  sliding_window_view(S, (S.shape[0], *ws))[0, ::ds[0], ::ds[1]]\n",
      "\n",
      "  File \"<__array_function__ internals>\", line 5, in sliding_window_view\n",
      "\n",
      "  File \"/home/han/.conda/envs/dev38/lib/python3.8/site-packages/numpy/lib/stride_tricks.py\", line 331, in sliding_window_view\n",
      "    raise ValueError(\n",
      "\n",
      "ValueError: window shape cannot be larger than input array shape\n",
      "\n",
      "\n"
     ]
    },
    {
     "ename": "InvalidArgumentError",
     "evalue": "{{function_node __wrapped__IteratorGetNext_output_types_6_device_/job:localhost/replica:0/task:0/device:CPU:0}} ValueError: window shape cannot be larger than input array shape\nTraceback (most recent call last):\n\n  File \"/home/han/.conda/envs/dev38/lib/python3.8/site-packages/tensorflow/python/ops/script_ops.py\", line 269, in __call__\n    return func(device, token, args)\n\n  File \"/home/han/.conda/envs/dev38/lib/python3.8/site-packages/tensorflow/python/ops/script_ops.py\", line 147, in __call__\n    outputs = self._call(device, args)\n\n  File \"/home/han/.conda/envs/dev38/lib/python3.8/site-packages/tensorflow/python/ops/script_ops.py\", line 154, in _call\n    ret = self._func(*args)\n\n  File \"/home/han/.conda/envs/dev38/lib/python3.8/site-packages/tensorflow/python/autograph/impl/api.py\", line 642, in wrapper\n    return func(*args, **kwargs)\n\n  File \"/tmp/__autograph_generated_filei8qexo52.py\", line 8, in <lambda>\n    tf__lam = (lambda X: ag__.with_function_scope((lambda lscope: (X['label'], X['metadata'], ag__.converted_call(tf.py_function, (), dict(func=ag__.autograph_artifact((lambda S: ag__.converted_call(_slider, (ag__.converted_call(S.numpy, (), None, lscope), window_shape, downsample), None, lscope))), inp=[X['feature']], Tout=tf.float64), lscope))), 'lscope', ag__.STD))\n\n  File \"/home/han/.conda/envs/dev38/lib/python3.8/site-packages/tensorflow/python/autograph/impl/api.py\", line 335, in converted_call\n    return _call_unconverted(f, args, kwargs, options, False)\n\n  File \"/home/han/.conda/envs/dev38/lib/python3.8/site-packages/tensorflow/python/autograph/impl/api.py\", line 459, in _call_unconverted\n    return f(*args)\n\n  File \"/home/han/Projects/HIASCI/Codes/dpmhm/dpmhm/datasets/preprocessing.py\", line 301, in _slider\n    return  sliding_window_view(S, (S.shape[0], *ws))[0, ::ds[0], ::ds[1]]\n\n  File \"<__array_function__ internals>\", line 5, in sliding_window_view\n\n  File \"/home/han/.conda/envs/dev38/lib/python3.8/site-packages/numpy/lib/stride_tricks.py\", line 331, in sliding_window_view\n    raise ValueError(\n\nValueError: window shape cannot be larger than input array shape\n\n\n\t [[{{node EagerPyFunc}}]] [Op:IteratorGetNext]",
     "output_type": "error",
     "traceback": [
      "\u001b[0;31m---------------------------------------------------------------------------\u001b[0m",
      "\u001b[0;31mInvalidArgumentError\u001b[0m                      Traceback (most recent call last)",
      "Input \u001b[0;32mIn [13]\u001b[0m, in \u001b[0;36m<cell line: 20>\u001b[0;34m()\u001b[0m\n\u001b[1;32m     13\u001b[0m splits \u001b[38;5;241m=\u001b[39m {\u001b[38;5;124m'\u001b[39m\u001b[38;5;124mtrain\u001b[39m\u001b[38;5;124m'\u001b[39m:\u001b[38;5;241m0.2\u001b[39m, \u001b[38;5;124m'\u001b[39m\u001b[38;5;124mval\u001b[39m\u001b[38;5;124m'\u001b[39m:\u001b[38;5;241m0.7\u001b[39m, \u001b[38;5;124m'\u001b[39m\u001b[38;5;124mtest\u001b[39m\u001b[38;5;124m'\u001b[39m:\u001b[38;5;241m0.1\u001b[39m}\n\u001b[1;32m     15\u001b[0m \u001b[38;5;66;03m# sp_kwargs = {\u001b[39;00m\n\u001b[1;32m     16\u001b[0m \u001b[38;5;66;03m#     'shuffle_size': 1,\u001b[39;00m\n\u001b[1;32m     17\u001b[0m \u001b[38;5;66;03m#     'reshuffle_each_iteration': False,\u001b[39;00m\n\u001b[1;32m     18\u001b[0m \u001b[38;5;66;03m# }\u001b[39;00m\n\u001b[0;32m---> 20\u001b[0m dw_split \u001b[38;5;241m=\u001b[39m \u001b[43mpreprocessing\u001b[49m\u001b[38;5;241;43m.\u001b[39;49m\u001b[43mwav2feature_pipeline\u001b[49m\u001b[43m(\u001b[49m\u001b[43mds0\u001b[49m\u001b[43m,\u001b[49m\u001b[43m \u001b[49m\u001b[38;5;124;43m'\u001b[39;49m\u001b[38;5;124;43mcwru\u001b[39;49m\u001b[38;5;124;43m'\u001b[39;49m\u001b[43m,\u001b[49m\u001b[43m \u001b[49m\u001b[43mextractor\u001b[49m\u001b[43m,\u001b[49m\u001b[43m \u001b[49m\n\u001b[1;32m     21\u001b[0m \u001b[43m                                  \u001b[49m\u001b[43mdc_kwargs\u001b[49m\u001b[38;5;241;43m=\u001b[39;49m\u001b[43mdc_kwargs\u001b[49m\u001b[43m,\u001b[49m\u001b[43m \u001b[49m\u001b[43mft_kwargs\u001b[49m\u001b[38;5;241;43m=\u001b[39;49m\u001b[43mft_kwargs\u001b[49m\u001b[43m,\u001b[49m\n\u001b[1;32m     22\u001b[0m \u001b[43m                                  \u001b[49m\u001b[43msplits\u001b[49m\u001b[38;5;241;43m=\u001b[39;49m\u001b[43msplits\u001b[49m\u001b[43m,\u001b[49m\u001b[43m \u001b[49m\u001b[43msp_mode\u001b[49m\u001b[38;5;241;43m=\u001b[39;49m\u001b[38;5;124;43m'\u001b[39;49m\u001b[38;5;124;43mfewshot\u001b[39;49m\u001b[38;5;124;43m'\u001b[39;49m\u001b[43m)\u001b[49m\n\u001b[1;32m     24\u001b[0m \u001b[38;5;28;01mfor\u001b[39;00m k,v \u001b[38;5;129;01min\u001b[39;00m dw_split\u001b[38;5;241m.\u001b[39mitems():\n\u001b[1;32m     25\u001b[0m     v\u001b[38;5;241m.\u001b[39msave(\u001b[38;5;28mstr\u001b[39m(outdir\u001b[38;5;241m/\u001b[39m\u001b[38;5;124m'\u001b[39m\u001b[38;5;124mfull_domain\u001b[39m\u001b[38;5;124m'\u001b[39m\u001b[38;5;241m/\u001b[39m\u001b[38;5;28mstr\u001b[39m(splits)\u001b[38;5;241m/\u001b[39mk))\n",
      "File \u001b[0;32m~/Projects/HIASCI/Codes/dpmhm/dpmhm/datasets/preprocessing.py:381\u001b[0m, in \u001b[0;36mwav2feature_pipeline\u001b[0;34m(dataset, module_name, extractor, dc_kwargs, ft_kwargs, splits, sp_mode, sp_kwargs)\u001b[0m\n\u001b[1;32m    379\u001b[0m     transformer \u001b[38;5;241m=\u001b[39m module\u001b[38;5;241m.\u001b[39mFeatureTransformer(ds, extractor, \u001b[38;5;241m*\u001b[39m\u001b[38;5;241m*\u001b[39mft_kwargs)\n\u001b[1;32m    380\u001b[0m     \u001b[38;5;66;03m# df_split[k] = transformer.dataset_feature\u001b[39;00m\n\u001b[0;32m--> 381\u001b[0m     dw_split[k] \u001b[38;5;241m=\u001b[39m \u001b[43mtransformer\u001b[49m\u001b[38;5;241;43m.\u001b[39;49m\u001b[43mdataset_windows\u001b[49m\n\u001b[1;32m    383\u001b[0m \u001b[38;5;28;01mreturn\u001b[39;00m dw_split\n",
      "File \u001b[0;32m~/Projects/HIASCI/Codes/dpmhm/dpmhm/datasets/preprocessing.py:220\u001b[0m, in \u001b[0;36mAbstractFeatureTransformer.dataset_windows\u001b[0;34m(self)\u001b[0m\n\u001b[1;32m    216\u001b[0m \u001b[38;5;129m@property\u001b[39m\n\u001b[1;32m    217\u001b[0m \u001b[38;5;28;01mdef\u001b[39;00m \u001b[38;5;21mdataset_windows\u001b[39m(\u001b[38;5;28mself\u001b[39m):\n\u001b[1;32m    218\u001b[0m   \u001b[38;5;124;03m\"\"\"Windowed view of the feature dataset.\u001b[39;00m\n\u001b[1;32m    219\u001b[0m \u001b[38;5;124;03m  \"\"\"\u001b[39;00m\n\u001b[0;32m--> 220\u001b[0m   ds \u001b[38;5;241m=\u001b[39m \u001b[38;5;28;43mself\u001b[39;49m\u001b[38;5;241;43m.\u001b[39;49m\u001b[43mto_windows\u001b[49m\u001b[43m(\u001b[49m\u001b[38;5;28;43mself\u001b[39;49m\u001b[38;5;241;43m.\u001b[39;49m\u001b[43mdataset_feature\u001b[49m\u001b[43m,\u001b[49m\u001b[43m \u001b[49m\u001b[38;5;28;43mself\u001b[39;49m\u001b[38;5;241;43m.\u001b[39;49m\u001b[43m_window_shape\u001b[49m\u001b[43m,\u001b[49m\u001b[43m \u001b[49m\u001b[38;5;28;43mself\u001b[39;49m\u001b[38;5;241;43m.\u001b[39;49m\u001b[43m_downsample\u001b[49m\u001b[43m)\u001b[49m\n\u001b[1;32m    221\u001b[0m   ds\u001b[38;5;241m.\u001b[39m__dpmhm_class__ \u001b[38;5;241m=\u001b[39m \u001b[38;5;28mself\u001b[39m\u001b[38;5;241m.\u001b[39m\u001b[38;5;18m__class__\u001b[39m\n\u001b[1;32m    222\u001b[0m   \u001b[38;5;28;01mreturn\u001b[39;00m ds\n",
      "File \u001b[0;32m~/Projects/HIASCI/Codes/dpmhm/dpmhm/datasets/preprocessing.py:326\u001b[0m, in \u001b[0;36mAbstractFeatureTransformer.to_windows\u001b[0;34m(cls, dataset, window_shape, downsample)\u001b[0m\n\u001b[1;32m    318\u001b[0m   \u001b[38;5;28;01mreturn\u001b[39;00m _get_generator\n\u001b[1;32m    320\u001b[0m ds \u001b[38;5;241m=\u001b[39m dataset\u001b[38;5;241m.\u001b[39mmap(\u001b[38;5;28;01mlambda\u001b[39;00m X: (X[\u001b[38;5;124m'\u001b[39m\u001b[38;5;124mlabel\u001b[39m\u001b[38;5;124m'\u001b[39m], X[\u001b[38;5;124m'\u001b[39m\u001b[38;5;124mmetadata\u001b[39m\u001b[38;5;124m'\u001b[39m], tf\u001b[38;5;241m.\u001b[39mpy_function(\n\u001b[1;32m    321\u001b[0m   func\u001b[38;5;241m=\u001b[39m\u001b[38;5;28;01mlambda\u001b[39;00m S: _slider(S\u001b[38;5;241m.\u001b[39mnumpy(), window_shape, downsample),\n\u001b[1;32m    322\u001b[0m   inp\u001b[38;5;241m=\u001b[39m[X[\u001b[38;5;124m'\u001b[39m\u001b[38;5;124mfeature\u001b[39m\u001b[38;5;124m'\u001b[39m]],\n\u001b[1;32m    323\u001b[0m   Tout\u001b[38;5;241m=\u001b[39mtf\u001b[38;5;241m.\u001b[39mfloat64)),\n\u001b[1;32m    324\u001b[0m   num_parallel_calls\u001b[38;5;241m=\u001b[39mtf\u001b[38;5;241m.\u001b[39mdata\u001b[38;5;241m.\u001b[39mAUTOTUNE)\n\u001b[0;32m--> 326\u001b[0m tensor_shape \u001b[38;5;241m=\u001b[39m \u001b[38;5;28mtuple\u001b[39m(\u001b[38;5;28;43mlist\u001b[39;49m\u001b[43m(\u001b[49m\u001b[43mds\u001b[49m\u001b[38;5;241;43m.\u001b[39;49m\u001b[43mtake\u001b[49m\u001b[43m(\u001b[49m\u001b[38;5;241;43m1\u001b[39;49m\u001b[43m)\u001b[49m\u001b[43m)\u001b[49m[\u001b[38;5;241m0\u001b[39m][\u001b[38;5;241m-\u001b[39m\u001b[38;5;241m1\u001b[39m]\u001b[38;5;241m.\u001b[39mshape[\u001b[38;5;241m-\u001b[39m\u001b[38;5;241m3\u001b[39m:])  \u001b[38;5;66;03m# drop the first two dimensions of sliding view\u001b[39;00m\n\u001b[1;32m    328\u001b[0m \u001b[38;5;28;01mreturn\u001b[39;00m tf\u001b[38;5;241m.\u001b[39mdata\u001b[38;5;241m.\u001b[39mDataset\u001b[38;5;241m.\u001b[39mfrom_generator(_generator(ds),\n\u001b[1;32m    329\u001b[0m   output_signature\u001b[38;5;241m=\u001b[39m\u001b[38;5;28mcls\u001b[39m\u001b[38;5;241m.\u001b[39mget_output_signature(tensor_shape)\n\u001b[1;32m    330\u001b[0m   \u001b[38;5;66;03m# https://www.tensorflow.org/api_docs/python/tf/data/Dataset#from_generator\u001b[39;00m\n\u001b[1;32m    331\u001b[0m   \u001b[38;5;66;03m# output_types=(tf.string, tf.string, tf.float64))  # not recommended\u001b[39;00m\n\u001b[1;32m    332\u001b[0m )\n",
      "File \u001b[0;32m~/.conda/envs/dev38/lib/python3.8/site-packages/tensorflow/python/data/ops/iterator_ops.py:766\u001b[0m, in \u001b[0;36mOwnedIterator.__next__\u001b[0;34m(self)\u001b[0m\n\u001b[1;32m    764\u001b[0m \u001b[38;5;28;01mdef\u001b[39;00m \u001b[38;5;21m__next__\u001b[39m(\u001b[38;5;28mself\u001b[39m):\n\u001b[1;32m    765\u001b[0m   \u001b[38;5;28;01mtry\u001b[39;00m:\n\u001b[0;32m--> 766\u001b[0m     \u001b[38;5;28;01mreturn\u001b[39;00m \u001b[38;5;28;43mself\u001b[39;49m\u001b[38;5;241;43m.\u001b[39;49m\u001b[43m_next_internal\u001b[49m\u001b[43m(\u001b[49m\u001b[43m)\u001b[49m\n\u001b[1;32m    767\u001b[0m   \u001b[38;5;28;01mexcept\u001b[39;00m errors\u001b[38;5;241m.\u001b[39mOutOfRangeError:\n\u001b[1;32m    768\u001b[0m     \u001b[38;5;28;01mraise\u001b[39;00m \u001b[38;5;167;01mStopIteration\u001b[39;00m\n",
      "File \u001b[0;32m~/.conda/envs/dev38/lib/python3.8/site-packages/tensorflow/python/data/ops/iterator_ops.py:749\u001b[0m, in \u001b[0;36mOwnedIterator._next_internal\u001b[0;34m(self)\u001b[0m\n\u001b[1;32m    746\u001b[0m \u001b[38;5;66;03m# TODO(b/77291417): This runs in sync mode as iterators use an error status\u001b[39;00m\n\u001b[1;32m    747\u001b[0m \u001b[38;5;66;03m# to communicate that there is no more data to iterate over.\u001b[39;00m\n\u001b[1;32m    748\u001b[0m \u001b[38;5;28;01mwith\u001b[39;00m context\u001b[38;5;241m.\u001b[39mexecution_mode(context\u001b[38;5;241m.\u001b[39mSYNC):\n\u001b[0;32m--> 749\u001b[0m   ret \u001b[38;5;241m=\u001b[39m \u001b[43mgen_dataset_ops\u001b[49m\u001b[38;5;241;43m.\u001b[39;49m\u001b[43miterator_get_next\u001b[49m\u001b[43m(\u001b[49m\n\u001b[1;32m    750\u001b[0m \u001b[43m      \u001b[49m\u001b[38;5;28;43mself\u001b[39;49m\u001b[38;5;241;43m.\u001b[39;49m\u001b[43m_iterator_resource\u001b[49m\u001b[43m,\u001b[49m\n\u001b[1;32m    751\u001b[0m \u001b[43m      \u001b[49m\u001b[43moutput_types\u001b[49m\u001b[38;5;241;43m=\u001b[39;49m\u001b[38;5;28;43mself\u001b[39;49m\u001b[38;5;241;43m.\u001b[39;49m\u001b[43m_flat_output_types\u001b[49m\u001b[43m,\u001b[49m\n\u001b[1;32m    752\u001b[0m \u001b[43m      \u001b[49m\u001b[43moutput_shapes\u001b[49m\u001b[38;5;241;43m=\u001b[39;49m\u001b[38;5;28;43mself\u001b[39;49m\u001b[38;5;241;43m.\u001b[39;49m\u001b[43m_flat_output_shapes\u001b[49m\u001b[43m)\u001b[49m\n\u001b[1;32m    754\u001b[0m   \u001b[38;5;28;01mtry\u001b[39;00m:\n\u001b[1;32m    755\u001b[0m     \u001b[38;5;66;03m# Fast path for the case `self._structure` is not a nested structure.\u001b[39;00m\n\u001b[1;32m    756\u001b[0m     \u001b[38;5;28;01mreturn\u001b[39;00m \u001b[38;5;28mself\u001b[39m\u001b[38;5;241m.\u001b[39m_element_spec\u001b[38;5;241m.\u001b[39m_from_compatible_tensor_list(ret)  \u001b[38;5;66;03m# pylint: disable=protected-access\u001b[39;00m\n",
      "File \u001b[0;32m~/.conda/envs/dev38/lib/python3.8/site-packages/tensorflow/python/ops/gen_dataset_ops.py:3017\u001b[0m, in \u001b[0;36miterator_get_next\u001b[0;34m(iterator, output_types, output_shapes, name)\u001b[0m\n\u001b[1;32m   3015\u001b[0m   \u001b[38;5;28;01mreturn\u001b[39;00m _result\n\u001b[1;32m   3016\u001b[0m \u001b[38;5;28;01mexcept\u001b[39;00m _core\u001b[38;5;241m.\u001b[39m_NotOkStatusException \u001b[38;5;28;01mas\u001b[39;00m e:\n\u001b[0;32m-> 3017\u001b[0m   \u001b[43m_ops\u001b[49m\u001b[38;5;241;43m.\u001b[39;49m\u001b[43mraise_from_not_ok_status\u001b[49m\u001b[43m(\u001b[49m\u001b[43me\u001b[49m\u001b[43m,\u001b[49m\u001b[43m \u001b[49m\u001b[43mname\u001b[49m\u001b[43m)\u001b[49m\n\u001b[1;32m   3018\u001b[0m \u001b[38;5;28;01mexcept\u001b[39;00m _core\u001b[38;5;241m.\u001b[39m_FallbackException:\n\u001b[1;32m   3019\u001b[0m   \u001b[38;5;28;01mpass\u001b[39;00m\n",
      "File \u001b[0;32m~/.conda/envs/dev38/lib/python3.8/site-packages/tensorflow/python/framework/ops.py:7209\u001b[0m, in \u001b[0;36mraise_from_not_ok_status\u001b[0;34m(e, name)\u001b[0m\n\u001b[1;32m   7207\u001b[0m \u001b[38;5;28;01mdef\u001b[39;00m \u001b[38;5;21mraise_from_not_ok_status\u001b[39m(e, name):\n\u001b[1;32m   7208\u001b[0m   e\u001b[38;5;241m.\u001b[39mmessage \u001b[38;5;241m+\u001b[39m\u001b[38;5;241m=\u001b[39m (\u001b[38;5;124m\"\u001b[39m\u001b[38;5;124m name: \u001b[39m\u001b[38;5;124m\"\u001b[39m \u001b[38;5;241m+\u001b[39m name \u001b[38;5;28;01mif\u001b[39;00m name \u001b[38;5;129;01mis\u001b[39;00m \u001b[38;5;129;01mnot\u001b[39;00m \u001b[38;5;28;01mNone\u001b[39;00m \u001b[38;5;28;01melse\u001b[39;00m \u001b[38;5;124m\"\u001b[39m\u001b[38;5;124m\"\u001b[39m)\n\u001b[0;32m-> 7209\u001b[0m   \u001b[38;5;28;01mraise\u001b[39;00m core\u001b[38;5;241m.\u001b[39m_status_to_exception(e) \u001b[38;5;28;01mfrom\u001b[39;00m \u001b[38;5;28mNone\u001b[39m\n",
      "\u001b[0;31mInvalidArgumentError\u001b[0m: {{function_node __wrapped__IteratorGetNext_output_types_6_device_/job:localhost/replica:0/task:0/device:CPU:0}} ValueError: window shape cannot be larger than input array shape\nTraceback (most recent call last):\n\n  File \"/home/han/.conda/envs/dev38/lib/python3.8/site-packages/tensorflow/python/ops/script_ops.py\", line 269, in __call__\n    return func(device, token, args)\n\n  File \"/home/han/.conda/envs/dev38/lib/python3.8/site-packages/tensorflow/python/ops/script_ops.py\", line 147, in __call__\n    outputs = self._call(device, args)\n\n  File \"/home/han/.conda/envs/dev38/lib/python3.8/site-packages/tensorflow/python/ops/script_ops.py\", line 154, in _call\n    ret = self._func(*args)\n\n  File \"/home/han/.conda/envs/dev38/lib/python3.8/site-packages/tensorflow/python/autograph/impl/api.py\", line 642, in wrapper\n    return func(*args, **kwargs)\n\n  File \"/tmp/__autograph_generated_filei8qexo52.py\", line 8, in <lambda>\n    tf__lam = (lambda X: ag__.with_function_scope((lambda lscope: (X['label'], X['metadata'], ag__.converted_call(tf.py_function, (), dict(func=ag__.autograph_artifact((lambda S: ag__.converted_call(_slider, (ag__.converted_call(S.numpy, (), None, lscope), window_shape, downsample), None, lscope))), inp=[X['feature']], Tout=tf.float64), lscope))), 'lscope', ag__.STD))\n\n  File \"/home/han/.conda/envs/dev38/lib/python3.8/site-packages/tensorflow/python/autograph/impl/api.py\", line 335, in converted_call\n    return _call_unconverted(f, args, kwargs, options, False)\n\n  File \"/home/han/.conda/envs/dev38/lib/python3.8/site-packages/tensorflow/python/autograph/impl/api.py\", line 459, in _call_unconverted\n    return f(*args)\n\n  File \"/home/han/Projects/HIASCI/Codes/dpmhm/dpmhm/datasets/preprocessing.py\", line 301, in _slider\n    return  sliding_window_view(S, (S.shape[0], *ws))[0, ::ds[0], ::ds[1]]\n\n  File \"<__array_function__ internals>\", line 5, in sliding_window_view\n\n  File \"/home/han/.conda/envs/dev38/lib/python3.8/site-packages/numpy/lib/stride_tricks.py\", line 331, in sliding_window_view\n    raise ValueError(\n\nValueError: window shape cannot be larger than input array shape\n\n\n\t [[{{node EagerPyFunc}}]] [Op:IteratorGetNext]"
     ]
    }
   ],
   "source": [
    "dc_kwargs = {\n",
    "    'n_trunk': n_trunk,\n",
    "    'keys': keys,\n",
    "    'channels': channels,\n",
    "    # 'filters': {'LoadForce': [0,1,2]}\n",
    "}\n",
    "\n",
    "ft_kwargs = {\n",
    "    'window_shape': window_shape,\n",
    "    'downsample': downsample\n",
    "}\n",
    "\n",
    "splits = {'train':0.2, 'val':0.7, 'test':0.1}\n",
    "\n",
    "# sp_kwargs = {\n",
    "#     'shuffle_size': 1,\n",
    "#     'reshuffle_each_iteration': False,\n",
    "# }\n",
    "\n",
    "dw_split = preprocessing.wav2feature_pipeline(ds0, 'cwru', extractor, \n",
    "                                  dc_kwargs=dc_kwargs, ft_kwargs=ft_kwargs,\n",
    "                                  splits=splits, sp_mode='fewshot')\n",
    "\n",
    "for k,v in dw_split.items():\n",
    "    v.save(str(outdir/'full_domain'/str(splits)/k))    "
   ]
  },
  {
   "cell_type": "code",
   "execution_count": null,
   "id": "ae5a6429-c98d-4a55-ac43-b2626a900f68",
   "metadata": {
    "collapsed": true,
    "jupyter": {
     "outputs_hidden": true
    },
    "tags": []
   },
   "outputs": [
    {
     "name": "stderr",
     "output_type": "stream",
     "text": [
      "2022-10-09 10:08:44.603990: W tensorflow/core/framework/op_kernel.cc:1768] INVALID_ARGUMENT: ValueError: window shape cannot be larger than input array shape\n",
      "Traceback (most recent call last):\n",
      "\n",
      "  File \"/home/han/.conda/envs/dev38/lib/python3.8/site-packages/tensorflow/python/ops/script_ops.py\", line 269, in __call__\n",
      "    return func(device, token, args)\n",
      "\n",
      "  File \"/home/han/.conda/envs/dev38/lib/python3.8/site-packages/tensorflow/python/ops/script_ops.py\", line 147, in __call__\n",
      "    outputs = self._call(device, args)\n",
      "\n",
      "  File \"/home/han/.conda/envs/dev38/lib/python3.8/site-packages/tensorflow/python/ops/script_ops.py\", line 154, in _call\n",
      "    ret = self._func(*args)\n",
      "\n",
      "  File \"/home/han/.conda/envs/dev38/lib/python3.8/site-packages/tensorflow/python/autograph/impl/api.py\", line 642, in wrapper\n",
      "    return func(*args, **kwargs)\n",
      "\n",
      "  File \"/tmp/__autograph_generated_filei8qexo52.py\", line 8, in <lambda>\n",
      "    tf__lam = (lambda X: ag__.with_function_scope((lambda lscope: (X['label'], X['metadata'], ag__.converted_call(tf.py_function, (), dict(func=ag__.autograph_artifact((lambda S: ag__.converted_call(_slider, (ag__.converted_call(S.numpy, (), None, lscope), window_shape, downsample), None, lscope))), inp=[X['feature']], Tout=tf.float64), lscope))), 'lscope', ag__.STD))\n",
      "\n",
      "  File \"/home/han/.conda/envs/dev38/lib/python3.8/site-packages/tensorflow/python/autograph/impl/api.py\", line 335, in converted_call\n",
      "    return _call_unconverted(f, args, kwargs, options, False)\n",
      "\n",
      "  File \"/home/han/.conda/envs/dev38/lib/python3.8/site-packages/tensorflow/python/autograph/impl/api.py\", line 459, in _call_unconverted\n",
      "    return f(*args)\n",
      "\n",
      "  File \"/home/han/Projects/HIASCI/Codes/dpmhm/dpmhm/datasets/preprocessing.py\", line 301, in _slider\n",
      "    return  sliding_window_view(S, (S.shape[0], *ws))[0, ::ds[0], ::ds[1]]\n",
      "\n",
      "  File \"<__array_function__ internals>\", line 5, in sliding_window_view\n",
      "\n",
      "  File \"/home/han/.conda/envs/dev38/lib/python3.8/site-packages/numpy/lib/stride_tricks.py\", line 331, in sliding_window_view\n",
      "    raise ValueError(\n",
      "\n",
      "ValueError: window shape cannot be larger than input array shape\n",
      "\n",
      "\n",
      "2022-10-09 10:08:44.604604: W tensorflow/core/framework/op_kernel.cc:1768] INVALID_ARGUMENT: ValueError: window shape cannot be larger than input array shape\n",
      "Traceback (most recent call last):\n",
      "\n",
      "  File \"/home/han/.conda/envs/dev38/lib/python3.8/site-packages/tensorflow/python/ops/script_ops.py\", line 269, in __call__\n",
      "    return func(device, token, args)\n",
      "\n",
      "  File \"/home/han/.conda/envs/dev38/lib/python3.8/site-packages/tensorflow/python/ops/script_ops.py\", line 147, in __call__\n",
      "    outputs = self._call(device, args)\n",
      "\n",
      "  File \"/home/han/.conda/envs/dev38/lib/python3.8/site-packages/tensorflow/python/ops/script_ops.py\", line 154, in _call\n",
      "    ret = self._func(*args)\n",
      "\n",
      "  File \"/home/han/.conda/envs/dev38/lib/python3.8/site-packages/tensorflow/python/autograph/impl/api.py\", line 642, in wrapper\n",
      "    return func(*args, **kwargs)\n",
      "\n",
      "  File \"/tmp/__autograph_generated_filei8qexo52.py\", line 8, in <lambda>\n",
      "    tf__lam = (lambda X: ag__.with_function_scope((lambda lscope: (X['label'], X['metadata'], ag__.converted_call(tf.py_function, (), dict(func=ag__.autograph_artifact((lambda S: ag__.converted_call(_slider, (ag__.converted_call(S.numpy, (), None, lscope), window_shape, downsample), None, lscope))), inp=[X['feature']], Tout=tf.float64), lscope))), 'lscope', ag__.STD))\n",
      "\n",
      "  File \"/home/han/.conda/envs/dev38/lib/python3.8/site-packages/tensorflow/python/autograph/impl/api.py\", line 335, in converted_call\n",
      "    return _call_unconverted(f, args, kwargs, options, False)\n",
      "\n",
      "  File \"/home/han/.conda/envs/dev38/lib/python3.8/site-packages/tensorflow/python/autograph/impl/api.py\", line 459, in _call_unconverted\n",
      "    return f(*args)\n",
      "\n",
      "  File \"/home/han/Projects/HIASCI/Codes/dpmhm/dpmhm/datasets/preprocessing.py\", line 301, in _slider\n",
      "    return  sliding_window_view(S, (S.shape[0], *ws))[0, ::ds[0], ::ds[1]]\n",
      "\n",
      "  File \"<__array_function__ internals>\", line 5, in sliding_window_view\n",
      "\n",
      "  File \"/home/han/.conda/envs/dev38/lib/python3.8/site-packages/numpy/lib/stride_tricks.py\", line 331, in sliding_window_view\n",
      "    raise ValueError(\n",
      "\n",
      "ValueError: window shape cannot be larger than input array shape\n",
      "\n",
      "\n",
      "2022-10-09 10:08:44.609484: W tensorflow/core/framework/op_kernel.cc:1768] INVALID_ARGUMENT: ValueError: window shape cannot be larger than input array shape\n",
      "Traceback (most recent call last):\n",
      "\n",
      "  File \"/home/han/.conda/envs/dev38/lib/python3.8/site-packages/tensorflow/python/ops/script_ops.py\", line 269, in __call__\n",
      "    return func(device, token, args)\n",
      "\n",
      "  File \"/home/han/.conda/envs/dev38/lib/python3.8/site-packages/tensorflow/python/ops/script_ops.py\", line 147, in __call__\n",
      "    outputs = self._call(device, args)\n",
      "\n",
      "  File \"/home/han/.conda/envs/dev38/lib/python3.8/site-packages/tensorflow/python/ops/script_ops.py\", line 154, in _call\n",
      "    ret = self._func(*args)\n",
      "\n",
      "  File \"/home/han/.conda/envs/dev38/lib/python3.8/site-packages/tensorflow/python/autograph/impl/api.py\", line 642, in wrapper\n",
      "    return func(*args, **kwargs)\n",
      "\n",
      "  File \"/tmp/__autograph_generated_filei8qexo52.py\", line 8, in <lambda>\n",
      "    tf__lam = (lambda X: ag__.with_function_scope((lambda lscope: (X['label'], X['metadata'], ag__.converted_call(tf.py_function, (), dict(func=ag__.autograph_artifact((lambda S: ag__.converted_call(_slider, (ag__.converted_call(S.numpy, (), None, lscope), window_shape, downsample), None, lscope))), inp=[X['feature']], Tout=tf.float64), lscope))), 'lscope', ag__.STD))\n",
      "\n",
      "  File \"/home/han/.conda/envs/dev38/lib/python3.8/site-packages/tensorflow/python/autograph/impl/api.py\", line 335, in converted_call\n",
      "    return _call_unconverted(f, args, kwargs, options, False)\n",
      "\n",
      "  File \"/home/han/.conda/envs/dev38/lib/python3.8/site-packages/tensorflow/python/autograph/impl/api.py\", line 459, in _call_unconverted\n",
      "    return f(*args)\n",
      "\n",
      "  File \"/home/han/Projects/HIASCI/Codes/dpmhm/dpmhm/datasets/preprocessing.py\", line 301, in _slider\n",
      "    return  sliding_window_view(S, (S.shape[0], *ws))[0, ::ds[0], ::ds[1]]\n",
      "\n",
      "  File \"<__array_function__ internals>\", line 5, in sliding_window_view\n",
      "\n",
      "  File \"/home/han/.conda/envs/dev38/lib/python3.8/site-packages/numpy/lib/stride_tricks.py\", line 331, in sliding_window_view\n",
      "    raise ValueError(\n",
      "\n",
      "ValueError: window shape cannot be larger than input array shape\n",
      "\n",
      "\n",
      "2022-10-09 10:08:44.611388: W tensorflow/core/framework/op_kernel.cc:1768] INVALID_ARGUMENT: ValueError: window shape cannot be larger than input array shape\n",
      "Traceback (most recent call last):\n",
      "\n",
      "  File \"/home/han/.conda/envs/dev38/lib/python3.8/site-packages/tensorflow/python/ops/script_ops.py\", line 269, in __call__\n",
      "    return func(device, token, args)\n",
      "\n",
      "  File \"/home/han/.conda/envs/dev38/lib/python3.8/site-packages/tensorflow/python/ops/script_ops.py\", line 147, in __call__\n",
      "    outputs = self._call(device, args)\n",
      "\n",
      "  File \"/home/han/.conda/envs/dev38/lib/python3.8/site-packages/tensorflow/python/ops/script_ops.py\", line 154, in _call\n",
      "    ret = self._func(*args)\n",
      "\n",
      "  File \"/home/han/.conda/envs/dev38/lib/python3.8/site-packages/tensorflow/python/autograph/impl/api.py\", line 642, in wrapper\n",
      "    return func(*args, **kwargs)\n",
      "\n",
      "  File \"/tmp/__autograph_generated_filei8qexo52.py\", line 8, in <lambda>\n",
      "    tf__lam = (lambda X: ag__.with_function_scope((lambda lscope: (X['label'], X['metadata'], ag__.converted_call(tf.py_function, (), dict(func=ag__.autograph_artifact((lambda S: ag__.converted_call(_slider, (ag__.converted_call(S.numpy, (), None, lscope), window_shape, downsample), None, lscope))), inp=[X['feature']], Tout=tf.float64), lscope))), 'lscope', ag__.STD))\n",
      "\n",
      "  File \"/home/han/.conda/envs/dev38/lib/python3.8/site-packages/tensorflow/python/autograph/impl/api.py\", line 335, in converted_call\n",
      "    return _call_unconverted(f, args, kwargs, options, False)\n",
      "\n",
      "  File \"/home/han/.conda/envs/dev38/lib/python3.8/site-packages/tensorflow/python/autograph/impl/api.py\", line 459, in _call_unconverted\n",
      "    return f(*args)\n",
      "\n",
      "  File \"/home/han/Projects/HIASCI/Codes/dpmhm/dpmhm/datasets/preprocessing.py\", line 301, in _slider\n",
      "    return  sliding_window_view(S, (S.shape[0], *ws))[0, ::ds[0], ::ds[1]]\n",
      "\n",
      "  File \"<__array_function__ internals>\", line 5, in sliding_window_view\n",
      "\n",
      "  File \"/home/han/.conda/envs/dev38/lib/python3.8/site-packages/numpy/lib/stride_tricks.py\", line 331, in sliding_window_view\n",
      "    raise ValueError(\n",
      "\n",
      "ValueError: window shape cannot be larger than input array shape\n",
      "\n",
      "\n",
      "2022-10-09 10:08:44.611988: W tensorflow/core/framework/op_kernel.cc:1768] INVALID_ARGUMENT: ValueError: window shape cannot be larger than input array shape\n",
      "Traceback (most recent call last):\n",
      "\n",
      "  File \"/home/han/.conda/envs/dev38/lib/python3.8/site-packages/tensorflow/python/ops/script_ops.py\", line 269, in __call__\n",
      "    return func(device, token, args)\n",
      "\n",
      "  File \"/home/han/.conda/envs/dev38/lib/python3.8/site-packages/tensorflow/python/ops/script_ops.py\", line 147, in __call__\n",
      "    outputs = self._call(device, args)\n",
      "\n",
      "  File \"/home/han/.conda/envs/dev38/lib/python3.8/site-packages/tensorflow/python/ops/script_ops.py\", line 154, in _call\n",
      "    ret = self._func(*args)\n",
      "\n",
      "  File \"/home/han/.conda/envs/dev38/lib/python3.8/site-packages/tensorflow/python/autograph/impl/api.py\", line 642, in wrapper\n",
      "    return func(*args, **kwargs)\n",
      "\n",
      "  File \"/tmp/__autograph_generated_filei8qexo52.py\", line 8, in <lambda>\n",
      "    tf__lam = (lambda X: ag__.with_function_scope((lambda lscope: (X['label'], X['metadata'], ag__.converted_call(tf.py_function, (), dict(func=ag__.autograph_artifact((lambda S: ag__.converted_call(_slider, (ag__.converted_call(S.numpy, (), None, lscope), window_shape, downsample), None, lscope))), inp=[X['feature']], Tout=tf.float64), lscope))), 'lscope', ag__.STD))\n",
      "\n",
      "  File \"/home/han/.conda/envs/dev38/lib/python3.8/site-packages/tensorflow/python/autograph/impl/api.py\", line 335, in converted_call\n",
      "    return _call_unconverted(f, args, kwargs, options, False)\n",
      "\n",
      "  File \"/home/han/.conda/envs/dev38/lib/python3.8/site-packages/tensorflow/python/autograph/impl/api.py\", line 459, in _call_unconverted\n",
      "    return f(*args)\n",
      "\n",
      "  File \"/home/han/Projects/HIASCI/Codes/dpmhm/dpmhm/datasets/preprocessing.py\", line 301, in _slider\n",
      "    return  sliding_window_view(S, (S.shape[0], *ws))[0, ::ds[0], ::ds[1]]\n",
      "\n",
      "  File \"<__array_function__ internals>\", line 5, in sliding_window_view\n",
      "\n",
      "  File \"/home/han/.conda/envs/dev38/lib/python3.8/site-packages/numpy/lib/stride_tricks.py\", line 331, in sliding_window_view\n",
      "    raise ValueError(\n",
      "\n",
      "ValueError: window shape cannot be larger than input array shape\n",
      "\n",
      "\n",
      "2022-10-09 10:08:44.612233: W tensorflow/core/framework/op_kernel.cc:1768] INVALID_ARGUMENT: ValueError: window shape cannot be larger than input array shape\n",
      "Traceback (most recent call last):\n",
      "\n",
      "  File \"/home/han/.conda/envs/dev38/lib/python3.8/site-packages/tensorflow/python/ops/script_ops.py\", line 269, in __call__\n",
      "    return func(device, token, args)\n",
      "\n",
      "  File \"/home/han/.conda/envs/dev38/lib/python3.8/site-packages/tensorflow/python/ops/script_ops.py\", line 147, in __call__\n",
      "    outputs = self._call(device, args)\n",
      "\n",
      "  File \"/home/han/.conda/envs/dev38/lib/python3.8/site-packages/tensorflow/python/ops/script_ops.py\", line 154, in _call\n",
      "    ret = self._func(*args)\n",
      "\n",
      "  File \"/home/han/.conda/envs/dev38/lib/python3.8/site-packages/tensorflow/python/autograph/impl/api.py\", line 642, in wrapper\n",
      "    return func(*args, **kwargs)\n",
      "\n",
      "  File \"/tmp/__autograph_generated_filei8qexo52.py\", line 8, in <lambda>\n",
      "    tf__lam = (lambda X: ag__.with_function_scope((lambda lscope: (X['label'], X['metadata'], ag__.converted_call(tf.py_function, (), dict(func=ag__.autograph_artifact((lambda S: ag__.converted_call(_slider, (ag__.converted_call(S.numpy, (), None, lscope), window_shape, downsample), None, lscope))), inp=[X['feature']], Tout=tf.float64), lscope))), 'lscope', ag__.STD))\n",
      "\n",
      "  File \"/home/han/.conda/envs/dev38/lib/python3.8/site-packages/tensorflow/python/autograph/impl/api.py\", line 335, in converted_call\n",
      "    return _call_unconverted(f, args, kwargs, options, False)\n",
      "\n",
      "  File \"/home/han/.conda/envs/dev38/lib/python3.8/site-packages/tensorflow/python/autograph/impl/api.py\", line 459, in _call_unconverted\n",
      "    return f(*args)\n",
      "\n",
      "  File \"/home/han/Projects/HIASCI/Codes/dpmhm/dpmhm/datasets/preprocessing.py\", line 301, in _slider\n",
      "    return  sliding_window_view(S, (S.shape[0], *ws))[0, ::ds[0], ::ds[1]]\n",
      "\n",
      "  File \"<__array_function__ internals>\", line 5, in sliding_window_view\n",
      "\n",
      "  File \"/home/han/.conda/envs/dev38/lib/python3.8/site-packages/numpy/lib/stride_tricks.py\", line 331, in sliding_window_view\n",
      "    raise ValueError(\n",
      "\n",
      "ValueError: window shape cannot be larger than input array shape\n",
      "\n",
      "\n",
      "2022-10-09 10:08:44.613171: W tensorflow/core/framework/op_kernel.cc:1768] INVALID_ARGUMENT: ValueError: window shape cannot be larger than input array shape\n",
      "Traceback (most recent call last):\n",
      "\n",
      "  File \"/home/han/.conda/envs/dev38/lib/python3.8/site-packages/tensorflow/python/ops/script_ops.py\", line 269, in __call__\n",
      "    return func(device, token, args)\n",
      "\n",
      "  File \"/home/han/.conda/envs/dev38/lib/python3.8/site-packages/tensorflow/python/ops/script_ops.py\", line 147, in __call__\n",
      "    outputs = self._call(device, args)\n",
      "\n",
      "  File \"/home/han/.conda/envs/dev38/lib/python3.8/site-packages/tensorflow/python/ops/script_ops.py\", line 154, in _call\n",
      "    ret = self._func(*args)\n",
      "\n",
      "  File \"/home/han/.conda/envs/dev38/lib/python3.8/site-packages/tensorflow/python/autograph/impl/api.py\", line 642, in wrapper\n",
      "    return func(*args, **kwargs)\n",
      "\n",
      "  File \"/tmp/__autograph_generated_filei8qexo52.py\", line 8, in <lambda>\n",
      "    tf__lam = (lambda X: ag__.with_function_scope((lambda lscope: (X['label'], X['metadata'], ag__.converted_call(tf.py_function, (), dict(func=ag__.autograph_artifact((lambda S: ag__.converted_call(_slider, (ag__.converted_call(S.numpy, (), None, lscope), window_shape, downsample), None, lscope))), inp=[X['feature']], Tout=tf.float64), lscope))), 'lscope', ag__.STD))\n",
      "\n",
      "  File \"/home/han/.conda/envs/dev38/lib/python3.8/site-packages/tensorflow/python/autograph/impl/api.py\", line 335, in converted_call\n",
      "    return _call_unconverted(f, args, kwargs, options, False)\n",
      "\n",
      "  File \"/home/han/.conda/envs/dev38/lib/python3.8/site-packages/tensorflow/python/autograph/impl/api.py\", line 459, in _call_unconverted\n",
      "    return f(*args)\n",
      "\n",
      "  File \"/home/han/Projects/HIASCI/Codes/dpmhm/dpmhm/datasets/preprocessing.py\", line 301, in _slider\n",
      "    return  sliding_window_view(S, (S.shape[0], *ws))[0, ::ds[0], ::ds[1]]\n",
      "\n",
      "  File \"<__array_function__ internals>\", line 5, in sliding_window_view\n",
      "\n",
      "  File \"/home/han/.conda/envs/dev38/lib/python3.8/site-packages/numpy/lib/stride_tricks.py\", line 331, in sliding_window_view\n",
      "    raise ValueError(\n",
      "\n",
      "ValueError: window shape cannot be larger than input array shape\n",
      "\n",
      "\n",
      "2022-10-09 10:08:44.615108: W tensorflow/core/framework/op_kernel.cc:1768] INVALID_ARGUMENT: ValueError: window shape cannot be larger than input array shape\n",
      "Traceback (most recent call last):\n",
      "\n",
      "  File \"/home/han/.conda/envs/dev38/lib/python3.8/site-packages/tensorflow/python/ops/script_ops.py\", line 269, in __call__\n",
      "    return func(device, token, args)\n",
      "\n",
      "  File \"/home/han/.conda/envs/dev38/lib/python3.8/site-packages/tensorflow/python/ops/script_ops.py\", line 147, in __call__\n",
      "    outputs = self._call(device, args)\n",
      "\n",
      "  File \"/home/han/.conda/envs/dev38/lib/python3.8/site-packages/tensorflow/python/ops/script_ops.py\", line 154, in _call\n",
      "    ret = self._func(*args)\n",
      "\n",
      "  File \"/home/han/.conda/envs/dev38/lib/python3.8/site-packages/tensorflow/python/autograph/impl/api.py\", line 642, in wrapper\n",
      "    return func(*args, **kwargs)\n",
      "\n",
      "  File \"/tmp/__autograph_generated_filei8qexo52.py\", line 8, in <lambda>\n",
      "    tf__lam = (lambda X: ag__.with_function_scope((lambda lscope: (X['label'], X['metadata'], ag__.converted_call(tf.py_function, (), dict(func=ag__.autograph_artifact((lambda S: ag__.converted_call(_slider, (ag__.converted_call(S.numpy, (), None, lscope), window_shape, downsample), None, lscope))), inp=[X['feature']], Tout=tf.float64), lscope))), 'lscope', ag__.STD))\n",
      "\n",
      "  File \"/home/han/.conda/envs/dev38/lib/python3.8/site-packages/tensorflow/python/autograph/impl/api.py\", line 335, in converted_call\n",
      "    return _call_unconverted(f, args, kwargs, options, False)\n",
      "\n",
      "  File \"/home/han/.conda/envs/dev38/lib/python3.8/site-packages/tensorflow/python/autograph/impl/api.py\", line 459, in _call_unconverted\n",
      "    return f(*args)\n",
      "\n",
      "  File \"/home/han/Projects/HIASCI/Codes/dpmhm/dpmhm/datasets/preprocessing.py\", line 301, in _slider\n",
      "    return  sliding_window_view(S, (S.shape[0], *ws))[0, ::ds[0], ::ds[1]]\n",
      "\n",
      "  File \"<__array_function__ internals>\", line 5, in sliding_window_view\n",
      "\n",
      "  File \"/home/han/.conda/envs/dev38/lib/python3.8/site-packages/numpy/lib/stride_tricks.py\", line 331, in sliding_window_view\n",
      "    raise ValueError(\n",
      "\n",
      "ValueError: window shape cannot be larger than input array shape\n",
      "\n",
      "\n",
      "2022-10-09 10:08:44.615548: W tensorflow/core/framework/op_kernel.cc:1768] INVALID_ARGUMENT: ValueError: window shape cannot be larger than input array shape\n",
      "Traceback (most recent call last):\n",
      "\n",
      "  File \"/home/han/.conda/envs/dev38/lib/python3.8/site-packages/tensorflow/python/ops/script_ops.py\", line 269, in __call__\n",
      "    return func(device, token, args)\n",
      "\n",
      "  File \"/home/han/.conda/envs/dev38/lib/python3.8/site-packages/tensorflow/python/ops/script_ops.py\", line 147, in __call__\n",
      "    outputs = self._call(device, args)\n",
      "\n",
      "  File \"/home/han/.conda/envs/dev38/lib/python3.8/site-packages/tensorflow/python/ops/script_ops.py\", line 154, in _call\n",
      "    ret = self._func(*args)\n",
      "\n",
      "  File \"/home/han/.conda/envs/dev38/lib/python3.8/site-packages/tensorflow/python/autograph/impl/api.py\", line 642, in wrapper\n",
      "    return func(*args, **kwargs)\n",
      "\n",
      "  File \"/tmp/__autograph_generated_filei8qexo52.py\", line 8, in <lambda>\n",
      "    tf__lam = (lambda X: ag__.with_function_scope((lambda lscope: (X['label'], X['metadata'], ag__.converted_call(tf.py_function, (), dict(func=ag__.autograph_artifact((lambda S: ag__.converted_call(_slider, (ag__.converted_call(S.numpy, (), None, lscope), window_shape, downsample), None, lscope))), inp=[X['feature']], Tout=tf.float64), lscope))), 'lscope', ag__.STD))\n",
      "\n",
      "  File \"/home/han/.conda/envs/dev38/lib/python3.8/site-packages/tensorflow/python/autograph/impl/api.py\", line 335, in converted_call\n",
      "    return _call_unconverted(f, args, kwargs, options, False)\n",
      "\n",
      "  File \"/home/han/.conda/envs/dev38/lib/python3.8/site-packages/tensorflow/python/autograph/impl/api.py\", line 459, in _call_unconverted\n",
      "    return f(*args)\n",
      "\n",
      "  File \"/home/han/Projects/HIASCI/Codes/dpmhm/dpmhm/datasets/preprocessing.py\", line 301, in _slider\n",
      "    return  sliding_window_view(S, (S.shape[0], *ws))[0, ::ds[0], ::ds[1]]\n",
      "\n",
      "  File \"<__array_function__ internals>\", line 5, in sliding_window_view\n",
      "\n",
      "  File \"/home/han/.conda/envs/dev38/lib/python3.8/site-packages/numpy/lib/stride_tricks.py\", line 331, in sliding_window_view\n",
      "    raise ValueError(\n",
      "\n",
      "ValueError: window shape cannot be larger than input array shape\n",
      "\n",
      "\n",
      "2022-10-09 10:08:44.616806: W tensorflow/core/framework/op_kernel.cc:1768] INVALID_ARGUMENT: ValueError: window shape cannot be larger than input array shape\n",
      "Traceback (most recent call last):\n",
      "\n",
      "  File \"/home/han/.conda/envs/dev38/lib/python3.8/site-packages/tensorflow/python/ops/script_ops.py\", line 269, in __call__\n",
      "    return func(device, token, args)\n",
      "\n",
      "  File \"/home/han/.conda/envs/dev38/lib/python3.8/site-packages/tensorflow/python/ops/script_ops.py\", line 147, in __call__\n",
      "    outputs = self._call(device, args)\n",
      "\n",
      "  File \"/home/han/.conda/envs/dev38/lib/python3.8/site-packages/tensorflow/python/ops/script_ops.py\", line 154, in _call\n",
      "    ret = self._func(*args)\n",
      "\n",
      "  File \"/home/han/.conda/envs/dev38/lib/python3.8/site-packages/tensorflow/python/autograph/impl/api.py\", line 642, in wrapper\n",
      "    return func(*args, **kwargs)\n",
      "\n",
      "  File \"/tmp/__autograph_generated_filei8qexo52.py\", line 8, in <lambda>\n",
      "    tf__lam = (lambda X: ag__.with_function_scope((lambda lscope: (X['label'], X['metadata'], ag__.converted_call(tf.py_function, (), dict(func=ag__.autograph_artifact((lambda S: ag__.converted_call(_slider, (ag__.converted_call(S.numpy, (), None, lscope), window_shape, downsample), None, lscope))), inp=[X['feature']], Tout=tf.float64), lscope))), 'lscope', ag__.STD))\n",
      "\n",
      "  File \"/home/han/.conda/envs/dev38/lib/python3.8/site-packages/tensorflow/python/autograph/impl/api.py\", line 335, in converted_call\n",
      "    return _call_unconverted(f, args, kwargs, options, False)\n",
      "\n",
      "  File \"/home/han/.conda/envs/dev38/lib/python3.8/site-packages/tensorflow/python/autograph/impl/api.py\", line 459, in _call_unconverted\n",
      "    return f(*args)\n",
      "\n",
      "  File \"/home/han/Projects/HIASCI/Codes/dpmhm/dpmhm/datasets/preprocessing.py\", line 301, in _slider\n",
      "    return  sliding_window_view(S, (S.shape[0], *ws))[0, ::ds[0], ::ds[1]]\n",
      "\n",
      "  File \"<__array_function__ internals>\", line 5, in sliding_window_view\n",
      "\n",
      "  File \"/home/han/.conda/envs/dev38/lib/python3.8/site-packages/numpy/lib/stride_tricks.py\", line 331, in sliding_window_view\n",
      "    raise ValueError(\n",
      "\n",
      "ValueError: window shape cannot be larger than input array shape\n",
      "\n",
      "\n",
      "2022-10-09 10:08:44.619712: W tensorflow/core/framework/op_kernel.cc:1768] INVALID_ARGUMENT: ValueError: window shape cannot be larger than input array shape\n",
      "Traceback (most recent call last):\n",
      "\n",
      "  File \"/home/han/.conda/envs/dev38/lib/python3.8/site-packages/tensorflow/python/ops/script_ops.py\", line 269, in __call__\n",
      "    return func(device, token, args)\n",
      "\n",
      "  File \"/home/han/.conda/envs/dev38/lib/python3.8/site-packages/tensorflow/python/ops/script_ops.py\", line 147, in __call__\n",
      "    outputs = self._call(device, args)\n",
      "\n",
      "  File \"/home/han/.conda/envs/dev38/lib/python3.8/site-packages/tensorflow/python/ops/script_ops.py\", line 154, in _call\n",
      "    ret = self._func(*args)\n",
      "\n",
      "  File \"/home/han/.conda/envs/dev38/lib/python3.8/site-packages/tensorflow/python/autograph/impl/api.py\", line 642, in wrapper\n",
      "    return func(*args, **kwargs)\n",
      "\n",
      "  File \"/tmp/__autograph_generated_filei8qexo52.py\", line 8, in <lambda>\n",
      "    tf__lam = (lambda X: ag__.with_function_scope((lambda lscope: (X['label'], X['metadata'], ag__.converted_call(tf.py_function, (), dict(func=ag__.autograph_artifact((lambda S: ag__.converted_call(_slider, (ag__.converted_call(S.numpy, (), None, lscope), window_shape, downsample), None, lscope))), inp=[X['feature']], Tout=tf.float64), lscope))), 'lscope', ag__.STD))\n",
      "\n",
      "  File \"/home/han/.conda/envs/dev38/lib/python3.8/site-packages/tensorflow/python/autograph/impl/api.py\", line 335, in converted_call\n",
      "    return _call_unconverted(f, args, kwargs, options, False)\n",
      "\n",
      "  File \"/home/han/.conda/envs/dev38/lib/python3.8/site-packages/tensorflow/python/autograph/impl/api.py\", line 459, in _call_unconverted\n",
      "    return f(*args)\n",
      "\n",
      "  File \"/home/han/Projects/HIASCI/Codes/dpmhm/dpmhm/datasets/preprocessing.py\", line 301, in _slider\n",
      "    return  sliding_window_view(S, (S.shape[0], *ws))[0, ::ds[0], ::ds[1]]\n",
      "\n",
      "  File \"<__array_function__ internals>\", line 5, in sliding_window_view\n",
      "\n",
      "  File \"/home/han/.conda/envs/dev38/lib/python3.8/site-packages/numpy/lib/stride_tricks.py\", line 331, in sliding_window_view\n",
      "    raise ValueError(\n",
      "\n",
      "ValueError: window shape cannot be larger than input array shape\n",
      "\n",
      "\n",
      "2022-10-09 10:08:44.626576: W tensorflow/core/framework/op_kernel.cc:1768] INVALID_ARGUMENT: ValueError: window shape cannot be larger than input array shape\n",
      "Traceback (most recent call last):\n",
      "\n",
      "  File \"/home/han/.conda/envs/dev38/lib/python3.8/site-packages/tensorflow/python/ops/script_ops.py\", line 269, in __call__\n",
      "    return func(device, token, args)\n",
      "\n",
      "  File \"/home/han/.conda/envs/dev38/lib/python3.8/site-packages/tensorflow/python/ops/script_ops.py\", line 147, in __call__\n",
      "    outputs = self._call(device, args)\n",
      "\n",
      "  File \"/home/han/.conda/envs/dev38/lib/python3.8/site-packages/tensorflow/python/ops/script_ops.py\", line 154, in _call\n",
      "    ret = self._func(*args)\n",
      "\n",
      "  File \"/home/han/.conda/envs/dev38/lib/python3.8/site-packages/tensorflow/python/autograph/impl/api.py\", line 642, in wrapper\n",
      "    return func(*args, **kwargs)\n",
      "\n",
      "  File \"/tmp/__autograph_generated_filei8qexo52.py\", line 8, in <lambda>\n",
      "    tf__lam = (lambda X: ag__.with_function_scope((lambda lscope: (X['label'], X['metadata'], ag__.converted_call(tf.py_function, (), dict(func=ag__.autograph_artifact((lambda S: ag__.converted_call(_slider, (ag__.converted_call(S.numpy, (), None, lscope), window_shape, downsample), None, lscope))), inp=[X['feature']], Tout=tf.float64), lscope))), 'lscope', ag__.STD))\n",
      "\n",
      "  File \"/home/han/.conda/envs/dev38/lib/python3.8/site-packages/tensorflow/python/autograph/impl/api.py\", line 335, in converted_call\n",
      "    return _call_unconverted(f, args, kwargs, options, False)\n",
      "\n",
      "  File \"/home/han/.conda/envs/dev38/lib/python3.8/site-packages/tensorflow/python/autograph/impl/api.py\", line 459, in _call_unconverted\n",
      "    return f(*args)\n",
      "\n",
      "  File \"/home/han/Projects/HIASCI/Codes/dpmhm/dpmhm/datasets/preprocessing.py\", line 301, in _slider\n",
      "    return  sliding_window_view(S, (S.shape[0], *ws))[0, ::ds[0], ::ds[1]]\n",
      "\n",
      "  File \"<__array_function__ internals>\", line 5, in sliding_window_view\n",
      "\n",
      "  File \"/home/han/.conda/envs/dev38/lib/python3.8/site-packages/numpy/lib/stride_tricks.py\", line 331, in sliding_window_view\n",
      "    raise ValueError(\n",
      "\n",
      "ValueError: window shape cannot be larger than input array shape\n",
      "\n",
      "\n",
      "2022-10-09 10:08:44.633616: W tensorflow/core/framework/op_kernel.cc:1768] INVALID_ARGUMENT: ValueError: window shape cannot be larger than input array shape\n",
      "Traceback (most recent call last):\n",
      "\n",
      "  File \"/home/han/.conda/envs/dev38/lib/python3.8/site-packages/tensorflow/python/ops/script_ops.py\", line 269, in __call__\n",
      "    return func(device, token, args)\n",
      "\n",
      "  File \"/home/han/.conda/envs/dev38/lib/python3.8/site-packages/tensorflow/python/ops/script_ops.py\", line 147, in __call__\n",
      "    outputs = self._call(device, args)\n",
      "\n",
      "  File \"/home/han/.conda/envs/dev38/lib/python3.8/site-packages/tensorflow/python/ops/script_ops.py\", line 154, in _call\n",
      "    ret = self._func(*args)\n",
      "\n",
      "  File \"/home/han/.conda/envs/dev38/lib/python3.8/site-packages/tensorflow/python/autograph/impl/api.py\", line 642, in wrapper\n",
      "    return func(*args, **kwargs)\n",
      "\n",
      "  File \"/tmp/__autograph_generated_filei8qexo52.py\", line 8, in <lambda>\n",
      "    tf__lam = (lambda X: ag__.with_function_scope((lambda lscope: (X['label'], X['metadata'], ag__.converted_call(tf.py_function, (), dict(func=ag__.autograph_artifact((lambda S: ag__.converted_call(_slider, (ag__.converted_call(S.numpy, (), None, lscope), window_shape, downsample), None, lscope))), inp=[X['feature']], Tout=tf.float64), lscope))), 'lscope', ag__.STD))\n",
      "\n",
      "  File \"/home/han/.conda/envs/dev38/lib/python3.8/site-packages/tensorflow/python/autograph/impl/api.py\", line 335, in converted_call\n",
      "    return _call_unconverted(f, args, kwargs, options, False)\n",
      "\n",
      "  File \"/home/han/.conda/envs/dev38/lib/python3.8/site-packages/tensorflow/python/autograph/impl/api.py\", line 459, in _call_unconverted\n",
      "    return f(*args)\n",
      "\n",
      "  File \"/home/han/Projects/HIASCI/Codes/dpmhm/dpmhm/datasets/preprocessing.py\", line 301, in _slider\n",
      "    return  sliding_window_view(S, (S.shape[0], *ws))[0, ::ds[0], ::ds[1]]\n",
      "\n",
      "  File \"<__array_function__ internals>\", line 5, in sliding_window_view\n",
      "\n",
      "  File \"/home/han/.conda/envs/dev38/lib/python3.8/site-packages/numpy/lib/stride_tricks.py\", line 331, in sliding_window_view\n",
      "    raise ValueError(\n",
      "\n",
      "ValueError: window shape cannot be larger than input array shape\n",
      "\n",
      "\n",
      "2022-10-09 10:08:44.635472: W tensorflow/core/framework/op_kernel.cc:1768] INVALID_ARGUMENT: ValueError: window shape cannot be larger than input array shape\n",
      "Traceback (most recent call last):\n",
      "\n",
      "  File \"/home/han/.conda/envs/dev38/lib/python3.8/site-packages/tensorflow/python/ops/script_ops.py\", line 269, in __call__\n",
      "    return func(device, token, args)\n",
      "\n",
      "  File \"/home/han/.conda/envs/dev38/lib/python3.8/site-packages/tensorflow/python/ops/script_ops.py\", line 147, in __call__\n",
      "    outputs = self._call(device, args)\n",
      "\n",
      "  File \"/home/han/.conda/envs/dev38/lib/python3.8/site-packages/tensorflow/python/ops/script_ops.py\", line 154, in _call\n",
      "    ret = self._func(*args)\n",
      "\n",
      "  File \"/home/han/.conda/envs/dev38/lib/python3.8/site-packages/tensorflow/python/autograph/impl/api.py\", line 642, in wrapper\n",
      "    return func(*args, **kwargs)\n",
      "\n",
      "  File \"/tmp/__autograph_generated_filei8qexo52.py\", line 8, in <lambda>\n",
      "    tf__lam = (lambda X: ag__.with_function_scope((lambda lscope: (X['label'], X['metadata'], ag__.converted_call(tf.py_function, (), dict(func=ag__.autograph_artifact((lambda S: ag__.converted_call(_slider, (ag__.converted_call(S.numpy, (), None, lscope), window_shape, downsample), None, lscope))), inp=[X['feature']], Tout=tf.float64), lscope))), 'lscope', ag__.STD))\n",
      "\n",
      "  File \"/home/han/.conda/envs/dev38/lib/python3.8/site-packages/tensorflow/python/autograph/impl/api.py\", line 335, in converted_call\n",
      "    return _call_unconverted(f, args, kwargs, options, False)\n",
      "\n",
      "  File \"/home/han/.conda/envs/dev38/lib/python3.8/site-packages/tensorflow/python/autograph/impl/api.py\", line 459, in _call_unconverted\n",
      "    return f(*args)\n",
      "\n",
      "  File \"/home/han/Projects/HIASCI/Codes/dpmhm/dpmhm/datasets/preprocessing.py\", line 301, in _slider\n",
      "    return  sliding_window_view(S, (S.shape[0], *ws))[0, ::ds[0], ::ds[1]]\n",
      "\n",
      "  File \"<__array_function__ internals>\", line 5, in sliding_window_view\n",
      "\n",
      "  File \"/home/han/.conda/envs/dev38/lib/python3.8/site-packages/numpy/lib/stride_tricks.py\", line 331, in sliding_window_view\n",
      "    raise ValueError(\n",
      "\n",
      "ValueError: window shape cannot be larger than input array shape\n",
      "\n",
      "\n",
      "2022-10-09 10:08:44.635911: W tensorflow/core/framework/op_kernel.cc:1768] INVALID_ARGUMENT: ValueError: window shape cannot be larger than input array shape\n",
      "Traceback (most recent call last):\n",
      "\n",
      "  File \"/home/han/.conda/envs/dev38/lib/python3.8/site-packages/tensorflow/python/ops/script_ops.py\", line 269, in __call__\n",
      "    return func(device, token, args)\n",
      "\n",
      "  File \"/home/han/.conda/envs/dev38/lib/python3.8/site-packages/tensorflow/python/ops/script_ops.py\", line 147, in __call__\n",
      "    outputs = self._call(device, args)\n",
      "\n",
      "  File \"/home/han/.conda/envs/dev38/lib/python3.8/site-packages/tensorflow/python/ops/script_ops.py\", line 154, in _call\n",
      "    ret = self._func(*args)\n",
      "\n",
      "  File \"/home/han/.conda/envs/dev38/lib/python3.8/site-packages/tensorflow/python/autograph/impl/api.py\", line 642, in wrapper\n",
      "    return func(*args, **kwargs)\n",
      "\n",
      "  File \"/tmp/__autograph_generated_filei8qexo52.py\", line 8, in <lambda>\n",
      "    tf__lam = (lambda X: ag__.with_function_scope((lambda lscope: (X['label'], X['metadata'], ag__.converted_call(tf.py_function, (), dict(func=ag__.autograph_artifact((lambda S: ag__.converted_call(_slider, (ag__.converted_call(S.numpy, (), None, lscope), window_shape, downsample), None, lscope))), inp=[X['feature']], Tout=tf.float64), lscope))), 'lscope', ag__.STD))\n",
      "\n",
      "  File \"/home/han/.conda/envs/dev38/lib/python3.8/site-packages/tensorflow/python/autograph/impl/api.py\", line 335, in converted_call\n",
      "    return _call_unconverted(f, args, kwargs, options, False)\n",
      "\n",
      "  File \"/home/han/.conda/envs/dev38/lib/python3.8/site-packages/tensorflow/python/autograph/impl/api.py\", line 459, in _call_unconverted\n",
      "    return f(*args)\n",
      "\n",
      "  File \"/home/han/Projects/HIASCI/Codes/dpmhm/dpmhm/datasets/preprocessing.py\", line 301, in _slider\n",
      "    return  sliding_window_view(S, (S.shape[0], *ws))[0, ::ds[0], ::ds[1]]\n",
      "\n",
      "  File \"<__array_function__ internals>\", line 5, in sliding_window_view\n",
      "\n",
      "  File \"/home/han/.conda/envs/dev38/lib/python3.8/site-packages/numpy/lib/stride_tricks.py\", line 331, in sliding_window_view\n",
      "    raise ValueError(\n",
      "\n",
      "ValueError: window shape cannot be larger than input array shape\n",
      "\n",
      "\n",
      "2022-10-09 10:08:44.643701: W tensorflow/core/framework/op_kernel.cc:1768] INVALID_ARGUMENT: ValueError: window shape cannot be larger than input array shape\n",
      "Traceback (most recent call last):\n",
      "\n",
      "  File \"/home/han/.conda/envs/dev38/lib/python3.8/site-packages/tensorflow/python/ops/script_ops.py\", line 269, in __call__\n",
      "    return func(device, token, args)\n",
      "\n",
      "  File \"/home/han/.conda/envs/dev38/lib/python3.8/site-packages/tensorflow/python/ops/script_ops.py\", line 147, in __call__\n",
      "    outputs = self._call(device, args)\n",
      "\n",
      "  File \"/home/han/.conda/envs/dev38/lib/python3.8/site-packages/tensorflow/python/ops/script_ops.py\", line 154, in _call\n",
      "    ret = self._func(*args)\n",
      "\n",
      "  File \"/home/han/.conda/envs/dev38/lib/python3.8/site-packages/tensorflow/python/autograph/impl/api.py\", line 642, in wrapper\n",
      "    return func(*args, **kwargs)\n",
      "\n",
      "  File \"/tmp/__autograph_generated_filei8qexo52.py\", line 8, in <lambda>\n",
      "    tf__lam = (lambda X: ag__.with_function_scope((lambda lscope: (X['label'], X['metadata'], ag__.converted_call(tf.py_function, (), dict(func=ag__.autograph_artifact((lambda S: ag__.converted_call(_slider, (ag__.converted_call(S.numpy, (), None, lscope), window_shape, downsample), None, lscope))), inp=[X['feature']], Tout=tf.float64), lscope))), 'lscope', ag__.STD))\n",
      "\n",
      "  File \"/home/han/.conda/envs/dev38/lib/python3.8/site-packages/tensorflow/python/autograph/impl/api.py\", line 335, in converted_call\n",
      "    return _call_unconverted(f, args, kwargs, options, False)\n",
      "\n",
      "  File \"/home/han/.conda/envs/dev38/lib/python3.8/site-packages/tensorflow/python/autograph/impl/api.py\", line 459, in _call_unconverted\n",
      "    return f(*args)\n",
      "\n",
      "  File \"/home/han/Projects/HIASCI/Codes/dpmhm/dpmhm/datasets/preprocessing.py\", line 301, in _slider\n",
      "    return  sliding_window_view(S, (S.shape[0], *ws))[0, ::ds[0], ::ds[1]]\n",
      "\n",
      "  File \"<__array_function__ internals>\", line 5, in sliding_window_view\n",
      "\n",
      "  File \"/home/han/.conda/envs/dev38/lib/python3.8/site-packages/numpy/lib/stride_tricks.py\", line 331, in sliding_window_view\n",
      "    raise ValueError(\n",
      "\n",
      "ValueError: window shape cannot be larger than input array shape\n",
      "\n",
      "\n"
     ]
    }
   ],
   "source": [
    "dw_split = {}\n",
    "\n",
    "# for p in (outdir/'full_domain'/\"{'train': 0.2, 'val': 0.7, 'test': 0.1}\").iterdir():\n",
    "for p in (outdir/'full_domain'/str(splits)).iterdir():\n",
    "    dw_split[p.name] = tf.data.Dataset.load(str(p))           \n",
    "\n",
    "# Loading from files makes the size information available \n",
    "for k, ds in dw_split.items():\n",
    "    print(k, utils.get_dataset_size(ds))    "
   ]
  },
  {
   "cell_type": "code",
   "execution_count": null,
   "id": "4d4fc7a4-fd2d-41b2-983e-3490168fae7e",
   "metadata": {},
   "outputs": [],
   "source": []
  },
  {
   "cell_type": "code",
   "execution_count": null,
   "id": "95e05480-23c3-495c-be43-39ca59d587b0",
   "metadata": {},
   "outputs": [],
   "source": []
  },
  {
   "cell_type": "code",
   "execution_count": null,
   "id": "e2371842-cd5f-4b0d-a6cd-9d516e8a07c5",
   "metadata": {},
   "outputs": [],
   "source": []
  },
  {
   "cell_type": "code",
   "execution_count": 4,
   "id": "020cb535-76ae-4e21-a9aa-d7d6f9f1d9b4",
   "metadata": {},
   "outputs": [],
   "source": [
    "dw.save(str(outdir/'frames_target_domain'))\n",
    "dw.save(str(outdir/'partial_domain'/str(splits)/'test'))    \n",
    "dw = tf.data.Dataset.load(str(outdir/'frames_target_domain'))\n",
    "# dw_split[p.name] = tf.data.Dataset.load(str(p))      "
   ]
  },
  {
   "cell_type": "code",
   "execution_count": null,
   "id": "688b8771-0020-4371-84df-f12ee29ff70b",
   "metadata": {},
   "outputs": [],
   "source": []
  },
  {
   "cell_type": "code",
   "execution_count": 12,
   "id": "6555c3da-b992-4903-a0b5-d498e2d7017e",
   "metadata": {},
   "outputs": [],
   "source": [
    "for k,v in dw_split.items():\n",
    "    v.save(str(outdir/'partial_domain'/str(splits)/k))    "
   ]
  },
  {
   "cell_type": "code",
   "execution_count": 20,
   "id": "c3eb51a8-c098-4c9c-baed-32cdee45caa5",
   "metadata": {},
   "outputs": [
    {
     "name": "stdout",
     "output_type": "stream",
     "text": [
      "val 1623\n",
      "train 459\n",
      "test 246\n"
     ]
    }
   ],
   "source": [
    "dw_split = {}\n",
    "\n",
    "for p in (outdir/'partial_domain'/str(splits)).iterdir():\n",
    "    dw_split[p.name] = tf.data.Dataset.load(str(p))      \n",
    "    \n",
    "# Loading from files makes the size information available \n",
    "for k, ds in dw_split.items():\n",
    "    print(k, len(ds))        "
   ]
  },
  {
   "cell_type": "code",
   "execution_count": 4,
   "id": "bc962689-c485-4907-a6a8-9d522a68fdce",
   "metadata": {},
   "outputs": [],
   "source": [
    "# Target domain\n",
    "\n",
    "dc_kwargs = {\n",
    "    # 'n_trunk': 1,\n",
    "    'keys': keys,\n",
    "    'channels': channels,\n",
    "    'filters': {'LoadForce': [3]}\n",
    "}\n",
    "\n",
    "ft_kwargs = {\n",
    "    'window_shape': window_shape,\n",
    "    'downsample': downsample\n",
    "}\n",
    "\n",
    "dw = preprocessing.wav2feature_pipeline(ds0, 'cwru', extractor, dc_kwargs=dc_kwargs, ft_kwargs=ft_kwargs)\n",
    "\n",
    "dw.save(str(outdir/'frames_target_domain'))\n",
    "dw.save(str(outdir/'partial_domain'/str(splits)/'test'))    \n",
    "dw = tf.data.Dataset.load(str(outdir/'frames_target_domain'))\n",
    "# dw_split[p.name] = tf.data.Dataset.load(str(p))      \n"
   ]
  },
  {
   "cell_type": "code",
   "execution_count": 12,
   "id": "e46132c6-4699-4164-b9ab-3ddf78d49fff",
   "metadata": {},
   "outputs": [],
   "source": [
    "# splits = {'train':0.2, 'test':0.8}\n",
    "\n",
    "sp_kwargs = {\n",
    "    'shuffle_size': None,\n",
    "    'reshuffle_each_iteration': False,\n",
    "}\n",
    "\n",
    "dw_split = utils.split_dataset(dw, splits, labels=label_dict.keys(), **sp_kwargs)\n",
    "\n",
    "for k,v in dw_split.items():\n",
    "    v.save(str(outdir/'partial_domain'/str(splits)/k))    "
   ]
  },
  {
   "cell_type": "code",
   "execution_count": 20,
   "id": "7360872c-a360-466c-aba4-ab3c71700cc7",
   "metadata": {},
   "outputs": [
    {
     "name": "stdout",
     "output_type": "stream",
     "text": [
      "val 1623\n",
      "train 459\n",
      "test 246\n"
     ]
    }
   ],
   "source": [
    "dw_split = {}\n",
    "\n",
    "for p in (outdir/'partial_domain'/str(splits)).iterdir():\n",
    "    dw_split[p.name] = tf.data.Dataset.load(str(p))      \n",
    "    \n",
    "# Loading from files makes the size information available \n",
    "for k, ds in dw_split.items():\n",
    "    print(k, len(ds))        "
   ]
  },
  {
   "cell_type": "code",
   "execution_count": null,
   "id": "feceb84a-3b5a-4035-9f10-b4d6dffd6770",
   "metadata": {},
   "outputs": [],
   "source": []
  },
  {
   "cell_type": "code",
   "execution_count": null,
   "id": "9a38ad42-e525-42d8-83a4-c8525d21c0a2",
   "metadata": {},
   "outputs": [],
   "source": []
  },
  {
   "cell_type": "code",
   "execution_count": null,
   "id": "0389dfcd-e5c9-489f-905c-b647c9793eb0",
   "metadata": {},
   "outputs": [],
   "source": []
  },
  {
   "cell_type": "code",
   "execution_count": 13,
   "id": "64acf1dc-0cc5-4552-9c1b-bdbfaf489759",
   "metadata": {},
   "outputs": [],
   "source": [
    "# Source domain\n",
    "\n",
    "dc_kwargs = {\n",
    "    'n_trunk': n_trunk,\n",
    "    'keys': keys,\n",
    "    'channels': channels,\n",
    "    # 'filters': {'LoadForce': [0,1,2]}\n",
    "}\n",
    "\n",
    "ft_kwargs = {\n",
    "    'window_shape': window_shape,\n",
    "    'downsample': downsample\n",
    "}\n",
    "\n",
    "# sp_kwargs = {\n",
    "#     'shuffle_size': 1,\n",
    "#     'reshuffle_each_iteration': False,\n",
    "# }\n",
    "\n",
    "dw_split = preprocessing.pipeline(ds0, 'cwru', extractor, \n",
    "                                  dc_kwargs=dc_kwargs, ft_kwargs=ft_kwargs,\n",
    "                                  splits=splits, sp_mode='uniform')\n",
    "\n",
    "for k,v in dw_split.items():\n",
    "    v.save(str(outdir/'partial_domain'/str(splits)/k))    "
   ]
  },
  {
   "cell_type": "code",
   "execution_count": 23,
   "id": "459e22c0-d915-40b4-b9f3-2e8e7e3590f5",
   "metadata": {},
   "outputs": [],
   "source": [
    "# Target domain\n",
    "\n",
    "dc_kwargs = {\n",
    "    'n_trunk': n_trunk,\n",
    "    'keys': keys,\n",
    "    'channels': channels,\n",
    "    'filters': {'LoadForce': [3]}\n",
    "}\n",
    "\n",
    "# splits = {'train':0.2, 'test':0.8}\n",
    "# splits = {'test': 1.}\n",
    "\n",
    "dw = preprocessing.pipeline(ds0, 'cwru', extractor, \n",
    "                                  dc_kwargs=dc_kwargs, ft_kwargs=ft_kwargs, \n",
    "                                  splits=None, sp_mode='category')\n",
    "\n",
    "dw.save(str(outdir/'partial_domain'/str(splits)/'test'))    "
   ]
  },
  {
   "cell_type": "code",
   "execution_count": 8,
   "id": "8cee3c78-b18a-4a9a-b5d0-1576b35b5e1d",
   "metadata": {},
   "outputs": [
    {
     "name": "stdout",
     "output_type": "stream",
     "text": [
      "train 2336\n",
      "val 584\n",
      "test 960\n"
     ]
    }
   ],
   "source": [
    "dw_split = {}\n",
    "\n",
    "for k in ['train', 'val', 'test']:\n",
    "    v = tf.data.Dataset.load(str(outdir/'partial_domain'/\"{'train': 0.8, 'val': 0.2}\"/k))        \n",
    "    dw_split[k] = v    \n",
    "    # ds_split[k] = v.map(lambda X:(tf.transpose(X['feature'], [1,2,0]), X['label']))\n",
    "\n",
    "    # Loading from files makes the size information available \n",
    "    print(k, utils.get_dataset_size(v))    \n",
    "\n",
    "# n_channels, n_bands, n_frames = tuple(dw_split['train'].element_spec['feature'].shape)"
   ]
  },
  {
   "cell_type": "code",
   "execution_count": null,
   "id": "4bd6ad55-2bf1-4173-901a-e6fb08be5310",
   "metadata": {},
   "outputs": [],
   "source": []
  },
  {
   "cell_type": "code",
   "execution_count": null,
   "id": "fe08c551-6066-4832-a65c-2a6f75c9655e",
   "metadata": {},
   "outputs": [],
   "source": []
  },
  {
   "cell_type": "code",
   "execution_count": 22,
   "id": "1b696fbb-714a-4cce-b87b-6a2d5c4fa9db",
   "metadata": {},
   "outputs": [],
   "source": [
    "# dt = ds_split['train']\n",
    "# de = ds_split['test']\n",
    "# dv = ds_split['val']\n",
    "\n",
    "# c = 23\n",
    "# nt = utils.get_dataset_size(dt.filter(lambda x,y:y==c))\n",
    "\n",
    "# ne = utils.get_dataset_size(de.filter(lambda x,y:y==c))\n",
    "\n",
    "# nv = utils.get_dataset_size(dv.filter(lambda x,y:y==c))\n",
    "\n",
    "# nt/(nt+ne+nv)"
   ]
  },
  {
   "cell_type": "code",
   "execution_count": null,
   "id": "c0b42344-d9ef-48f7-a380-c1325247ea4b",
   "metadata": {},
   "outputs": [],
   "source": []
  },
  {
   "cell_type": "code",
   "execution_count": null,
   "id": "c800b4ae-1233-4acb-9b45-6a2fb7c68979",
   "metadata": {},
   "outputs": [],
   "source": []
  },
  {
   "cell_type": "code",
   "execution_count": 15,
   "id": "dc006f41-3f56-4746-8d67-0a94b3772810",
   "metadata": {},
   "outputs": [],
   "source": [
    "# takesample(ds_split['train'])[1]\n",
    "\n",
    "rr=set([(ss[1].numpy(),ww['label'].numpy().decode()) for ss, ww in zip(ds_split['val'], dw_split['val'])])\n",
    "    \n",
    "\n",
    "# len([b[0] for b in rr])\n",
    "\n",
    "# utils.get_dataset_size(dw_split['train'])\n",
    "\n",
    "# ds_split['train'].element_spec\n",
    "\n",
    "# takesample(dw_split['train'])['feature']-tf.transpose(takesample(ds_split['train'])[0], [2,0,1])\n",
    "\n",
    "# ds_train.element_spec"
   ]
  },
  {
   "cell_type": "code",
   "execution_count": 16,
   "id": "a2381f03-d2e8-420e-80e1-0b08e5bfe647",
   "metadata": {},
   "outputs": [
    {
     "data": {
      "text/plain": [
       "{(0, '19b7c8c9fce8e40a7221ddf4f84640b4'),\n",
       " (1, '758085eb101c295ef02a13c183f790c9'),\n",
       " (2, '4b9452e74d31f6871c4c6f0432da3cf7'),\n",
       " (3, 'f15c0cd7bb0d2e2a384027aecfbbde9c'),\n",
       " (4, 'faff6146cb9d081a2def0e82365aa6f5'),\n",
       " (5, '04941fdafbda3fa5ad70767533d38dea'),\n",
       " (6, '9b317898b4deeede89881a2d0918675b'),\n",
       " (7, 'ecb9fb8914e2ee54ced2e35b853a1be4'),\n",
       " (8, 'd39d89316ed238037e7a5c5dc087dd9e'),\n",
       " (9, '894b6e49c21fd1195d42263030a82edf'),\n",
       " (10, 'aa676c6c35719402705d330358031eb8'),\n",
       " (11, '6607c34e4480ce5df6afa2aa943bf26b'),\n",
       " (12, '7b612e85b5b49616590fee9758170c94'),\n",
       " (13, '921c54c70985c1fe783d04a4ecbceaa9'),\n",
       " (14, 'a126b311fbbf434ba935092728125ae6'),\n",
       " (15, 'ada901bdb3d7092c229e47ff7ecb1728'),\n",
       " (16, '7e297d6fada7128dffd8021c1d372379'),\n",
       " (17, '10d51e0caf5f4ff67ae428bcf1a0bb02'),\n",
       " (18, '6a669739e6fdfa4401bf3f70c5d9e323'),\n",
       " (19, '445d82dca0a6030521a68a7599293f82'),\n",
       " (20, 'f9b9bb12c159f3d673b064486cb8a842'),\n",
       " (21, 'ca79b89cde83eaa59f650367c712973d'),\n",
       " (22, '42be485ad63a6716ac3f70ba720eb6ed'),\n",
       " (23, '53138cc859e723ee5b8ce50cc3acf7aa'),\n",
       " (24, '2c9f2adcfa88b11f689fabbe90bb8816'),\n",
       " (25, '1f9da2022a7ca270a5edb1338a61dc2c')}"
      ]
     },
     "execution_count": 16,
     "metadata": {},
     "output_type": "execute_result"
    }
   ],
   "source": [
    "rr"
   ]
  },
  {
   "cell_type": "code",
   "execution_count": null,
   "id": "97b04bb8-9a23-4b98-b531-54849d733914",
   "metadata": {},
   "outputs": [],
   "source": []
  },
  {
   "cell_type": "code",
   "execution_count": null,
   "id": "c3e692d2-31c9-4350-9889-3f90a4fdfd34",
   "metadata": {},
   "outputs": [],
   "source": []
  },
  {
   "cell_type": "code",
   "execution_count": 3,
   "id": "443ba60d-5227-49f4-be3a-817817c6afef",
   "metadata": {},
   "outputs": [],
   "source": [
    "# ele = list(ds0.take(1))[0]\n",
    "\n",
    "# x = ele['signal']['DE'].numpy()\n",
    "# sr = ele['metadata']['SamplingRate'].numpy()\n",
    "\n",
    "# plot(x)\n",
    "# Audio(x, rate=sr)\n",
    "\n",
    "# plot(x[:len(x)//10])\n",
    "\n",
    "# ele = list(compactor.dataset.take(1))[0]\n",
    "\n",
    "# x = ele['signal'][0].numpy()\n",
    "# sr = ele['metadata']['SamplingRate'].numpy()\n",
    "\n",
    "# plot(x)\n",
    "# Audio(x, rate=sr)"
   ]
  },
  {
   "cell_type": "code",
   "execution_count": null,
   "id": "c631d752-708b-402e-93a6-b215173fc5d4",
   "metadata": {},
   "outputs": [],
   "source": []
  },
  {
   "cell_type": "code",
   "execution_count": null,
   "id": "09ab3080-f9db-4680-a8c1-097014e61bdb",
   "metadata": {},
   "outputs": [],
   "source": []
  },
  {
   "cell_type": "markdown",
   "id": "fdf0538b-d380-44cf-8c17-5e3643dcafa4",
   "metadata": {
    "tags": []
   },
   "source": [
    "## Transfer Learning"
   ]
  },
  {
   "cell_type": "code",
   "execution_count": 4,
   "id": "a0f077e2-7176-43e2-965b-d7884386cad4",
   "metadata": {},
   "outputs": [],
   "source": [
    "def load_predefined_task(ds0,\n",
    "                         channels=['DE', 'FE', 'BA'],\n",
    "                         keys=['FaultComponent', 'FaultSize'],\n",
    "                         filters={'LoadForce': [0,1,2,3]},\n",
    "                         feature_extractor = lambda x, sr: melspectrogram(x, sr, time_window=0.025, hop_step=0.0125, n_mels=64),\n",
    "                         window_shape=64, downsample=64\n",
    "                        ):\n",
    "\n",
    "    transformer = cwru.DatasetPreprocessing(ds0, feature_extractor, \n",
    "                                        filters=filters, \n",
    "                                        keys=keys, channels=channels, \n",
    "                                            **kwargs\n",
    "                                        )\n",
    "    ds = transformer.dataset_windows.map(lambda label, info, x: (tf.transpose(x, [1,2,0]), label))\n",
    "    ds_split = split_dataset_random(ds, split={'train':0.25, 'val':0.75}, reshuffle_each_iteration=False)\n",
    "\n",
    "\n",
    "from dpmhm.datasets.preprocessing import split_dataset_random\n",
    "\n",
    "batch_size = 16\n",
    "\n",
    "ds_split = split_dataset_random(ds, split={'train':0.25, 'val':0.75}, reshuffle_each_iteration=False)\n",
    "ds_train = ds_split['train'].cache().batch(batch_size).prefetch(tf.data.AUTOTUNE)\n",
    "ds_val = ds_split['val'].batch(batch_size).prefetch(tf.data.AUTOTUNE)"
   ]
  },
  {
   "cell_type": "code",
   "execution_count": null,
   "id": "b2b95217-e1b5-43ce-93f3-393d4fd469da",
   "metadata": {},
   "outputs": [],
   "source": []
  },
  {
   "cell_type": "code",
   "execution_count": null,
   "id": "8c9eb32f-c685-4928-8dee-0c223cb4c1b3",
   "metadata": {},
   "outputs": [],
   "source": []
  },
  {
   "cell_type": "code",
   "execution_count": null,
   "id": "4403d2aa-6280-4062-8f94-f3e571b7bd09",
   "metadata": {},
   "outputs": [],
   "source": []
  },
  {
   "cell_type": "code",
   "execution_count": 5,
   "id": "ad6d5f29-2750-4d05-9388-300c7dd08fce",
   "metadata": {
    "tags": []
   },
   "outputs": [
    {
     "name": "stdout",
     "output_type": "stream",
     "text": [
      "300\n"
     ]
    }
   ],
   "source": [
    "fp = tempfile.TemporaryDirectory()\n",
    "\n",
    "transformer.dataset_windows.map(lambda label, info, x: (tf.transpose(x, [1,2,0]), label)).save(fp.name)\n",
    "ds = tf.data.Dataset.load(fp.name)    \n",
    "\n",
    "# fp.cleanup()\n",
    "\n",
    "# with tempfile.TemporaryDirectory() as fp:\n",
    "#     print(fp)\n",
    "#     transformer.dataset_windows.map(lambda label, info, x: (tf.transpose(x, [1,2,0]), label)).save(fp)\n",
    "#     ds = tf.data.Dataset.load(fp)    \n",
    "#     list(ds.take(10))\n",
    "    \n",
    "# list(ds.take(10))    \n",
    "\n",
    "print(len(ds))"
   ]
  },
  {
   "cell_type": "code",
   "execution_count": 6,
   "id": "fdb7ab75-fbdd-416f-8325-98c2a90d7911",
   "metadata": {},
   "outputs": [],
   "source": [
    "from dpmhm.datasets.preprocessing import split_dataset_random\n",
    "\n",
    "batch_size = 16\n",
    "\n",
    "ds_split = split_dataset_random(ds, split={'train':0.25, 'val':0.75}, reshuffle_each_iteration=False)\n",
    "ds_train = ds_split['train'].cache().batch(batch_size).prefetch(tf.data.AUTOTUNE)\n",
    "ds_val = ds_split['val'].batch(batch_size).prefetch(tf.data.AUTOTUNE)"
   ]
  },
  {
   "cell_type": "code",
   "execution_count": 7,
   "id": "008e2bd9-287b-41ef-8794-66eea4cdb074",
   "metadata": {},
   "outputs": [
    {
     "name": "stdout",
     "output_type": "stream",
     "text": [
      "75\n"
     ]
    }
   ],
   "source": [
    "print(len(ds_split['train']))"
   ]
  },
  {
   "cell_type": "code",
   "execution_count": 8,
   "id": "83a8473b-a247-46f9-9a4b-b2d53b49e09e",
   "metadata": {},
   "outputs": [
    {
     "name": "stdout",
     "output_type": "stream",
     "text": [
      "25 (64, 64, 3)\n"
     ]
    }
   ],
   "source": [
    "ele = list(ds.take(1))[0]\n",
    "\n",
    "n_bands, n_frames, n_channels = ele[0].shape\n",
    "n_classes = len({x[1].numpy() for x in ds})\n",
    "input_shape=(n_bands,n_frames,n_channels)\n",
    "\n",
    "print(n_classes, input_shape)"
   ]
  },
  {
   "cell_type": "code",
   "execution_count": null,
   "id": "0ea7f3fe-159e-4344-8281-4c70dac2bfe9",
   "metadata": {},
   "outputs": [],
   "source": []
  },
  {
   "cell_type": "code",
   "execution_count": null,
   "id": "03ca4cf5-ec8f-4ffb-a939-9986191c1703",
   "metadata": {},
   "outputs": [],
   "source": []
  },
  {
   "cell_type": "markdown",
   "id": "a4b680df-3ae4-405a-bd40-2291fe3054b3",
   "metadata": {},
   "source": [
    "## Few-Shot Transfer learning + Domain adaptation"
   ]
  },
  {
   "cell_type": "code",
   "execution_count": 5,
   "id": "2c46f306-186c-44ea-ab48-89f119a87338",
   "metadata": {},
   "outputs": [],
   "source": [
    "channels = ['DE', 'FE', 'BA']  # will rule out the normal data\n",
    "# channels = ['DE']  # will rule out the normal data\n",
    "\n",
    "keys = ['FaultComponent', 'FaultSize']\n",
    "\n",
    "# feature_extractor = lambda x, sr: spectrogram(x, sr, time_window=0.025, hop_step=0.0125, to_db=True)\n",
    "feature_extractor = lambda x, sr: melspectrogram(x, sr, time_window=0.025, hop_step=0.0125, n_mels=64)\n",
    "\n",
    "transformer_source = cwru.DatasetPreprocessing(ds0, feature_extractor, \n",
    "                                       filters={'LoadForce': [0,1,2]}, keys=keys, channels=channels, \n",
    "                                       window_shape=64, downsample=64)\n",
    "\n",
    "transformer_target = cwru.DatasetPreprocessing(ds0, feature_extractor, \n",
    "                                       filters={'LoadForce':[3]}, keys=keys, channels=channels, \n",
    "                                       window_shape=64, downsample=64)"
   ]
  },
  {
   "cell_type": "code",
   "execution_count": 8,
   "id": "11297bf6-b52c-4800-afb7-c0e4a45b3e36",
   "metadata": {
    "tags": []
   },
   "outputs": [
    {
     "name": "stdout",
     "output_type": "stream",
     "text": [
      "876 288\n"
     ]
    }
   ],
   "source": [
    "fp = tempfile.TemporaryDirectory()\n",
    "transformer_source.dataset_windows.map(lambda label, info, x: (tf.transpose(x, [1,2,0]), label)).save(fp.name)\n",
    "dss = tf.data.Dataset.load(fp.name)    \n",
    "\n",
    "fq = tempfile.TemporaryDirectory()\n",
    "transformer_target.dataset_windows.map(lambda label, info, x: (tf.transpose(x, [1,2,0]), label)).save(fq.name)\n",
    "dst = tf.data.Dataset.load(fq.name)    \n",
    "\n",
    "print(len(dss), len(dst))"
   ]
  },
  {
   "cell_type": "code",
   "execution_count": 10,
   "id": "e63b8aa9-6eb2-4bff-b919-5a363234b6ce",
   "metadata": {},
   "outputs": [],
   "source": [
    "from dpmhm.datasets.preprocessing import split_dataset_random\n",
    "\n",
    "batch_size = 16\n",
    "\n",
    "dss_split = split_dataset_random(dss, split={'train':0.8, 'val':0.2}, reshuffle_each_iteration=False)\n",
    "dss_train = dss_split['train'].cache().batch(batch_size).prefetch(tf.data.AUTOTUNE)\n",
    "dss_val = dss_split['val'].batch(batch_size).prefetch(tf.data.AUTOTUNE)\n",
    "\n",
    "dst_split = split_dataset_random(dst, split={'train':0.2, 'val':0.8}, reshuffle_each_iteration=False)\n",
    "dst_train = dst_split['train'].cache().batch(batch_size).prefetch(tf.data.AUTOTUNE)\n",
    "dst_val = dst_split['val'].batch(batch_size).prefetch(tf.data.AUTOTUNE)"
   ]
  },
  {
   "cell_type": "code",
   "execution_count": 15,
   "id": "b46eb3fc-762a-4112-b92c-f118d2c0ce57",
   "metadata": {},
   "outputs": [
    {
     "name": "stdout",
     "output_type": "stream",
     "text": [
      "26 (64, 64, 3)\n"
     ]
    }
   ],
   "source": [
    "ele = list(dss.take(1))[0]\n",
    "\n",
    "n_bands, n_frames, n_channels = ele[0].shape\n",
    "n_classes = len({x[1].numpy() for x in dss})\n",
    "input_shape=(n_bands,n_frames,n_channels)\n",
    "\n",
    "print(n_classes, input_shape)"
   ]
  },
  {
   "cell_type": "code",
   "execution_count": 16,
   "id": "67da47f6-ca1a-4a2f-8f1c-7b64d6970c5d",
   "metadata": {},
   "outputs": [
    {
     "name": "stdout",
     "output_type": "stream",
     "text": [
      "288\n",
      "57\n",
      "[2 4 2 4 3 3 2 2 1 1 2 2 1 3 1 3 3 2 0 3 3 3 2 5 0 0]\n"
     ]
    }
   ],
   "source": [
    "print(len(dst))\n",
    "\n",
    "print(len(dst_split['train']))\n",
    "\n",
    "ds = dst_split['train']\n",
    "counter = np.zeros(n_classes, dtype=int)\n",
    "for ele in ds:\n",
    "    counter[ele[1].numpy()] += 1\n",
    "\n",
    "print(counter)"
   ]
  },
  {
   "cell_type": "markdown",
   "id": "4bf1048b-a6d3-439e-b265-bfcd94f6108e",
   "metadata": {},
   "source": [
    "### Transfer learning"
   ]
  },
  {
   "cell_type": "code",
   "execution_count": 22,
   "id": "02dce8e4-878c-4f14-bd3f-71e3582833f3",
   "metadata": {},
   "outputs": [],
   "source": [
    "base_model = VGG19(include_top=False, weights='imagenet', input_shape=input_shape, classes=n_classes)\n",
    "\n",
    "inputs = base_model.layers[0].input\n",
    "# layer = keras.layers.BatchNormalization()\n",
    "# layer.build((None, 4))  # Create the weights\n",
    "\n",
    "x = base_model(inputs, training=False)\n",
    "x = keras.layers.Flatten(name=\"flatten\")(x)\n",
    "x = keras.layers.Dense(4096, activation=\"relu\", name=\"fc1\")(x)\n",
    "x = keras.layers.Dense(4096, activation=\"relu\", name=\"fc2\")(x)\n",
    "outputs = keras.layers.Dense(n_classes, activation=None, name=\"predictions\")(x)\n",
    "\n",
    "model = keras.Model(inputs, outputs)"
   ]
  },
  {
   "cell_type": "code",
   "execution_count": 58,
   "id": "c672d795-df61-4369-bf7c-90d09e2e47be",
   "metadata": {},
   "outputs": [],
   "source": [
    "base_model.trainable = False\n",
    "\n",
    "from_logits = 'softmax' not in str(model.get_layer('predictions').activation)\n",
    "\n",
    "model.compile(\n",
    "    optimizer=tf.keras.optimizers.Adam(),\n",
    "    loss=tf.keras.losses.SparseCategoricalCrossentropy(from_logits=from_logits),\n",
    "    metrics=['accuracy'],\n",
    ")"
   ]
  },
  {
   "cell_type": "code",
   "execution_count": 59,
   "id": "2808a93a-4192-4cef-8bba-4eb135f44373",
   "metadata": {},
   "outputs": [
    {
     "name": "stdout",
     "output_type": "stream",
     "text": [
      "Epoch 1/30\n",
      "44/44 [==============================] - 2s 42ms/step - loss: 0.2205 - accuracy: 0.9471 - val_loss: 0.0821 - val_accuracy: 0.9773\n",
      "Epoch 2/30\n",
      "44/44 [==============================] - 2s 39ms/step - loss: 0.0121 - accuracy: 0.9971 - val_loss: 0.1900 - val_accuracy: 0.9602\n",
      "Epoch 3/30\n",
      "44/44 [==============================] - 2s 39ms/step - loss: 0.0166 - accuracy: 0.9957 - val_loss: 0.0255 - val_accuracy: 0.9886\n",
      "Epoch 4/30\n",
      "44/44 [==============================] - 2s 38ms/step - loss: 0.0033 - accuracy: 0.9986 - val_loss: 0.0529 - val_accuracy: 0.9830\n",
      "Epoch 5/30\n",
      "44/44 [==============================] - 2s 38ms/step - loss: 0.0036 - accuracy: 0.9986 - val_loss: 0.0403 - val_accuracy: 0.9830\n",
      "Epoch 5: early stopping\n"
     ]
    }
   ],
   "source": [
    "history = model.fit(\n",
    "    dss_train,\n",
    "    validation_data=dss_val,\n",
    "    epochs=30,\n",
    "    callbacks=tf.keras.callbacks.EarlyStopping(verbose=1, patience=2),\n",
    ")"
   ]
  },
  {
   "cell_type": "markdown",
   "id": "c3ae5f03-266e-42de-a5dd-5d3008a8d56d",
   "metadata": {},
   "source": [
    "#### Fine tuning: Catastrophic forgetting!"
   ]
  },
  {
   "cell_type": "code",
   "execution_count": 57,
   "id": "aede72bb-98b6-4d22-b273-1076ef98c2a2",
   "metadata": {},
   "outputs": [
    {
     "name": "stdout",
     "output_type": "stream",
     "text": [
      "11/11 [==============================] - 0s 26ms/step - loss: 1.6488 - accuracy: 0.5682\n"
     ]
    },
    {
     "data": {
      "text/plain": [
       "[1.6488178968429565, 0.5681818127632141]"
      ]
     },
     "execution_count": 57,
     "metadata": {},
     "output_type": "execute_result"
    }
   ],
   "source": [
    "model.evaluate(dss_val)"
   ]
  },
  {
   "cell_type": "code",
   "execution_count": 60,
   "id": "6b12581b-7e0b-4b04-a7bb-1c9b3c6d935a",
   "metadata": {},
   "outputs": [
    {
     "name": "stdout",
     "output_type": "stream",
     "text": [
      "15/15 [==============================] - 0s 24ms/step - loss: 10.3689 - accuracy: 0.1169\n"
     ]
    },
    {
     "data": {
      "text/plain": [
       "[10.368870735168457, 0.11688311398029327]"
      ]
     },
     "execution_count": 60,
     "metadata": {},
     "output_type": "execute_result"
    }
   ],
   "source": [
    "model.evaluate(dst_val)"
   ]
  },
  {
   "cell_type": "code",
   "execution_count": 61,
   "id": "3be335ce-9bf1-4d80-80fc-d3ce7a44ab8e",
   "metadata": {},
   "outputs": [],
   "source": [
    "# Unfreeze the base model\n",
    "base_model.trainable = True\n",
    "\n",
    "# It's important to recompile your model after you make any changes\n",
    "# to the `trainable` attribute of any inner layer, so that your changes\n",
    "# are take into account\n",
    "model.compile(\n",
    "    optimizer=keras.optimizers.Adam(1e-5),  # Very low learning rate\n",
    "    loss=tf.keras.losses.SparseCategoricalCrossentropy(from_logits=from_logits),\n",
    "    metrics=['accuracy'],\n",
    ")"
   ]
  },
  {
   "cell_type": "code",
   "execution_count": 63,
   "id": "c8741977-2e0e-4349-a1e5-78ed08a192eb",
   "metadata": {
    "collapsed": true,
    "jupyter": {
     "outputs_hidden": true
    },
    "tags": []
   },
   "outputs": [
    {
     "name": "stderr",
     "output_type": "stream",
     "text": [
      "2022-10-04 00:01:12.231444: W tensorflow/core/common_runtime/bfc_allocator.cc:479] Allocator (GPU_0_bfc) ran out of memory trying to allocate 8B (rounded to 256)requested by op Equal\n",
      "If the cause is memory fragmentation maybe the environment variable 'TF_GPU_ALLOCATOR=cuda_malloc_async' will improve the situation. \n",
      "Current allocation summary follows.\n",
      "Current allocation summary follows.\n",
      "2022-10-04 00:01:12.231472: I tensorflow/core/common_runtime/bfc_allocator.cc:1033] BFCAllocator dump for GPU_0_bfc\n",
      "2022-10-04 00:01:12.231483: I tensorflow/core/common_runtime/bfc_allocator.cc:1040] Bin (256): \tTotal Chunks: 206, Chunks in use: 206. 51.5KiB allocated for chunks. 51.5KiB in use in bin. 8.2KiB client-requested in use in bin.\n",
      "2022-10-04 00:01:12.231488: I tensorflow/core/common_runtime/bfc_allocator.cc:1040] Bin (512): \tTotal Chunks: 22, Chunks in use: 22. 11.2KiB allocated for chunks. 11.2KiB in use in bin. 11.0KiB client-requested in use in bin.\n",
      "2022-10-04 00:01:12.231493: I tensorflow/core/common_runtime/bfc_allocator.cc:1040] Bin (1024): \tTotal Chunks: 45, Chunks in use: 45. 46.5KiB allocated for chunks. 46.5KiB in use in bin. 45.0KiB client-requested in use in bin.\n",
      "2022-10-04 00:01:12.231498: I tensorflow/core/common_runtime/bfc_allocator.cc:1040] Bin (2048): \tTotal Chunks: 87, Chunks in use: 87. 176.5KiB allocated for chunks. 176.5KiB in use in bin. 174.0KiB client-requested in use in bin.\n",
      "2022-10-04 00:01:12.231503: I tensorflow/core/common_runtime/bfc_allocator.cc:1040] Bin (4096): \tTotal Chunks: 11, Chunks in use: 11. 74.2KiB allocated for chunks. 74.2KiB in use in bin. 74.2KiB client-requested in use in bin.\n",
      "2022-10-04 00:01:12.231507: I tensorflow/core/common_runtime/bfc_allocator.cc:1040] Bin (8192): \tTotal Chunks: 0, Chunks in use: 0. 0B allocated for chunks. 0B in use in bin. 0B client-requested in use in bin.\n",
      "2022-10-04 00:01:12.231512: I tensorflow/core/common_runtime/bfc_allocator.cc:1040] Bin (16384): \tTotal Chunks: 36, Chunks in use: 36. 591.8KiB allocated for chunks. 591.8KiB in use in bin. 576.0KiB client-requested in use in bin.\n",
      "2022-10-04 00:01:12.231516: I tensorflow/core/common_runtime/bfc_allocator.cc:1040] Bin (32768): \tTotal Chunks: 0, Chunks in use: 0. 0B allocated for chunks. 0B in use in bin. 0B client-requested in use in bin.\n",
      "2022-10-04 00:01:12.231520: I tensorflow/core/common_runtime/bfc_allocator.cc:1040] Bin (65536): \tTotal Chunks: 0, Chunks in use: 0. 0B allocated for chunks. 0B in use in bin. 0B client-requested in use in bin.\n",
      "2022-10-04 00:01:12.231524: I tensorflow/core/common_runtime/bfc_allocator.cc:1040] Bin (131072): \tTotal Chunks: 11, Chunks in use: 11. 1.55MiB allocated for chunks. 1.55MiB in use in bin. 1.55MiB client-requested in use in bin.\n",
      "2022-10-04 00:01:12.231528: I tensorflow/core/common_runtime/bfc_allocator.cc:1040] Bin (262144): \tTotal Chunks: 27, Chunks in use: 27. 9.59MiB allocated for chunks. 9.59MiB in use in bin. 9.59MiB client-requested in use in bin.\n",
      "2022-10-04 00:01:12.231532: I tensorflow/core/common_runtime/bfc_allocator.cc:1040] Bin (524288): \tTotal Chunks: 11, Chunks in use: 11. 6.57MiB allocated for chunks. 6.57MiB in use in bin. 5.88MiB client-requested in use in bin.\n",
      "2022-10-04 00:01:12.231537: I tensorflow/core/common_runtime/bfc_allocator.cc:1040] Bin (1048576): \tTotal Chunks: 13, Chunks in use: 13. 14.56MiB allocated for chunks. 14.56MiB in use in bin. 13.50MiB client-requested in use in bin.\n",
      "2022-10-04 00:01:12.231544: I tensorflow/core/common_runtime/bfc_allocator.cc:1040] Bin (2097152): \tTotal Chunks: 32, Chunks in use: 32. 73.49MiB allocated for chunks. 73.49MiB in use in bin. 72.00MiB client-requested in use in bin.\n",
      "2022-10-04 00:01:12.231552: I tensorflow/core/common_runtime/bfc_allocator.cc:1040] Bin (4194304): \tTotal Chunks: 12, Chunks in use: 12. 53.62MiB allocated for chunks. 53.62MiB in use in bin. 51.75MiB client-requested in use in bin.\n",
      "2022-10-04 00:01:12.231557: I tensorflow/core/common_runtime/bfc_allocator.cc:1040] Bin (8388608): \tTotal Chunks: 77, Chunks in use: 77. 710.34MiB allocated for chunks. 710.34MiB in use in bin. 693.00MiB client-requested in use in bin.\n",
      "2022-10-04 00:01:12.231561: I tensorflow/core/common_runtime/bfc_allocator.cc:1040] Bin (16777216): \tTotal Chunks: 0, Chunks in use: 0. 0B allocated for chunks. 0B in use in bin. 0B client-requested in use in bin.\n",
      "2022-10-04 00:01:12.231566: I tensorflow/core/common_runtime/bfc_allocator.cc:1040] Bin (33554432): \tTotal Chunks: 18, Chunks in use: 18. 607.59MiB allocated for chunks. 607.59MiB in use in bin. 576.00MiB client-requested in use in bin.\n",
      "2022-10-04 00:01:12.231577: I tensorflow/core/common_runtime/bfc_allocator.cc:1040] Bin (67108864): \tTotal Chunks: 18, Chunks in use: 18. 1.12GiB allocated for chunks. 1.12GiB in use in bin. 1.12GiB client-requested in use in bin.\n",
      "2022-10-04 00:01:12.231581: I tensorflow/core/common_runtime/bfc_allocator.cc:1040] Bin (134217728): \tTotal Chunks: 0, Chunks in use: 0. 0B allocated for chunks. 0B in use in bin. 0B client-requested in use in bin.\n",
      "2022-10-04 00:01:12.231584: I tensorflow/core/common_runtime/bfc_allocator.cc:1040] Bin (268435456): \tTotal Chunks: 0, Chunks in use: 0. 0B allocated for chunks. 0B in use in bin. 0B client-requested in use in bin.\n",
      "2022-10-04 00:01:12.231588: I tensorflow/core/common_runtime/bfc_allocator.cc:1056] Bin for 256B was 256B, Chunk State: \n",
      "2022-10-04 00:01:12.231591: I tensorflow/core/common_runtime/bfc_allocator.cc:1069] Next region of size 2758017024\n",
      "2022-10-04 00:01:12.231598: I tensorflow/core/common_runtime/bfc_allocator.cc:1089] InUse at 7fcc12000000 of size 1280 next 1\n",
      "2022-10-04 00:01:12.231603: I tensorflow/core/common_runtime/bfc_allocator.cc:1089] InUse at 7fcc12000500 of size 256 next 2\n",
      "2022-10-04 00:01:12.231606: I tensorflow/core/common_runtime/bfc_allocator.cc:1089] InUse at 7fcc12000600 of size 256 next 3\n",
      "2022-10-04 00:01:12.231608: I tensorflow/core/common_runtime/bfc_allocator.cc:1089] InUse at 7fcc12000700 of size 256 next 4\n",
      "2022-10-04 00:01:12.231611: I tensorflow/core/common_runtime/bfc_allocator.cc:1089] InUse at 7fcc12000800 of size 256 next 5\n",
      "2022-10-04 00:01:12.231614: I tensorflow/core/common_runtime/bfc_allocator.cc:1089] InUse at 7fcc12000900 of size 256 next 6\n",
      "2022-10-04 00:01:12.231617: I tensorflow/core/common_runtime/bfc_allocator.cc:1089] InUse at 7fcc12000a00 of size 256 next 7\n",
      "2022-10-04 00:01:12.231619: I tensorflow/core/common_runtime/bfc_allocator.cc:1089] InUse at 7fcc12000b00 of size 256 next 8\n",
      "2022-10-04 00:01:12.231622: I tensorflow/core/common_runtime/bfc_allocator.cc:1089] InUse at 7fcc12000c00 of size 256 next 9\n",
      "2022-10-04 00:01:12.231625: I tensorflow/core/common_runtime/bfc_allocator.cc:1089] InUse at 7fcc12000d00 of size 256 next 24\n",
      "2022-10-04 00:01:12.231628: I tensorflow/core/common_runtime/bfc_allocator.cc:1089] InUse at 7fcc12000e00 of size 256 next 25\n",
      "2022-10-04 00:01:12.231630: I tensorflow/core/common_runtime/bfc_allocator.cc:1089] InUse at 7fcc12000f00 of size 256 next 26\n",
      "2022-10-04 00:01:12.231633: I tensorflow/core/common_runtime/bfc_allocator.cc:1089] InUse at 7fcc12001000 of size 256 next 27\n",
      "2022-10-04 00:01:12.231636: I tensorflow/core/common_runtime/bfc_allocator.cc:1089] InUse at 7fcc12001100 of size 256 next 28\n",
      "2022-10-04 00:01:12.231639: I tensorflow/core/common_runtime/bfc_allocator.cc:1089] InUse at 7fcc12001200 of size 256 next 30\n",
      "2022-10-04 00:01:12.231641: I tensorflow/core/common_runtime/bfc_allocator.cc:1089] InUse at 7fcc12001300 of size 256 next 31\n",
      "2022-10-04 00:01:12.231644: I tensorflow/core/common_runtime/bfc_allocator.cc:1089] InUse at 7fcc12001400 of size 256 next 32\n",
      "2022-10-04 00:01:12.231647: I tensorflow/core/common_runtime/bfc_allocator.cc:1089] InUse at 7fcc12001500 of size 256 next 33\n",
      "2022-10-04 00:01:12.231649: I tensorflow/core/common_runtime/bfc_allocator.cc:1089] InUse at 7fcc12001600 of size 256 next 34\n",
      "2022-10-04 00:01:12.231652: I tensorflow/core/common_runtime/bfc_allocator.cc:1089] InUse at 7fcc12001700 of size 256 next 35\n",
      "2022-10-04 00:01:12.231655: I tensorflow/core/common_runtime/bfc_allocator.cc:1089] InUse at 7fcc12001800 of size 256 next 37\n",
      "2022-10-04 00:01:12.231658: I tensorflow/core/common_runtime/bfc_allocator.cc:1089] InUse at 7fcc12001900 of size 256 next 29\n",
      "2022-10-04 00:01:12.231660: I tensorflow/core/common_runtime/bfc_allocator.cc:1089] InUse at 7fcc12001a00 of size 256 next 36\n",
      "2022-10-04 00:01:12.231663: I tensorflow/core/common_runtime/bfc_allocator.cc:1089] InUse at 7fcc12001b00 of size 256 next 23\n",
      "2022-10-04 00:01:12.231666: I tensorflow/core/common_runtime/bfc_allocator.cc:1089] InUse at 7fcc12001c00 of size 256 next 38\n",
      "2022-10-04 00:01:12.231669: I tensorflow/core/common_runtime/bfc_allocator.cc:1089] InUse at 7fcc12001d00 of size 256 next 39\n",
      "2022-10-04 00:01:12.231672: I tensorflow/core/common_runtime/bfc_allocator.cc:1089] InUse at 7fcc12001e00 of size 256 next 40\n",
      "2022-10-04 00:01:12.231675: I tensorflow/core/common_runtime/bfc_allocator.cc:1089] InUse at 7fcc12001f00 of size 256 next 41\n",
      "2022-10-04 00:01:12.231678: I tensorflow/core/common_runtime/bfc_allocator.cc:1089] InUse at 7fcc12002000 of size 256 next 42\n",
      "2022-10-04 00:01:12.231680: I tensorflow/core/common_runtime/bfc_allocator.cc:1089] InUse at 7fcc12002100 of size 256 next 43\n",
      "2022-10-04 00:01:12.231683: I tensorflow/core/common_runtime/bfc_allocator.cc:1089] InUse at 7fcc12002200 of size 256 next 44\n",
      "2022-10-04 00:01:12.231686: I tensorflow/core/common_runtime/bfc_allocator.cc:1089] InUse at 7fcc12002300 of size 256 next 45\n",
      "2022-10-04 00:01:12.231689: I tensorflow/core/common_runtime/bfc_allocator.cc:1089] InUse at 7fcc12002400 of size 256 next 46\n",
      "2022-10-04 00:01:12.231691: I tensorflow/core/common_runtime/bfc_allocator.cc:1089] InUse at 7fcc12002500 of size 256 next 47\n",
      "2022-10-04 00:01:12.231694: I tensorflow/core/common_runtime/bfc_allocator.cc:1089] InUse at 7fcc12002600 of size 256 next 48\n",
      "2022-10-04 00:01:12.231697: I tensorflow/core/common_runtime/bfc_allocator.cc:1089] InUse at 7fcc12002700 of size 256 next 49\n",
      "2022-10-04 00:01:12.231700: I tensorflow/core/common_runtime/bfc_allocator.cc:1089] InUse at 7fcc12002800 of size 256 next 51\n",
      "2022-10-04 00:01:12.231702: I tensorflow/core/common_runtime/bfc_allocator.cc:1089] InUse at 7fcc12002900 of size 256 next 52\n",
      "2022-10-04 00:01:12.231705: I tensorflow/core/common_runtime/bfc_allocator.cc:1089] InUse at 7fcc12002a00 of size 256 next 50\n",
      "2022-10-04 00:01:12.231708: I tensorflow/core/common_runtime/bfc_allocator.cc:1089] InUse at 7fcc12002b00 of size 256 next 53\n",
      "2022-10-04 00:01:12.231711: I tensorflow/core/common_runtime/bfc_allocator.cc:1089] InUse at 7fcc12002c00 of size 256 next 58\n",
      "2022-10-04 00:01:12.231713: I tensorflow/core/common_runtime/bfc_allocator.cc:1089] InUse at 7fcc12002d00 of size 256 next 56\n",
      "2022-10-04 00:01:12.231716: I tensorflow/core/common_runtime/bfc_allocator.cc:1089] InUse at 7fcc12002e00 of size 256 next 57\n",
      "2022-10-04 00:01:12.231719: I tensorflow/core/common_runtime/bfc_allocator.cc:1089] InUse at 7fcc12002f00 of size 256 next 199\n",
      "2022-10-04 00:01:12.231722: I tensorflow/core/common_runtime/bfc_allocator.cc:1089] InUse at 7fcc12003000 of size 256 next 61\n",
      "2022-10-04 00:01:12.231727: I tensorflow/core/common_runtime/bfc_allocator.cc:1089] InUse at 7fcc12003100 of size 256 next 62\n",
      "2022-10-04 00:01:12.231732: I tensorflow/core/common_runtime/bfc_allocator.cc:1089] InUse at 7fcc12003200 of size 256 next 63\n",
      "2022-10-04 00:01:12.231735: I tensorflow/core/common_runtime/bfc_allocator.cc:1089] InUse at 7fcc12003300 of size 256 next 101\n",
      "2022-10-04 00:01:12.231738: I tensorflow/core/common_runtime/bfc_allocator.cc:1089] InUse at 7fcc12003400 of size 256 next 67\n",
      "2022-10-04 00:01:12.231741: I tensorflow/core/common_runtime/bfc_allocator.cc:1089] InUse at 7fcc12003500 of size 256 next 65\n",
      "2022-10-04 00:01:12.231744: I tensorflow/core/common_runtime/bfc_allocator.cc:1089] InUse at 7fcc12003600 of size 256 next 66\n",
      "2022-10-04 00:01:12.231746: I tensorflow/core/common_runtime/bfc_allocator.cc:1089] InUse at 7fcc12003700 of size 256 next 206\n",
      "2022-10-04 00:01:12.231749: I tensorflow/core/common_runtime/bfc_allocator.cc:1089] InUse at 7fcc12003800 of size 256 next 102\n",
      "2022-10-04 00:01:12.231752: I tensorflow/core/common_runtime/bfc_allocator.cc:1089] InUse at 7fcc12003900 of size 256 next 64\n",
      "2022-10-04 00:01:12.231755: I tensorflow/core/common_runtime/bfc_allocator.cc:1089] InUse at 7fcc12003a00 of size 256 next 70\n",
      "2022-10-04 00:01:12.231757: I tensorflow/core/common_runtime/bfc_allocator.cc:1089] InUse at 7fcc12003b00 of size 256 next 71\n",
      "2022-10-04 00:01:12.231761: I tensorflow/core/common_runtime/bfc_allocator.cc:1089] InUse at 7fcc12003c00 of size 256 next 74\n",
      "2022-10-04 00:01:12.231764: I tensorflow/core/common_runtime/bfc_allocator.cc:1089] InUse at 7fcc12003d00 of size 256 next 92\n",
      "2022-10-04 00:01:12.231767: I tensorflow/core/common_runtime/bfc_allocator.cc:1089] InUse at 7fcc12003e00 of size 256 next 106\n",
      "2022-10-04 00:01:12.231769: I tensorflow/core/common_runtime/bfc_allocator.cc:1089] InUse at 7fcc12003f00 of size 256 next 68\n",
      "2022-10-04 00:01:12.231772: I tensorflow/core/common_runtime/bfc_allocator.cc:1089] InUse at 7fcc12004000 of size 256 next 87\n",
      "2022-10-04 00:01:12.231775: I tensorflow/core/common_runtime/bfc_allocator.cc:1089] InUse at 7fcc12004100 of size 256 next 79\n",
      "2022-10-04 00:01:12.231778: I tensorflow/core/common_runtime/bfc_allocator.cc:1089] InUse at 7fcc12004200 of size 256 next 271\n",
      "2022-10-04 00:01:12.231782: I tensorflow/core/common_runtime/bfc_allocator.cc:1089] InUse at 7fcc12004300 of size 256 next 261\n",
      "2022-10-04 00:01:12.231786: I tensorflow/core/common_runtime/bfc_allocator.cc:1089] InUse at 7fcc12004400 of size 256 next 80\n",
      "2022-10-04 00:01:12.231789: I tensorflow/core/common_runtime/bfc_allocator.cc:1089] InUse at 7fcc12004500 of size 256 next 104\n",
      "2022-10-04 00:01:12.231792: I tensorflow/core/common_runtime/bfc_allocator.cc:1089] InUse at 7fcc12004600 of size 256 next 108\n",
      "2022-10-04 00:01:12.231795: I tensorflow/core/common_runtime/bfc_allocator.cc:1089] InUse at 7fcc12004700 of size 256 next 111\n",
      "2022-10-04 00:01:12.231797: I tensorflow/core/common_runtime/bfc_allocator.cc:1089] InUse at 7fcc12004800 of size 256 next 82\n",
      "2022-10-04 00:01:12.231800: I tensorflow/core/common_runtime/bfc_allocator.cc:1089] InUse at 7fcc12004900 of size 256 next 75\n",
      "2022-10-04 00:01:12.231803: I tensorflow/core/common_runtime/bfc_allocator.cc:1089] InUse at 7fcc12004a00 of size 256 next 76\n",
      "2022-10-04 00:01:12.231806: I tensorflow/core/common_runtime/bfc_allocator.cc:1089] InUse at 7fcc12004b00 of size 256 next 98\n",
      "2022-10-04 00:01:12.231808: I tensorflow/core/common_runtime/bfc_allocator.cc:1089] InUse at 7fcc12004c00 of size 256 next 95\n",
      "2022-10-04 00:01:12.231811: I tensorflow/core/common_runtime/bfc_allocator.cc:1089] InUse at 7fcc12004d00 of size 256 next 97\n",
      "2022-10-04 00:01:12.231815: I tensorflow/core/common_runtime/bfc_allocator.cc:1089] InUse at 7fcc12004e00 of size 512 next 81\n",
      "2022-10-04 00:01:12.231818: I tensorflow/core/common_runtime/bfc_allocator.cc:1089] InUse at 7fcc12005000 of size 768 next 84\n",
      "2022-10-04 00:01:12.231821: I tensorflow/core/common_runtime/bfc_allocator.cc:1089] InUse at 7fcc12005300 of size 256 next 85\n",
      "2022-10-04 00:01:12.231823: I tensorflow/core/common_runtime/bfc_allocator.cc:1089] InUse at 7fcc12005400 of size 256 next 88\n",
      "2022-10-04 00:01:12.231827: I tensorflow/core/common_runtime/bfc_allocator.cc:1089] InUse at 7fcc12005500 of size 17408 next 140\n",
      "2022-10-04 00:01:12.231833: I tensorflow/core/common_runtime/bfc_allocator.cc:1089] InUse at 7fcc12009900 of size 256 next 112\n",
      "2022-10-04 00:01:12.231836: I tensorflow/core/common_runtime/bfc_allocator.cc:1089] InUse at 7fcc12009a00 of size 256 next 116\n",
      "2022-10-04 00:01:12.231839: I tensorflow/core/common_runtime/bfc_allocator.cc:1089] InUse at 7fcc12009b00 of size 256 next 117\n",
      "2022-10-04 00:01:12.231842: I tensorflow/core/common_runtime/bfc_allocator.cc:1089] InUse at 7fcc12009c00 of size 256 next 118\n",
      "2022-10-04 00:01:12.231845: I tensorflow/core/common_runtime/bfc_allocator.cc:1089] InUse at 7fcc12009d00 of size 256 next 119\n",
      "2022-10-04 00:01:12.231847: I tensorflow/core/common_runtime/bfc_allocator.cc:1089] InUse at 7fcc12009e00 of size 256 next 120\n",
      "2022-10-04 00:01:12.231850: I tensorflow/core/common_runtime/bfc_allocator.cc:1089] InUse at 7fcc12009f00 of size 256 next 121\n",
      "2022-10-04 00:01:12.231853: I tensorflow/core/common_runtime/bfc_allocator.cc:1089] InUse at 7fcc1200a000 of size 1024 next 86\n",
      "2022-10-04 00:01:12.231856: I tensorflow/core/common_runtime/bfc_allocator.cc:1089] InUse at 7fcc1200a400 of size 1792 next 138\n",
      "2022-10-04 00:01:12.231860: I tensorflow/core/common_runtime/bfc_allocator.cc:1089] InUse at 7fcc1200ab00 of size 256 next 103\n",
      "2022-10-04 00:01:12.231863: I tensorflow/core/common_runtime/bfc_allocator.cc:1089] InUse at 7fcc1200ac00 of size 823552 next 153\n",
      "2022-10-04 00:01:12.231866: I tensorflow/core/common_runtime/bfc_allocator.cc:1089] InUse at 7fcc120d3d00 of size 512 next 149\n",
      "2022-10-04 00:01:12.231869: I tensorflow/core/common_runtime/bfc_allocator.cc:1089] InUse at 7fcc120d3f00 of size 1536 next 152\n",
      "2022-10-04 00:01:12.231873: I tensorflow/core/common_runtime/bfc_allocator.cc:1089] InUse at 7fcc120d4500 of size 1024 next 141\n",
      "2022-10-04 00:01:12.231879: I tensorflow/core/common_runtime/bfc_allocator.cc:1089] InUse at 7fcc120d4900 of size 256 next 145\n",
      "2022-10-04 00:01:12.231882: I tensorflow/core/common_runtime/bfc_allocator.cc:1089] InUse at 7fcc120d4a00 of size 1024 next 154\n",
      "2022-10-04 00:01:12.231885: I tensorflow/core/common_runtime/bfc_allocator.cc:1089] InUse at 7fcc120d4e00 of size 3072 next 163\n",
      "2022-10-04 00:01:12.231888: I tensorflow/core/common_runtime/bfc_allocator.cc:1089] InUse at 7fcc120d5a00 of size 2048 next 160\n",
      "2022-10-04 00:01:12.231891: I tensorflow/core/common_runtime/bfc_allocator.cc:1089] InUse at 7fcc120d6200 of size 2048 next 162\n",
      "2022-10-04 00:01:12.231894: I tensorflow/core/common_runtime/bfc_allocator.cc:1089] InUse at 7fcc120d6a00 of size 2048 next 168\n",
      "2022-10-04 00:01:12.231897: I tensorflow/core/common_runtime/bfc_allocator.cc:1089] InUse at 7fcc120d7200 of size 3584 next 148\n",
      "2022-10-04 00:01:12.231899: I tensorflow/core/common_runtime/bfc_allocator.cc:1089] InUse at 7fcc120d8000 of size 147456 next 179\n",
      "2022-10-04 00:01:12.231903: I tensorflow/core/common_runtime/bfc_allocator.cc:1089] InUse at 7fcc120fc000 of size 512 next 146\n",
      "2022-10-04 00:01:12.231906: I tensorflow/core/common_runtime/bfc_allocator.cc:1089] InUse at 7fcc120fc200 of size 1024 next 151\n",
      "2022-10-04 00:01:12.231908: I tensorflow/core/common_runtime/bfc_allocator.cc:1089] InUse at 7fcc120fc600 of size 2048 next 165\n",
      "2022-10-04 00:01:12.231912: I tensorflow/core/common_runtime/bfc_allocator.cc:1089] InUse at 7fcc120fce00 of size 16384 next 167\n",
      "2022-10-04 00:01:12.231915: I tensorflow/core/common_runtime/bfc_allocator.cc:1089] InUse at 7fcc12100e00 of size 16384 next 178\n",
      "2022-10-04 00:01:12.231919: I tensorflow/core/common_runtime/bfc_allocator.cc:1089] InUse at 7fcc12104e00 of size 16384 next 184\n",
      "2022-10-04 00:01:12.231931: I tensorflow/core/common_runtime/bfc_allocator.cc:1089] InUse at 7fcc12108e00 of size 16384 next 185\n",
      "2022-10-04 00:01:12.231937: I tensorflow/core/common_runtime/bfc_allocator.cc:1089] InUse at 7fcc1210ce00 of size 16384 next 189\n",
      "2022-10-04 00:01:12.231940: I tensorflow/core/common_runtime/bfc_allocator.cc:1089] InUse at 7fcc12110e00 of size 16384 next 191\n",
      "2022-10-04 00:01:12.231943: I tensorflow/core/common_runtime/bfc_allocator.cc:1089] InUse at 7fcc12114e00 of size 256 next 195\n",
      "2022-10-04 00:01:12.231946: I tensorflow/core/common_runtime/bfc_allocator.cc:1089] InUse at 7fcc12114f00 of size 256 next 196\n",
      "2022-10-04 00:01:12.231949: I tensorflow/core/common_runtime/bfc_allocator.cc:1089] InUse at 7fcc12115000 of size 256 next 197\n",
      "2022-10-04 00:01:12.231951: I tensorflow/core/common_runtime/bfc_allocator.cc:1089] InUse at 7fcc12115100 of size 256 next 198\n",
      "2022-10-04 00:01:12.231954: I tensorflow/core/common_runtime/bfc_allocator.cc:1089] InUse at 7fcc12115200 of size 16384 next 130\n",
      "2022-10-04 00:01:12.231957: I tensorflow/core/common_runtime/bfc_allocator.cc:1089] InUse at 7fcc12119200 of size 31488 next 10\n",
      "2022-10-04 00:01:12.231961: I tensorflow/core/common_runtime/bfc_allocator.cc:1089] InUse at 7fcc12120d00 of size 256 next 11\n",
      "2022-10-04 00:01:12.231964: I tensorflow/core/common_runtime/bfc_allocator.cc:1089] InUse at 7fcc12120e00 of size 256 next 12\n",
      "2022-10-04 00:01:12.231967: I tensorflow/core/common_runtime/bfc_allocator.cc:1089] InUse at 7fcc12120f00 of size 256 next 13\n",
      "2022-10-04 00:01:12.231970: I tensorflow/core/common_runtime/bfc_allocator.cc:1089] InUse at 7fcc12121000 of size 256 next 14\n",
      "2022-10-04 00:01:12.231973: I tensorflow/core/common_runtime/bfc_allocator.cc:1089] InUse at 7fcc12121100 of size 256 next 15\n",
      "2022-10-04 00:01:12.231976: I tensorflow/core/common_runtime/bfc_allocator.cc:1089] InUse at 7fcc12121200 of size 256 next 16\n",
      "2022-10-04 00:01:12.231979: I tensorflow/core/common_runtime/bfc_allocator.cc:1089] InUse at 7fcc12121300 of size 256 next 17\n",
      "2022-10-04 00:01:12.231984: I tensorflow/core/common_runtime/bfc_allocator.cc:1089] InUse at 7fcc12121400 of size 256 next 18\n",
      "2022-10-04 00:01:12.231989: I tensorflow/core/common_runtime/bfc_allocator.cc:1089] InUse at 7fcc12121500 of size 256 next 19\n",
      "2022-10-04 00:01:12.231992: I tensorflow/core/common_runtime/bfc_allocator.cc:1089] InUse at 7fcc12121600 of size 256 next 20\n",
      "2022-10-04 00:01:12.231994: I tensorflow/core/common_runtime/bfc_allocator.cc:1089] InUse at 7fcc12121700 of size 256 next 21\n",
      "2022-10-04 00:01:12.231997: I tensorflow/core/common_runtime/bfc_allocator.cc:1089] InUse at 7fcc12121800 of size 256 next 22\n",
      "2022-10-04 00:01:12.232000: I tensorflow/core/common_runtime/bfc_allocator.cc:1089] InUse at 7fcc12121900 of size 16384 next 215\n",
      "2022-10-04 00:01:12.232003: I tensorflow/core/common_runtime/bfc_allocator.cc:1089] InUse at 7fcc12125900 of size 425984 next 131\n",
      "2022-10-04 00:01:12.232006: I tensorflow/core/common_runtime/bfc_allocator.cc:1089] InUse at 7fcc1218d900 of size 6912 next 73\n",
      "2022-10-04 00:01:12.232009: I tensorflow/core/common_runtime/bfc_allocator.cc:1089] InUse at 7fcc1218f400 of size 147456 next 90\n",
      "2022-10-04 00:01:12.232012: I tensorflow/core/common_runtime/bfc_allocator.cc:1089] InUse at 7fcc121b3400 of size 294912 next 99\n",
      "2022-10-04 00:01:12.232015: I tensorflow/core/common_runtime/bfc_allocator.cc:1089] InUse at 7fcc121fb400 of size 589824 next 96\n",
      "2022-10-04 00:01:12.232019: I tensorflow/core/common_runtime/bfc_allocator.cc:1089] InUse at 7fcc1228b400 of size 1179648 next 55\n",
      "2022-10-04 00:01:12.232022: I tensorflow/core/common_runtime/bfc_allocator.cc:1089] InUse at 7fcc123ab400 of size 2359296 next 54\n",
      "2022-10-04 00:01:12.232025: I tensorflow/core/common_runtime/bfc_allocator.cc:1089] InUse at 7fcc125eb400 of size 2359296 next 93\n",
      "2022-10-04 00:01:12.232030: I tensorflow/core/common_runtime/bfc_allocator.cc:1089] InUse at 7fcc1282b400 of size 1024 next 78\n",
      "2022-10-04 00:01:12.232035: I tensorflow/core/common_runtime/bfc_allocator.cc:1089] InUse at 7fcc1282b800 of size 2744576 next 114\n",
      "2022-10-04 00:01:12.232038: I tensorflow/core/common_runtime/bfc_allocator.cc:1089] InUse at 7fcc12ac9900 of size 2048 next 170\n",
      "2022-10-04 00:01:12.232041: I tensorflow/core/common_runtime/bfc_allocator.cc:1089] InUse at 7fcc12aca100 of size 2048 next 172\n",
      "2022-10-04 00:01:12.232044: I tensorflow/core/common_runtime/bfc_allocator.cc:1089] InUse at 7fcc12aca900 of size 256 next 210\n",
      "2022-10-04 00:01:12.232047: I tensorflow/core/common_runtime/bfc_allocator.cc:1089] InUse at 7fcc12acaa00 of size 256 next 180\n",
      "2022-10-04 00:01:12.232049: I tensorflow/core/common_runtime/bfc_allocator.cc:1089] InUse at 7fcc12acab00 of size 256 next 183\n",
      "2022-10-04 00:01:12.232052: I tensorflow/core/common_runtime/bfc_allocator.cc:1089] InUse at 7fcc12acac00 of size 256 next 187\n",
      "2022-10-04 00:01:12.232055: I tensorflow/core/common_runtime/bfc_allocator.cc:1089] InUse at 7fcc12acad00 of size 256 next 192\n",
      "2022-10-04 00:01:12.232058: I tensorflow/core/common_runtime/bfc_allocator.cc:1089] InUse at 7fcc12acae00 of size 256 next 193\n",
      "2022-10-04 00:01:12.232061: I tensorflow/core/common_runtime/bfc_allocator.cc:1089] InUse at 7fcc12acaf00 of size 256 next 194\n",
      "2022-10-04 00:01:12.232063: I tensorflow/core/common_runtime/bfc_allocator.cc:1089] InUse at 7fcc12acb000 of size 256 next 175\n",
      "2022-10-04 00:01:12.232066: I tensorflow/core/common_runtime/bfc_allocator.cc:1089] InUse at 7fcc12acb100 of size 6912 next 177\n",
      "2022-10-04 00:01:12.232069: I tensorflow/core/common_runtime/bfc_allocator.cc:1089] InUse at 7fcc12accc00 of size 256 next 150\n",
      "2022-10-04 00:01:12.232073: I tensorflow/core/common_runtime/bfc_allocator.cc:1089] InUse at 7fcc12accd00 of size 1166336 next 113\n",
      "2022-10-04 00:01:12.232078: I tensorflow/core/common_runtime/bfc_allocator.cc:1089] InUse at 7fcc12be9900 of size 294912 next 155\n",
      "2022-10-04 00:01:12.232082: I tensorflow/core/common_runtime/bfc_allocator.cc:1089] InUse at 7fcc12c31900 of size 4325376 next 83\n",
      "2022-10-04 00:01:12.232085: I tensorflow/core/common_runtime/bfc_allocator.cc:1089] InUse at 7fcc13051900 of size 33554432 next 211\n",
      "2022-10-04 00:01:12.232088: I tensorflow/core/common_runtime/bfc_allocator.cc:1089] InUse at 7fcc15051900 of size 67108864 next 213\n",
      "2022-10-04 00:01:12.232091: I tensorflow/core/common_runtime/bfc_allocator.cc:1089] InUse at 7fcc19051900 of size 33554432 next 203\n",
      "2022-10-04 00:01:12.232094: I tensorflow/core/common_runtime/bfc_allocator.cc:1089] InUse at 7fcc1b051900 of size 67108864 next 205\n",
      "2022-10-04 00:01:12.232097: I tensorflow/core/common_runtime/bfc_allocator.cc:1089] InUse at 7fcc1f051900 of size 1024 next 144\n",
      "2022-10-04 00:01:12.232100: I tensorflow/core/common_runtime/bfc_allocator.cc:1089] InUse at 7fcc1f051d00 of size 4718592 next 137\n",
      "2022-10-04 00:01:12.232103: I tensorflow/core/common_runtime/bfc_allocator.cc:1089] InUse at 7fcc1f4d1d00 of size 2048 next 91\n",
      "2022-10-04 00:01:12.232106: I tensorflow/core/common_runtime/bfc_allocator.cc:1089] InUse at 7fcc1f4d2500 of size 9437184 next 89\n",
      "2022-10-04 00:01:12.232109: I tensorflow/core/common_runtime/bfc_allocator.cc:1089] InUse at 7fcc1fdd2500 of size 2048 next 60\n",
      "2022-10-04 00:01:12.232112: I tensorflow/core/common_runtime/bfc_allocator.cc:1089] InUse at 7fcc1fdd2d00 of size 9437184 next 59\n",
      "2022-10-04 00:01:12.232115: I tensorflow/core/common_runtime/bfc_allocator.cc:1089] InUse at 7fcc206d2d00 of size 2048 next 105\n",
      "2022-10-04 00:01:12.232120: I tensorflow/core/common_runtime/bfc_allocator.cc:1089] InUse at 7fcc206d3500 of size 9437184 next 69\n",
      "2022-10-04 00:01:12.232124: I tensorflow/core/common_runtime/bfc_allocator.cc:1089] InUse at 7fcc20fd3500 of size 2048 next 72\n",
      "2022-10-04 00:01:12.232127: I tensorflow/core/common_runtime/bfc_allocator.cc:1089] InUse at 7fcc20fd3d00 of size 9437184 next 77\n",
      "2022-10-04 00:01:12.232130: I tensorflow/core/common_runtime/bfc_allocator.cc:1089] InUse at 7fcc218d3d00 of size 2048 next 109\n",
      "2022-10-04 00:01:12.232132: I tensorflow/core/common_runtime/bfc_allocator.cc:1089] InUse at 7fcc218d4500 of size 9437184 next 110\n",
      "2022-10-04 00:01:12.232135: I tensorflow/core/common_runtime/bfc_allocator.cc:1089] InUse at 7fcc221d4500 of size 2048 next 107\n",
      "2022-10-04 00:01:12.232138: I tensorflow/core/common_runtime/bfc_allocator.cc:1089] InUse at 7fcc221d4d00 of size 9437184 next 115\n",
      "2022-10-04 00:01:12.232141: I tensorflow/core/common_runtime/bfc_allocator.cc:1089] InUse at 7fcc22ad4d00 of size 2048 next 129\n",
      "2022-10-04 00:01:12.232144: I tensorflow/core/common_runtime/bfc_allocator.cc:1089] InUse at 7fcc22ad5500 of size 9437184 next 122\n",
      "2022-10-04 00:01:12.232147: I tensorflow/core/common_runtime/bfc_allocator.cc:1089] InUse at 7fcc233d5500 of size 2048 next 123\n",
      "2022-10-04 00:01:12.232149: I tensorflow/core/common_runtime/bfc_allocator.cc:1089] InUse at 7fcc233d5d00 of size 33554432 next 124\n",
      "2022-10-04 00:01:12.232152: I tensorflow/core/common_runtime/bfc_allocator.cc:1089] InUse at 7fcc253d5d00 of size 16384 next 127\n",
      "2022-10-04 00:01:12.232155: I tensorflow/core/common_runtime/bfc_allocator.cc:1089] InUse at 7fcc253d9d00 of size 16384 next 126\n",
      "2022-10-04 00:01:12.232159: I tensorflow/core/common_runtime/bfc_allocator.cc:1089] InUse at 7fcc253ddd00 of size 425984 next 132\n",
      "2022-10-04 00:01:12.232164: I tensorflow/core/common_runtime/bfc_allocator.cc:1089] InUse at 7fcc25445d00 of size 256 next 136\n",
      "2022-10-04 00:01:12.232168: I tensorflow/core/common_runtime/bfc_allocator.cc:1089] InUse at 7fcc25445e00 of size 6912 next 135\n",
      "2022-10-04 00:01:12.232171: I tensorflow/core/common_runtime/bfc_allocator.cc:1089] InUse at 7fcc25447900 of size 256 next 134\n",
      "2022-10-04 00:01:12.232174: I tensorflow/core/common_runtime/bfc_allocator.cc:1089] InUse at 7fcc25447a00 of size 147456 next 133\n",
      "2022-10-04 00:01:12.232177: I tensorflow/core/common_runtime/bfc_allocator.cc:1089] InUse at 7fcc2546ba00 of size 256 next 200\n",
      "2022-10-04 00:01:12.232180: I tensorflow/core/common_runtime/bfc_allocator.cc:1089] InUse at 7fcc2546bb00 of size 294912 next 214\n",
      "2022-10-04 00:01:12.232183: I tensorflow/core/common_runtime/bfc_allocator.cc:1089] InUse at 7fcc254b3b00 of size 512 next 204\n",
      "2022-10-04 00:01:12.232186: I tensorflow/core/common_runtime/bfc_allocator.cc:1089] InUse at 7fcc254b3d00 of size 589824 next 202\n",
      "2022-10-04 00:01:12.232189: I tensorflow/core/common_runtime/bfc_allocator.cc:1089] InUse at 7fcc25543d00 of size 512 next 207\n",
      "2022-10-04 00:01:12.232192: I tensorflow/core/common_runtime/bfc_allocator.cc:1089] InUse at 7fcc25543f00 of size 1179648 next 212\n",
      "2022-10-04 00:01:12.232195: I tensorflow/core/common_runtime/bfc_allocator.cc:1089] InUse at 7fcc25663f00 of size 1024 next 201\n",
      "2022-10-04 00:01:12.232198: I tensorflow/core/common_runtime/bfc_allocator.cc:1089] InUse at 7fcc25664300 of size 2359296 next 209\n",
      "2022-10-04 00:01:12.232200: I tensorflow/core/common_runtime/bfc_allocator.cc:1089] InUse at 7fcc258a4300 of size 1024 next 181\n",
      "2022-10-04 00:01:12.232203: I tensorflow/core/common_runtime/bfc_allocator.cc:1089] InUse at 7fcc258a4700 of size 2359296 next 208\n",
      "2022-10-04 00:01:12.232206: I tensorflow/core/common_runtime/bfc_allocator.cc:1089] InUse at 7fcc25ae4700 of size 1024 next 216\n",
      "2022-10-04 00:01:12.232209: I tensorflow/core/common_runtime/bfc_allocator.cc:1089] InUse at 7fcc25ae4b00 of size 2359296 next 217\n",
      "2022-10-04 00:01:12.232212: I tensorflow/core/common_runtime/bfc_allocator.cc:1089] InUse at 7fcc25d24b00 of size 1024 next 218\n",
      "2022-10-04 00:01:12.232215: I tensorflow/core/common_runtime/bfc_allocator.cc:1089] InUse at 7fcc25d24f00 of size 4718592 next 219\n",
      "2022-10-04 00:01:12.232217: I tensorflow/core/common_runtime/bfc_allocator.cc:1089] InUse at 7fcc261a4f00 of size 2048 next 220\n",
      "2022-10-04 00:01:12.232220: I tensorflow/core/common_runtime/bfc_allocator.cc:1089] InUse at 7fcc261a5700 of size 9437184 next 221\n",
      "2022-10-04 00:01:12.232223: I tensorflow/core/common_runtime/bfc_allocator.cc:1089] InUse at 7fcc26aa5700 of size 2048 next 222\n",
      "2022-10-04 00:01:12.232226: I tensorflow/core/common_runtime/bfc_allocator.cc:1089] InUse at 7fcc26aa5f00 of size 9437184 next 223\n",
      "2022-10-04 00:01:12.232229: I tensorflow/core/common_runtime/bfc_allocator.cc:1089] InUse at 7fcc273a5f00 of size 2048 next 224\n",
      "2022-10-04 00:01:12.232232: I tensorflow/core/common_runtime/bfc_allocator.cc:1089] InUse at 7fcc273a6700 of size 9437184 next 225\n",
      "2022-10-04 00:01:12.232234: I tensorflow/core/common_runtime/bfc_allocator.cc:1089] InUse at 7fcc27ca6700 of size 2048 next 226\n",
      "2022-10-04 00:01:12.232237: I tensorflow/core/common_runtime/bfc_allocator.cc:1089] InUse at 7fcc27ca6f00 of size 9437184 next 227\n",
      "2022-10-04 00:01:12.232240: I tensorflow/core/common_runtime/bfc_allocator.cc:1089] InUse at 7fcc285a6f00 of size 2048 next 228\n",
      "2022-10-04 00:01:12.232243: I tensorflow/core/common_runtime/bfc_allocator.cc:1089] InUse at 7fcc285a7700 of size 14852608 next 128\n",
      "2022-10-04 00:01:12.232246: I tensorflow/core/common_runtime/bfc_allocator.cc:1089] InUse at 7fcc293d1900 of size 425984 next 186\n",
      "2022-10-04 00:01:12.232249: I tensorflow/core/common_runtime/bfc_allocator.cc:1089] InUse at 7fcc29439900 of size 753664 next 156\n",
      "2022-10-04 00:01:12.232252: I tensorflow/core/common_runtime/bfc_allocator.cc:1089] InUse at 7fcc294f1900 of size 1179648 next 147\n",
      "2022-10-04 00:01:12.232255: I tensorflow/core/common_runtime/bfc_allocator.cc:1089] InUse at 7fcc29611900 of size 3538944 next 157\n",
      "2022-10-04 00:01:12.232258: I tensorflow/core/common_runtime/bfc_allocator.cc:1089] InUse at 7fcc29971900 of size 2359296 next 159\n",
      "2022-10-04 00:01:12.232261: I tensorflow/core/common_runtime/bfc_allocator.cc:1089] InUse at 7fcc29bb1900 of size 16515072 next 164\n",
      "2022-10-04 00:01:12.232264: I tensorflow/core/common_runtime/bfc_allocator.cc:1089] InUse at 7fcc2ab71900 of size 4718592 next 161\n",
      "2022-10-04 00:01:12.232267: I tensorflow/core/common_runtime/bfc_allocator.cc:1089] InUse at 7fcc2aff1900 of size 14155776 next 166\n",
      "2022-10-04 00:01:12.232270: I tensorflow/core/common_runtime/bfc_allocator.cc:1089] InUse at 7fcc2bd71900 of size 9437184 next 169\n",
      "2022-10-04 00:01:12.232273: I tensorflow/core/common_runtime/bfc_allocator.cc:1089] InUse at 7fcc2c671900 of size 9437184 next 171\n",
      "2022-10-04 00:01:12.232276: I tensorflow/core/common_runtime/bfc_allocator.cc:1089] InUse at 7fcc2cf71900 of size 9437184 next 173\n",
      "2022-10-04 00:01:12.232279: I tensorflow/core/common_runtime/bfc_allocator.cc:1089] InUse at 7fcc2d871900 of size 9437184 next 174\n",
      "2022-10-04 00:01:12.232282: I tensorflow/core/common_runtime/bfc_allocator.cc:1089] InUse at 7fcc2e171900 of size 9437184 next 176\n",
      "2022-10-04 00:01:12.232285: I tensorflow/core/common_runtime/bfc_allocator.cc:1089] InUse at 7fcc2ea71900 of size 425984 next 182\n",
      "2022-10-04 00:01:12.232288: I tensorflow/core/common_runtime/bfc_allocator.cc:1089] InUse at 7fcc2ead9900 of size 66682880 next 158\n",
      "2022-10-04 00:01:12.232291: I tensorflow/core/common_runtime/bfc_allocator.cc:1089] InUse at 7fcc32a71900 of size 33554432 next 139\n",
      "2022-10-04 00:01:12.232293: I tensorflow/core/common_runtime/bfc_allocator.cc:1089] InUse at 7fcc34a71900 of size 67108864 next 142\n",
      "2022-10-04 00:01:12.232296: I tensorflow/core/common_runtime/bfc_allocator.cc:1089] InUse at 7fcc38a71900 of size 67108864 next 143\n",
      "2022-10-04 00:01:12.232299: I tensorflow/core/common_runtime/bfc_allocator.cc:1089] InUse at 7fcc3ca71900 of size 33554432 next 188\n",
      "2022-10-04 00:01:12.232302: I tensorflow/core/common_runtime/bfc_allocator.cc:1089] InUse at 7fcc3ea71900 of size 67108864 next 190\n",
      "2022-10-04 00:01:12.232305: I tensorflow/core/common_runtime/bfc_allocator.cc:1089] InUse at 7fcc42a71900 of size 67108864 next 125\n",
      "2022-10-04 00:01:12.232307: I tensorflow/core/common_runtime/bfc_allocator.cc:1089] InUse at 7fcc46a71900 of size 2048 next 229\n",
      "2022-10-04 00:01:12.232310: I tensorflow/core/common_runtime/bfc_allocator.cc:1089] InUse at 7fcc46a72100 of size 9437184 next 230\n",
      "2022-10-04 00:01:12.232313: I tensorflow/core/common_runtime/bfc_allocator.cc:1089] InUse at 7fcc47372100 of size 2048 next 231\n",
      "2022-10-04 00:01:12.232316: I tensorflow/core/common_runtime/bfc_allocator.cc:1089] InUse at 7fcc47372900 of size 9437184 next 232\n",
      "2022-10-04 00:01:12.232319: I tensorflow/core/common_runtime/bfc_allocator.cc:1089] InUse at 7fcc47c72900 of size 2048 next 233\n",
      "2022-10-04 00:01:12.232322: I tensorflow/core/common_runtime/bfc_allocator.cc:1089] InUse at 7fcc47c73100 of size 33554432 next 234\n",
      "2022-10-04 00:01:12.232324: I tensorflow/core/common_runtime/bfc_allocator.cc:1089] InUse at 7fcc49c73100 of size 16384 next 235\n",
      "2022-10-04 00:01:12.232327: I tensorflow/core/common_runtime/bfc_allocator.cc:1089] InUse at 7fcc49c77100 of size 67108864 next 236\n",
      "2022-10-04 00:01:12.232330: I tensorflow/core/common_runtime/bfc_allocator.cc:1089] InUse at 7fcc4dc77100 of size 16384 next 237\n",
      "2022-10-04 00:01:12.232333: I tensorflow/core/common_runtime/bfc_allocator.cc:1089] InUse at 7fcc4dc7b100 of size 425984 next 238\n",
      "2022-10-04 00:01:12.232336: I tensorflow/core/common_runtime/bfc_allocator.cc:1089] InUse at 7fcc4dce3100 of size 256 next 239\n",
      "2022-10-04 00:01:12.232338: I tensorflow/core/common_runtime/bfc_allocator.cc:1089] InUse at 7fcc4dce3200 of size 256 next 240\n",
      "2022-10-04 00:01:12.232341: I tensorflow/core/common_runtime/bfc_allocator.cc:1089] InUse at 7fcc4dce3300 of size 256 next 241\n",
      "2022-10-04 00:01:12.232344: I tensorflow/core/common_runtime/bfc_allocator.cc:1089] InUse at 7fcc4dce3400 of size 256 next 242\n",
      "2022-10-04 00:01:12.232347: I tensorflow/core/common_runtime/bfc_allocator.cc:1089] InUse at 7fcc4dce3500 of size 256 next 243\n",
      "2022-10-04 00:01:12.232350: I tensorflow/core/common_runtime/bfc_allocator.cc:1089] InUse at 7fcc4dce3600 of size 256 next 244\n",
      "2022-10-04 00:01:12.232352: I tensorflow/core/common_runtime/bfc_allocator.cc:1089] InUse at 7fcc4dce3700 of size 256 next 245\n",
      "2022-10-04 00:01:12.232355: I tensorflow/core/common_runtime/bfc_allocator.cc:1089] InUse at 7fcc4dce3800 of size 256 next 246\n",
      "2022-10-04 00:01:12.232358: I tensorflow/core/common_runtime/bfc_allocator.cc:1089] InUse at 7fcc4dce3900 of size 256 next 249\n",
      "2022-10-04 00:01:12.232361: I tensorflow/core/common_runtime/bfc_allocator.cc:1089] InUse at 7fcc4dce3a00 of size 256 next 369\n",
      "2022-10-04 00:01:12.232364: I tensorflow/core/common_runtime/bfc_allocator.cc:1089] InUse at 7fcc4dce3b00 of size 256 next 269\n",
      "2022-10-04 00:01:12.232367: I tensorflow/core/common_runtime/bfc_allocator.cc:1089] InUse at 7fcc4dce3c00 of size 6912 next 250\n",
      "2022-10-04 00:01:12.232369: I tensorflow/core/common_runtime/bfc_allocator.cc:1089] InUse at 7fcc4dce5700 of size 256 next 258\n",
      "2022-10-04 00:01:12.232372: I tensorflow/core/common_runtime/bfc_allocator.cc:1089] InUse at 7fcc4dce5800 of size 147456 next 266\n",
      "2022-10-04 00:01:12.232375: I tensorflow/core/common_runtime/bfc_allocator.cc:1089] InUse at 7fcc4dd09800 of size 256 next 268\n",
      "2022-10-04 00:01:12.232378: I tensorflow/core/common_runtime/bfc_allocator.cc:1089] InUse at 7fcc4dd09900 of size 294912 next 262\n",
      "2022-10-04 00:01:12.232381: I tensorflow/core/common_runtime/bfc_allocator.cc:1089] InUse at 7fcc4dd51900 of size 512 next 276\n",
      "2022-10-04 00:01:12.232384: I tensorflow/core/common_runtime/bfc_allocator.cc:1089] InUse at 7fcc4dd51b00 of size 1125888 next 285\n",
      "2022-10-04 00:01:12.232387: I tensorflow/core/common_runtime/bfc_allocator.cc:1089] InUse at 7fcc4de64900 of size 256 next 273\n",
      "2022-10-04 00:01:12.232390: I tensorflow/core/common_runtime/bfc_allocator.cc:1089] InUse at 7fcc4de64a00 of size 512 next 248\n",
      "2022-10-04 00:01:12.232393: I tensorflow/core/common_runtime/bfc_allocator.cc:1089] InUse at 7fcc4de64c00 of size 1179648 next 255\n",
      "2022-10-04 00:01:12.232395: I tensorflow/core/common_runtime/bfc_allocator.cc:1089] InUse at 7fcc4df84c00 of size 1024 next 100\n",
      "2022-10-04 00:01:12.232398: I tensorflow/core/common_runtime/bfc_allocator.cc:1089] InUse at 7fcc4df85000 of size 2359296 next 280\n",
      "2022-10-04 00:01:12.232401: I tensorflow/core/common_runtime/bfc_allocator.cc:1089] InUse at 7fcc4e1c5000 of size 1024 next 251\n",
      "2022-10-04 00:01:12.232404: I tensorflow/core/common_runtime/bfc_allocator.cc:1089] InUse at 7fcc4e1c5400 of size 2359296 next 284\n",
      "2022-10-04 00:01:12.232407: I tensorflow/core/common_runtime/bfc_allocator.cc:1089] InUse at 7fcc4e405400 of size 1024 next 282\n",
      "2022-10-04 00:01:12.232409: I tensorflow/core/common_runtime/bfc_allocator.cc:1089] InUse at 7fcc4e405800 of size 2359296 next 253\n",
      "2022-10-04 00:01:12.232412: I tensorflow/core/common_runtime/bfc_allocator.cc:1089] InUse at 7fcc4e645800 of size 1024 next 263\n",
      "2022-10-04 00:01:12.232415: I tensorflow/core/common_runtime/bfc_allocator.cc:1089] InUse at 7fcc4e645c00 of size 4718592 next 272\n",
      "2022-10-04 00:01:12.232418: I tensorflow/core/common_runtime/bfc_allocator.cc:1089] InUse at 7fcc4eac5c00 of size 2048 next 277\n",
      "2022-10-04 00:01:12.232421: I tensorflow/core/common_runtime/bfc_allocator.cc:1089] InUse at 7fcc4eac6400 of size 9437184 next 94\n",
      "2022-10-04 00:01:12.232424: I tensorflow/core/common_runtime/bfc_allocator.cc:1089] InUse at 7fcc4f3c6400 of size 2048 next 252\n",
      "2022-10-04 00:01:12.232426: I tensorflow/core/common_runtime/bfc_allocator.cc:1089] InUse at 7fcc4f3c6c00 of size 9437184 next 275\n",
      "2022-10-04 00:01:12.232429: I tensorflow/core/common_runtime/bfc_allocator.cc:1089] InUse at 7fcc4fcc6c00 of size 2048 next 267\n",
      "2022-10-04 00:01:12.232432: I tensorflow/core/common_runtime/bfc_allocator.cc:1089] InUse at 7fcc4fcc7400 of size 9437184 next 270\n",
      "2022-10-04 00:01:12.232435: I tensorflow/core/common_runtime/bfc_allocator.cc:1089] InUse at 7fcc505c7400 of size 2048 next 286\n",
      "2022-10-04 00:01:12.232438: I tensorflow/core/common_runtime/bfc_allocator.cc:1089] InUse at 7fcc505c7c00 of size 9437184 next 283\n",
      "2022-10-04 00:01:12.232440: I tensorflow/core/common_runtime/bfc_allocator.cc:1089] InUse at 7fcc50ec7c00 of size 2048 next 278\n",
      "2022-10-04 00:01:12.232444: I tensorflow/core/common_runtime/bfc_allocator.cc:1089] InUse at 7fcc50ec8400 of size 9437184 next 264\n",
      "2022-10-04 00:01:12.232447: I tensorflow/core/common_runtime/bfc_allocator.cc:1089] InUse at 7fcc517c8400 of size 2048 next 256\n",
      "2022-10-04 00:01:12.232450: I tensorflow/core/common_runtime/bfc_allocator.cc:1089] InUse at 7fcc517c8c00 of size 9437184 next 265\n",
      "2022-10-04 00:01:12.232452: I tensorflow/core/common_runtime/bfc_allocator.cc:1089] InUse at 7fcc520c8c00 of size 2048 next 257\n",
      "2022-10-04 00:01:12.232455: I tensorflow/core/common_runtime/bfc_allocator.cc:1089] InUse at 7fcc520c9400 of size 9437184 next 279\n",
      "2022-10-04 00:01:12.232458: I tensorflow/core/common_runtime/bfc_allocator.cc:1089] InUse at 7fcc529c9400 of size 2048 next 254\n",
      "2022-10-04 00:01:12.232461: I tensorflow/core/common_runtime/bfc_allocator.cc:1089] InUse at 7fcc529c9c00 of size 33554432 next 274\n",
      "2022-10-04 00:01:12.232464: I tensorflow/core/common_runtime/bfc_allocator.cc:1089] InUse at 7fcc549c9c00 of size 16384 next 260\n",
      "2022-10-04 00:01:12.232467: I tensorflow/core/common_runtime/bfc_allocator.cc:1089] InUse at 7fcc549cdc00 of size 67108864 next 247\n",
      "2022-10-04 00:01:12.232470: I tensorflow/core/common_runtime/bfc_allocator.cc:1089] InUse at 7fcc589cdc00 of size 16384 next 288\n",
      "2022-10-04 00:01:12.232472: I tensorflow/core/common_runtime/bfc_allocator.cc:1089] InUse at 7fcc589d1c00 of size 425984 next 281\n",
      "2022-10-04 00:01:12.232475: I tensorflow/core/common_runtime/bfc_allocator.cc:1089] InUse at 7fcc58a39c00 of size 256 next 287\n",
      "2022-10-04 00:01:12.232478: I tensorflow/core/common_runtime/bfc_allocator.cc:1089] InUse at 7fcc58a39d00 of size 6912 next 289\n",
      "2022-10-04 00:01:12.232481: I tensorflow/core/common_runtime/bfc_allocator.cc:1089] InUse at 7fcc58a3b800 of size 256 next 290\n",
      "2022-10-04 00:01:12.232484: I tensorflow/core/common_runtime/bfc_allocator.cc:1089] InUse at 7fcc58a3b900 of size 147456 next 291\n",
      "2022-10-04 00:01:12.232486: I tensorflow/core/common_runtime/bfc_allocator.cc:1089] InUse at 7fcc58a5f900 of size 256 next 292\n",
      "2022-10-04 00:01:12.232489: I tensorflow/core/common_runtime/bfc_allocator.cc:1089] InUse at 7fcc58a5fa00 of size 294912 next 293\n",
      "2022-10-04 00:01:12.232492: I tensorflow/core/common_runtime/bfc_allocator.cc:1089] InUse at 7fcc58aa7a00 of size 512 next 294\n",
      "2022-10-04 00:01:12.232495: I tensorflow/core/common_runtime/bfc_allocator.cc:1089] InUse at 7fcc58aa7c00 of size 589824 next 295\n",
      "2022-10-04 00:01:12.232498: I tensorflow/core/common_runtime/bfc_allocator.cc:1089] InUse at 7fcc58b37c00 of size 512 next 296\n",
      "2022-10-04 00:01:12.232501: I tensorflow/core/common_runtime/bfc_allocator.cc:1089] InUse at 7fcc58b37e00 of size 1179648 next 297\n",
      "2022-10-04 00:01:12.232503: I tensorflow/core/common_runtime/bfc_allocator.cc:1089] InUse at 7fcc58c57e00 of size 1024 next 298\n",
      "2022-10-04 00:01:12.232506: I tensorflow/core/common_runtime/bfc_allocator.cc:1089] InUse at 7fcc58c58200 of size 2359296 next 299\n",
      "2022-10-04 00:01:12.232509: I tensorflow/core/common_runtime/bfc_allocator.cc:1089] InUse at 7fcc58e98200 of size 1024 next 300\n",
      "2022-10-04 00:01:12.232512: I tensorflow/core/common_runtime/bfc_allocator.cc:1089] InUse at 7fcc58e98600 of size 2359296 next 301\n",
      "2022-10-04 00:01:12.232515: I tensorflow/core/common_runtime/bfc_allocator.cc:1089] InUse at 7fcc590d8600 of size 1024 next 302\n",
      "2022-10-04 00:01:12.232518: I tensorflow/core/common_runtime/bfc_allocator.cc:1089] InUse at 7fcc590d8a00 of size 2359296 next 303\n",
      "2022-10-04 00:01:12.232520: I tensorflow/core/common_runtime/bfc_allocator.cc:1089] InUse at 7fcc59318a00 of size 1024 next 304\n",
      "2022-10-04 00:01:12.232523: I tensorflow/core/common_runtime/bfc_allocator.cc:1089] InUse at 7fcc59318e00 of size 4718592 next 305\n",
      "2022-10-04 00:01:12.232526: I tensorflow/core/common_runtime/bfc_allocator.cc:1089] InUse at 7fcc59798e00 of size 2048 next 306\n",
      "2022-10-04 00:01:12.232529: I tensorflow/core/common_runtime/bfc_allocator.cc:1089] InUse at 7fcc59799600 of size 9437184 next 307\n",
      "2022-10-04 00:01:12.232532: I tensorflow/core/common_runtime/bfc_allocator.cc:1089] InUse at 7fcc5a099600 of size 2048 next 308\n",
      "2022-10-04 00:01:12.232535: I tensorflow/core/common_runtime/bfc_allocator.cc:1089] InUse at 7fcc5a099e00 of size 9437184 next 309\n",
      "2022-10-04 00:01:12.232537: I tensorflow/core/common_runtime/bfc_allocator.cc:1089] InUse at 7fcc5a999e00 of size 2048 next 310\n",
      "2022-10-04 00:01:12.232540: I tensorflow/core/common_runtime/bfc_allocator.cc:1089] InUse at 7fcc5a99a600 of size 9437184 next 311\n",
      "2022-10-04 00:01:12.232543: I tensorflow/core/common_r"
     ]
    },
    {
     "ename": "InternalError",
     "evalue": "Failed copying input tensor from /job:localhost/replica:0/task:0/device:CPU:0 to /job:localhost/replica:0/task:0/device:GPU:0 in order to run Equal: Dst tensor is not initialized. [Op:Equal]",
     "output_type": "error",
     "traceback": [
      "\u001b[0;31m---------------------------------------------------------------------------\u001b[0m",
      "\u001b[0;31mInternalError\u001b[0m                             Traceback (most recent call last)",
      "Input \u001b[0;32mIn [63]\u001b[0m, in \u001b[0;36m<cell line: 1>\u001b[0;34m()\u001b[0m\n\u001b[0;32m----> 1\u001b[0m history \u001b[38;5;241m=\u001b[39m \u001b[43mmodel\u001b[49m\u001b[38;5;241;43m.\u001b[39;49m\u001b[43mfit\u001b[49m\u001b[43m(\u001b[49m\n\u001b[1;32m      2\u001b[0m \u001b[43m    \u001b[49m\u001b[43mdst_train\u001b[49m\u001b[43m,\u001b[49m\n\u001b[1;32m      3\u001b[0m \u001b[43m    \u001b[49m\u001b[43mvalidation_data\u001b[49m\u001b[38;5;241;43m=\u001b[39;49m\u001b[43mdst_val\u001b[49m\u001b[43m,\u001b[49m\n\u001b[1;32m      4\u001b[0m \u001b[43m    \u001b[49m\u001b[43mepochs\u001b[49m\u001b[38;5;241;43m=\u001b[39;49m\u001b[38;5;241;43m10\u001b[39;49m\u001b[43m,\u001b[49m\n\u001b[1;32m      5\u001b[0m \u001b[43m    \u001b[49m\u001b[43mcallbacks\u001b[49m\u001b[38;5;241;43m=\u001b[39;49m\u001b[43mtf\u001b[49m\u001b[38;5;241;43m.\u001b[39;49m\u001b[43mkeras\u001b[49m\u001b[38;5;241;43m.\u001b[39;49m\u001b[43mcallbacks\u001b[49m\u001b[38;5;241;43m.\u001b[39;49m\u001b[43mEarlyStopping\u001b[49m\u001b[43m(\u001b[49m\u001b[43mverbose\u001b[49m\u001b[38;5;241;43m=\u001b[39;49m\u001b[38;5;241;43m1\u001b[39;49m\u001b[43m,\u001b[49m\u001b[43m \u001b[49m\u001b[43mpatience\u001b[49m\u001b[38;5;241;43m=\u001b[39;49m\u001b[38;5;241;43m2\u001b[39;49m\u001b[43m)\u001b[49m\u001b[43m,\u001b[49m\n\u001b[1;32m      6\u001b[0m \u001b[43m)\u001b[49m\n",
      "File \u001b[0;32m~/.conda/envs/dev38/lib/python3.8/site-packages/keras/utils/traceback_utils.py:70\u001b[0m, in \u001b[0;36mfilter_traceback.<locals>.error_handler\u001b[0;34m(*args, **kwargs)\u001b[0m\n\u001b[1;32m     67\u001b[0m     filtered_tb \u001b[38;5;241m=\u001b[39m _process_traceback_frames(e\u001b[38;5;241m.\u001b[39m__traceback__)\n\u001b[1;32m     68\u001b[0m     \u001b[38;5;66;03m# To get the full stack trace, call:\u001b[39;00m\n\u001b[1;32m     69\u001b[0m     \u001b[38;5;66;03m# `tf.debugging.disable_traceback_filtering()`\u001b[39;00m\n\u001b[0;32m---> 70\u001b[0m     \u001b[38;5;28;01mraise\u001b[39;00m e\u001b[38;5;241m.\u001b[39mwith_traceback(filtered_tb) \u001b[38;5;28;01mfrom\u001b[39;00m \u001b[38;5;28mNone\u001b[39m\n\u001b[1;32m     71\u001b[0m \u001b[38;5;28;01mfinally\u001b[39;00m:\n\u001b[1;32m     72\u001b[0m     \u001b[38;5;28;01mdel\u001b[39;00m filtered_tb\n",
      "File \u001b[0;32m~/.conda/envs/dev38/lib/python3.8/site-packages/tensorflow/python/framework/ops.py:7209\u001b[0m, in \u001b[0;36mraise_from_not_ok_status\u001b[0;34m(e, name)\u001b[0m\n\u001b[1;32m   7207\u001b[0m \u001b[38;5;28;01mdef\u001b[39;00m \u001b[38;5;21mraise_from_not_ok_status\u001b[39m(e, name):\n\u001b[1;32m   7208\u001b[0m   e\u001b[38;5;241m.\u001b[39mmessage \u001b[38;5;241m+\u001b[39m\u001b[38;5;241m=\u001b[39m (\u001b[38;5;124m\"\u001b[39m\u001b[38;5;124m name: \u001b[39m\u001b[38;5;124m\"\u001b[39m \u001b[38;5;241m+\u001b[39m name \u001b[38;5;28;01mif\u001b[39;00m name \u001b[38;5;129;01mis\u001b[39;00m \u001b[38;5;129;01mnot\u001b[39;00m \u001b[38;5;28;01mNone\u001b[39;00m \u001b[38;5;28;01melse\u001b[39;00m \u001b[38;5;124m\"\u001b[39m\u001b[38;5;124m\"\u001b[39m)\n\u001b[0;32m-> 7209\u001b[0m   \u001b[38;5;28;01mraise\u001b[39;00m core\u001b[38;5;241m.\u001b[39m_status_to_exception(e) \u001b[38;5;28;01mfrom\u001b[39;00m \u001b[38;5;28mNone\u001b[39m\n",
      "\u001b[0;31mInternalError\u001b[0m: Failed copying input tensor from /job:localhost/replica:0/task:0/device:CPU:0 to /job:localhost/replica:0/task:0/device:GPU:0 in order to run Equal: Dst tensor is not initialized. [Op:Equal]"
     ]
    },
    {
     "name": "stderr",
     "output_type": "stream",
     "text": [
      "untime/bfc_allocator.cc:1089] InUse at 7fcc5b29a600 of size 2048 next 312\n",
      "2022-10-04 00:01:12.232546: I tensorflow/core/common_runtime/bfc_allocator.cc:1089] InUse at 7fcc5b29ae00 of size 9437184 next 313\n",
      "2022-10-04 00:01:12.232548: I tensorflow/core/common_runtime/bfc_allocator.cc:1089] InUse at 7fcc5bb9ae00 of size 2048 next 314\n",
      "2022-10-04 00:01:12.232551: I tensorflow/core/common_runtime/bfc_allocator.cc:1089] InUse at 7fcc5bb9b600 of size 9437184 next 315\n",
      "2022-10-04 00:01:12.232554: I tensorflow/core/common_runtime/bfc_allocator.cc:1089] InUse at 7fcc5c49b600 of size 2048 next 316\n",
      "2022-10-04 00:01:12.232557: I tensorflow/core/common_runtime/bfc_allocator.cc:1089] InUse at 7fcc5c49be00 of size 9437184 next 317\n",
      "2022-10-04 00:01:12.232560: I tensorflow/core/common_runtime/bfc_allocator.cc:1089] InUse at 7fcc5cd9be00 of size 2048 next 318\n",
      "2022-10-04 00:01:12.232563: I tensorflow/core/common_runtime/bfc_allocator.cc:1089] InUse at 7fcc5cd9c600 of size 9437184 next 319\n",
      "2022-10-04 00:01:12.232565: I tensorflow/core/common_runtime/bfc_allocator.cc:1089] InUse at 7fcc5d69c600 of size 2048 next 320\n",
      "2022-10-04 00:01:12.232568: I tensorflow/core/common_runtime/bfc_allocator.cc:1089] InUse at 7fcc5d69ce00 of size 33554432 next 321\n",
      "2022-10-04 00:01:12.232571: I tensorflow/core/common_runtime/bfc_allocator.cc:1089] InUse at 7fcc5f69ce00 of size 16384 next 322\n",
      "2022-10-04 00:01:12.232574: I tensorflow/core/common_runtime/bfc_allocator.cc:1089] InUse at 7fcc5f6a0e00 of size 67108864 next 323\n",
      "2022-10-04 00:01:12.232577: I tensorflow/core/common_runtime/bfc_allocator.cc:1089] InUse at 7fcc636a0e00 of size 16384 next 324\n",
      "2022-10-04 00:01:12.232579: I tensorflow/core/common_runtime/bfc_allocator.cc:1089] InUse at 7fcc636a4e00 of size 425984 next 325\n",
      "2022-10-04 00:01:12.232582: I tensorflow/core/common_runtime/bfc_allocator.cc:1089] InUse at 7fcc6370ce00 of size 256 next 326\n",
      "2022-10-04 00:01:12.232585: I tensorflow/core/common_runtime/bfc_allocator.cc:1089] InUse at 7fcc6370cf00 of size 256 next 327\n",
      "2022-10-04 00:01:12.232588: I tensorflow/core/common_runtime/bfc_allocator.cc:1089] InUse at 7fcc6370d000 of size 256 next 328\n",
      "2022-10-04 00:01:12.232590: I tensorflow/core/common_runtime/bfc_allocator.cc:1089] InUse at 7fcc6370d100 of size 256 next 329\n",
      "2022-10-04 00:01:12.232593: I tensorflow/core/common_runtime/bfc_allocator.cc:1089] InUse at 7fcc6370d200 of size 256 next 330\n",
      "2022-10-04 00:01:12.232596: I tensorflow/core/common_runtime/bfc_allocator.cc:1089] InUse at 7fcc6370d300 of size 256 next 331\n",
      "2022-10-04 00:01:12.232599: I tensorflow/core/common_runtime/bfc_allocator.cc:1089] InUse at 7fcc6370d400 of size 256 next 332\n",
      "2022-10-04 00:01:12.232602: I tensorflow/core/common_runtime/bfc_allocator.cc:1089] InUse at 7fcc6370d500 of size 256 next 333\n",
      "2022-10-04 00:01:12.232604: I tensorflow/core/common_runtime/bfc_allocator.cc:1089] InUse at 7fcc6370d600 of size 256 next 353\n",
      "2022-10-04 00:01:12.232607: I tensorflow/core/common_runtime/bfc_allocator.cc:1089] InUse at 7fcc6370d700 of size 256 next 357\n",
      "2022-10-04 00:01:12.232610: I tensorflow/core/common_runtime/bfc_allocator.cc:1089] InUse at 7fcc6370d800 of size 256 next 352\n",
      "2022-10-04 00:01:12.232613: I tensorflow/core/common_runtime/bfc_allocator.cc:1089] InUse at 7fcc6370d900 of size 256 next 344\n",
      "2022-10-04 00:01:12.232615: I tensorflow/core/common_runtime/bfc_allocator.cc:1089] InUse at 7fcc6370da00 of size 6912 next 350\n",
      "2022-10-04 00:01:12.232619: I tensorflow/core/common_runtime/bfc_allocator.cc:1089] InUse at 7fcc6370f500 of size 256 next 354\n",
      "2022-10-04 00:01:12.232622: I tensorflow/core/common_runtime/bfc_allocator.cc:1089] InUse at 7fcc6370f600 of size 147456 next 338\n",
      "2022-10-04 00:01:12.232624: I tensorflow/core/common_runtime/bfc_allocator.cc:1089] InUse at 7fcc63733600 of size 256 next 362\n",
      "2022-10-04 00:01:12.232628: I tensorflow/core/common_runtime/bfc_allocator.cc:1089] InUse at 7fcc63733700 of size 294912 next 370\n",
      "2022-10-04 00:01:12.232631: I tensorflow/core/common_runtime/bfc_allocator.cc:1089] InUse at 7fcc6377b700 of size 512 next 343\n",
      "2022-10-04 00:01:12.232634: I tensorflow/core/common_runtime/bfc_allocator.cc:1089] InUse at 7fcc6377b900 of size 589824 next 345\n",
      "2022-10-04 00:01:12.232636: I tensorflow/core/common_runtime/bfc_allocator.cc:1089] InUse at 7fcc6380b900 of size 512 next 351\n",
      "2022-10-04 00:01:12.232639: I tensorflow/core/common_runtime/bfc_allocator.cc:1089] InUse at 7fcc6380bb00 of size 1179648 next 346\n",
      "2022-10-04 00:01:12.232642: I tensorflow/core/common_runtime/bfc_allocator.cc:1089] InUse at 7fcc6392bb00 of size 1024 next 368\n",
      "2022-10-04 00:01:12.232645: I tensorflow/core/common_runtime/bfc_allocator.cc:1089] InUse at 7fcc6392bf00 of size 2359296 next 259\n",
      "2022-10-04 00:01:12.232648: I tensorflow/core/common_runtime/bfc_allocator.cc:1089] InUse at 7fcc63b6bf00 of size 1024 next 374\n",
      "2022-10-04 00:01:12.232650: I tensorflow/core/common_runtime/bfc_allocator.cc:1089] InUse at 7fcc63b6c300 of size 2359296 next 365\n",
      "2022-10-04 00:01:12.232653: I tensorflow/core/common_runtime/bfc_allocator.cc:1089] InUse at 7fcc63dac300 of size 1024 next 373\n",
      "2022-10-04 00:01:12.232656: I tensorflow/core/common_runtime/bfc_allocator.cc:1089] InUse at 7fcc63dac700 of size 2359296 next 339\n",
      "2022-10-04 00:01:12.232659: I tensorflow/core/common_runtime/bfc_allocator.cc:1089] InUse at 7fcc63fec700 of size 1024 next 337\n",
      "2022-10-04 00:01:12.232662: I tensorflow/core/common_runtime/bfc_allocator.cc:1089] InUse at 7fcc63fecb00 of size 4718592 next 336\n",
      "2022-10-04 00:01:12.232664: I tensorflow/core/common_runtime/bfc_allocator.cc:1089] InUse at 7fcc6446cb00 of size 2048 next 341\n",
      "2022-10-04 00:01:12.232667: I tensorflow/core/common_runtime/bfc_allocator.cc:1089] InUse at 7fcc6446d300 of size 9437184 next 334\n",
      "2022-10-04 00:01:12.232670: I tensorflow/core/common_runtime/bfc_allocator.cc:1089] InUse at 7fcc64d6d300 of size 2048 next 361\n",
      "2022-10-04 00:01:12.232673: I tensorflow/core/common_runtime/bfc_allocator.cc:1089] InUse at 7fcc64d6db00 of size 9437184 next 364\n",
      "2022-10-04 00:01:12.232676: I tensorflow/core/common_runtime/bfc_allocator.cc:1089] InUse at 7fcc6566db00 of size 2048 next 356\n",
      "2022-10-04 00:01:12.232679: I tensorflow/core/common_runtime/bfc_allocator.cc:1089] InUse at 7fcc6566e300 of size 9437184 next 342\n",
      "2022-10-04 00:01:12.232681: I tensorflow/core/common_runtime/bfc_allocator.cc:1089] InUse at 7fcc65f6e300 of size 2048 next 340\n",
      "2022-10-04 00:01:12.232684: I tensorflow/core/common_runtime/bfc_allocator.cc:1089] InUse at 7fcc65f6eb00 of size 9437184 next 367\n",
      "2022-10-04 00:01:12.232687: I tensorflow/core/common_runtime/bfc_allocator.cc:1089] InUse at 7fcc6686eb00 of size 2048 next 366\n",
      "2022-10-04 00:01:12.232690: I tensorflow/core/common_runtime/bfc_allocator.cc:1089] InUse at 7fcc6686f300 of size 9437184 next 359\n",
      "2022-10-04 00:01:12.232693: I tensorflow/core/common_runtime/bfc_allocator.cc:1089] InUse at 7fcc6716f300 of size 2048 next 349\n",
      "2022-10-04 00:01:12.232695: I tensorflow/core/common_runtime/bfc_allocator.cc:1089] InUse at 7fcc6716fb00 of size 9437184 next 347\n",
      "2022-10-04 00:01:12.232698: I tensorflow/core/common_runtime/bfc_allocator.cc:1089] InUse at 7fcc67a6fb00 of size 2048 next 335\n",
      "2022-10-04 00:01:12.232701: I tensorflow/core/common_runtime/bfc_allocator.cc:1089] InUse at 7fcc67a70300 of size 9437184 next 348\n",
      "2022-10-04 00:01:12.232704: I tensorflow/core/common_runtime/bfc_allocator.cc:1089] InUse at 7fcc68370300 of size 2048 next 371\n",
      "2022-10-04 00:01:12.232707: I tensorflow/core/common_runtime/bfc_allocator.cc:1089] InUse at 7fcc68370b00 of size 33554432 next 363\n",
      "2022-10-04 00:01:12.232709: I tensorflow/core/common_runtime/bfc_allocator.cc:1089] InUse at 7fcc6a370b00 of size 16384 next 355\n",
      "2022-10-04 00:01:12.232712: I tensorflow/core/common_runtime/bfc_allocator.cc:1089] InUse at 7fcc6a374b00 of size 67108864 next 372\n",
      "2022-10-04 00:01:12.232715: I tensorflow/core/common_runtime/bfc_allocator.cc:1089] InUse at 7fcc6e374b00 of size 16384 next 358\n",
      "2022-10-04 00:01:12.232718: I tensorflow/core/common_runtime/bfc_allocator.cc:1089] InUse at 7fcc6e378b00 of size 425984 next 360\n",
      "2022-10-04 00:01:12.232721: I tensorflow/core/common_runtime/bfc_allocator.cc:1089] InUse at 7fcc6e3e0b00 of size 256 next 375\n",
      "2022-10-04 00:01:12.232724: I tensorflow/core/common_runtime/bfc_allocator.cc:1089] InUse at 7fcc6e3e0c00 of size 6912 next 376\n",
      "2022-10-04 00:01:12.232726: I tensorflow/core/common_runtime/bfc_allocator.cc:1089] InUse at 7fcc6e3e2700 of size 256 next 377\n",
      "2022-10-04 00:01:12.232729: I tensorflow/core/common_runtime/bfc_allocator.cc:1089] InUse at 7fcc6e3e2800 of size 147456 next 378\n",
      "2022-10-04 00:01:12.232732: I tensorflow/core/common_runtime/bfc_allocator.cc:1089] InUse at 7fcc6e406800 of size 256 next 379\n",
      "2022-10-04 00:01:12.232735: I tensorflow/core/common_runtime/bfc_allocator.cc:1089] InUse at 7fcc6e406900 of size 294912 next 380\n",
      "2022-10-04 00:01:12.232738: I tensorflow/core/common_runtime/bfc_allocator.cc:1089] InUse at 7fcc6e44e900 of size 512 next 381\n",
      "2022-10-04 00:01:12.232740: I tensorflow/core/common_runtime/bfc_allocator.cc:1089] InUse at 7fcc6e44eb00 of size 589824 next 382\n",
      "2022-10-04 00:01:12.232743: I tensorflow/core/common_runtime/bfc_allocator.cc:1089] InUse at 7fcc6e4deb00 of size 512 next 383\n",
      "2022-10-04 00:01:12.232746: I tensorflow/core/common_runtime/bfc_allocator.cc:1089] InUse at 7fcc6e4ded00 of size 1179648 next 384\n",
      "2022-10-04 00:01:12.232749: I tensorflow/core/common_runtime/bfc_allocator.cc:1089] InUse at 7fcc6e5fed00 of size 1024 next 385\n",
      "2022-10-04 00:01:12.232752: I tensorflow/core/common_runtime/bfc_allocator.cc:1089] InUse at 7fcc6e5ff100 of size 2359296 next 386\n",
      "2022-10-04 00:01:12.232754: I tensorflow/core/common_runtime/bfc_allocator.cc:1089] InUse at 7fcc6e83f100 of size 1024 next 387\n",
      "2022-10-04 00:01:12.232757: I tensorflow/core/common_runtime/bfc_allocator.cc:1089] InUse at 7fcc6e83f500 of size 2359296 next 388\n",
      "2022-10-04 00:01:12.232760: I tensorflow/core/common_runtime/bfc_allocator.cc:1089] InUse at 7fcc6ea7f500 of size 1024 next 389\n",
      "2022-10-04 00:01:12.232763: I tensorflow/core/common_runtime/bfc_allocator.cc:1089] InUse at 7fcc6ea7f900 of size 2359296 next 390\n",
      "2022-10-04 00:01:12.232766: I tensorflow/core/common_runtime/bfc_allocator.cc:1089] InUse at 7fcc6ecbf900 of size 1024 next 391\n",
      "2022-10-04 00:01:12.232769: I tensorflow/core/common_runtime/bfc_allocator.cc:1089] InUse at 7fcc6ecbfd00 of size 4718592 next 392\n",
      "2022-10-04 00:01:12.232772: I tensorflow/core/common_runtime/bfc_allocator.cc:1089] InUse at 7fcc6f13fd00 of size 2048 next 393\n",
      "2022-10-04 00:01:12.232775: I tensorflow/core/common_runtime/bfc_allocator.cc:1089] InUse at 7fcc6f140500 of size 9437184 next 394\n",
      "2022-10-04 00:01:12.232777: I tensorflow/core/common_runtime/bfc_allocator.cc:1089] InUse at 7fcc6fa40500 of size 2048 next 395\n",
      "2022-10-04 00:01:12.232780: I tensorflow/core/common_runtime/bfc_allocator.cc:1089] InUse at 7fcc6fa40d00 of size 9437184 next 396\n",
      "2022-10-04 00:01:12.232783: I tensorflow/core/common_runtime/bfc_allocator.cc:1089] InUse at 7fcc70340d00 of size 2048 next 397\n",
      "2022-10-04 00:01:12.232786: I tensorflow/core/common_runtime/bfc_allocator.cc:1089] InUse at 7fcc70341500 of size 9437184 next 398\n",
      "2022-10-04 00:01:12.232788: I tensorflow/core/common_runtime/bfc_allocator.cc:1089] InUse at 7fcc70c41500 of size 2048 next 399\n",
      "2022-10-04 00:01:12.232791: I tensorflow/core/common_runtime/bfc_allocator.cc:1089] InUse at 7fcc70c41d00 of size 9437184 next 400\n",
      "2022-10-04 00:01:12.232795: I tensorflow/core/common_runtime/bfc_allocator.cc:1089] InUse at 7fcc71541d00 of size 2048 next 401\n",
      "2022-10-04 00:01:12.232798: I tensorflow/core/common_runtime/bfc_allocator.cc:1089] InUse at 7fcc71542500 of size 9437184 next 402\n",
      "2022-10-04 00:01:12.232800: I tensorflow/core/common_runtime/bfc_allocator.cc:1089] InUse at 7fcc71e42500 of size 2048 next 403\n",
      "2022-10-04 00:01:12.232803: I tensorflow/core/common_runtime/bfc_allocator.cc:1089] InUse at 7fcc71e42d00 of size 9437184 next 404\n",
      "2022-10-04 00:01:12.232806: I tensorflow/core/common_runtime/bfc_allocator.cc:1089] InUse at 7fcc72742d00 of size 2048 next 405\n",
      "2022-10-04 00:01:12.232809: I tensorflow/core/common_runtime/bfc_allocator.cc:1089] InUse at 7fcc72743500 of size 9437184 next 406\n",
      "2022-10-04 00:01:12.232812: I tensorflow/core/common_runtime/bfc_allocator.cc:1089] InUse at 7fcc73043500 of size 2048 next 407\n",
      "2022-10-04 00:01:12.232815: I tensorflow/core/common_runtime/bfc_allocator.cc:1089] InUse at 7fcc73043d00 of size 33554432 next 408\n",
      "2022-10-04 00:01:12.232817: I tensorflow/core/common_runtime/bfc_allocator.cc:1089] InUse at 7fcc75043d00 of size 16384 next 409\n",
      "2022-10-04 00:01:12.232820: I tensorflow/core/common_runtime/bfc_allocator.cc:1089] InUse at 7fcc75047d00 of size 67108864 next 410\n",
      "2022-10-04 00:01:12.232823: I tensorflow/core/common_runtime/bfc_allocator.cc:1089] InUse at 7fcc79047d00 of size 16384 next 411\n",
      "2022-10-04 00:01:12.232826: I tensorflow/core/common_runtime/bfc_allocator.cc:1089] InUse at 7fcc7904bd00 of size 425984 next 412\n",
      "2022-10-04 00:01:12.232829: I tensorflow/core/common_runtime/bfc_allocator.cc:1089] InUse at 7fcc790b3d00 of size 256 next 413\n",
      "2022-10-04 00:01:12.232831: I tensorflow/core/common_runtime/bfc_allocator.cc:1089] InUse at 7fcc790b3e00 of size 256 next 414\n",
      "2022-10-04 00:01:12.232834: I tensorflow/core/common_runtime/bfc_allocator.cc:1089] InUse at 7fcc790b3f00 of size 256 next 415\n",
      "2022-10-04 00:01:12.232837: I tensorflow/core/common_runtime/bfc_allocator.cc:1089] InUse at 7fcc790b4000 of size 256 next 416\n",
      "2022-10-04 00:01:12.232840: I tensorflow/core/common_runtime/bfc_allocator.cc:1089] InUse at 7fcc790b4100 of size 256 next 417\n",
      "2022-10-04 00:01:12.232843: I tensorflow/core/common_runtime/bfc_allocator.cc:1089] InUse at 7fcc790b4200 of size 256 next 418\n",
      "2022-10-04 00:01:12.232845: I tensorflow/core/common_runtime/bfc_allocator.cc:1089] InUse at 7fcc790b4300 of size 256 next 419\n",
      "2022-10-04 00:01:12.232848: I tensorflow/core/common_runtime/bfc_allocator.cc:1089] InUse at 7fcc790b4400 of size 256 next 420\n",
      "2022-10-04 00:01:12.232851: I tensorflow/core/common_runtime/bfc_allocator.cc:1089] InUse at 7fcc790b4500 of size 256 next 457\n",
      "2022-10-04 00:01:12.232854: I tensorflow/core/common_runtime/bfc_allocator.cc:1089] InUse at 7fcc790b4600 of size 256 next 449\n",
      "2022-10-04 00:01:12.232856: I tensorflow/core/common_runtime/bfc_allocator.cc:1089] InUse at 7fcc790b4700 of size 256 next 452\n",
      "2022-10-04 00:01:12.232859: I tensorflow/core/common_runtime/bfc_allocator.cc:1089] InUse at 7fcc790b4800 of size 256 next 455\n",
      "2022-10-04 00:01:12.232862: I tensorflow/core/common_runtime/bfc_allocator.cc:1089] InUse at 7fcc790b4900 of size 33554432 next 428\n",
      "2022-10-04 00:01:12.232865: I tensorflow/core/common_runtime/bfc_allocator.cc:1089] InUse at 7fcc7b0b4900 of size 16384 next 434\n",
      "2022-10-04 00:01:12.232868: I tensorflow/core/common_runtime/bfc_allocator.cc:1089] InUse at 7fcc7b0b8900 of size 67108864 next 445\n",
      "2022-10-04 00:01:12.232870: I tensorflow/core/common_runtime/bfc_allocator.cc:1089] InUse at 7fcc7f0b8900 of size 16384 next 423\n",
      "2022-10-04 00:01:12.232873: I tensorflow/core/common_runtime/bfc_allocator.cc:1089] InUse at 7fcc7f0bc900 of size 425984 next 437\n",
      "2022-10-04 00:01:12.232876: I tensorflow/core/common_runtime/bfc_allocator.cc:1089] InUse at 7fcc7f124900 of size 256 next 435\n",
      "2022-10-04 00:01:12.232879: I tensorflow/core/common_runtime/bfc_allocator.cc:1089] InUse at 7fcc7f124a00 of size 33554432 next 450\n",
      "2022-10-04 00:01:12.232882: I tensorflow/core/common_runtime/bfc_allocator.cc:1089] InUse at 7fcc81124a00 of size 16384 next 459\n",
      "2022-10-04 00:01:12.232885: I tensorflow/core/common_runtime/bfc_allocator.cc:1089] InUse at 7fcc81128a00 of size 67108864 next 424\n",
      "2022-10-04 00:01:12.232888: I tensorflow/core/common_runtime/bfc_allocator.cc:1089] InUse at 7fcc85128a00 of size 16384 next 443\n",
      "2022-10-04 00:01:12.232890: I tensorflow/core/common_runtime/bfc_allocator.cc:1089] InUse at 7fcc8512ca00 of size 425984 next 444\n",
      "2022-10-04 00:01:12.232893: I tensorflow/core/common_runtime/bfc_allocator.cc:1089] InUse at 7fcc85194a00 of size 256 next 430\n",
      "2022-10-04 00:01:12.232896: I tensorflow/core/common_runtime/bfc_allocator.cc:1089] InUse at 7fcc85194b00 of size 256 next 441\n",
      "2022-10-04 00:01:12.232899: I tensorflow/core/common_runtime/bfc_allocator.cc:1089] InUse at 7fcc85194c00 of size 256 next 431\n",
      "2022-10-04 00:01:12.232902: I tensorflow/core/common_runtime/bfc_allocator.cc:1089] InUse at 7fcc85194d00 of size 256 next 432\n",
      "2022-10-04 00:01:12.232904: I tensorflow/core/common_runtime/bfc_allocator.cc:1089] InUse at 7fcc85194e00 of size 256 next 440\n",
      "2022-10-04 00:01:12.232907: I tensorflow/core/common_runtime/bfc_allocator.cc:1089] InUse at 7fcc85194f00 of size 256 next 421\n",
      "2022-10-04 00:01:12.232910: I tensorflow/core/common_runtime/bfc_allocator.cc:1089] InUse at 7fcc85195000 of size 256 next 425\n",
      "2022-10-04 00:01:12.232913: I tensorflow/core/common_runtime/bfc_allocator.cc:1089] InUse at 7fcc85195100 of size 256 next 460\n",
      "2022-10-04 00:01:12.232915: I tensorflow/core/common_runtime/bfc_allocator.cc:1089] InUse at 7fcc85195200 of size 256 next 454\n",
      "2022-10-04 00:01:12.232918: I tensorflow/core/common_runtime/bfc_allocator.cc:1089] InUse at 7fcc85195300 of size 256 next 436\n",
      "2022-10-04 00:01:12.232921: I tensorflow/core/common_runtime/bfc_allocator.cc:1089] InUse at 7fcc85195400 of size 256 next 458\n",
      "2022-10-04 00:01:12.232924: I tensorflow/core/common_runtime/bfc_allocator.cc:1089] InUse at 7fcc85195500 of size 256 next 451\n",
      "2022-10-04 00:01:12.232927: I tensorflow/core/common_runtime/bfc_allocator.cc:1089] InUse at 7fcc85195600 of size 6912 next 446\n",
      "2022-10-04 00:01:12.232929: I tensorflow/core/common_runtime/bfc_allocator.cc:1089] InUse at 7fcc85197100 of size 256 next 442\n",
      "2022-10-04 00:01:12.232932: I tensorflow/core/common_runtime/bfc_allocator.cc:1089] InUse at 7fcc85197200 of size 147456 next 433\n",
      "2022-10-04 00:01:12.232935: I tensorflow/core/common_runtime/bfc_allocator.cc:1089] InUse at 7fcc851bb200 of size 256 next 453\n",
      "2022-10-04 00:01:12.232938: I tensorflow/core/common_runtime/bfc_allocator.cc:1089] InUse at 7fcc851bb300 of size 294912 next 447\n",
      "2022-10-04 00:01:12.232941: I tensorflow/core/common_runtime/bfc_allocator.cc:1089] InUse at 7fcc85203300 of size 512 next 439\n",
      "2022-10-04 00:01:12.232944: I tensorflow/core/common_runtime/bfc_allocator.cc:1089] InUse at 7fcc85203500 of size 589824 next 456\n",
      "2022-10-04 00:01:12.232946: I tensorflow/core/common_runtime/bfc_allocator.cc:1089] InUse at 7fcc85293500 of size 512 next 461\n",
      "2022-10-04 00:01:12.232949: I tensorflow/core/common_runtime/bfc_allocator.cc:1089] InUse at 7fcc85293700 of size 1179648 next 448\n",
      "2022-10-04 00:01:12.232952: I tensorflow/core/common_runtime/bfc_allocator.cc:1089] InUse at 7fcc853b3700 of size 1024 next 426\n",
      "2022-10-04 00:01:12.232955: I tensorflow/core/common_runtime/bfc_allocator.cc:1089] InUse at 7fcc853b3b00 of size 2359296 next 422\n",
      "2022-10-04 00:01:12.232958: I tensorflow/core/common_runtime/bfc_allocator.cc:1089] InUse at 7fcc855f3b00 of size 1024 next 438\n",
      "2022-10-04 00:01:12.232961: I tensorflow/core/common_runtime/bfc_allocator.cc:1089] InUse at 7fcc855f3f00 of size 2359296 next 429\n",
      "2022-10-04 00:01:12.232963: I tensorflow/core/common_runtime/bfc_allocator.cc:1089] InUse at 7fcc85833f00 of size 1024 next 427\n",
      "2022-10-04 00:01:12.232966: I tensorflow/core/common_runtime/bfc_allocator.cc:1089] InUse at 7fcc85834300 of size 2359296 next 462\n",
      "2022-10-04 00:01:12.232970: I tensorflow/core/common_runtime/bfc_allocator.cc:1089] InUse at 7fcc85a74300 of size 1024 next 463\n",
      "2022-10-04 00:01:12.232973: I tensorflow/core/common_runtime/bfc_allocator.cc:1089] InUse at 7fcc85a74700 of size 4718592 next 464\n",
      "2022-10-04 00:01:12.232975: I tensorflow/core/common_runtime/bfc_allocator.cc:1089] InUse at 7fcc85ef4700 of size 2048 next 465\n",
      "2022-10-04 00:01:12.232978: I tensorflow/core/common_runtime/bfc_allocator.cc:1089] InUse at 7fcc85ef4f00 of size 9437184 next 466\n",
      "2022-10-04 00:01:12.232981: I tensorflow/core/common_runtime/bfc_allocator.cc:1089] InUse at 7fcc867f4f00 of size 2048 next 467\n",
      "2022-10-04 00:01:12.232984: I tensorflow/core/common_runtime/bfc_allocator.cc:1089] InUse at 7fcc867f5700 of size 9437184 next 468\n",
      "2022-10-04 00:01:12.232987: I tensorflow/core/common_runtime/bfc_allocator.cc:1089] InUse at 7fcc870f5700 of size 2048 next 469\n",
      "2022-10-04 00:01:12.232990: I tensorflow/core/common_runtime/bfc_allocator.cc:1089] InUse at 7fcc870f5f00 of size 9437184 next 470\n",
      "2022-10-04 00:01:12.232992: I tensorflow/core/common_runtime/bfc_allocator.cc:1089] InUse at 7fcc879f5f00 of size 2048 next 471\n",
      "2022-10-04 00:01:12.232995: I tensorflow/core/common_runtime/bfc_allocator.cc:1089] InUse at 7fcc879f6700 of size 9437184 next 472\n",
      "2022-10-04 00:01:12.232998: I tensorflow/core/common_runtime/bfc_allocator.cc:1089] InUse at 7fcc882f6700 of size 2048 next 473\n",
      "2022-10-04 00:01:12.233001: I tensorflow/core/common_runtime/bfc_allocator.cc:1089] InUse at 7fcc882f6f00 of size 9437184 next 474\n",
      "2022-10-04 00:01:12.233004: I tensorflow/core/common_runtime/bfc_allocator.cc:1089] InUse at 7fcc88bf6f00 of size 2048 next 475\n",
      "2022-10-04 00:01:12.233006: I tensorflow/core/common_runtime/bfc_allocator.cc:1089] InUse at 7fcc88bf7700 of size 9437184 next 476\n",
      "2022-10-04 00:01:12.233009: I tensorflow/core/common_runtime/bfc_allocator.cc:1089] InUse at 7fcc894f7700 of size 2048 next 477\n",
      "2022-10-04 00:01:12.233012: I tensorflow/core/common_runtime/bfc_allocator.cc:1089] InUse at 7fcc894f7f00 of size 9437184 next 478\n",
      "2022-10-04 00:01:12.233015: I tensorflow/core/common_runtime/bfc_allocator.cc:1089] InUse at 7fcc89df7f00 of size 2048 next 479\n",
      "2022-10-04 00:01:12.233018: I tensorflow/core/common_runtime/bfc_allocator.cc:1089] InUse at 7fcc89df8700 of size 33554432 next 480\n",
      "2022-10-04 00:01:12.233021: I tensorflow/core/common_runtime/bfc_allocator.cc:1089] InUse at 7fcc8bdf8700 of size 16384 next 481\n",
      "2022-10-04 00:01:12.233024: I tensorflow/core/common_runtime/bfc_allocator.cc:1089] InUse at 7fcc8bdfc700 of size 67108864 next 482\n",
      "2022-10-04 00:01:12.233026: I tensorflow/core/common_runtime/bfc_allocator.cc:1089] InUse at 7fcc8fdfc700 of size 16384 next 483\n",
      "2022-10-04 00:01:12.233029: I tensorflow/core/common_runtime/bfc_allocator.cc:1089] InUse at 7fcc8fe00700 of size 425984 next 484\n",
      "2022-10-04 00:01:12.233032: I tensorflow/core/common_runtime/bfc_allocator.cc:1089] InUse at 7fcc8fe68700 of size 256 next 485\n",
      "2022-10-04 00:01:12.233035: I tensorflow/core/common_runtime/bfc_allocator.cc:1089] InUse at 7fcc8fe68800 of size 6912 next 486\n",
      "2022-10-04 00:01:12.233038: I tensorflow/core/common_runtime/bfc_allocator.cc:1089] InUse at 7fcc8fe6a300 of size 256 next 487\n",
      "2022-10-04 00:01:12.233040: I tensorflow/core/common_runtime/bfc_allocator.cc:1089] InUse at 7fcc8fe6a400 of size 147456 next 488\n",
      "2022-10-04 00:01:12.233043: I tensorflow/core/common_runtime/bfc_allocator.cc:1089] InUse at 7fcc8fe8e400 of size 256 next 489\n",
      "2022-10-04 00:01:12.233046: I tensorflow/core/common_runtime/bfc_allocator.cc:1089] InUse at 7fcc8fe8e500 of size 294912 next 490\n",
      "2022-10-04 00:01:12.233049: I tensorflow/core/common_runtime/bfc_allocator.cc:1089] InUse at 7fcc8fed6500 of size 512 next 491\n",
      "2022-10-04 00:01:12.233052: I tensorflow/core/common_runtime/bfc_allocator.cc:1089] InUse at 7fcc8fed6700 of size 589824 next 492\n",
      "2022-10-04 00:01:12.233055: I tensorflow/core/common_runtime/bfc_allocator.cc:1089] InUse at 7fcc8ff66700 of size 512 next 493\n",
      "2022-10-04 00:01:12.233058: I tensorflow/core/common_runtime/bfc_allocator.cc:1089] InUse at 7fcc8ff66900 of size 1179648 next 494\n",
      "2022-10-04 00:01:12.233060: I tensorflow/core/common_runtime/bfc_allocator.cc:1089] InUse at 7fcc90086900 of size 1024 next 495\n",
      "2022-10-04 00:01:12.233063: I tensorflow/core/common_runtime/bfc_allocator.cc:1089] InUse at 7fcc90086d00 of size 2359296 next 496\n",
      "2022-10-04 00:01:12.233066: I tensorflow/core/common_runtime/bfc_allocator.cc:1089] InUse at 7fcc902c6d00 of size 1024 next 497\n",
      "2022-10-04 00:01:12.233069: I tensorflow/core/common_runtime/bfc_allocator.cc:1089] InUse at 7fcc902c7100 of size 2359296 next 498\n",
      "2022-10-04 00:01:12.233072: I tensorflow/core/common_runtime/bfc_allocator.cc:1089] InUse at 7fcc90507100 of size 1024 next 499\n",
      "2022-10-04 00:01:12.233074: I tensorflow/core/common_runtime/bfc_allocator.cc:1089] InUse at 7fcc90507500 of size 2359296 next 500\n",
      "2022-10-04 00:01:12.233077: I tensorflow/core/common_runtime/bfc_allocator.cc:1089] InUse at 7fcc90747500 of size 1024 next 501\n",
      "2022-10-04 00:01:12.233080: I tensorflow/core/common_runtime/bfc_allocator.cc:1089] InUse at 7fcc90747900 of size 4718592 next 502\n",
      "2022-10-04 00:01:12.233083: I tensorflow/core/common_runtime/bfc_allocator.cc:1089] InUse at 7fcc90bc7900 of size 2048 next 503\n",
      "2022-10-04 00:01:12.233086: I tensorflow/core/common_runtime/bfc_allocator.cc:1089] InUse at 7fcc90bc8100 of size 9437184 next 504\n",
      "2022-10-04 00:01:12.233088: I tensorflow/core/common_runtime/bfc_allocator.cc:1089] InUse at 7fcc914c8100 of size 2048 next 505\n",
      "2022-10-04 00:01:12.233091: I tensorflow/core/common_runtime/bfc_allocator.cc:1089] InUse at 7fcc914c8900 of size 9437184 next 506\n",
      "2022-10-04 00:01:12.233094: I tensorflow/core/common_runtime/bfc_allocator.cc:1089] InUse at 7fcc91dc8900 of size 2048 next 507\n",
      "2022-10-04 00:01:12.233097: I tensorflow/core/common_runtime/bfc_allocator.cc:1089] InUse at 7fcc91dc9100 of size 9437184 next 508\n",
      "2022-10-04 00:01:12.233100: I tensorflow/core/common_runtime/bfc_allocator.cc:1089] InUse at 7fcc926c9100 of size 2048 next 509\n",
      "2022-10-04 00:01:12.233102: I tensorflow/core/common_runtime/bfc_allocator.cc:1089] InUse at 7fcc926c9900 of size 9437184 next 510\n",
      "2022-10-04 00:01:12.233105: I tensorflow/core/common_runtime/bfc_allocator.cc:1089] InUse at 7fcc92fc9900 of size 2048 next 511\n",
      "2022-10-04 00:01:12.233108: I tensorflow/core/common_runtime/bfc_allocator.cc:1089] InUse at 7fcc92fca100 of size 9437184 next 512\n",
      "2022-10-04 00:01:12.233111: I tensorflow/core/common_runtime/bfc_allocator.cc:1089] InUse at 7fcc938ca100 of size 2048 next 513\n",
      "2022-10-04 00:01:12.233114: I tensorflow/core/common_runtime/bfc_allocator.cc:1089] InUse at 7fcc938ca900 of size 9437184 next 514\n",
      "2022-10-04 00:01:12.233116: I tensorflow/core/common_runtime/bfc_allocator.cc:1089] InUse at 7fcc941ca900 of size 2048 next 515\n",
      "2022-10-04 00:01:12.233119: I tensorflow/core/common_runtime/bfc_allocator.cc:1089] InUse at 7fcc941cb100 of size 9437184 next 516\n",
      "2022-10-04 00:01:12.233122: I tensorflow/core/common_runtime/bfc_allocator.cc:1089] InUse at 7fcc94acb100 of size 2048 next 517\n",
      "2022-10-04 00:01:12.233125: I tensorflow/core/common_runtime/bfc_allocator.cc:1089] InUse at 7fcc94acb900 of size 33554432 next 518\n",
      "2022-10-04 00:01:12.233128: I tensorflow/core/common_runtime/bfc_allocator.cc:1089] InUse at 7fcc96acb900 of size 16384 next 519\n",
      "2022-10-04 00:01:12.233130: I tensorflow/core/common_runtime/bfc_allocator.cc:1089] InUse at 7fcc96acf900 of size 67108864 next 520\n",
      "2022-10-04 00:01:12.233133: I tensorflow/core/common_runtime/bfc_allocator.cc:1089] InUse at 7fcc9aacf900 of size 16384 next 521\n",
      "2022-10-04 00:01:12.233136: I tensorflow/core/common_runtime/bfc_allocator.cc:1089] InUse at 7fcc9aad3900 of size 425984 next 522\n",
      "2022-10-04 00:01:12.233139: I tensorflow/core/common_runtime/bfc_allocator.cc:1089] InUse at 7fcc9ab3b900 of size 256 next 523\n",
      "2022-10-04 00:01:12.233142: I tensorflow/core/common_runtime/bfc_allocator.cc:1089] InUse at 7fcc9ab3ba00 of size 256 next 524\n",
      "2022-10-04 00:01:12.233145: I tensorflow/core/common_runtime/bfc_allocator.cc:1089] InUse at 7fcc9ab3bb00 of size 256 next 525\n",
      "2022-10-04 00:01:12.233148: I tensorflow/core/common_runtime/bfc_allocator.cc:1089] InUse at 7fcc9ab3bc00 of size 256 next 526\n",
      "2022-10-04 00:01:12.233151: I tensorflow/core/common_runtime/bfc_allocator.cc:1089] InUse at 7fcc9ab3bd00 of size 256 next 527\n",
      "2022-10-04 00:01:12.233154: I tensorflow/core/common_runtime/bfc_allocator.cc:1089] InUse at 7fcc9ab3be00 of size 256 next 528\n",
      "2022-10-04 00:01:12.233157: I tensorflow/core/common_runtime/bfc_allocator.cc:1089] InUse at 7fcc9ab3bf00 of size 256 next 529\n",
      "2022-10-04 00:01:12.233159: I tensorflow/core/common_runtime/bfc_allocator.cc:1089] InUse at 7fcc9ab3c000 of size 256 next 530\n",
      "2022-10-04 00:01:12.233162: I tensorflow/core/common_runtime/bfc_allocator.cc:1089] InUse at 7fcc9ab3c100 of size 256 next 547\n",
      "2022-10-04 00:01:12.233165: I tensorflow/core/common_runtime/bfc_allocator.cc:1089] InUse at 7fcc9ab3c200 of size 256 next 534\n",
      "2022-10-04 00:01:12.233167: I tensorflow/core/common_runtime/bfc_allocator.cc:1089] InUse at 7fcc9ab3c300 of size 256 next 559\n",
      "2022-10-04 00:01:12.233170: I tensorflow/core/common_runtime/bfc_allocator.cc:1089] InUse at 7fcc9ab3c400 of size 256 next 539\n",
      "2022-10-04 00:01:12.233173: I tensorflow/core/common_runtime/bfc_allocator.cc:1089] InUse at 7fcc9ab3c500 of size 33554432 next 565\n",
      "2022-10-04 00:01:12.233176: I tensorflow/core/common_runtime/bfc_allocator.cc:1089] InUse at 7fcc9cb3c500 of size 16384 next 544\n",
      "2022-10-04 00:01:12.233179: I tensorflow/core/common_runtime/bfc_allocator.cc:1089] InUse at 7fcc9cb40500 of size 67108864 next 558\n",
      "2022-10-04 00:01:12.233182: I tensorflow/core/common_runtime/bfc_allocator.cc:1089] InUse at 7fcca0b40500 of size 16384 next 566\n",
      "2022-10-04 00:01:12.233184: I tensorflow/core/common_runtime/bfc_allocator.cc:1089] InUse at 7fcca0b44500 of size 425984 next 549\n",
      "2022-10-04 00:01:12.233187: I tensorflow/core/common_runtime/bfc_allocator.cc:1089] InUse at 7fcca0bac500 of size 256 next 533\n",
      "2022-10-04 00:01:12.233190: I tensorflow/core/common_runtime/bfc_allocator.cc:1089] InUse at 7fcca0bac600 of size 33554432 next 564\n",
      "2022-10-04 00:01:12.233193: I tensorflow/core/common_runtime/bfc_allocator.cc:1089] InUse at 7fcca2bac600 of size 16384 next 556\n",
      "2022-10-04 00:01:12.233196: I tensorflow/core/common_runtime/bfc_allocator.cc:1089] InUse at 7fcca2bb0600 of size 67108864 next 557\n",
      "2022-10-04 00:01:12.233199: I tensorflow/core/common_runtime/bfc_allocator.cc:1089] InUse at 7fcca6bb0600 of size 16384 next 553\n",
      "2022-10-04 00:01:12.233201: I tensorflow/core/common_runtime/bfc_allocator.cc:1089] InUse at 7fcca6bb4600 of size 425984 next 563\n",
      "2022-10-04 00:01:12.233204: I tensorflow/core/common_runtime/bfc_allocator.cc:1089] InUse at 7fcca6c1c600 of size 256 next 569\n",
      "2022-10-04 00:01:12.233207: I tensorflow/core/common_runtime/bfc_allocator.cc:1089] InUse at 7fcca6c1c700 of size 256 next 536\n",
      "2022-10-04 00:01:12.233210: I tensorflow/core/common_runtime/bfc_allocator.cc:1089] InUse at 7fcca6c1c800 of size 256 next 532\n",
      "2022-10-04 00:01:12.233212: I tensorflow/core/common_runtime/bfc_allocator.cc:1089] InUse at 7fcca6c1c900 of size 256 next 561\n",
      "2022-10-04 00:01:12.233215: I tensorflow/core/common_runtime/bfc_allocator.cc:1089] InUse at 7fcca6c1ca00 of size 256 next 554\n",
      "2022-10-04 00:01:12.233218: I tensorflow/core/common_runtime/bfc_allocator.cc:1089] InUse at 7fcca6c1cb00 of size 256 next 537\n",
      "2022-10-04 00:01:12.233221: I tensorflow/core/common_runtime/bfc_allocator.cc:1089] InUse at 7fcca6c1cc00 of size 256 next 562\n",
      "2022-10-04 00:01:12.233224: I tensorflow/core/common_runtime/bfc_allocator.cc:1089] InUse at 7fcca6c1cd00 of size 256 next 538\n",
      "2022-10-04 00:01:12.233226: I tensorflow/core/common_runtime/bfc_allocator.cc:1089] InUse at 7fcca6c1ce00 of size 256 next 542\n",
      "2022-10-04 00:01:12.233229: I tensorflow/core/common_runtime/bfc_allocator.cc:1089] InUse at 7fcca6c1cf00 of size 256 next 548\n",
      "2022-10-04 00:01:12.233232: I tensorflow/core/common_runtime/bfc_allocator.cc:1089] InUse at 7fcca6c1d000 of size 256 next 535\n",
      "2022-10-04 00:01:12.233235: I tensorflow/core/common_runtime/bfc_allocator.cc:1089] InUse at 7fcca6c1d100 of size 256 next 531\n",
      "2022-10-04 00:01:12.233238: I tensorflow/core/common_runtime/bfc_allocator.cc:1089] InUse at 7fcca6c1d200 of size 6912 next 543\n",
      "2022-10-04 00:01:12.233241: I tensorflow/core/common_runtime/bfc_allocator.cc:1089] InUse at 7fcca6c1ed00 of size 256 next 560\n",
      "2022-10-04 00:01:12.233244: I tensorflow/core/common_runtime/bfc_allocator.cc:1089] InUse at 7fcca6c1ee00 of size 147456 next 546\n",
      "2022-10-04 00:01:12.233247: I tensorflow/core/common_runtime/bfc_allocator.cc:1089] InUse at 7fcca6c42e00 of size 256 next 540\n",
      "2022-10-04 00:01:12.233250: I tensorflow/core/common_runtime/bfc_allocator.cc:1089] InUse at 7fcca6c42f00 of size 294912 next 570\n",
      "2022-10-04 00:01:12.233252: I tensorflow/core/common_runtime/bfc_allocator.cc:1089] InUse at 7fcca6c8af00 of size 512 next 541\n",
      "2022-10-04 00:01:12.233255: I tensorflow/core/common_runtime/bfc_allocator.cc:1089] InUse at 7fcca6c8b100 of size 589824 next 555\n",
      "2022-10-04 00:01:12.233258: I tensorflow/core/common_runtime/bfc_allocator.cc:1089] InUse at 7fcca6d1b100 of size 512 next 551\n",
      "2022-10-04 00:01:12.233261: I tensorflow/core/common_runtime/bfc_allocator.cc:1089] InUse at 7fcca6d1b300 of size 1179648 next 552\n",
      "2022-10-04 00:01:12.233264: I tensorflow/core/common_runtime/bfc_allocator.cc:1089] InUse at 7fcca6e3b300 of size 1024 next 571\n",
      "2022-10-04 00:01:12.233267: I tensorflow/core/common_runtime/bfc_allocator.cc:1089] InUse at 7fcca6e3b700 of size 2359296 next 572\n",
      "2022-10-04 00:01:12.233269: I tensorflow/core/common_runtime/bfc_allocator.cc:1089] InUse at 7fcca707b700 of size 1024 next 550\n",
      "2022-10-04 00:01:12.233272: I tensorflow/core/common_runtime/bfc_allocator.cc:1089] InUse at 7fcca707bb00 of size 2359296 next 573\n",
      "2022-10-04 00:01:12.233275: I tensorflow/core/common_runtime/bfc_allocator.cc:1089] InUse at 7fcca72bbb00 of size 1024 next 568\n",
      "2022-10-04 00:01:12.233278: I tensorflow/core/common_runtime/bfc_allocator.cc:1089] InUse at 7fcca72bbf00 of size 2359296 next 545\n",
      "2022-10-04 00:01:12.233281: I tensorflow/core/common_runtime/bfc_allocator.cc:1089] InUse at 7fcca74fbf00 of size 1024 next 567\n",
      "2022-10-04 00:01:12.233283: I tensorflow/core/common_runtime/bfc_allocator.cc:1089] InUse at 7fcca74fc300 of size 4718592 next 574\n",
      "2022-10-04 00:01:12.233286: I tensorflow/core/common_runtime/bfc_allocator.cc:1089] InUse at 7fcca797c300 of size 2048 next 575\n",
      "2022-10-04 00:01:12.233289: I tensorflow/core/common_runtime/bfc_allocator.cc:1089] InUse at 7fcca797cb00 of size 9437184 next 576\n",
      "2022-10-04 00:01:12.233292: I tensorflow/core/common_runtime/bfc_allocator.cc:1089] InUse at 7fcca827cb00 of size 2048 next 577\n",
      "2022-10-04 00:01:12.233295: I tensorflow/core/common_runtime/bfc_allocator.cc:1089] InUse at 7fcca827d300 of size 9437184 next 578\n",
      "2022-10-04 00:01:12.233298: I tensorflow/core/common_runtime/bfc_allocator.cc:1089] InUse at 7fcca8b7d300 of size 2048 next 579\n",
      "2022-10-04 00:01:12.233300: I tensorflow/core/common_runtime/bfc_allocator.cc:1089] InUse at 7fcca8b7db00 of size 9437184 next 580\n",
      "2022-10-04 00:01:12.233303: I tensorflow/core/common_runtime/bfc_allocator.cc:1089] InUse at 7fcca947db00 of size 2048 next 581\n",
      "2022-10-04 00:01:12.233306: I tensorflow/core/common_runtime/bfc_allocator.cc:1089] InUse at 7fcca947e300 of size 9437184 next 582\n",
      "2022-10-04 00:01:12.233309: I tensorflow/core/common_runtime/bfc_allocator.cc:1089] InUse at 7fcca9d7e300 of size 2048 next 583\n",
      "2022-10-04 00:01:12.233311: I tensorflow/core/common_runtime/bfc_allocator.cc:1089] InUse at 7fcca9d7eb00 of size 9437184 next 584\n",
      "2022-10-04 00:01:12.233314: I tensorflow/core/common_runtime/bfc_allocator.cc:1089] InUse at 7fccaa67eb00 of size 2048 next 585\n",
      "2022-10-04 00:01:12.233317: I tensorflow/core/common_runtime/bfc_allocator.cc:1089] InUse at 7fccaa67f300 of size 9437184 next 586\n",
      "2022-10-04 00:01:12.233320: I tensorflow/core/common_runtime/bfc_allocator.cc:1089] InUse at 7fccaaf7f300 of size 2048 next 587\n",
      "2022-10-04 00:01:12.233323: I tensorflow/core/common_runtime/bfc_allocator.cc:1089] InUse at 7fccaaf7fb00 of size 9437184 next 588\n",
      "2022-10-04 00:01:12.233326: I tensorflow/core/common_runtime/bfc_allocator.cc:1089] InUse at 7fccab87fb00 of size 2048 next 589\n",
      "2022-10-04 00:01:12.233328: I tensorflow/core/common_runtime/bfc_allocator.cc:1089] InUse at 7fccab880300 of size 33554432 next 590\n",
      "2022-10-04 00:01:12.233331: I tensorflow/core/common_runtime/bfc_allocator.cc:1089] InUse at 7fccad880300 of size 16384 next 591\n",
      "2022-10-04 00:01:12.233334: I tensorflow/core/common_runtime/bfc_allocator.cc:1089] InUse at 7fccad884300 of size 67108864 next 592\n",
      "2022-10-04 00:01:12.233337: I tensorflow/core/common_runtime/bfc_allocator.cc:1089] InUse at 7fccb1884300 of size 16384 next 593\n",
      "2022-10-04 00:01:12.233339: I tensorflow/core/common_runtime/bfc_allocator.cc:1089] InUse at 7fccb1888300 of size 425984 next 594\n",
      "2022-10-04 00:01:12.233342: I tensorflow/core/common_runtime/bfc_allocator.cc:1089] InUse at 7fccb18f0300 of size 256 next 595\n",
      "2022-10-04 00:01:12.233345: I tensorflow/core/common_runtime/bfc_allocator.cc:1089] InUse at 7fccb18f0400 of size 6912 next 596\n",
      "2022-10-04 00:01:12.233348: I tensorflow/core/common_runtime/bfc_allocator.cc:1089] InUse at 7fccb18f1f00 of size 256 next 597\n",
      "2022-10-04 00:01:12.233351: I tensorflow/core/common_runtime/bfc_allocator.cc:1089] InUse at 7fccb18f2000 of size 147456 next 598\n",
      "2022-10-04 00:01:12.233353: I tensorflow/core/common_runtime/bfc_allocator.cc:1089] InUse at 7fccb1916000 of size 256 next 599\n",
      "2022-10-04 00:01:12.233356: I tensorflow/core/common_runtime/bfc_allocator.cc:1089] InUse at 7fccb1916100 of size 294912 next 600\n",
      "2022-10-04 00:01:12.233359: I tensorflow/core/common_runtime/bfc_allocator.cc:1089] InUse at 7fccb195e100 of size 512 next 601\n",
      "2022-10-04 00:01:12.233362: I tensorflow/core/common_runtime/bfc_allocator.cc:1089] InUse at 7fccb195e300 of size 589824 next 602\n",
      "2022-10-04 00:01:12.233365: I tensorflow/core/common_runtime/bfc_allocator.cc:1089] InUse at 7fccb19ee300 of size 512 next 603\n",
      "2022-10-04 00:01:12.233368: I tensorflow/core/common_runtime/bfc_allocator.cc:1089] InUse at 7fccb19ee500 of size 1179648 next 604\n",
      "2022-10-04 00:01:12.233371: I tensorflow/core/common_runtime/bfc_allocator.cc:1089] InUse at 7fccb1b0e500 of size 1024 next 605\n",
      "2022-10-04 00:01:12.233373: I tensorflow/core/common_runtime/bfc_allocator.cc:1089] InUse at 7fccb1b0e900 of size 2359296 next 606\n",
      "2022-10-04 00:01:12.233376: I tensorflow/core/common_runtime/bfc_allocator.cc:1089] InUse at 7fccb1d4e900 of size 1024 next 607\n",
      "2022-10-04 00:01:12.233379: I tensorflow/core/common_runtime/bfc_allocator.cc:1089] InUse at 7fccb1d4ed00 of size 2359296 next 608\n",
      "2022-10-04 00:01:12.233382: I tensorflow/core/common_runtime/bfc_allocator.cc:1089] InUse at 7fccb1f8ed00 of size 1024 next 609\n",
      "2022-10-04 00:01:12.233385: I tensorflow/core/common_runtime/bfc_allocator.cc:1089] InUse at 7fccb1f8f100 of size 2359296 next 610\n",
      "2022-10-04 00:01:12.233387: I tensorflow/core/common_runtime/bfc_allocator.cc:1089] InUse at 7fccb21cf100 of size 1024 next 611\n",
      "2022-10-04 00:01:12.233390: I tensorflow/core/common_runtime/bfc_allocator.cc:1089] InUse at 7fccb21cf500 of size 4718592 next 612\n",
      "2022-10-04 00:01:12.233393: I tensorflow/core/common_runtime/bfc_allocator.cc:1089] InUse at 7fccb264f500 of size 2048 next 613\n",
      "2022-10-04 00:01:12.233396: I tensorflow/core/common_runtime/bfc_allocator.cc:1089] InUse at 7fccb264fd00 of size 9437184 next 614\n",
      "2022-10-04 00:01:12.233399: I tensorflow/core/common_runtime/bfc_allocator.cc:1089] InUse at 7fccb2f4fd00 of size 2048 next 615\n",
      "2022-10-04 00:01:12.233401: I tensorflow/core/common_runtime/bfc_allocator.cc:1089] InUse at 7fccb2f50500 of size 9437184 next 616\n",
      "2022-10-04 00:01:12.233404: I tensorflow/core/common_runtime/bfc_allocator.cc:1089] InUse at 7fccb3850500 of size 2048 next 617\n",
      "2022-10-04 00:01:12.233408: I tensorflow/core/common_runtime/bfc_allocator.cc:1089] InUse at 7fccb3850d00 of size 9437184 next 618\n",
      "2022-10-04 00:01:12.233411: I tensorflow/core/common_runtime/bfc_allocator.cc:1089] InUse at 7fccb4150d00 of size 2048 next 619\n",
      "2022-10-04 00:01:12.233413: I tensorflow/core/common_runtime/bfc_allocator.cc:1089] InUse at 7fccb4151500 of size 9437184 next 620\n",
      "2022-10-04 00:01:12.233416: I tensorflow/core/common_runtime/bfc_allocator.cc:1089] InUse at 7fccb4a51500 of size 2048 next 621\n",
      "2022-10-04 00:01:12.233419: I tensorflow/core/common_runtime/bfc_allocator.cc:1089] InUse at 7fccb4a51d00 of size 9437184 next 622\n",
      "2022-10-04 00:01:12.233422: I tensorflow/core/common_runtime/bfc_allocator.cc:1089] InUse at 7fccb5351d00 of size 2048 next 623\n",
      "2022-10-04 00:01:12.233425: I tensorflow/core/common_runtime/bfc_allocator.cc:1089] InUse at 7fccb5352500 of size 9437184 next 624\n",
      "2022-10-04 00:01:12.233427: I tensorflow/core/common_runtime/bfc_allocator.cc:1089] InUse at 7fccb5c52500 of size 2048 next 625\n",
      "2022-10-04 00:01:12.233430: I tensorflow/core/common_runtime/bfc_allocator.cc:1089] InUse at 7fccb5c52d00 of size 10408704 next 18446744073709551615\n",
      "2022-10-04 00:01:12.233433: I tensorflow/core/common_runtime/bfc_allocator.cc:1094]      Summary of in-use Chunks by size: \n",
      "2022-10-04 00:01:12.233438: I tensorflow/core/common_runtime/bfc_allocator.cc:1097] 206 Chunks of size 256 totalling 51.5KiB\n",
      "2022-10-04 00:01:12.233442: I tensorflow/core/common_runtime/bfc_allocator.cc:1097] 21 Chunks of size 512 totalling 10.5KiB\n",
      "2022-10-04 00:01:12.233446: I tensorflow/core/common_runtime/bfc_allocator.cc:1097] 1 Chunks of size 768 totalling 768B\n",
      "2022-10-04 00:01:12.233449: I tensorflow/core/common_runtime/bfc_allocator.cc:1097] 42 Chunks of size 1024 totalling 42.0KiB\n",
      "2022-10-04 00:01:12.233453: I tensorflow/core/common_runtime/bfc_allocator.cc:1097] 1 Chunks of size 1280 totalling 1.2KiB\n",
      "2022-10-04 00:01:12.233456: I tensorflow/core/common_runtime/bfc_allocator.cc:1097] 1 Chunks of size 1536 totalling 1.5KiB\n",
      "2022-10-04 00:01:12.233459: I tensorflow/core/common_runtime/bfc_allocator.cc:1097] 1 Chunks of size 1792 totalling 1.8KiB\n",
      "2022-10-04 00:01:12.233463: I tensorflow/core/common_runtime/bfc_allocator.cc:1097] 85 Chunks of size 2048 totalling 170.0KiB\n",
      "2022-10-04 00:01:12.233466: I tensorflow/core/common_runtime/bfc_allocator.cc:1097] 1 Chunks of size 3072 totalling 3.0KiB\n",
      "2022-10-04 00:01:12.233469: I tensorflow/core/common_runtime/bfc_allocator.cc:1097] 1 Chunks of size 3584 totalling 3.5KiB\n",
      "2022-10-04 00:01:12.233473: I tensorflow/core/common_runtime/bfc_allocator.cc:1097] 11 Chunks of size 6912 totalling 74.2KiB\n",
      "2022-10-04 00:01:12.233476: I tensorflow/core/common_runtime/bfc_allocator.cc:1097] 34 Chunks of size 16384 totalling 544.0KiB\n",
      "2022-10-04 00:01:12.233480: I tensorflow/core/common_runtime/bfc_allocator.cc:1097] 1 Chunks of size 17408 totalling 17.0KiB\n",
      "2022-10-04 00:01:12.233483: I tensorflow/core/common_runtime/bfc_allocator.cc:1097] 1 Chunks of size 31488 totalling 30.8KiB\n",
      "2022-10-04 00:01:12.233487: I tensorflow/core/common_runtime/bfc_allocator.cc:1097] 11 Chunks of size 147456 totalling 1.55MiB\n",
      "2022-10-04 00:01:12.233490: I tensorflow/core/common_runtime/bfc_allocator.cc:1097] 11 Chunks of size 294912 totalling 3.09MiB\n",
      "2022-10-04 00:01:12.233494: I tensorflow/core/common_runtime/bfc_allocator.cc:1097] 16 Chunks of size 425984 totalling 6.50MiB\n",
      "2022-10-04 00:01:12.233497: I tensorflow/core/common_runtime/bfc_allocator.cc:1097] 9 Chunks of size 589824 totalling 5.06MiB\n",
      "2022-10-04 00:01:12.233500: I tensorflow/core/common_runtime/bfc_allocator.cc:1097] 1 Chunks of size 753664 totalling 736.0KiB\n",
      "2022-10-04 00:01:12.233504: I tensorflow/core/common_runtime/bfc_allocator.cc:1097] 1 Chunks of size 823552 totalling 804.2KiB\n",
      "2022-10-04 00:01:12.233507: I tensorflow/core/common_runtime/bfc_allocator.cc:1097] 1 Chunks of size 1125888 totalling 1.07MiB\n",
      "2022-10-04 00:01:12.233511: I tensorflow/core/common_runtime/bfc_allocator.cc:1097] 1 Chunks of size 1166336 totalling 1.11MiB\n",
      "2022-10-04 00:01:12.233514: I tensorflow/core/common_runtime/bfc_allocator.cc:1097] 11 Chunks of size 1179648 totalling 12.38MiB\n",
      "2022-10-04 00:01:12.233518: I tensorflow/core/common_runtime/bfc_allocator.cc:1097] 30 Chunks of size 2359296 totalling 67.50MiB\n",
      "2022-10-04 00:01:12.233521: I tensorflow/core/common_runtime/bfc_allocator.cc:1097] 1 Chunks of size 2744576 totalling 2.62MiB\n",
      "2022-10-04 00:01:12.233524: I tensorflow/core/common_runtime/bfc_allocator.cc:1097] 1 Chunks of size 3538944 totalling 3.38MiB\n",
      "2022-10-04 00:01:12.233528: I tensorflow/core/common_runtime/bfc_allocator.cc:1097] 1 Chunks of size 4325376 totalling 4.12MiB\n",
      "2022-10-04 00:01:12.233531: I tensorflow/core/common_runtime/bfc_allocator.cc:1097] 11 Chunks of size 4718592 totalling 49.50MiB\n",
      "2022-10-04 00:01:12.233535: I tensorflow/core/common_runtime/bfc_allocator.cc:1097] 73 Chunks of size 9437184 totalling 657.00MiB\n",
      "2022-10-04 00:01:12.233538: I tensorflow/core/common_runtime/bfc_allocator.cc:1097] 1 Chunks of size 10408704 totalling 9.93MiB\n",
      "2022-10-04 00:01:12.233542: I tensorflow/core/common_runtime/bfc_allocator.cc:1097] 1 Chunks of size 14155776 totalling 13.50MiB\n",
      "2022-10-04 00:01:12.233545: I tensorflow/core/common_runtime/bfc_allocator.cc:1097] 1 Chunks of size 14852608 totalling 14.16MiB\n",
      "2022-10-04 00:01:12.233549: I tensorflow/core/common_runtime/bfc_allocator.cc:1097] 1 Chunks of size 16515072 totalling 15.75MiB\n",
      "2022-10-04 00:01:12.233552: I tensorflow/core/common_runtime/bfc_allocator.cc:1097] 17 Chunks of size 33554432 totalling 544.00MiB\n",
      "2022-10-04 00:01:12.233556: I tensorflow/core/common_runtime/bfc_allocator.cc:1097] 1 Chunks of size 66682880 totalling 63.59MiB\n",
      "2022-10-04 00:01:12.233559: I tensorflow/core/common_runtime/bfc_allocator.cc:1097] 18 Chunks of size 67108864 totalling 1.12GiB\n",
      "2022-10-04 00:01:12.233562: I tensorflow/core/common_runtime/bfc_allocator.cc:1101] Sum Total of in-use chunks: 2.57GiB\n",
      "2022-10-04 00:01:12.233566: I tensorflow/core/common_runtime/bfc_allocator.cc:1103] total_region_allocated_bytes_: 2758017024 memory_limit_: 2758017024 available bytes: 0 curr_region_allocation_bytes_: 5516034048\n",
      "2022-10-04 00:01:12.233572: I tensorflow/core/common_runtime/bfc_allocator.cc:1109] Stats: \n",
      "Limit:                      2758017024\n",
      "InUse:                      2758017024\n",
      "MaxInUse:                   2758017024\n",
      "NumAllocs:                     1242404\n",
      "MaxAllocSize:               1228931072\n",
      "Reserved:                            0\n",
      "PeakReserved:                        0\n",
      "LargestFreeBlock:                    0\n",
      "\n",
      "2022-10-04 00:01:12.233596: W tensorflow/core/common_runtime/bfc_allocator.cc:491] ****************************************************************************************************\n"
     ]
    }
   ],
   "source": [
    "history = model.fit(\n",
    "    dst_train,\n",
    "    validation_data=dst_val,\n",
    "    epochs=10,\n",
    "    callbacks=tf.keras.callbacks.EarlyStopping(verbose=1, patience=2),\n",
    ")"
   ]
  },
  {
   "cell_type": "code",
   "execution_count": null,
   "id": "e578da2d-872a-4fbc-91dc-6c186d32694e",
   "metadata": {},
   "outputs": [],
   "source": []
  },
  {
   "cell_type": "code",
   "execution_count": null,
   "id": "397ba47d-09aa-411b-a92d-891df73ed1ed",
   "metadata": {},
   "outputs": [],
   "source": []
  },
  {
   "cell_type": "code",
   "execution_count": null,
   "id": "fea428fa-0cdf-4452-a139-27c93ad16f82",
   "metadata": {},
   "outputs": [],
   "source": []
  },
  {
   "cell_type": "code",
   "execution_count": null,
   "id": "51c04cc5-dd53-402d-8e8d-1ba4b95c6ac8",
   "metadata": {},
   "outputs": [],
   "source": []
  },
  {
   "cell_type": "code",
   "execution_count": null,
   "id": "2b17da5d-83d2-4d3c-96d4-082e8e1b73d3",
   "metadata": {},
   "outputs": [],
   "source": []
  },
  {
   "cell_type": "code",
   "execution_count": null,
   "id": "932c5d15-c85f-4e95-83cb-7bd95b28796a",
   "metadata": {},
   "outputs": [],
   "source": []
  },
  {
   "cell_type": "code",
   "execution_count": null,
   "id": "1f7a8f8c-41d7-412d-8055-1b4fdc19a0f6",
   "metadata": {},
   "outputs": [],
   "source": []
  }
 ],
 "metadata": {
  "kernelspec": {
   "display_name": "Python (dpmhm-yVS8YoI0-py3.11)",
   "language": "python",
   "name": "dpmhm-yvs8yoi0-py3.11"
  },
  "language_info": {
   "codemirror_mode": {
    "name": "ipython",
    "version": 3
   },
   "file_extension": ".py",
   "mimetype": "text/x-python",
   "name": "python",
   "nbconvert_exporter": "python",
   "pygments_lexer": "ipython3",
   "version": "3.11.5"
  }
 },
 "nbformat": 4,
 "nbformat_minor": 5
}
