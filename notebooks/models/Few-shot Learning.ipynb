{
 "cells": [
  {
   "cell_type": "markdown",
   "id": "19108fd3",
   "metadata": {
    "tags": []
   },
   "source": [
    "# Few-shot Learning "
   ]
  },
  {
   "cell_type": "code",
   "execution_count": 1,
   "id": "d72f3e2e-f1c6-4a57-b688-5594292a60d6",
   "metadata": {},
   "outputs": [
    {
     "name": "stdout",
     "output_type": "stream",
     "text": [
      "Exception reporting mode: Minimal\n"
     ]
    }
   ],
   "source": [
    "%xmode minimal\n",
    "\n",
    "import os\n",
    "import json\n",
    "\n",
    "# Turn off logging for TF\n",
    "import logging\n",
    "# tf.get_logger().setLevel(logging.ERROR)\n",
    "logging.disable(logging.WARNING)\n",
    "os.environ[\"TF_CPP_MIN_LOG_LEVEL\"] = \"2\"\n",
    "\n",
    "# os.environ[\"CUDA_VISIBLE_DEVICES\"] = \"-1\"  # disable GPU devices\n",
    "os.environ[\"TFDS_DATA_DIR\"] = os.path.expanduser(\"~/tensorflow_datasets\")  # default location of tfds database\n",
    "\n",
    "import os\n",
    "# os.environ[\"KERAS_BACKEND\"] = \"tensorflow\"\n",
    "# os.environ[\"KERAS_BACKEND\"] = \"jax\"\n",
    "os.environ[\"KERAS_BACKEND\"] = \"torch\"\n",
    "\n",
    "import keras\n",
    "from keras import layers, models, ops\n",
    "\n",
    "import tensorflow as tf\n",
    "import tensorflow_datasets as tfds\n",
    "\n",
    "import librosa\n",
    "import librosa.display\n",
    "\n",
    "import numpy as np\n",
    "from matplotlib import pyplot as plt\n",
    "\n",
    "from pathlib import Path\n",
    "\n",
    "# from IPython.display import Audio\n",
    "\n",
    "# from tensorflow.python.client import device_lib\n",
    "# print(device_lib.list_local_devices())"
   ]
  },
  {
   "cell_type": "code",
   "execution_count": 2,
   "id": "aa9e43e3",
   "metadata": {},
   "outputs": [],
   "source": [
    "import dpmhm\n",
    "# dpmhm.datasets.get_dataset_list()\n",
    "\n",
    "from dpmhm.datasets import preprocessing, feature, utils, transformer, query_parameters"
   ]
  },
  {
   "cell_type": "code",
   "execution_count": 3,
   "id": "aebbb70f-e09c-4ea9-9fa2-bd3e728a3564",
   "metadata": {},
   "outputs": [],
   "source": [
    "outdir = Path('/home/han/tmp/dpmhm/few-shot')\n",
    "os.makedirs(outdir, exist_ok=True)"
   ]
  },
  {
   "cell_type": "markdown",
   "id": "eb6c5e43-be47-4cc8-9020-93e8e3ee35a1",
   "metadata": {
    "tags": []
   },
   "source": [
    "## Load a dataset"
   ]
  },
  {
   "cell_type": "code",
   "execution_count": 4,
   "id": "8c6ec45e-3f84-4acb-a039-48ecce463364",
   "metadata": {},
   "outputs": [
    {
     "name": "stdout",
     "output_type": "stream",
     "text": [
      "Full dictionary of labels: {'7f67e45381c3652c': ['FanEnd', 'OuterRace3', '0.014'], '8b9e80c02e1fca5b': ['FanEnd', 'OuterRace6', '0.007'], 'd766ecd2592ce5ec': ['DriveEnd', 'Ball', '0.021'], 'e27e22f1f5037a20': ['DriveEnd', 'InnerRace', '0.014'], '8af14bb8ad669337': ['FanEnd', 'OuterRace12', '0.007'], '2533c59036dfe8c8': ['FanEnd', 'InnerRace', '0.007'], 'd6765bfdf1aca38f': ['DriveEnd', 'Ball', '0.007'], 'a760eef52ceaa6f9': ['FanEnd', 'OuterRace3', '0.021'], 'b0a92d9d7379d8ce': ['DriveEnd', 'InnerRace', '0.007'], '1c80dbfc87966d6e': ['FanEnd', 'InnerRace', '0.014'], 'd8957867a1fc0519': ['DriveEnd', 'OuterRace3', '0.007'], 'd45bbeb3b8a72222': ['DriveEnd', 'OuterRace6', '0.007'], '55503c950ed81973': ['FanEnd', 'Ball', '0.014'], '60836667e7ee1dec': ['FanEnd', 'OuterRace3', '0.007'], '605222dceca4b27e': ['FanEnd', 'Ball', '0.021'], '6c2ba36f712d55e4': ['DriveEnd', 'OuterRace6', '0.014'], 'dc8bcb86c369e78b': ['FanEnd', 'InnerRace', '0.021'], '9c54396620a4b6a3': ['DriveEnd', 'OuterRace6', '0.021'], 'f6ab3549af9ee45a': ['DriveEnd', 'Ball', '0.014'], 'c3e7af63b24b636c': ['DriveEnd', 'OuterRace3', '0.021'], '44bf66c5d8cd30e6': ['DriveEnd', 'OuterRace12', '0.021'], '29b26ba8d01e2e21': ['DriveEnd', 'InnerRace', '0.021'], 'a07ca3c82afe8ae3': ['FanEnd', 'OuterRace6', '0.021'], 'd6de9a13f405da29': ['FanEnd', 'Ball', '0.007'], '35929ddfb4abb54d': ['DriveEnd', 'OuterRace12', '0.007'], '5feef6a8996ff730': ['FanEnd', 'OuterRace6', '0.014'], '0a6027a81f7b3b19': ['DriveEnd', 'Ball', '0.028'], '0881fa248109963a': ['None', 'None', '0.0'], 'ba953077ae4270a9': ['DriveEnd', 'InnerRace', '0.028']}\n",
      "Integer index of labels: {'7f67e45381c3652c': 1, '8b9e80c02e1fca5b': 2, 'd766ecd2592ce5ec': 3, 'e27e22f1f5037a20': 4, '8af14bb8ad669337': 5, '2533c59036dfe8c8': 6, 'd6765bfdf1aca38f': 7, 'a760eef52ceaa6f9': 8, 'b0a92d9d7379d8ce': 9, '1c80dbfc87966d6e': 10, 'd8957867a1fc0519': 11, 'd45bbeb3b8a72222': 12, '55503c950ed81973': 13, '60836667e7ee1dec': 14, '605222dceca4b27e': 15, '6c2ba36f712d55e4': 16, 'dc8bcb86c369e78b': 17, '9c54396620a4b6a3': 18, 'f6ab3549af9ee45a': 19, 'c3e7af63b24b636c': 20, '44bf66c5d8cd30e6': 21, '29b26ba8d01e2e21': 22, 'a07ca3c82afe8ae3': 23, 'd6de9a13f405da29': 24, '35929ddfb4abb54d': 25, '5feef6a8996ff730': 26, '0a6027a81f7b3b19': 27, '0881fa248109963a': 28, 'ba953077ae4270a9': 29}\n"
     ]
    }
   ],
   "source": [
    "_func = lambda x, sr: feature.spectral_features(\n",
    "    x, sr, 'spectrogram',\n",
    "    # n_mfcc=256,\n",
    "    time_window=0.025, hop_step=0.0125,\n",
    "    # n_fft=512,\n",
    "    normalize=False, to_db=True)[0]\n",
    "\n",
    "compactor_kwargs = dict(\n",
    "    channels=[],\n",
    "    keys=['FaultLocation', 'FaultComponent', 'FaultSize'],\n",
    ")\n",
    "\n",
    "window_kwargs = dict(\n",
    "    window_size=(64,64), \n",
    "    hop_size=(64,64),\n",
    "    # hop_size=(32,32)    \n",
    ")\n",
    "\n",
    "ds0, full_label_dict = dpmhm.datasets.spectral_window_pipeline(\n",
    "    'CWRU', \n",
    "    spectral_feature=_func,\n",
    "    compactor_kwargs=compactor_kwargs,\n",
    "    window_kwargs=window_kwargs,\n",
    ")\n",
    "\n",
    "print('Full dictionary of labels:', full_label_dict)\n",
    "\n",
    "label_index_dict = preprocessing.get_label_mapping(list(full_label_dict.keys()))\n",
    "print('Integer index of labels:', label_index_dict)"
   ]
  },
  {
   "cell_type": "markdown",
   "id": "bd8cb18b-4419-452d-ad11-542fcb024823",
   "metadata": {},
   "source": [
    "### Split for few-shot learning with OOD"
   ]
  },
  {
   "cell_type": "code",
   "execution_count": null,
   "id": "1e7c75df-2d89-4103-8aad-d8bfd0da4ace",
   "metadata": {},
   "outputs": [],
   "source": [
    "preproc = preprocessing.get_mapping_supervised(list(full_label_dict.keys()))\n",
    "\n",
    "ds1 = utils.restore_shape(\n",
    "    ds0.map(preproc, num_parallel_calls=tf.data.AUTOTUNE),\n",
    "    key=0\n",
    ")"
   ]
  },
  {
   "cell_type": "code",
   "execution_count": null,
   "id": "081f3e25-cde8-4d86-8f64-e53efbab1f62",
   "metadata": {},
   "outputs": [],
   "source": [
    "# OOD labels\n",
    "labels_ood = [1, 2]\n",
    "labels = [l for l in label_index_dict.values() if l not in labels_ood]\n",
    "\n",
    "# Extract OOD samples and concatenate into a single OOD category\n",
    "# use key=1 here because `ds1` is a tuple dataset and 1 is the index of the label field\n",
    "foo = utils.extract_by_category(ds1, labels_ood, key=1)  \n",
    "ds_ood = None\n",
    "for k, dv in foo.items():\n",
    "    try:\n",
    "        ds_ood = ds_ood.concatenate(dv)\n",
    "    except:\n",
    "        ds_ood = dv\n",
    "\n",
    "# Few-shot split\n",
    "splits = {'train':0.2, 'val':0.7, 'test':0.1}\n",
    "ds_split = utils.split_dataset(ds1, splits=splits, labels=labels, key=1)"
   ]
  },
  {
   "cell_type": "code",
   "execution_count": null,
   "id": "7962aee5-711d-4326-9cf1-82e9f86eb965",
   "metadata": {},
   "outputs": [],
   "source": []
  },
  {
   "cell_type": "code",
   "execution_count": null,
   "id": "54efbc13-efa8-43f9-8d5b-025ef2dceeb3",
   "metadata": {},
   "outputs": [],
   "source": []
  },
  {
   "cell_type": "markdown",
   "id": "51cc8dc8-eeef-4479-860c-d91c3c9e9946",
   "metadata": {},
   "source": [
    "#### Export and reload the preprocessed dataset \n",
    "\n",
    "For a better performance"
   ]
  },
  {
   "cell_type": "code",
   "execution_count": 12,
   "id": "86195d25-c9cd-43a9-8635-bf056ec116c8",
   "metadata": {},
   "outputs": [],
   "source": [
    "for k, dv in ds_split.items():\n",
    "    dv.save(str(outdir/k))\n",
    "\n",
    "ds_ood.save(str(outdir/'ood'))"
   ]
  },
  {
   "cell_type": "code",
   "execution_count": null,
   "id": "5065da1d-4803-4723-b3b3-c0350a03477e",
   "metadata": {},
   "outputs": [],
   "source": [
    "ds_split = {}\n",
    "\n",
    "for k in ['train', 'val', 'test']:\n",
    "    ds_split[k] = tf.data.Dataset.load(str(outdir/k))\n",
    "\n",
    "ds_ood = tf.data.Dataset.load(str(outdir/'ood'))\n",
    "\n",
    "print(ds_ood.element_spec, ds_ood.cardinality())\n",
    "\n",
    "# ds_split['train'].cardinality()"
   ]
  },
  {
   "cell_type": "code",
   "execution_count": null,
   "id": "547671ae-ef19-487e-b75b-9ac746390a71",
   "metadata": {},
   "outputs": [],
   "source": []
  },
  {
   "cell_type": "markdown",
   "id": "639a4e02-a166-4e29-96f5-511693ae2880",
   "metadata": {},
   "source": [
    "## Train a VGGish network"
   ]
  },
  {
   "cell_type": "code",
   "execution_count": 12,
   "id": "98852014-e25f-4ae3-bc7b-30dd2351d237",
   "metadata": {},
   "outputs": [],
   "source": [
    "batch_size = 64\n",
    "\n",
    "ds_train = ds_split['train']\\\n",
    "    .shuffle(1000, reshuffle_each_iteration=True)\\\n",
    "    .batch(batch_size, drop_remainder=True)\\\n",
    "    .prefetch(tf.data.AUTOTUNE)\n",
    "ds_val = ds_split['val'].batch(batch_size, drop_remainder=True)\n",
    "ds_test = ds_split['test'].batch(batch_size, drop_remainder=True)\n",
    "\n",
    "ds_ood_test = ds_ood.batch(batch_size, drop_remainder=True)\n",
    "\n",
    "n_classes = len(full_label_dict) + 1\n",
    "\n",
    "input_shape = ds_split['train'].element_spec[0].shape"
   ]
  },
  {
   "cell_type": "code",
   "execution_count": 13,
   "id": "3fa1d28d-45d9-4245-8b58-8cb3a2fefe1e",
   "metadata": {},
   "outputs": [],
   "source": [
    "from keras.applications import VGG16\n",
    "\n",
    "base_model = VGG16(include_top=False, weights='imagenet', input_shape=input_shape, classes=n_classes)\n",
    "\n",
    "base_model.trainable = False"
   ]
  },
  {
   "cell_type": "code",
   "execution_count": 14,
   "id": "3a4b9e94-b10a-4801-9767-27e6207bdffe",
   "metadata": {},
   "outputs": [],
   "source": [
    "x = layers.Input(input_shape)\n",
    "\n",
    "adapt_model = models.Sequential([\n",
    "    layers.Flatten(name=\"flatten\"),\n",
    "    layers.Dense(4096, activation=\"relu\", name=\"fc1\"),\n",
    "    layers.Dense(4096, activation=\"relu\", name=\"fc2\"),\n",
    "    layers.Dense(n_classes, activation=None, name=\"predictions\")\n",
    "])\n",
    "\n",
    "y = adapt_model(base_model(x))\n",
    "\n",
    "# Equivalent:\n",
    "# x = base_model(x)\n",
    "# x = layers.Flatten(name=\"flatten\")(x)\n",
    "# x = layers.Dense(4096, activation=\"relu\", name=\"fc1\")(x)\n",
    "# x = layers.Dense(4096, activation=\"relu\", name=\"fc2\")(x)\n",
    "# y = layers.Dense(n_classes, activation=None, name=\"predictions\")(x)"
   ]
  },
  {
   "cell_type": "code",
   "execution_count": 15,
   "id": "8dfa7aa2-322f-4378-bb0c-f21b41191309",
   "metadata": {},
   "outputs": [],
   "source": [
    "model = models.Model(x, y)\n",
    "\n",
    "from_logits = 'softmax' not in str(model.layers[-1].get_layer('predictions').activation)\n",
    "\n",
    "model.compile(\n",
    "    optimizer=keras.optimizers.Adam(),\n",
    "    loss=keras.losses.SparseCategoricalCrossentropy(from_logits=from_logits),\n",
    "    metrics=['accuracy'],\n",
    ")"
   ]
  },
  {
   "cell_type": "code",
   "execution_count": 17,
   "id": "18c60ba6-700e-40da-b833-1b5697c5de15",
   "metadata": {},
   "outputs": [
    {
     "name": "stdout",
     "output_type": "stream",
     "text": [
      "Epoch 1/10\n",
      "\u001b[1m13/13\u001b[0m \u001b[32m━━━━━━━━━━━━━━━━━━━━\u001b[0m\u001b[37m\u001b[0m \u001b[1m22s\u001b[0m 2s/step - accuracy: 0.7479 - loss: 0.8147 - val_accuracy: 0.8207 - val_loss: 0.5760\n",
      "Epoch 2/10\n",
      "\u001b[1m13/13\u001b[0m \u001b[32m━━━━━━━━━━━━━━━━━━━━\u001b[0m\u001b[37m\u001b[0m \u001b[1m21s\u001b[0m 2s/step - accuracy: 0.8765 - loss: 0.3828 - val_accuracy: 0.8821 - val_loss: 0.3911\n",
      "Epoch 3/10\n",
      "\u001b[1m13/13\u001b[0m \u001b[32m━━━━━━━━━━━━━━━━━━━━\u001b[0m\u001b[37m\u001b[0m \u001b[1m21s\u001b[0m 2s/step - accuracy: 0.9301 - loss: 0.2492 - val_accuracy: 0.8798 - val_loss: 0.4583\n",
      "Epoch 4/10\n",
      "\u001b[1m13/13\u001b[0m \u001b[32m━━━━━━━━━━━━━━━━━━━━\u001b[0m\u001b[37m\u001b[0m \u001b[1m20s\u001b[0m 2s/step - accuracy: 0.9578 - loss: 0.1732 - val_accuracy: 0.8913 - val_loss: 0.3275\n",
      "Epoch 5/10\n",
      "\u001b[1m13/13\u001b[0m \u001b[32m━━━━━━━━━━━━━━━━━━━━\u001b[0m\u001b[37m\u001b[0m \u001b[1m20s\u001b[0m 2s/step - accuracy: 0.9612 - loss: 0.1537 - val_accuracy: 0.8961 - val_loss: 0.3444\n",
      "Epoch 6/10\n",
      "\u001b[1m13/13\u001b[0m \u001b[32m━━━━━━━━━━━━━━━━━━━━\u001b[0m\u001b[37m\u001b[0m \u001b[1m21s\u001b[0m 2s/step - accuracy: 0.9758 - loss: 0.1078 - val_accuracy: 0.8957 - val_loss: 0.3493\n",
      "Epoch 7/10\n",
      "\u001b[1m13/13\u001b[0m \u001b[32m━━━━━━━━━━━━━━━━━━━━\u001b[0m\u001b[37m\u001b[0m \u001b[1m22s\u001b[0m 2s/step - accuracy: 0.9723 - loss: 0.1212 - val_accuracy: 0.9198 - val_loss: 0.2992\n",
      "Epoch 8/10\n",
      "\u001b[1m13/13\u001b[0m \u001b[32m━━━━━━━━━━━━━━━━━━━━\u001b[0m\u001b[37m\u001b[0m \u001b[1m20s\u001b[0m 2s/step - accuracy: 0.9893 - loss: 0.0516 - val_accuracy: 0.9395 - val_loss: 0.2108\n",
      "Epoch 9/10\n",
      "\u001b[1m13/13\u001b[0m \u001b[32m━━━━━━━━━━━━━━━━━━━━\u001b[0m\u001b[37m\u001b[0m \u001b[1m21s\u001b[0m 2s/step - accuracy: 0.9947 - loss: 0.0162 - val_accuracy: 0.9205 - val_loss: 0.3259\n",
      "Epoch 10/10\n",
      "\u001b[1m13/13\u001b[0m \u001b[32m━━━━━━━━━━━━━━━━━━━━\u001b[0m\u001b[37m\u001b[0m \u001b[1m20s\u001b[0m 2s/step - accuracy: 0.9955 - loss: 0.0178 - val_accuracy: 0.9426 - val_loss: 0.2100\n"
     ]
    }
   ],
   "source": [
    "history = model.fit(\n",
    "    ds_train,\n",
    "    validation_data=ds_val,\n",
    "    epochs=10,\n",
    "    callbacks=tf.keras.callbacks.EarlyStopping(verbose=1, patience=3),\n",
    ")"
   ]
  },
  {
   "cell_type": "markdown",
   "id": "5f57531f-d686-4f08-8f1e-ac04b9a72c8b",
   "metadata": {},
   "source": [
    "Trained model has a descent performance on test data:"
   ]
  },
  {
   "cell_type": "code",
   "execution_count": 18,
   "id": "66bef9d5-354a-4312-a5dd-050e609fc186",
   "metadata": {},
   "outputs": [
    {
     "name": "stdout",
     "output_type": "stream",
     "text": [
      "\u001b[1m7/7\u001b[0m \u001b[32m━━━━━━━━━━━━━━━━━━━━\u001b[0m\u001b[37m\u001b[0m \u001b[1m2s\u001b[0m 357ms/step - accuracy: 0.9434 - loss: 0.2846\n"
     ]
    },
    {
     "data": {
      "text/plain": [
       "[0.22488360106945038, 0.9419642686843872]"
      ]
     },
     "execution_count": 18,
     "metadata": {},
     "output_type": "execute_result"
    }
   ],
   "source": [
    "model.evaluate(ds_test)"
   ]
  },
  {
   "cell_type": "markdown",
   "id": "5bfd5f6a-f2a6-4564-9219-ecd2d0d518ab",
   "metadata": {},
   "source": [
    "On the contrary, on OOD data completely failed. "
   ]
  },
  {
   "cell_type": "code",
   "execution_count": 20,
   "id": "f5c53910-6b3b-4b94-a0c8-6227045106bb",
   "metadata": {},
   "outputs": [
    {
     "name": "stdout",
     "output_type": "stream",
     "text": [
      "\u001b[1m6/6\u001b[0m \u001b[32m━━━━━━━━━━━━━━━━━━━━\u001b[0m\u001b[37m\u001b[0m \u001b[1m2s\u001b[0m 317ms/step - accuracy: 0.0000e+00 - loss: 24.1354\n"
     ]
    },
    {
     "data": {
      "text/plain": [
       "[25.666162490844727, 0.0]"
      ]
     },
     "execution_count": 20,
     "metadata": {},
     "output_type": "execute_result"
    }
   ],
   "source": [
    "model.evaluate(ds_ood_test)"
   ]
  },
  {
   "cell_type": "markdown",
   "id": "37575857-d5cc-4f10-a7f5-ffd1542d31a7",
   "metadata": {},
   "source": [
    "### Fine tuning\n",
    "\n",
    "Fine tuning in the few-shot learning scenario doesn't really improve the model's performance."
   ]
  },
  {
   "cell_type": "code",
   "execution_count": 21,
   "id": "77f5eaf4-9eca-4dbf-8ebf-74fd7c6935f3",
   "metadata": {},
   "outputs": [],
   "source": [
    "base_model.trainable = True\n",
    "\n",
    "model.compile(\n",
    "    optimizer=tf.keras.optimizers.Adam(1e-5),\n",
    "    loss=tf.keras.losses.SparseCategoricalCrossentropy(from_logits=from_logits),\n",
    "    metrics=['accuracy'],\n",
    ")"
   ]
  },
  {
   "cell_type": "code",
   "execution_count": 22,
   "id": "96ad8508-d9d5-4b37-a869-b13d2fcf7d6b",
   "metadata": {},
   "outputs": [
    {
     "name": "stdout",
     "output_type": "stream",
     "text": [
      "Epoch 1/2\n",
      "\u001b[1m13/13\u001b[0m \u001b[32m━━━━━━━━━━━━━━━━━━━━\u001b[0m\u001b[37m\u001b[0m \u001b[1m31s\u001b[0m 2s/step - accuracy: 0.9977 - loss: 0.0149 - val_accuracy: 0.9321 - val_loss: 0.3310\n",
      "Epoch 2/2\n",
      "\u001b[1m13/13\u001b[0m \u001b[32m━━━━━━━━━━━━━━━━━━━━\u001b[0m\u001b[37m\u001b[0m \u001b[1m31s\u001b[0m 2s/step - accuracy: 0.9939 - loss: 0.0200 - val_accuracy: 0.9457 - val_loss: 0.2088\n"
     ]
    }
   ],
   "source": [
    "history = model.fit(\n",
    "    ds_train,\n",
    "    validation_data=ds_val,\n",
    "    epochs=2,\n",
    "    callbacks=tf.keras.callbacks.EarlyStopping(verbose=1, patience=3),\n",
    ")"
   ]
  },
  {
   "cell_type": "code",
   "execution_count": 24,
   "id": "165702e6-83c5-4c24-9d33-6e016cbca1e5",
   "metadata": {},
   "outputs": [
    {
     "name": "stdout",
     "output_type": "stream",
     "text": [
      "\u001b[1m7/7\u001b[0m \u001b[32m━━━━━━━━━━━━━━━━━━━━\u001b[0m\u001b[37m\u001b[0m \u001b[1m2s\u001b[0m 336ms/step - accuracy: 0.9438 - loss: 0.3563\n"
     ]
    },
    {
     "data": {
      "text/plain": [
       "[0.261015921831131, 0.9486607313156128]"
      ]
     },
     "execution_count": 24,
     "metadata": {},
     "output_type": "execute_result"
    }
   ],
   "source": [
    "model.evaluate(ds_test)"
   ]
  },
  {
   "cell_type": "code",
   "execution_count": 25,
   "id": "76d15fbf-3a11-4c82-b4eb-10afd4499766",
   "metadata": {},
   "outputs": [
    {
     "name": "stdout",
     "output_type": "stream",
     "text": [
      "\u001b[1m6/6\u001b[0m \u001b[32m━━━━━━━━━━━━━━━━━━━━\u001b[0m\u001b[37m\u001b[0m \u001b[1m2s\u001b[0m 339ms/step - accuracy: 0.0000e+00 - loss: 26.4604\n"
     ]
    },
    {
     "data": {
      "text/plain": [
       "[28.41253089904785, 0.0]"
      ]
     },
     "execution_count": 25,
     "metadata": {},
     "output_type": "execute_result"
    }
   ],
   "source": [
    "model.evaluate(ds_ood_test)"
   ]
  },
  {
   "cell_type": "markdown",
   "id": "3730a7f8-e494-4db5-a59e-af69c092475c",
   "metadata": {},
   "source": [
    "### Adaptation on OOD data\n",
    "\n",
    "We may adapt the model on OOD data, however this may incur catastrophic forget."
   ]
  },
  {
   "cell_type": "code",
   "execution_count": 36,
   "id": "5bff9bc3-5da6-4aaa-b1b8-1cc461f2a7ff",
   "metadata": {},
   "outputs": [],
   "source": [
    "# Split the OOD data\n",
    "ds_ood_split = utils.split_dataset(ds_ood, {'train':0.2, 'val':0.7, 'test':0.1}, key=1)\n",
    "\n",
    "batch_size = 16\n",
    "\n",
    "ds_ood_train = ds_ood_split['train']\\\n",
    "    .shuffle(1000, reshuffle_each_iteration=True)\\\n",
    "    .batch(batch_size, drop_remainder=True)\\\n",
    "    .prefetch(tf.data.AUTOTUNE)\n",
    "ds_ood_val = ds_ood_split['val'].batch(batch_size, drop_remainder=True)\n",
    "ds_ood_test = ds_ood_split['test'].batch(batch_size, drop_remainder=True)"
   ]
  },
  {
   "cell_type": "code",
   "execution_count": 44,
   "id": "8b102769-cb55-40ed-be94-5da1fb3d3fd9",
   "metadata": {},
   "outputs": [],
   "source": [
    "base_model.trainable = True\n",
    "\n",
    "model.compile(\n",
    "    optimizer=tf.keras.optimizers.Adam(),\n",
    "    loss=tf.keras.losses.SparseCategoricalCrossentropy(from_logits=from_logits),\n",
    "    metrics=['accuracy'],\n",
    ")"
   ]
  },
  {
   "cell_type": "code",
   "execution_count": 45,
   "id": "aa267f4d-e27d-4280-a7be-90d3fbf3482d",
   "metadata": {},
   "outputs": [
    {
     "name": "stdout",
     "output_type": "stream",
     "text": [
      "Epoch 1/10\n",
      "\u001b[1m4/4\u001b[0m \u001b[32m━━━━━━━━━━━━━━━━━━━━\u001b[0m\u001b[37m\u001b[0m \u001b[1m4s\u001b[0m 1s/step - accuracy: 0.0000e+00 - loss: 27.8739 - val_accuracy: 0.0000e+00 - val_loss: 3.5991\n",
      "Epoch 2/10\n",
      "\u001b[1m4/4\u001b[0m \u001b[32m━━━━━━━━━━━━━━━━━━━━\u001b[0m\u001b[37m\u001b[0m \u001b[1m4s\u001b[0m 1s/step - accuracy: 0.2042 - loss: 2.8744 - val_accuracy: 0.4805 - val_loss: 2.8254\n",
      "Epoch 3/10\n",
      "\u001b[1m4/4\u001b[0m \u001b[32m━━━━━━━━━━━━━━━━━━━━\u001b[0m\u001b[37m\u001b[0m \u001b[1m4s\u001b[0m 1s/step - accuracy: 0.4021 - loss: 2.1012 - val_accuracy: 0.5234 - val_loss: 0.7230\n",
      "Epoch 4/10\n",
      "\u001b[1m4/4\u001b[0m \u001b[32m━━━━━━━━━━━━━━━━━━━━\u001b[0m\u001b[37m\u001b[0m \u001b[1m4s\u001b[0m 1s/step - accuracy: 0.5021 - loss: 0.8861 - val_accuracy: 0.4961 - val_loss: 0.7041\n",
      "Epoch 5/10\n",
      "\u001b[1m4/4\u001b[0m \u001b[32m━━━━━━━━━━━━━━━━━━━━\u001b[0m\u001b[37m\u001b[0m \u001b[1m4s\u001b[0m 1s/step - accuracy: 0.3688 - loss: 0.7533 - val_accuracy: 0.5000 - val_loss: 0.6899\n",
      "Epoch 6/10\n",
      "\u001b[1m4/4\u001b[0m \u001b[32m━━━━━━━━━━━━━━━━━━━━\u001b[0m\u001b[37m\u001b[0m \u001b[1m4s\u001b[0m 1s/step - accuracy: 0.5500 - loss: 0.7189 - val_accuracy: 0.4922 - val_loss: 0.6937\n",
      "Epoch 7/10\n",
      "\u001b[1m4/4\u001b[0m \u001b[32m━━━━━━━━━━━━━━━━━━━━\u001b[0m\u001b[37m\u001b[0m \u001b[1m4s\u001b[0m 1s/step - accuracy: 0.6542 - loss: 0.6928 - val_accuracy: 0.5000 - val_loss: 0.7093\n",
      "Epoch 8/10\n",
      "\u001b[1m4/4\u001b[0m \u001b[32m━━━━━━━━━━━━━━━━━━━━\u001b[0m\u001b[37m\u001b[0m \u001b[1m4s\u001b[0m 1s/step - accuracy: 0.5354 - loss: 0.7058 - val_accuracy: 0.5195 - val_loss: 0.7011\n",
      "Epoch 8: early stopping\n"
     ]
    }
   ],
   "source": [
    "history = model.fit(\n",
    "    ds_ood_train,\n",
    "    validation_data=ds_ood_val,\n",
    "    epochs=10,\n",
    "    callbacks=tf.keras.callbacks.EarlyStopping(verbose=1, patience=3),\n",
    ")"
   ]
  },
  {
   "cell_type": "code",
   "execution_count": 47,
   "id": "5dab2a63-aae2-4fb1-b44a-b919d84f79a0",
   "metadata": {},
   "outputs": [
    {
     "name": "stdout",
     "output_type": "stream",
     "text": [
      "\u001b[1m2/2\u001b[0m \u001b[32m━━━━━━━━━━━━━━━━━━━━\u001b[0m\u001b[37m\u001b[0m \u001b[1m0s\u001b[0m 109ms/step - accuracy: 0.5625 - loss: 0.6792\n"
     ]
    },
    {
     "data": {
      "text/plain": [
       "[0.6783491373062134, 0.5625]"
      ]
     },
     "execution_count": 47,
     "metadata": {},
     "output_type": "execute_result"
    }
   ],
   "source": [
    "model.evaluate(ds_ood_test)"
   ]
  },
  {
   "cell_type": "code",
   "execution_count": 46,
   "id": "d8b26753-201d-4f05-9af4-1629329de358",
   "metadata": {},
   "outputs": [
    {
     "name": "stdout",
     "output_type": "stream",
     "text": [
      "\u001b[1m7/7\u001b[0m \u001b[32m━━━━━━━━━━━━━━━━━━━━\u001b[0m\u001b[37m\u001b[0m \u001b[1m2s\u001b[0m 346ms/step - accuracy: 0.0000e+00 - loss: 11.6353\n"
     ]
    },
    {
     "data": {
      "text/plain": [
       "[11.451746940612793, 0.0]"
      ]
     },
     "execution_count": 46,
     "metadata": {},
     "output_type": "execute_result"
    }
   ],
   "source": [
    "model.evaluate(ds_test)"
   ]
  },
  {
   "cell_type": "code",
   "execution_count": null,
   "id": "cd3c02d4-86f7-428e-a345-2726151d08ba",
   "metadata": {},
   "outputs": [],
   "source": []
  },
  {
   "cell_type": "code",
   "execution_count": null,
   "id": "8f1708ea-08d0-4321-8bff-4d4736d8bcfa",
   "metadata": {},
   "outputs": [],
   "source": []
  },
  {
   "cell_type": "markdown",
   "id": "80ec1b7b-27f8-447e-8f77-956353a3789b",
   "metadata": {},
   "source": [
    "## Alternative of the splitting scheme\n",
    "\n",
    "The preprocessing step which converts string labels to integer index can be applied after the split, as shown below."
   ]
  },
  {
   "cell_type": "code",
   "execution_count": null,
   "id": "d0e5de1f-23d2-4181-a40d-87ff25dc939a",
   "metadata": {},
   "outputs": [],
   "source": [
    "# Split for few-shot learning with OOD\n",
    "\n",
    "# OOD labels\n",
    "# labels_ood = ['0881fa248109963a']  # CWRU: the 3 channels data contain no normal samples\n",
    "labels_ood = ['55503c950ed81973']  # ['FanEnd', 'Ball', '0.014']\n",
    "# Other labels\n",
    "labels = [l for l in full_label_dict if l not in labels_ood]\n",
    "# labels = list(full_label_dict.keys())\n",
    "\n",
    "# Extract OOD samples and concatenate into a single OOD category\n",
    "foo = utils.extract_by_category(ds0, labels_ood)\n",
    "for k, dv in foo.items():\n",
    "    try:\n",
    "        ds_ood = ds_ood.concatenate(dv)\n",
    "    except:\n",
    "        ds_ood = dv\n",
    "\n",
    "# Few-shot split\n",
    "splits = {'train':0.2, 'val':0.7, 'test':0.1}\n",
    "ds_split = utils.split_dataset(ds0, splits=splits, labels=labels)"
   ]
  },
  {
   "cell_type": "code",
   "execution_count": null,
   "id": "ccb90fc5-f46d-4b30-a186-5f2c3d4739eb",
   "metadata": {},
   "outputs": [],
   "source": [
    "preproc = preprocessing.get_mapping_supervised(list(full_label_dict.keys()))\n",
    "\n",
    "batch_size = 64\n",
    "\n",
    "ds_train = ds_split['train']\\\n",
    "    .map(preproc, num_parallel_calls=tf.data.AUTOTUNE)\\\n",
    "    .shuffle(1000, reshuffle_each_iteration=True)\\\n",
    "    .batch(batch_size, drop_remainder=True)\\\n",
    "    .prefetch(tf.data.AUTOTUNE)\n",
    "ds_val = ds_split['val']\\\n",
    "    .map(preproc, num_parallel_calls=tf.data.AUTOTUNE)\\\n",
    "    .batch(batch_size, drop_remainder=True)\n",
    "ds_test = ds_split['test']\\\n",
    "    .map(preproc, num_parallel_calls=tf.data.AUTOTUNE)\\\n",
    "    .batch(batch_size, drop_remainder=True)"
   ]
  },
  {
   "cell_type": "code",
   "execution_count": null,
   "id": "96afe352-b519-4dbf-8d2c-60f3b8e91eea",
   "metadata": {},
   "outputs": [],
   "source": [
    "with open(outdir/'full_labels.json', 'w') as fp:\n",
    "    json.dump(full_label_dict,fp)\n",
    "\n",
    "with open(outdir/'label_mapping.json', 'w') as fp:\n",
    "    json.dump(label_index_dict,fp)\n",
    "\n",
    "# dp_split = {}\n",
    "# for k, dv in ds_split.items():\n",
    "#     dp_split[k] = utils.restore_shape(\n",
    "#         ds_split[k].map(preproc, num_parallel_calls=tf.data.AUTOTUNE)\n",
    "#     )\n",
    "# )\n",
    "# # ds_size = utils.get_dataset_size(ds_window)"
   ]
  },
  {
   "cell_type": "markdown",
   "id": "b9121933-1804-4802-910e-0bbba2fecd71",
   "metadata": {},
   "source": [
    "# EOF"
   ]
  },
  {
   "cell_type": "code",
   "execution_count": null,
   "id": "45f9f6df-7ed9-4fd4-8d61-f88fd22a2985",
   "metadata": {},
   "outputs": [],
   "source": []
  }
 ],
 "metadata": {
  "kernelspec": {
   "display_name": "Python (dpmhm-yVS8YoI0-py3.11)",
   "language": "python",
   "name": "dpmhm-yvs8yoi0-py3.11"
  },
  "language_info": {
   "codemirror_mode": {
    "name": "ipython",
    "version": 3
   },
   "file_extension": ".py",
   "mimetype": "text/x-python",
   "name": "python",
   "nbconvert_exporter": "python",
   "pygments_lexer": "ipython3",
   "version": "3.11.9"
  }
 },
 "nbformat": 4,
 "nbformat_minor": 5
}
