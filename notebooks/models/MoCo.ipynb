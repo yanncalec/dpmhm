{
 "cells": [
  {
   "cell_type": "markdown",
   "id": "19108fd3",
   "metadata": {
    "tags": []
   },
   "source": [
    "# MoCo"
   ]
  },
  {
   "cell_type": "code",
   "execution_count": 1,
   "id": "4c2594b9-86f8-4878-8a7f-cf22385c41c5",
   "metadata": {},
   "outputs": [],
   "source": [
    "# %xmode minimal\n",
    "\n",
    "from pathlib import Path\n",
    "import os\n",
    "\n",
    "os.environ[\"KERAS_BACKEND\"] = \"jax\"\n",
    "# os.environ[\"KERAS_BACKEND\"] = \"torch\"\n",
    "# os.environ[\"KERAS_BACKEND\"] = \"tensorflow\"\n",
    "\n",
    "# os.environ[\"CUDA_VISIBLE_DEVICES\"] = \"-1\"  # disable GPU devices\n",
    "os.environ[\"TFDS_DATA_DIR\"] = os.path.expanduser(\"~/tensorflow_datasets\")  # default location of tfds database\n",
    "\n",
    "# Turn off logging for TF\n",
    "import logging\n",
    "logging.disable(logging.WARNING)\n",
    "os.environ[\"TF_CPP_MIN_LOG_LEVEL\"] = \"2\"\n",
    "\n",
    "import tensorflow as tf\n",
    "import tensorflow_datasets as tfds\n",
    "tf.get_logger().setLevel(logging.ERROR)\n",
    "\n",
    "# import librosa\n",
    "# import librosa.display\n",
    "# from IPython.display import Audio\n",
    "\n",
    "import numpy as np\n",
    "from matplotlib import pyplot as plt\n",
    "\n",
    "# from tensorflow.python.client import device_lib\n",
    "# print(device_lib.list_local_devices())\n",
    "\n",
    "import keras\n",
    "from keras import layers, models, ops, losses, metrics\n",
    "# from keras.applications import resnet, vgg16\n",
    "\n",
    "# tf.config.experimental_run_functions_eagerly(True)\n",
    "# from tensorflow.python.client import device_lib\n",
    "# print(device_lib.list_local_devices())"
   ]
  },
  {
   "cell_type": "code",
   "execution_count": 2,
   "id": "68d2156e-ff0a-4fcc-9583-d0a6243df559",
   "metadata": {},
   "outputs": [],
   "source": [
    "import dpmhm\n",
    "# dpmhm.datasets.get_dataset_list()\n",
    "\n",
    "from dpmhm.datasets import preprocessing, transformer, feature, utils, spectral_window_pipeline, spectral_pipeline\n",
    "from dpmhm.models import simclr\n",
    "\n",
    "workdir = Path(os.path.expanduser(\"~/tmp/dpmhm/MoCo\"))\n",
    "os.makedirs(workdir, exist_ok=True)\n",
    "\n",
    "dbdir = Path(os.path.expanduser('~/Projects/HIASCI/Data/MetaTwins'))\n",
    "os.makedirs(dbdir, exist_ok=True)\n",
    "\n",
    "# dpmhm.datasets.query_parameters('Paderborn')"
   ]
  },
  {
   "cell_type": "markdown",
   "id": "eb6c5e43-be47-4cc8-9020-93e8e3ee35a1",
   "metadata": {
    "tags": []
   },
   "source": [
    "## Build a meta-dataset\n",
    "\n",
    "First we load several datasets and extract spectrogram patches of fixed dimension `(128,128)`. This dimension is large enough to accomodate the random crop of shape `(64,64)` that will be created later by spec-augmentation. Also we skip the resampling step which will considerable slow down the loading of datasets, and take randomly the first `Nmax` elements to reduce the size of the final dataset."
   ]
  },
  {
   "cell_type": "code",
   "execution_count": 3,
   "id": "f2841c3e-574b-4aed-af87-e5f9ed8c6a79",
   "metadata": {},
   "outputs": [],
   "source": [
    "n_fft = 1024  # number of frequency bins\n",
    "Nmax = 2500  # maximum number of elements per dataset\n",
    "shuffle_size = 10000"
   ]
  },
  {
   "cell_type": "code",
   "execution_count": null,
   "id": "00bddbf6-e6fc-481a-828d-1cafe7ecf030",
   "metadata": {},
   "outputs": [],
   "source": [
    "ds_all = {}\n",
    "\n",
    "foo = dpmhm.datasets.spectral_window_pipeline('DIRG', 51200, split='variation', channels=[], n_fft=n_fft)\n",
    "# ds_all['DIRG'] = foo\n",
    "ds_all['DIRG'] = utils.restore_cardinality(foo.shuffle(shuffle_size).take(Nmax))\n",
    "\n",
    "foo = dpmhm.datasets.spectral_window_pipeline('Paderborn', 64000, split='healthy[:10%]+artificial[:10%]', channels=['vibration'], n_fft=n_fft)\n",
    "# ds_all['Paderborn'] = foo\n",
    "ds_all['Paderborn'] = utils.restore_cardinality(foo.shuffle(shuffle_size).take(Nmax))\n",
    "\n",
    "foo = dpmhm.datasets.spectral_window_pipeline('Ottawa', 200000, split='all', channels=[], n_fft=n_fft)\n",
    "# ds_all['Ottawa'] = foo\n",
    "ds_all['Ottawa'] = utils.restore_cardinality(foo.shuffle(shuffle_size).take(Nmax))\n",
    "\n",
    "foo = dpmhm.datasets.spectral_window_pipeline('Phmap2021', 10544, split='train[:50%]', channels=[], n_fft=n_fft)\n",
    "# ds_all['Phmap2021'] = foo\n",
    "ds_all['Phmap2021'] = utils.restore_cardinality(foo.shuffle(shuffle_size).take(Nmax))\n",
    "\n",
    "# eles = list(foo.take(10).as_numpy_iterator())\n",
    "\n",
    "# ds_size = 0\n",
    "# for k, foo in ds_all.items():\n",
    "#     print(k, int(foo.cardinality()))\n",
    "#     ds_size += int(foo.cardinality())"
   ]
  },
  {
   "cell_type": "code",
   "execution_count": null,
   "id": "d9e4c032-1147-46e5-aaeb-41e3dd60f480",
   "metadata": {},
   "outputs": [],
   "source": [
    "# Serialization for better performance.\n",
    "# Note that this should be done before the random augmentation.\n",
    "\n",
    "ds1, ds2, ds3, ds4 = ds_all['DIRG'], ds_all['Paderborn'], ds_all['Ottawa'], ds_all['Phmap2021']\n",
    "\n",
    "ds0 = ds1.concatenate(ds2).concatenate(ds3).concatenate(ds4)\n",
    "\n",
    "ds0.save(str(dbdir/'dataset'))"
   ]
  },
  {
   "cell_type": "code",
   "execution_count": 4,
   "id": "0db26e23-501b-4e91-82d4-886be299d70f",
   "metadata": {},
   "outputs": [
    {
     "data": {
      "text/plain": [
       "((TensorSpec(shape=(64, 64, 1), dtype=tf.float32, name=None),\n",
       "  TensorSpec(shape=(64, 64, 1), dtype=tf.float32, name=None)),\n",
       " TensorSpec(shape=(), dtype=tf.float32, name=None))"
      ]
     },
     "execution_count": 4,
     "metadata": {},
     "output_type": "execute_result"
    }
   ],
   "source": [
    "ds0 = tf.data.Dataset.load(str(dbdir/'dataset'))\n",
    "\n",
    "window_shape = (64, 64)\n",
    "\n",
    "dt = transformer.SpecAugmentTwins(\n",
    "    ds0,\n",
    "    output_shape=window_shape,\n",
    "    crop_kwargs={'prob':0.5},\n",
    "    flip_kwargs={'axis':-1, 'prob':0.5},\n",
    "    blur_kwargs={'sigma':1., 'prob':0.},\n",
    "    fade_kwargs={'prob':0},\n",
    ").dataset.map(\n",
    "    lambda y1, y2: (tf.transpose(y1, perm=(1,2,0)), tf.transpose(y2, perm=(1,2,0)))  # to channel-last\n",
    ")\n",
    "\n",
    "ds = tf.data.Dataset.zip(dt, utils.constant_dataset())\n",
    "\n",
    "# ds = utils.restore_cardinality(ds, ds_size)\n",
    "input_shape = ds.element_spec[0][0].shape\n",
    "\n",
    "ds_size = int(dt.cardinality())\n",
    "ds.element_spec"
   ]
  },
  {
   "cell_type": "code",
   "execution_count": 5,
   "id": "b26fb842-f52b-4995-89c1-dd8b6e3b7324",
   "metadata": {},
   "outputs": [],
   "source": [
    "# # Serialization may disable the random augmentation\n",
    "\n",
    "# ds.save(str(workdir/'simclr_dataset'))\n",
    "# ds = tf.data.Dataset.load(str(workdir/'simclr_dataset'))"
   ]
  },
  {
   "cell_type": "markdown",
   "id": "2cf217b1-20bd-428f-9fd7-db5f6447ee12",
   "metadata": {},
   "source": [
    "## Base MoCo model\n"
   ]
  },
  {
   "cell_type": "code",
   "execution_count": 12,
   "id": "22294c27-1e4a-4601-b653-c19b3f272f47",
   "metadata": {},
   "outputs": [
    {
     "data": {
      "text/plain": [
       "((TensorSpec(shape=(32, 64, 64, 1), dtype=tf.float32, name=None),\n",
       "  TensorSpec(shape=(32, 64, 64, 1), dtype=tf.float32, name=None)),\n",
       " TensorSpec(shape=(32,), dtype=tf.float32, name=None))"
      ]
     },
     "execution_count": 12,
     "metadata": {},
     "output_type": "execute_result"
    }
   ],
   "source": [
    "batch_size = 32\n",
    "\n",
    "ds_train = ds.shuffle(ds_size, reshuffle_each_iteration=True)\\\n",
    "    .repeat()\\\n",
    "    .batch(batch_size, drop_remainder=True)\\\n",
    "    .prefetch(tf.data.AUTOTUNE)\n",
    "# ds_val = ds_split['val'].batch(batch_size, drop_remainder=True)\n",
    "# ds_test = ds_split['test'].batch(1, drop_remainder=True)\n",
    "\n",
    "ds_train.element_spec"
   ]
  },
  {
   "cell_type": "code",
   "execution_count": 13,
   "id": "42e0f496-1c41-4251-965b-6a3498e3cc1c",
   "metadata": {},
   "outputs": [
    {
     "data": {
      "text/html": [
       "<pre style=\"white-space:pre;overflow-x:auto;line-height:normal;font-family:Menlo,'DejaVu Sans Mono',consolas,'Courier New',monospace\"><span style=\"font-weight: bold\">Model: \"mo_co_2\"</span>\n",
       "</pre>\n"
      ],
      "text/plain": [
       "\u001b[1mModel: \"mo_co_2\"\u001b[0m\n"
      ]
     },
     "metadata": {},
     "output_type": "display_data"
    },
    {
     "data": {
      "text/html": [
       "<pre style=\"white-space:pre;overflow-x:auto;line-height:normal;font-family:Menlo,'DejaVu Sans Mono',consolas,'Courier New',monospace\">┏━━━━━━━━━━━━━━━━━━━━━━━━━━━━━━━━━┳━━━━━━━━━━━━━━━━━━━━━━━━┳━━━━━━━━━━━━━━━┓\n",
       "┃<span style=\"font-weight: bold\"> Layer (type)                    </span>┃<span style=\"font-weight: bold\"> Output Shape           </span>┃<span style=\"font-weight: bold\">       Param # </span>┃\n",
       "┡━━━━━━━━━━━━━━━━━━━━━━━━━━━━━━━━━╇━━━━━━━━━━━━━━━━━━━━━━━━╇━━━━━━━━━━━━━━━┩\n",
       "│ functional_18 (<span style=\"color: #0087ff; text-decoration-color: #0087ff\">Functional</span>)      │ ?                      │    <span style=\"color: #00af00; text-decoration-color: #00af00\">14,714,694</span> │\n",
       "├─────────────────────────────────┼────────────────────────┼───────────────┤\n",
       "│ projector (<span style=\"color: #0087ff; text-decoration-color: #0087ff\">Sequential</span>)          │ ?                      │   <span style=\"color: #00af00; text-decoration-color: #00af00\">0</span> (unbuilt) │\n",
       "├─────────────────────────────────┼────────────────────────┼───────────────┤\n",
       "│ online (<span style=\"color: #0087ff; text-decoration-color: #0087ff\">Sequential</span>)             │ ?                      │   <span style=\"color: #00af00; text-decoration-color: #00af00\">0</span> (unbuilt) │\n",
       "├─────────────────────────────────┼────────────────────────┼───────────────┤\n",
       "│ online (<span style=\"color: #0087ff; text-decoration-color: #0087ff\">Sequential</span>)             │ ?                      │   <span style=\"color: #00af00; text-decoration-color: #00af00\">0</span> (unbuilt) │\n",
       "└─────────────────────────────────┴────────────────────────┴───────────────┘\n",
       "</pre>\n"
      ],
      "text/plain": [
       "┏━━━━━━━━━━━━━━━━━━━━━━━━━━━━━━━━━┳━━━━━━━━━━━━━━━━━━━━━━━━┳━━━━━━━━━━━━━━━┓\n",
       "┃\u001b[1m \u001b[0m\u001b[1mLayer (type)                   \u001b[0m\u001b[1m \u001b[0m┃\u001b[1m \u001b[0m\u001b[1mOutput Shape          \u001b[0m\u001b[1m \u001b[0m┃\u001b[1m \u001b[0m\u001b[1m      Param #\u001b[0m\u001b[1m \u001b[0m┃\n",
       "┡━━━━━━━━━━━━━━━━━━━━━━━━━━━━━━━━━╇━━━━━━━━━━━━━━━━━━━━━━━━╇━━━━━━━━━━━━━━━┩\n",
       "│ functional_18 (\u001b[38;5;33mFunctional\u001b[0m)      │ ?                      │    \u001b[38;5;34m14,714,694\u001b[0m │\n",
       "├─────────────────────────────────┼────────────────────────┼───────────────┤\n",
       "│ projector (\u001b[38;5;33mSequential\u001b[0m)          │ ?                      │   \u001b[38;5;34m0\u001b[0m (unbuilt) │\n",
       "├─────────────────────────────────┼────────────────────────┼───────────────┤\n",
       "│ online (\u001b[38;5;33mSequential\u001b[0m)             │ ?                      │   \u001b[38;5;34m0\u001b[0m (unbuilt) │\n",
       "├─────────────────────────────────┼────────────────────────┼───────────────┤\n",
       "│ online (\u001b[38;5;33mSequential\u001b[0m)             │ ?                      │   \u001b[38;5;34m0\u001b[0m (unbuilt) │\n",
       "└─────────────────────────────────┴────────────────────────┴───────────────┘\n"
      ]
     },
     "metadata": {},
     "output_type": "display_data"
    },
    {
     "data": {
      "text/html": [
       "<pre style=\"white-space:pre;overflow-x:auto;line-height:normal;font-family:Menlo,'DejaVu Sans Mono',consolas,'Courier New',monospace\"><span style=\"font-weight: bold\"> Total params: </span><span style=\"color: #00af00; text-decoration-color: #00af00\">29,429,388</span> (112.26 MB)\n",
       "</pre>\n"
      ],
      "text/plain": [
       "\u001b[1m Total params: \u001b[0m\u001b[38;5;34m29,429,388\u001b[0m (112.26 MB)\n"
      ]
     },
     "metadata": {},
     "output_type": "display_data"
    },
    {
     "data": {
      "text/html": [
       "<pre style=\"white-space:pre;overflow-x:auto;line-height:normal;font-family:Menlo,'DejaVu Sans Mono',consolas,'Courier New',monospace\"><span style=\"font-weight: bold\"> Trainable params: </span><span style=\"color: #00af00; text-decoration-color: #00af00\">14,714,694</span> (56.13 MB)\n",
       "</pre>\n"
      ],
      "text/plain": [
       "\u001b[1m Trainable params: \u001b[0m\u001b[38;5;34m14,714,694\u001b[0m (56.13 MB)\n"
      ]
     },
     "metadata": {},
     "output_type": "display_data"
    },
    {
     "data": {
      "text/html": [
       "<pre style=\"white-space:pre;overflow-x:auto;line-height:normal;font-family:Menlo,'DejaVu Sans Mono',consolas,'Courier New',monospace\"><span style=\"font-weight: bold\"> Non-trainable params: </span><span style=\"color: #00af00; text-decoration-color: #00af00\">14,714,694</span> (56.13 MB)\n",
       "</pre>\n"
      ],
      "text/plain": [
       "\u001b[1m Non-trainable params: \u001b[0m\u001b[38;5;34m14,714,694\u001b[0m (56.13 MB)\n"
      ]
     },
     "metadata": {},
     "output_type": "display_data"
    }
   ],
   "source": [
    "# encoder_kwargs = dict(include_top=False, weights='imagenet', pooling='avg')\n",
    "encoder_kwargs = dict(include_top=False, weights=None, pooling='avg')\n",
    "\n",
    "# model = dpmhm.models.simclr.SimCLR(input_shape, name='VGG16', tau=0.1, encoder_kwargs=encoder_kwargs)\n",
    "model = dpmhm.models.moco.MoCo(input_shape, name='VGG16', tau=0.1, encoder_kwargs=encoder_kwargs)\n",
    "\n",
    "# model._encoder.trainable = True\n",
    "\n",
    "model.compile(\n",
    "    optimizer=keras.optimizers.Adam(),\n",
    ")\n",
    "cb_ema = dpmhm.models.moco.MoCo_Callback()\n",
    "\n",
    "model.summary()"
   ]
  },
  {
   "cell_type": "code",
   "execution_count": 14,
   "id": "e3d22744-8004-4ed8-aee1-ed5138ac3c23",
   "metadata": {
    "scrolled": true
   },
   "outputs": [
    {
     "name": "stderr",
     "output_type": "stream",
     "text": [
      "Need at least one array to stack.\n",
      "Encountered an unexpected tracer. A function transformed by JAX had a side effect, allowing for a reference to an intermediate value with type float32[32,256] wrapped in a DynamicJaxprTracer to escape the scope of the transformation.\n",
      "JAX transformations require that functions explicitly return their outputs, and disallow saving intermediate values to global state.\n",
      "The function being traced when the value leaked was wrapped_fn at /mnt/cache/.cache/pypoetry/virtualenvs/dpmhm-yVS8YoI0-py3.11/lib/python3.11/site-packages/keras/src/backend/jax/core.py:153 traced for make_jaxpr.\n",
      "To catch the leak earlier, try setting the environment variable JAX_CHECK_TRACER_LEAKS or using the `jax.checking_leaks` context manager.\n",
      "See https://jax.readthedocs.io/en/latest/errors.html#jax.errors.UnexpectedTracerError\n"
     ]
    },
    {
     "name": "stdout",
     "output_type": "stream",
     "text": [
      "Epoch 1/10\n"
     ]
    },
    {
     "name": "stderr",
     "output_type": "stream",
     "text": [
      "Encountered an unexpected tracer. A function transformed by JAX had a side effect, allowing for a reference to an intermediate value with type float32[32,256] wrapped in a DynamicJaxprTracer to escape the scope of the transformation.\n",
      "JAX transformations require that functions explicitly return their outputs, and disallow saving intermediate values to global state.\n",
      "The function being traced when the value leaked was wrapped_fn at /mnt/cache/.cache/pypoetry/virtualenvs/dpmhm-yVS8YoI0-py3.11/lib/python3.11/site-packages/keras/src/backend/jax/core.py:153 traced for make_jaxpr.\n",
      "To catch the leak earlier, try setting the environment variable JAX_CHECK_TRACER_LEAKS or using the `jax.checking_leaks` context manager.\n",
      "See https://jax.readthedocs.io/en/latest/errors.html#jax.errors.UnexpectedTracerError\n"
     ]
    },
    {
     "name": "stdout",
     "output_type": "stream",
     "text": [
      "\u001b[1m 16/312\u001b[0m \u001b[32m━\u001b[0m\u001b[37m━━━━━━━━━━━━━━━━━━━\u001b[0m \u001b[1m6:59\u001b[0m 1s/step - loss: -22.1807"
     ]
    },
    {
     "name": "stderr",
     "output_type": "stream",
     "text": [
      "\n",
      "KeyboardInterrupt\n",
      "\n"
     ]
    }
   ],
   "source": [
    "hh = model.fit(ds_train,\n",
    "               # validation_data=ds_val,\n",
    "               callbacks=[cb_ema],\n",
    "               steps_per_epoch=ds_size // batch_size,\n",
    "               epochs=10)\n",
    "\n",
    "# model.save(workdir/'moco_base.keras')"
   ]
  },
  {
   "cell_type": "code",
   "execution_count": 10,
   "id": "3857e18d-ac3c-4b45-a437-e07ab41055e4",
   "metadata": {},
   "outputs": [
    {
     "data": {
      "image/png": "[encoded data removed]",
      "text/plain": [
       "<Figure size 640x480 with 1 Axes>"
      ]
     },
     "metadata": {},
     "output_type": "display_data"
    }
   ],
   "source": [
    "fig, ax = plt.subplots()\n",
    "ax.plot(model.history.history['loss'])\n",
    "ax.set_xlabel('Iteration')\n",
    "ax.set_ylabel('Loss')\n",
    "fig.savefig(workdir/'convergence.png')"
   ]
  },
  {
   "cell_type": "markdown",
   "id": "c8d2f9a6-5754-4247-a368-76ad2dc062ba",
   "metadata": {},
   "source": [
    "From the trained SimCLR model, we extract the feature transformation part which includes the base encoder and the first two dense layers of the projection head. "
   ]
  },
  {
   "cell_type": "code",
   "execution_count": 11,
   "id": "b8a9ef99-19de-4186-8df4-9c6127753012",
   "metadata": {},
   "outputs": [
    {
     "data": {
      "text/html": [
       "<pre style=\"white-space:pre;overflow-x:auto;line-height:normal;font-family:Menlo,'DejaVu Sans Mono',consolas,'Courier New',monospace\"><span style=\"font-weight: bold\">Model: \"SimCLR_feature\"</span>\n",
       "</pre>\n"
      ],
      "text/plain": [
       "\u001b[1mModel: \"SimCLR_feature\"\u001b[0m\n"
      ]
     },
     "metadata": {},
     "output_type": "display_data"
    },
    {
     "data": {
      "text/html": [
       "<pre style=\"white-space:pre;overflow-x:auto;line-height:normal;font-family:Menlo,'DejaVu Sans Mono',consolas,'Courier New',monospace\">┏━━━━━━━━━━━━━━━━━━━━━━━━━━━━━━━━━┳━━━━━━━━━━━━━━━━━━━━━━━━┳━━━━━━━━━━━━━━━┓\n",
       "┃<span style=\"font-weight: bold\"> Layer (type)                    </span>┃<span style=\"font-weight: bold\"> Output Shape           </span>┃<span style=\"font-weight: bold\">       Param # </span>┃\n",
       "┡━━━━━━━━━━━━━━━━━━━━━━━━━━━━━━━━━╇━━━━━━━━━━━━━━━━━━━━━━━━╇━━━━━━━━━━━━━━━┩\n",
       "│ input_layer_1 (<span style=\"color: #0087ff; text-decoration-color: #0087ff\">InputLayer</span>)      │ (<span style=\"color: #00d7ff; text-decoration-color: #00d7ff\">None</span>, <span style=\"color: #00af00; text-decoration-color: #00af00\">64</span>, <span style=\"color: #00af00; text-decoration-color: #00af00\">64</span>, <span style=\"color: #00af00; text-decoration-color: #00af00\">1</span>)      │             <span style=\"color: #00af00; text-decoration-color: #00af00\">0</span> │\n",
       "├─────────────────────────────────┼────────────────────────┼───────────────┤\n",
       "│ sequential_1 (<span style=\"color: #0087ff; text-decoration-color: #0087ff\">Sequential</span>)       │ (<span style=\"color: #00d7ff; text-decoration-color: #00d7ff\">None</span>, <span style=\"color: #00af00; text-decoration-color: #00af00\">128</span>)            │     <span style=\"color: #00af00; text-decoration-color: #00af00\">1,141,376</span> │\n",
       "├─────────────────────────────────┼────────────────────────┼───────────────┤\n",
       "│ functional_4 (<span style=\"color: #0087ff; text-decoration-color: #0087ff\">Functional</span>)       │ (<span style=\"color: #00d7ff; text-decoration-color: #00d7ff\">None</span>, <span style=\"color: #00af00; text-decoration-color: #00af00\">64</span>)             │       <span style=\"color: #00af00; text-decoration-color: #00af00\">410,944</span> │\n",
       "└─────────────────────────────────┴────────────────────────┴───────────────┘\n",
       "</pre>\n"
      ],
      "text/plain": [
       "┏━━━━━━━━━━━━━━━━━━━━━━━━━━━━━━━━━┳━━━━━━━━━━━━━━━━━━━━━━━━┳━━━━━━━━━━━━━━━┓\n",
       "┃\u001b[1m \u001b[0m\u001b[1mLayer (type)                   \u001b[0m\u001b[1m \u001b[0m┃\u001b[1m \u001b[0m\u001b[1mOutput Shape          \u001b[0m\u001b[1m \u001b[0m┃\u001b[1m \u001b[0m\u001b[1m      Param #\u001b[0m\u001b[1m \u001b[0m┃\n",
       "┡━━━━━━━━━━━━━━━━━━━━━━━━━━━━━━━━━╇━━━━━━━━━━━━━━━━━━━━━━━━╇━━━━━━━━━━━━━━━┩\n",
       "│ input_layer_1 (\u001b[38;5;33mInputLayer\u001b[0m)      │ (\u001b[38;5;45mNone\u001b[0m, \u001b[38;5;34m64\u001b[0m, \u001b[38;5;34m64\u001b[0m, \u001b[38;5;34m1\u001b[0m)      │             \u001b[38;5;34m0\u001b[0m │\n",
       "├─────────────────────────────────┼────────────────────────┼───────────────┤\n",
       "│ sequential_1 (\u001b[38;5;33mSequential\u001b[0m)       │ (\u001b[38;5;45mNone\u001b[0m, \u001b[38;5;34m128\u001b[0m)            │     \u001b[38;5;34m1,141,376\u001b[0m │\n",
       "├─────────────────────────────────┼────────────────────────┼───────────────┤\n",
       "│ functional_4 (\u001b[38;5;33mFunctional\u001b[0m)       │ (\u001b[38;5;45mNone\u001b[0m, \u001b[38;5;34m64\u001b[0m)             │       \u001b[38;5;34m410,944\u001b[0m │\n",
       "└─────────────────────────────────┴────────────────────────┴───────────────┘\n"
      ]
     },
     "metadata": {},
     "output_type": "display_data"
    },
    {
     "data": {
      "text/html": [
       "<pre style=\"white-space:pre;overflow-x:auto;line-height:normal;font-family:Menlo,'DejaVu Sans Mono',consolas,'Courier New',monospace\"><span style=\"font-weight: bold\"> Total params: </span><span style=\"color: #00af00; text-decoration-color: #00af00\">1,552,320</span> (5.92 MB)\n",
       "</pre>\n"
      ],
      "text/plain": [
       "\u001b[1m Total params: \u001b[0m\u001b[38;5;34m1,552,320\u001b[0m (5.92 MB)\n"
      ]
     },
     "metadata": {},
     "output_type": "display_data"
    },
    {
     "data": {
      "text/html": [
       "<pre style=\"white-space:pre;overflow-x:auto;line-height:normal;font-family:Menlo,'DejaVu Sans Mono',consolas,'Courier New',monospace\"><span style=\"font-weight: bold\"> Trainable params: </span><span style=\"color: #00af00; text-decoration-color: #00af00\">1,552,320</span> (5.92 MB)\n",
       "</pre>\n"
      ],
      "text/plain": [
       "\u001b[1m Trainable params: \u001b[0m\u001b[38;5;34m1,552,320\u001b[0m (5.92 MB)\n"
      ]
     },
     "metadata": {},
     "output_type": "display_data"
    },
    {
     "data": {
      "text/html": [
       "<pre style=\"white-space:pre;overflow-x:auto;line-height:normal;font-family:Menlo,'DejaVu Sans Mono',consolas,'Courier New',monospace\"><span style=\"font-weight: bold\"> Non-trainable params: </span><span style=\"color: #00af00; text-decoration-color: #00af00\">0</span> (0.00 B)\n",
       "</pre>\n"
      ],
      "text/plain": [
       "\u001b[1m Non-trainable params: \u001b[0m\u001b[38;5;34m0\u001b[0m (0.00 B)\n"
      ]
     },
     "metadata": {},
     "output_type": "display_data"
    }
   ],
   "source": [
    "x = layers.Input(input_shape)\n",
    "\n",
    "# same same\n",
    "# _proj = models.Model(inputs=model._projector.inputs, outputs=model._projector.layers[3].output)\n",
    "_proj = models.Model(inputs=model._projector.layers[0].input, outputs=model._projector.layers[3].output)\n",
    "\n",
    "# _proj.summary()  # shows a concrete value for batch\n",
    "\n",
    "f = _proj(model._encoder(x))\n",
    "\n",
    "model_feature = models.Model(inputs=x, outputs=f, name='SimCLR_feature')\n",
    "\n",
    "model_feature.summary()  # shows `None` for batch\n",
    "\n",
    "# model_feature.save(str(workdir/'simclr_feature.keras'))"
   ]
  },
  {
   "cell_type": "markdown",
   "id": "832377ed-b314-4011-9155-50058405330b",
   "metadata": {},
   "source": [
    "## Transfer Learning"
   ]
  },
  {
   "cell_type": "code",
   "execution_count": 12,
   "id": "c6f13ac5-71ad-4fcd-8730-5a4847ac9e68",
   "metadata": {},
   "outputs": [],
   "source": [
    "foo, full_labels_dict = _pipeline(\n",
    "    'CWRU', 12000, split='all', \n",
    "    channels=[], \n",
    "    keys=['FaultLocation', 'FaultComponent', 'FaultSize'], \n",
    "    # keys=['FaultLocation'], \n",
    "    nf=nf, ws=64, labels=True\n",
    ")\n",
    "\n",
    "labels = list(full_labels_dict.keys())  \n",
    "n_classes = len(labels) + 1"
   ]
  },
  {
   "cell_type": "code",
   "execution_count": 13,
   "id": "ec6b4760-e041-443c-9abb-76d36505aa2f",
   "metadata": {},
   "outputs": [],
   "source": [
    "preproc = preprocessing.get_mapping_supervised(labels)\n",
    "\n",
    "dw = utils.restore_cardinality(\n",
    "    utils.restore_shape(\n",
    "        foo.map(preproc, num_parallel_calls=tf.data.AUTOTUNE),\n",
    "        key=0\n",
    "    )\n",
    ")\n",
    "\n",
    "dw_size = int(dw.cardinality())"
   ]
  },
  {
   "attachments": {},
   "cell_type": "markdown",
   "id": "855b5e7c-c8d5-4571-99e6-b3c5c04bdb13",
   "metadata": {},
   "source": [
    "### Supervised training of the classification head\n",
    "\n",
    "We add a classification head to the feature transformation network and fine tune the model on some new data."
   ]
  },
  {
   "cell_type": "code",
   "execution_count": 14,
   "id": "717a9296-8be7-4778-8449-b6733f8ad454",
   "metadata": {},
   "outputs": [],
   "source": [
    "splits = {'train':0.7, 'val':0.2, 'test':0.1}\n",
    "batch_size = 32\n",
    "\n",
    "dw_split = utils.split_dataset(\n",
    "    dw, splits, \n",
    "    ds_size=dw_size, \n",
    "    # labels=np.arange(n_classes)\n",
    ")\n",
    "\n",
    "dw_train = dw_split['train']\\\n",
    "    .shuffle(dw_size, reshuffle_each_iteration=True)\\\n",
    "    .batch(batch_size, drop_remainder=True)\\\n",
    "    .prefetch(tf.data.AUTOTUNE)\n",
    "dw_val = dw_split['val'].batch(batch_size, drop_remainder=True)\n",
    "dw_test = dw_split['test'].batch(batch_size, drop_remainder=True)"
   ]
  },
  {
   "cell_type": "markdown",
   "id": "6a28bca4-051a-48ab-8781-884798e9ea8b",
   "metadata": {},
   "source": [
    "The classification head here is a simple MLP. The weights of the feature transformation network are frozen for the training."
   ]
  },
  {
   "cell_type": "code",
   "execution_count": 15,
   "id": "99f13cd1-5223-4bc8-bdbd-51bc28227657",
   "metadata": {},
   "outputs": [],
   "source": [
    "model_feature.trainable = False\n",
    "\n",
    "class_head = models.Sequential([\n",
    "    layers.Dense(128, activation='relu'),\n",
    "    # layers.BatchNormalization(),\n",
    "    layers.Dense(n_classes, activation=None) # nb labels\n",
    "], name='Classification_head')\n",
    "\n",
    "x = layers.Input(input_shape)\n",
    "\n",
    "model_fine = models.Model(inputs=x, outputs=class_head(model_feature(x)))\n",
    "\n",
    "model_fine.compile(\n",
    "    optimizer=keras.optimizers.Adam(),\n",
    "    loss=losses.SparseCategoricalCrossentropy(from_logits=True),\n",
    "    metrics=[metrics.SparseCategoricalAccuracy()]\n",
    ")"
   ]
  },
  {
   "cell_type": "code",
   "execution_count": 16,
   "id": "03fca33b",
   "metadata": {},
   "outputs": [
    {
     "name": "stdout",
     "output_type": "stream",
     "text": [
      "Epoch 1/10\n",
      "\u001b[1m1243/1243\u001b[0m \u001b[32m━━━━━━━━━━━━━━━━━━━━\u001b[0m\u001b[37m\u001b[0m \u001b[1m66s\u001b[0m 39ms/step - loss: 3.2674 - sparse_categorical_accuracy: 0.0497 - val_loss: 3.1849 - val_sparse_categorical_accuracy: 0.0662\n",
      "Epoch 2/10\n",
      "\u001b[1m1243/1243\u001b[0m \u001b[32m━━━━━━━━━━━━━━━━━━━━\u001b[0m\u001b[37m\u001b[0m \u001b[1m65s\u001b[0m 38ms/step - loss: 3.1802 - sparse_categorical_accuracy: 0.0697 - val_loss: 3.1545 - val_sparse_categorical_accuracy: 0.0784\n",
      "Epoch 3/10\n",
      "\u001b[1m1243/1243\u001b[0m \u001b[32m━━━━━━━━━━━━━━━━━━━━\u001b[0m\u001b[37m\u001b[0m \u001b[1m65s\u001b[0m 39ms/step - loss: 3.1573 - sparse_categorical_accuracy: 0.0739 - val_loss: 3.1453 - val_sparse_categorical_accuracy: 0.0800\n",
      "Epoch 4/10\n",
      "\u001b[1m1243/1243\u001b[0m \u001b[32m━━━━━━━━━━━━━━━━━━━━\u001b[0m\u001b[37m\u001b[0m \u001b[1m65s\u001b[0m 38ms/step - loss: 3.1362 - sparse_categorical_accuracy: 0.0839 - val_loss: 3.1237 - val_sparse_categorical_accuracy: 0.0865\n",
      "Epoch 5/10\n",
      "\u001b[1m1243/1243\u001b[0m \u001b[32m━━━━━━━━━━━━━━━━━━━━\u001b[0m\u001b[37m\u001b[0m \u001b[1m65s\u001b[0m 38ms/step - loss: 3.1224 - sparse_categorical_accuracy: 0.0875 - val_loss: 3.1087 - val_sparse_categorical_accuracy: 0.0950\n",
      "Epoch 6/10\n",
      "\u001b[1m1243/1243\u001b[0m \u001b[32m━━━━━━━━━━━━━━━━━━━━\u001b[0m\u001b[37m\u001b[0m \u001b[1m64s\u001b[0m 38ms/step - loss: 3.1156 - sparse_categorical_accuracy: 0.0854 - val_loss: 3.1066 - val_sparse_categorical_accuracy: 0.0921\n",
      "Epoch 7/10\n",
      "\u001b[1m1243/1243\u001b[0m \u001b[32m━━━━━━━━━━━━━━━━━━━━\u001b[0m\u001b[37m\u001b[0m \u001b[1m65s\u001b[0m 38ms/step - loss: 3.1027 - sparse_categorical_accuracy: 0.0897 - val_loss: 3.0915 - val_sparse_categorical_accuracy: 0.0942\n",
      "Epoch 8/10\n",
      "\u001b[1m1243/1243\u001b[0m \u001b[32m━━━━━━━━━━━━━━━━━━━━\u001b[0m\u001b[37m\u001b[0m \u001b[1m65s\u001b[0m 39ms/step - loss: 3.0932 - sparse_categorical_accuracy: 0.0919 - val_loss: 3.0823 - val_sparse_categorical_accuracy: 0.0971\n",
      "Epoch 9/10\n",
      "\u001b[1m1243/1243\u001b[0m \u001b[32m━━━━━━━━━━━━━━━━━━━━\u001b[0m\u001b[37m\u001b[0m \u001b[1m65s\u001b[0m 38ms/step - loss: 3.0864 - sparse_categorical_accuracy: 0.0972 - val_loss: 3.0681 - val_sparse_categorical_accuracy: 0.1039\n",
      "Epoch 10/10\n",
      "\u001b[1m1243/1243\u001b[0m \u001b[32m━━━━━━━━━━━━━━━━━━━━\u001b[0m\u001b[37m\u001b[0m \u001b[1m65s\u001b[0m 38ms/step - loss: 3.0703 - sparse_categorical_accuracy: 0.0996 - val_loss: 3.0582 - val_sparse_categorical_accuracy: 0.1059\n"
     ]
    }
   ],
   "source": [
    "hh = model_fine.fit(\n",
    "    dw_train,\n",
    "    validation_data=dw_val,\n",
    "    epochs=10\n",
    ")"
   ]
  },
  {
   "cell_type": "code",
   "execution_count": 17,
   "id": "2cabf96a-e1b5-4f89-8803-f3e5828f8127",
   "metadata": {},
   "outputs": [
    {
     "name": "stdout",
     "output_type": "stream",
     "text": [
      "\u001b[1m177/177\u001b[0m \u001b[32m━━━━━━━━━━━━━━━━━━━━\u001b[0m\u001b[37m\u001b[0m \u001b[1m21s\u001b[0m 19ms/step - loss: 3.0536 - sparse_categorical_accuracy: 0.1070\n"
     ]
    },
    {
     "data": {
      "text/plain": [
       "[3.0597851276397705, 0.10275423526763916]"
      ]
     },
     "execution_count": 17,
     "metadata": {},
     "output_type": "execute_result"
    }
   ],
   "source": [
    "model_fine.evaluate(dw_test)"
   ]
  },
  {
   "cell_type": "markdown",
   "id": "5e8fc623-6aa1-4421-bb2e-ce9c3c9300ed",
   "metadata": {},
   "source": [
    "#### Fine tuning"
   ]
  },
  {
   "cell_type": "code",
   "execution_count": 36,
   "id": "dff02a2d-fa67-49c3-b1cf-92c19f8a0b4d",
   "metadata": {},
   "outputs": [],
   "source": [
    "model_feature.trainable = True\n",
    "\n",
    "model_fine.compile(\n",
    "    optimizer=keras.optimizers.Adam(1e-5),\n",
    "    loss=losses.SparseCategoricalCrossentropy(from_logits=True),\n",
    "    metrics=[metrics.SparseCategoricalAccuracy()]\n",
    ")"
   ]
  },
  {
   "cell_type": "code",
   "execution_count": 37,
   "id": "b1d1371f-4fba-42c5-90a8-a313e98c7013",
   "metadata": {},
   "outputs": [
    {
     "name": "stdout",
     "output_type": "stream",
     "text": [
      "Epoch 1/2\n",
      "\u001b[1m50/50\u001b[0m \u001b[32m━━━━━━━━━━━━━━━━━━━━\u001b[0m\u001b[37m\u001b[0m \u001b[1m82s\u001b[0m 2s/step - loss: 4.6855 - sparse_categorical_accuracy: 0.0234 - val_loss: 3.5561 - val_sparse_categorical_accuracy: 0.0368\n",
      "Epoch 2/2\n",
      "\u001b[1m50/50\u001b[0m \u001b[32m━━━━━━━━━━━━━━━━━━━━\u001b[0m\u001b[37m\u001b[0m \u001b[1m76s\u001b[0m 1s/step - loss: 4.5819 - sparse_categorical_accuracy: 0.0189 - val_loss: 3.8871 - val_sparse_categorical_accuracy: 0.0402\n"
     ]
    }
   ],
   "source": [
    "hh = model_fine.fit(\n",
    "    dw_train,\n",
    "    validation_data=dw_val,\n",
    "    epochs=2\n",
    ")"
   ]
  },
  {
   "cell_type": "code",
   "execution_count": 38,
   "id": "6be4ab2f-3a8d-4b5f-8bc1-824aa3376afd",
   "metadata": {},
   "outputs": [
    {
     "name": "stdout",
     "output_type": "stream",
     "text": [
      "\u001b[1m7/7\u001b[0m \u001b[32m━━━━━━━━━━━━━━━━━━━━\u001b[0m\u001b[37m\u001b[0m \u001b[1m4s\u001b[0m 305ms/step - loss: 3.7828 - sparse_categorical_accuracy: 0.0330\n"
     ]
    },
    {
     "data": {
      "text/plain": [
       "[3.748819589614868, 0.0357142873108387]"
      ]
     },
     "execution_count": 38,
     "metadata": {},
     "output_type": "execute_result"
    }
   ],
   "source": [
    "model_fine.evaluate(dw_test)"
   ]
  },
  {
   "cell_type": "code",
   "execution_count": null,
   "id": "02196684-d04a-48da-a664-2e3e6dd24b86",
   "metadata": {},
   "outputs": [],
   "source": []
  }
 ],
 "metadata": {
  "kernelspec": {
   "display_name": "Python (dpmhm-yVS8YoI0-py3.11)",
   "language": "python",
   "name": "dpmhm-yvs8yoi0-py3.11"
  },
  "language_info": {
   "codemirror_mode": {
    "name": "ipython",
    "version": 3
   },
   "file_extension": ".py",
   "mimetype": "text/x-python",
   "name": "python",
   "nbconvert_exporter": "python",
   "pygments_lexer": "ipython3",
   "version": "3.11.9"
  }
 },
 "nbformat": 4,
 "nbformat_minor": 5
}
